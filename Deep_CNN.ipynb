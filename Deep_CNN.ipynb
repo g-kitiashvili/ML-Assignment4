{
  "cells": [
    {
      "cell_type": "markdown",
      "metadata": {
        "id": "view-in-github",
        "colab_type": "text"
      },
      "source": [
        "<a href=\"https://colab.research.google.com/github/g-kitiashvili/ML-Assignment4/blob/main/Deep_CNN.ipynb\" target=\"_parent\"><img src=\"https://colab.research.google.com/assets/colab-badge.svg\" alt=\"Open In Colab\"/></a>"
      ]
    },
    {
      "cell_type": "markdown",
      "metadata": {
        "id": "5u_g7VSgeCtz"
      },
      "source": [
        "# Experiment 06: Very Deep CNN\n",
        "## Objective: Explore the impact of network depth on performance and training dynamics"
      ]
    },
    {
      "cell_type": "code",
      "execution_count": 1,
      "metadata": {
        "id": "6D_YUJ_WeCvM"
      },
      "outputs": [],
      "source": [
        "# Install necessary packages\n",
        "!pip install wandb -q\n",
        "!pip install kaggle -q"
      ]
    },
    {
      "cell_type": "code",
      "execution_count": 2,
      "metadata": {
        "id": "8IKYDsm3eCvO"
      },
      "outputs": [],
      "source": [
        "# Import necessary libraries\n",
        "import torch\n",
        "import torch.nn as nn\n",
        "import torch.optim as optim\n",
        "from torch.utils.data import Dataset, DataLoader\n",
        "import pandas as pd\n",
        "import numpy as np\n",
        "import matplotlib.pyplot as plt\n",
        "import seaborn as sns\n",
        "from sklearn.metrics import confusion_matrix, classification_report\n",
        "import wandb\n",
        "from tqdm import tqdm\n",
        "import os\n",
        "import warnings\n",
        "warnings.filterwarnings('ignore')"
      ]
    },
    {
      "cell_type": "code",
      "execution_count": 3,
      "metadata": {
        "id": "dy2zIfSreCvS",
        "colab": {
          "base_uri": "https://localhost:8080/"
        },
        "outputId": "bd6d1542-9728-45e3-9021-eed764e10819"
      },
      "outputs": [
        {
          "output_type": "stream",
          "name": "stdout",
          "text": [
            "Mounted at /content/drive\n"
          ]
        }
      ],
      "source": [
        "# Mount Google Drive (optional - for saving results)\n",
        "from google.colab import drive\n",
        "drive.mount('/content/drive')"
      ]
    },
    {
      "cell_type": "code",
      "execution_count": 4,
      "metadata": {
        "id": "qnxxB68qeCvT"
      },
      "outputs": [],
      "source": [
        "# Setup kaggle directory\n",
        "!mkdir -p ~/.kaggle\n",
        "!cp /content/drive/MyDrive/kaggle.json ~/.kaggle/\n",
        "!chmod 600 ~/.kaggle/kaggle.json"
      ]
    },
    {
      "cell_type": "code",
      "execution_count": 5,
      "metadata": {
        "id": "3od-1b4CeCvU",
        "colab": {
          "base_uri": "https://localhost:8080/"
        },
        "outputId": "ca0cab34-c7b5-46be-a625-e62061f3c8c4"
      },
      "outputs": [
        {
          "output_type": "stream",
          "name": "stdout",
          "text": [
            "Downloading challenges-in-representation-learning-facial-expression-recognition-challenge.zip to /content\n",
            " 95% 270M/285M [00:00<00:00, 592MB/s]\n",
            "100% 285M/285M [00:00<00:00, 632MB/s]\n",
            "challenges-in-representation-learning-facial-expression-recognition-challenge.zip\n",
            "drive\n",
            "example_submission.csv\n",
            "fer2013.tar.gz\n",
            "icml_face_data.csv\n",
            "sample_data\n",
            "test.csv\n",
            "train.csv\n"
          ]
        }
      ],
      "source": [
        "# Download FER2013 dataset from Kaggle\n",
        "!kaggle competitions download -c challenges-in-representation-learning-facial-expression-recognition-challenge\n",
        "\n",
        "# Extract the dataset\n",
        "!unzip -q challenges-in-representation-learning-facial-expression-recognition-challenge.zip\n",
        "!ls"
      ]
    },
    {
      "cell_type": "code",
      "execution_count": 6,
      "metadata": {
        "id": "J7BQOua1eCvX",
        "colab": {
          "base_uri": "https://localhost:8080/",
          "height": 260
        },
        "outputId": "1920997d-4413-471a-d10a-6b06e6628484"
      },
      "outputs": [
        {
          "output_type": "display_data",
          "data": {
            "text/plain": [
              "<IPython.core.display.Javascript object>"
            ],
            "application/javascript": [
              "\n",
              "        window._wandbApiKey = new Promise((resolve, reject) => {\n",
              "            function loadScript(url) {\n",
              "            return new Promise(function(resolve, reject) {\n",
              "                let newScript = document.createElement(\"script\");\n",
              "                newScript.onerror = reject;\n",
              "                newScript.onload = resolve;\n",
              "                document.body.appendChild(newScript);\n",
              "                newScript.src = url;\n",
              "            });\n",
              "            }\n",
              "            loadScript(\"https://cdn.jsdelivr.net/npm/postmate/build/postmate.min.js\").then(() => {\n",
              "            const iframe = document.createElement('iframe')\n",
              "            iframe.style.cssText = \"width:0;height:0;border:none\"\n",
              "            document.body.appendChild(iframe)\n",
              "            const handshake = new Postmate({\n",
              "                container: iframe,\n",
              "                url: 'https://wandb.ai/authorize'\n",
              "            });\n",
              "            const timeout = setTimeout(() => reject(\"Couldn't auto authenticate\"), 5000)\n",
              "            handshake.then(function(child) {\n",
              "                child.on('authorize', data => {\n",
              "                    clearTimeout(timeout)\n",
              "                    resolve(data)\n",
              "                });\n",
              "            });\n",
              "            })\n",
              "        });\n",
              "    "
            ]
          },
          "metadata": {}
        },
        {
          "output_type": "stream",
          "name": "stderr",
          "text": [
            "\u001b[34m\u001b[1mwandb\u001b[0m: Logging into wandb.ai. (Learn how to deploy a W&B server locally: https://wandb.me/wandb-server)\n",
            "\u001b[34m\u001b[1mwandb\u001b[0m: You can find your API key in your browser here: https://wandb.ai/authorize\n",
            "wandb: Paste an API key from your profile and hit enter:"
          ]
        },
        {
          "name": "stdout",
          "output_type": "stream",
          "text": [
            " ··········\n"
          ]
        },
        {
          "output_type": "stream",
          "name": "stderr",
          "text": [
            "\u001b[34m\u001b[1mwandb\u001b[0m: \u001b[33mWARNING\u001b[0m If you're specifying your api key in code, ensure this code is not shared publicly.\n",
            "\u001b[34m\u001b[1mwandb\u001b[0m: \u001b[33mWARNING\u001b[0m Consider setting the WANDB_API_KEY environment variable, or running `wandb login` from the command line.\n",
            "\u001b[34m\u001b[1mwandb\u001b[0m: No netrc file found, creating one.\n",
            "\u001b[34m\u001b[1mwandb\u001b[0m: Appending key for api.wandb.ai to your netrc file: /root/.netrc\n",
            "\u001b[34m\u001b[1mwandb\u001b[0m: Currently logged in as: \u001b[33mqitiashvili13\u001b[0m (\u001b[33mqitiashvili13-free-university-of-tbilisi-\u001b[0m) to \u001b[32mhttps://api.wandb.ai\u001b[0m. Use \u001b[1m`wandb login --relogin`\u001b[0m to force relogin\n"
          ]
        },
        {
          "output_type": "display_data",
          "data": {
            "text/plain": [
              "<IPython.core.display.HTML object>"
            ],
            "text/html": [
              "Tracking run with wandb version 0.19.11"
            ]
          },
          "metadata": {}
        },
        {
          "output_type": "display_data",
          "data": {
            "text/plain": [
              "<IPython.core.display.HTML object>"
            ],
            "text/html": [
              "Run data is saved locally in <code>/content/wandb/run-20250609_215712-z1gw0luu</code>"
            ]
          },
          "metadata": {}
        },
        {
          "output_type": "display_data",
          "data": {
            "text/plain": [
              "<IPython.core.display.HTML object>"
            ],
            "text/html": [
              "Syncing run <strong><a href='https://wandb.ai/qitiashvili13-free-university-of-tbilisi-/fer-challenge/runs/z1gw0luu' target=\"_blank\">exp06-very-deep-cnn</a></strong> to <a href='https://wandb.ai/qitiashvili13-free-university-of-tbilisi-/fer-challenge' target=\"_blank\">Weights & Biases</a> (<a href='https://wandb.me/developer-guide' target=\"_blank\">docs</a>)<br>"
            ]
          },
          "metadata": {}
        },
        {
          "output_type": "display_data",
          "data": {
            "text/plain": [
              "<IPython.core.display.HTML object>"
            ],
            "text/html": [
              " View project at <a href='https://wandb.ai/qitiashvili13-free-university-of-tbilisi-/fer-challenge' target=\"_blank\">https://wandb.ai/qitiashvili13-free-university-of-tbilisi-/fer-challenge</a>"
            ]
          },
          "metadata": {}
        },
        {
          "output_type": "display_data",
          "data": {
            "text/plain": [
              "<IPython.core.display.HTML object>"
            ],
            "text/html": [
              " View run at <a href='https://wandb.ai/qitiashvili13-free-university-of-tbilisi-/fer-challenge/runs/z1gw0luu' target=\"_blank\">https://wandb.ai/qitiashvili13-free-university-of-tbilisi-/fer-challenge/runs/z1gw0luu</a>"
            ]
          },
          "metadata": {}
        }
      ],
      "source": [
        "# Initialize W&B\n",
        "wandb.login()\n",
        "run = wandb.init(\n",
        "    project=\"fer-challenge\",\n",
        "    name=\"exp06-very-deep-cnn\",\n",
        "    config={\n",
        "        \"architecture\": \"Very Deep CNN (VGG-19 style)\",\n",
        "        \"dataset\": \"FER2013\",\n",
        "        \"epochs\": 30,\n",
        "        \"batch_size\": 32,  # Smaller batch size for deeper model\n",
        "        \"learning_rate\": 0.0001,  # Lower learning rate for stability\n",
        "        \"weight_decay\": 0.0001,\n",
        "        \"dropout_conv\": 0.2,\n",
        "        \"dropout_fc\": 0.5,\n",
        "        \"batch_norm\": True,\n",
        "        \"conv_blocks\": 6,\n",
        "        \"conv_channels\": [64, 128, 256, 512, 512, 512],\n",
        "        \"fc_sizes\": [4096, 2048, 1024],\n",
        "        \"num_classes\": 7\n",
        "    }\n",
        ")\n",
        "# api key 380014f2a984b49876832184c6bd2dcddb337047"
      ]
    },
    {
      "cell_type": "code",
      "execution_count": 7,
      "metadata": {
        "id": "e5fte5SleCvZ",
        "colab": {
          "base_uri": "https://localhost:8080/"
        },
        "outputId": "2883369e-ee51-4387-ab4f-67d80c9ab52f"
      },
      "outputs": [
        {
          "output_type": "stream",
          "name": "stdout",
          "text": [
            "Training data shape: (28709, 2)\n",
            "Test data shape: (7178, 1)\n",
            "\n",
            "Training data columns: ['emotion', 'pixels']\n",
            "\n",
            "Emotion distribution:\n",
            "emotion\n",
            "0    3995\n",
            "1     436\n",
            "2    4097\n",
            "3    7215\n",
            "4    4830\n",
            "5    3171\n",
            "6    4965\n",
            "Name: count, dtype: int64\n",
            "\n",
            "Checking 'pixels' column data types...\n",
            "Removed 28709 rows from training set due to non-string 'pixels'.\n",
            "Removed 3589 rows from test set due to non-string 'pixels'.\n",
            "\n",
            "Merged Train shape (after filtering): (28709, 3)\n",
            "Merged Test shape (after filtering): (7178, 3)\n",
            "\n",
            "Emotion distribution in merged train set:\n",
            "emotion\n",
            "0    3995\n",
            "1     436\n",
            "2    4097\n",
            "3    7215\n",
            "4    4830\n",
            "5    3171\n",
            "6    4965\n",
            "Name: count, dtype: int64\n",
            "\n",
            "Emotion distribution in merged test set:\n",
            "Series([], Name: count, dtype: int64)\n"
          ]
        }
      ],
      "source": [
        "# Load and explore the data\n",
        "train_df = pd.read_csv('train.csv')\n",
        "test_df = pd.read_csv('test.csv')\n",
        "\n",
        "print(f\"Training data shape: {train_df.shape}\")\n",
        "print(f\"Test data shape: {test_df.shape}\")\n",
        "print(\"\\nTraining data columns:\", train_df.columns.tolist())\n",
        "print(\"\\nEmotion distribution:\")\n",
        "print(train_df['emotion'].value_counts().sort_index())\n",
        "\n",
        "icml_df = pd.read_csv('icml_face_data.csv')\n",
        "\n",
        "# Split ICML data based on 'Usage'\n",
        "icml_train = icml_df[icml_df[' Usage'] == 'Training']\n",
        "icml_test = icml_df[icml_df[' Usage'].isin(['PublicTest', 'Other'])]\n",
        "\n",
        "# Drop the 'Usage' column (not needed after splitting)\n",
        "icml_train = icml_train.drop(columns=[' Usage'])\n",
        "icml_test = icml_test.drop(columns=[' Usage'])\n",
        "\n",
        "# Merge datasets\n",
        "train_df = pd.concat([train_df, icml_train], ignore_index=True)\n",
        "test_df = pd.concat([test_df, icml_test], ignore_index=True)\n",
        "\n",
        "# **Added data type check and filtering**\n",
        "print(\"\\nChecking 'pixels' column data types...\")\n",
        "initial_train_rows = len(train_df)\n",
        "initial_test_rows = len(test_df)\n",
        "\n",
        "train_df = train_df[train_df['pixels'].apply(lambda x: isinstance(x, str))]\n",
        "test_df = test_df[test_df['pixels'].apply(lambda x: isinstance(x, str))]\n",
        "\n",
        "print(f\"Removed {initial_train_rows - len(train_df)} rows from training set due to non-string 'pixels'.\")\n",
        "print(f\"Removed {initial_test_rows - len(test_df)} rows from test set due to non-string 'pixels'.\")\n",
        "\n",
        "# Shuffle the merged datasets (optional but recommended)\n",
        "train_df = train_df.sample(frac=1, random_state=42).reset_index(drop=True)\n",
        "test_df = test_df.sample(frac=1, random_state=42).reset_index(drop=True)\n",
        "\n",
        "# Output shapes and emotion distribution\n",
        "print(\"\\nMerged Train shape (after filtering):\", train_df.shape)\n",
        "print(\"Merged Test shape (after filtering):\", test_df.shape)\n",
        "\n",
        "print(\"\\nEmotion distribution in merged train set:\")\n",
        "print(train_df['emotion'].value_counts().sort_index())\n",
        "\n",
        "print(\"\\nEmotion distribution in merged test set:\")\n",
        "print(test_df['emotion'].value_counts().sort_index())"
      ]
    },
    {
      "cell_type": "code",
      "execution_count": 8,
      "metadata": {
        "id": "TinOcncIeCva",
        "colab": {
          "base_uri": "https://localhost:8080/",
          "height": 610
        },
        "outputId": "e3398c28-d62c-4492-c404-c54c7a54e70c"
      },
      "outputs": [
        {
          "output_type": "display_data",
          "data": {
            "text/plain": [
              "<Figure size 1200x600 with 8 Axes>"
            ],
            "image/png": "[encoded data removed]"
          },
          "metadata": {}
        }
      ],
      "source": [
        "# Visualize sample images\n",
        "emotion_labels = ['Angry', 'Disgust', 'Fear', 'Happy', 'Sad', 'Surprise', 'Neutral']\n",
        "\n",
        "fig, axes = plt.subplots(2, 4, figsize=(12, 6))\n",
        "axes = axes.ravel()\n",
        "\n",
        "for i in range(8):\n",
        "    idx = np.random.randint(0, len(train_df))\n",
        "    pixels = train_df.iloc[idx]['pixels']\n",
        "    emotion = train_df.iloc[idx]['emotion']\n",
        "\n",
        "    # Convert pixel string to array and reshape\n",
        "    pixels = np.array([int(pixel) for pixel in pixels.split(' ')], dtype=np.uint8)\n",
        "    pixels = pixels.reshape(48, 48)\n",
        "\n",
        "    axes[i].imshow(pixels, cmap='gray')\n",
        "    axes[i].set_title(f'{emotion_labels[emotion]}')\n",
        "    axes[i].axis('off')\n",
        "\n",
        "plt.suptitle('Sample Images from FER2013 Dataset')\n",
        "plt.tight_layout()\n",
        "wandb.log({\"sample_images\": wandb.Image(plt)})\n",
        "plt.show()"
      ]
    },
    {
      "cell_type": "code",
      "execution_count": 9,
      "metadata": {
        "id": "G2JAUa9ReCvb"
      },
      "outputs": [],
      "source": [
        "# Custom Dataset Class\n",
        "class FERDataset(Dataset):\n",
        "    def __init__(self, dataframe, transform=None):\n",
        "        self.data = dataframe\n",
        "        self.transform = transform\n",
        "\n",
        "    def __len__(self):\n",
        "        return len(self.data)\n",
        "\n",
        "    def __getitem__(self, idx):\n",
        "        pixels = self.data.iloc[idx]['pixels']\n",
        "        emotion = self.data.iloc[idx]['emotion']\n",
        "\n",
        "        # Convert pixel string to numpy array\n",
        "        pixels = np.array([int(pixel) for pixel in pixels.split(' ')], dtype=np.float32)\n",
        "        pixels = pixels / 255.0  # Normalize to [0, 1]\n",
        "\n",
        "        # For CNN, reshape to (1, 48, 48) - single channel\n",
        "        pixels = pixels.reshape(1, 48, 48)\n",
        "\n",
        "        return torch.tensor(pixels), torch.tensor(emotion, dtype=torch.long)"
      ]
    },
    {
      "cell_type": "code",
      "execution_count": 10,
      "metadata": {
        "id": "bflabsmOeCvc",
        "colab": {
          "base_uri": "https://localhost:8080/"
        },
        "outputId": "7fc741a2-42a1-4cff-c2e3-c735b5d08209"
      },
      "outputs": [
        {
          "output_type": "stream",
          "name": "stdout",
          "text": [
            "Train size: 22967\n",
            "Validation size: 5742\n"
          ]
        }
      ],
      "source": [
        "# Create datasets\n",
        "full_dataset = FERDataset(train_df)\n",
        "\n",
        "# Split into train and validation\n",
        "train_size = int(0.8 * len(full_dataset))\n",
        "val_size = len(full_dataset) - train_size\n",
        "train_dataset, val_dataset = torch.utils.data.random_split(full_dataset, [train_size, val_size])\n",
        "\n",
        "print(f\"Train size: {len(train_dataset)}\")\n",
        "print(f\"Validation size: {len(val_dataset)}\")\n",
        "\n",
        "# Create data loaders with smaller batch size for deeper model\n",
        "train_loader = DataLoader(train_dataset, batch_size=32, shuffle=True, num_workers=2)\n",
        "val_loader = DataLoader(val_dataset, batch_size=32, shuffle=False, num_workers=2)"
      ]
    },
    {
      "cell_type": "code",
      "execution_count": 11,
      "metadata": {
        "id": "zqz9tzV0eCvc"
      },
      "outputs": [],
      "source": [
        "# Very Deep CNN Model (VGG-19 inspired)\n",
        "class VeryDeepCNN(nn.Module):\n",
        "    def __init__(self, num_classes=7, dropout_conv=0.2, dropout_fc=0.5):\n",
        "        super(VeryDeepCNN, self).__init__()\n",
        "\n",
        "        # Block 1: 64 channels\n",
        "        self.conv1_1 = nn.Conv2d(1, 64, kernel_size=3, padding=1)\n",
        "        self.bn1_1 = nn.BatchNorm2d(64)\n",
        "        self.conv1_2 = nn.Conv2d(64, 64, kernel_size=3, padding=1)\n",
        "        self.bn1_2 = nn.BatchNorm2d(64)\n",
        "        self.pool1 = nn.MaxPool2d(2, 2)\n",
        "        self.dropout1 = nn.Dropout2d(dropout_conv)\n",
        "\n",
        "        # Block 2: 128 channels\n",
        "        self.conv2_1 = nn.Conv2d(64, 128, kernel_size=3, padding=1)\n",
        "        self.bn2_1 = nn.BatchNorm2d(128)\n",
        "        self.conv2_2 = nn.Conv2d(128, 128, kernel_size=3, padding=1)\n",
        "        self.bn2_2 = nn.BatchNorm2d(128)\n",
        "        self.pool2 = nn.MaxPool2d(2, 2)\n",
        "        self.dropout2 = nn.Dropout2d(dropout_conv)\n",
        "\n",
        "        # Block 3: 256 channels\n",
        "        self.conv3_1 = nn.Conv2d(128, 256, kernel_size=3, padding=1)\n",
        "        self.bn3_1 = nn.BatchNorm2d(256)\n",
        "        self.conv3_2 = nn.Conv2d(256, 256, kernel_size=3, padding=1)\n",
        "        self.bn3_2 = nn.BatchNorm2d(256)\n",
        "        self.conv3_3 = nn.Conv2d(256, 256, kernel_size=3, padding=1)\n",
        "        self.bn3_3 = nn.BatchNorm2d(256)\n",
        "        self.conv3_4 = nn.Conv2d(256, 256, kernel_size=3, padding=1)\n",
        "        self.bn3_4 = nn.BatchNorm2d(256)\n",
        "        self.pool3 = nn.MaxPool2d(2, 2)\n",
        "        self.dropout3 = nn.Dropout2d(dropout_conv)\n",
        "\n",
        "        # Block 4: 512 channels\n",
        "        self.conv4_1 = nn.Conv2d(256, 512, kernel_size=3, padding=1)\n",
        "        self.bn4_1 = nn.BatchNorm2d(512)\n",
        "        self.conv4_2 = nn.Conv2d(512, 512, kernel_size=3, padding=1)\n",
        "        self.bn4_2 = nn.BatchNorm2d(512)\n",
        "        self.conv4_3 = nn.Conv2d(512, 512, kernel_size=3, padding=1)\n",
        "        self.bn4_3 = nn.BatchNorm2d(512)\n",
        "        self.conv4_4 = nn.Conv2d(512, 512, kernel_size=3, padding=1)\n",
        "        self.bn4_4 = nn.BatchNorm2d(512)\n",
        "        self.pool4 = nn.MaxPool2d(2, 2)\n",
        "        self.dropout4 = nn.Dropout2d(dropout_conv)\n",
        "\n",
        "        # Block 5: 512 channels (deeper)\n",
        "        self.conv5_1 = nn.Conv2d(512, 512, kernel_size=3, padding=1)\n",
        "        self.bn5_1 = nn.BatchNorm2d(512)\n",
        "        self.conv5_2 = nn.Conv2d(512, 512, kernel_size=3, padding=1)\n",
        "        self.bn5_2 = nn.BatchNorm2d(512)\n",
        "        self.conv5_3 = nn.Conv2d(512, 512, kernel_size=3, padding=1)\n",
        "        self.bn5_3 = nn.BatchNorm2d(512)\n",
        "        self.conv5_4 = nn.Conv2d(512, 512, kernel_size=3, padding=1)\n",
        "        self.bn5_4 = nn.BatchNorm2d(512)\n",
        "        self.pool5 = nn.MaxPool2d(2, 2)\n",
        "        self.dropout5 = nn.Dropout2d(dropout_conv)\n",
        "\n",
        "        # Block 6: 512 channels (even deeper)\n",
        "        self.conv6_1 = nn.Conv2d(512, 512, kernel_size=3, padding=1)\n",
        "        self.bn6_1 = nn.BatchNorm2d(512)\n",
        "        self.conv6_2 = nn.Conv2d(512, 512, kernel_size=3, padding=1)\n",
        "        self.bn6_2 = nn.BatchNorm2d(512)\n",
        "        self.dropout6 = nn.Dropout2d(dropout_conv)\n",
        "\n",
        "        # Adaptive pooling to handle any input size\n",
        "        self.adaptive_pool = nn.AdaptiveAvgPool2d((1, 1))\n",
        "\n",
        "        # Fully connected layers (very large)\n",
        "        self.fc1 = nn.Linear(512, 4096)\n",
        "        self.bn_fc1 = nn.BatchNorm1d(4096)\n",
        "        self.dropout_fc1 = nn.Dropout(dropout_fc)\n",
        "\n",
        "        self.fc2 = nn.Linear(4096, 2048)\n",
        "        self.bn_fc2 = nn.BatchNorm1d(2048)\n",
        "        self.dropout_fc2 = nn.Dropout(dropout_fc)\n",
        "\n",
        "        self.fc3 = nn.Linear(2048, 1024)\n",
        "        self.bn_fc3 = nn.BatchNorm1d(1024)\n",
        "        self.dropout_fc3 = nn.Dropout(dropout_fc)\n",
        "\n",
        "        self.fc4 = nn.Linear(1024, num_classes)\n",
        "\n",
        "        # Activation\n",
        "        self.relu = nn.ReLU(inplace=True)\n",
        "\n",
        "        # Calculate total parameters\n",
        "        self.total_params = sum(p.numel() for p in self.parameters())\n",
        "\n",
        "    def forward(self, x):\n",
        "        # Block 1\n",
        "        x = self.relu(self.bn1_1(self.conv1_1(x)))\n",
        "        x = self.relu(self.bn1_2(self.conv1_2(x)))\n",
        "        x = self.pool1(x)\n",
        "        x = self.dropout1(x)\n",
        "\n",
        "        # Block 2\n",
        "        x = self.relu(self.bn2_1(self.conv2_1(x)))\n",
        "        x = self.relu(self.bn2_2(self.conv2_2(x)))\n",
        "        x = self.pool2(x)\n",
        "        x = self.dropout2(x)\n",
        "\n",
        "        # Block 3\n",
        "        x = self.relu(self.bn3_1(self.conv3_1(x)))\n",
        "        x = self.relu(self.bn3_2(self.conv3_2(x)))\n",
        "        x = self.relu(self.bn3_3(self.conv3_3(x)))\n",
        "        x = self.relu(self.bn3_4(self.conv3_4(x)))\n",
        "        x = self.pool3(x)\n",
        "        x = self.dropout3(x)\n",
        "\n",
        "        # Block 4\n",
        "        x = self.relu(self.bn4_1(self.conv4_1(x)))\n",
        "        x = self.relu(self.bn4_2(self.conv4_2(x)))\n",
        "        x = self.relu(self.bn4_3(self.conv4_3(x)))\n",
        "        x = self.relu(self.bn4_4(self.conv4_4(x)))\n",
        "        x = self.pool4(x)\n",
        "        x = self.dropout4(x)\n",
        "\n",
        "        # Block 5\n",
        "        x = self.relu(self.bn5_1(self.conv5_1(x)))\n",
        "        x = self.relu(self.bn5_2(self.conv5_2(x)))\n",
        "        x = self.relu(self.bn5_3(self.conv5_3(x)))\n",
        "        x = self.relu(self.bn5_4(self.conv5_4(x)))\n",
        "        x = self.pool5(x)\n",
        "        x = self.dropout5(x)\n",
        "\n",
        "        # Block 6\n",
        "        x = self.relu(self.bn6_1(self.conv6_1(x)))\n",
        "        x = self.relu(self.bn6_2(self.conv6_2(x)))\n",
        "        x = self.dropout6(x)\n",
        "\n",
        "        # Adaptive pooling and flatten\n",
        "        x = self.adaptive_pool(x)\n",
        "        x = x.view(x.size(0), -1)\n",
        "\n",
        "        # FC layers\n",
        "        x = self.relu(self.bn_fc1(self.fc1(x)))\n",
        "        x = self.dropout_fc1(x)\n",
        "\n",
        "        x = self.relu(self.bn_fc2(self.fc2(x)))\n",
        "        x = self.dropout_fc2(x)\n",
        "\n",
        "        x = self.relu(self.bn_fc3(self.fc3(x)))\n",
        "        x = self.dropout_fc3(x)\n",
        "\n",
        "        x = self.fc4(x)\n",
        "\n",
        "        return x"
      ]
    },
    {
      "cell_type": "code",
      "execution_count": 12,
      "metadata": {
        "id": "-viGxgTeeCve",
        "colab": {
          "base_uri": "https://localhost:8080/"
        },
        "outputId": "21c3a154-0926-4af9-adad-5541315e48c0"
      },
      "outputs": [
        {
          "output_type": "stream",
          "name": "stdout",
          "text": [
            "Using device: cuda\n",
            "Total parameters: 37,367,495\n"
          ]
        }
      ],
      "source": [
        "# Initialize model, loss, optimizer\n",
        "device = torch.device('cuda' if torch.cuda.is_available() else 'cpu')\n",
        "print(f\"Using device: {device}\")\n",
        "\n",
        "model = VeryDeepCNN().to(device)\n",
        "print(f\"Total parameters: {model.total_params:,}\")\n",
        "\n",
        "criterion = nn.CrossEntropyLoss()\n",
        "# Lower learning rate for deeper model stability\n",
        "optimizer = optim.Adam(model.parameters(), lr=0.0001, weight_decay=0.0001)\n",
        "\n",
        "# Learning rate scheduler for deep networks\n",
        "scheduler = optim.lr_scheduler.ReduceLROnPlateau(optimizer, mode='min', factor=0.5, patience=5, verbose=True)\n",
        "\n",
        "# Log model architecture to W&B\n",
        "wandb.watch(model, log='all')"
      ]
    },
    {
      "cell_type": "code",
      "execution_count": 13,
      "metadata": {
        "id": "MYZ3bHDWeCve",
        "colab": {
          "base_uri": "https://localhost:8080/"
        },
        "outputId": "22d08ac9-3aee-4901-e8d2-531c9e63f7bb"
      },
      "outputs": [
        {
          "output_type": "stream",
          "name": "stdout",
          "text": [
            "Model Architecture Summary:\n",
            "==================================================\n",
            "Convolutional Blocks:\n",
            "  Block 1: 1 -> 64 -> 64 (2 conv layers)\n",
            "  Block 2: 64 -> 128 -> 128 (2 conv layers)\n",
            "  Block 3: 128 -> 256 -> 256 -> 256 -> 256 (4 conv layers)\n",
            "  Block 4: 256 -> 512 -> 512 -> 512 -> 512 (4 conv layers)\n",
            "  Block 5: 512 -> 512 -> 512 -> 512 -> 512 (4 conv layers)\n",
            "  Block 6: 512 -> 512 -> 512 (2 conv layers)\n",
            "\n",
            "Total Convolutional Layers: 18\n",
            "\n",
            "Fully Connected Layers:\n",
            "  FC1: 512 -> 4096\n",
            "  FC2: 4096 -> 2048\n",
            "  FC3: 2048 -> 1024\n",
            "  FC4: 1024 -> 7\n",
            "==================================================\n"
          ]
        }
      ],
      "source": [
        "# Print model architecture summary\n",
        "print(\"Model Architecture Summary:\")\n",
        "print(\"=\" * 50)\n",
        "print(\"Convolutional Blocks:\")\n",
        "print(\"  Block 1: 1 -> 64 -> 64 (2 conv layers)\")\n",
        "print(\"  Block 2: 64 -> 128 -> 128 (2 conv layers)\")\n",
        "print(\"  Block 3: 128 -> 256 -> 256 -> 256 -> 256 (4 conv layers)\")\n",
        "print(\"  Block 4: 256 -> 512 -> 512 -> 512 -> 512 (4 conv layers)\")\n",
        "print(\"  Block 5: 512 -> 512 -> 512 -> 512 -> 512 (4 conv layers)\")\n",
        "print(\"  Block 6: 512 -> 512 -> 512 (2 conv layers)\")\n",
        "print(\"\\nTotal Convolutional Layers: 18\")\n",
        "print(\"\\nFully Connected Layers:\")\n",
        "print(\"  FC1: 512 -> 4096\")\n",
        "print(\"  FC2: 4096 -> 2048\")\n",
        "print(\"  FC3: 2048 -> 1024\")\n",
        "print(\"  FC4: 1024 -> 7\")\n",
        "print(\"=\" * 50)"
      ]
    },
    {
      "cell_type": "code",
      "execution_count": 14,
      "metadata": {
        "id": "jji8FLFIeCve"
      },
      "outputs": [],
      "source": [
        "# Training function with gradient clipping for deep networks\n",
        "def train_epoch(model, loader, criterion, optimizer, device):\n",
        "    model.train()\n",
        "    running_loss = 0.0\n",
        "    correct = 0\n",
        "    total = 0\n",
        "    grad_norms = []\n",
        "\n",
        "    progress_bar = tqdm(loader, desc='Training')\n",
        "    for inputs, labels in progress_bar:\n",
        "        inputs, labels = inputs.to(device), labels.to(device)\n",
        "\n",
        "        optimizer.zero_grad()\n",
        "        outputs = model(inputs)\n",
        "        loss = criterion(outputs, labels)\n",
        "        loss.backward()\n",
        "\n",
        "        # Gradient clipping for stability in deep networks\n",
        "        grad_norm = torch.nn.utils.clip_grad_norm_(model.parameters(), max_norm=1.0)\n",
        "        grad_norms.append(grad_norm.item())\n",
        "\n",
        "        optimizer.step()\n",
        "\n",
        "        running_loss += loss.item()\n",
        "        _, predicted = torch.max(outputs.data, 1)\n",
        "        total += labels.size(0)\n",
        "        correct += (predicted == labels).sum().item()\n",
        "\n",
        "        # Update progress bar\n",
        "        progress_bar.set_postfix({\n",
        "            'loss': loss.item(),\n",
        "            'acc': 100 * correct / total,\n",
        "            'grad_norm': grad_norm.item()\n",
        "        })\n",
        "\n",
        "    epoch_loss = running_loss / len(loader)\n",
        "    epoch_acc = 100 * correct / total\n",
        "    avg_grad_norm = np.mean(grad_norms)\n",
        "\n",
        "    return epoch_loss, epoch_acc, avg_grad_norm"
      ]
    },
    {
      "cell_type": "code",
      "execution_count": 15,
      "metadata": {
        "id": "InYKU51eeCvf"
      },
      "outputs": [],
      "source": [
        "# Validation function\n",
        "def validate_epoch(model, loader, criterion, device):\n",
        "    model.eval()\n",
        "    running_loss = 0.0\n",
        "    correct = 0\n",
        "    total = 0\n",
        "    all_predictions = []\n",
        "    all_labels = []\n",
        "\n",
        "    with torch.no_grad():\n",
        "        progress_bar = tqdm(loader, desc='Validation')\n",
        "        for inputs, labels in progress_bar:\n",
        "            inputs, labels = inputs.to(device), labels.to(device)\n",
        "\n",
        "            outputs = model(inputs)\n",
        "            loss = criterion(outputs, labels)\n",
        "\n",
        "            running_loss += loss.item()\n",
        "            _, predicted = torch.max(outputs.data, 1)\n",
        "            total += labels.size(0)\n",
        "            correct += (predicted == labels).sum().item()\n",
        "\n",
        "            all_predictions.extend(predicted.cpu().numpy())\n",
        "            all_labels.extend(labels.cpu().numpy())\n",
        "\n",
        "            # Update progress bar\n",
        "            progress_bar.set_postfix({\n",
        "                'loss': loss.item(),\n",
        "                'acc': 100 * correct / total\n",
        "            })\n",
        "\n",
        "    epoch_loss = running_loss / len(loader)\n",
        "    epoch_acc = 100 * correct / total\n",
        "\n",
        "    return epoch_loss, epoch_acc, all_predictions, all_labels"
      ]
    },
    {
      "cell_type": "code",
      "execution_count": 16,
      "metadata": {
        "id": "UN9Ok8bVeCvg",
        "colab": {
          "base_uri": "https://localhost:8080/"
        },
        "outputId": "d1406175-c821-484f-dfce-f4290804236d"
      },
      "outputs": [
        {
          "output_type": "stream",
          "name": "stdout",
          "text": [
            "\n",
            "Epoch 1/30\n",
            "--------------------------------------------------\n"
          ]
        },
        {
          "output_type": "stream",
          "name": "stderr",
          "text": [
            "Training: 100%|██████████| 718/718 [00:48<00:00, 14.74it/s, loss=2.08, acc=22.9, grad_norm=8.67]\n",
            "Validation: 100%|██████████| 180/180 [00:04<00:00, 36.81it/s, loss=1.86, acc=25.7]\n"
          ]
        },
        {
          "output_type": "stream",
          "name": "stdout",
          "text": [
            "Train Loss: 1.8853, Train Acc: 22.92%\n",
            "Val Loss: 1.7979, Val Acc: 25.74%\n",
            "Overfitting Gap: -2.82%\n",
            "Average Gradient Norm: 16.1481\n",
            "Learning Rate: 0.000100\n",
            "New best model saved with validation accuracy: 25.74%\n",
            "\n",
            "Epoch 2/30\n",
            "--------------------------------------------------\n"
          ]
        },
        {
          "output_type": "stream",
          "name": "stderr",
          "text": [
            "Training: 100%|██████████| 718/718 [00:49<00:00, 14.47it/s, loss=1.87, acc=24.1, grad_norm=7.61]\n",
            "Validation: 100%|██████████| 180/180 [00:06<00:00, 26.87it/s, loss=1.81, acc=25.9]\n"
          ]
        },
        {
          "output_type": "stream",
          "name": "stdout",
          "text": [
            "Train Loss: 1.8403, Train Acc: 24.11%\n",
            "Val Loss: 1.7954, Val Acc: 25.91%\n",
            "Overfitting Gap: -1.81%\n",
            "Average Gradient Norm: 5.9565\n",
            "Learning Rate: 0.000100\n",
            "New best model saved with validation accuracy: 25.91%\n",
            "\n",
            "Epoch 3/30\n",
            "--------------------------------------------------\n"
          ]
        },
        {
          "output_type": "stream",
          "name": "stderr",
          "text": [
            "Training: 100%|██████████| 718/718 [00:49<00:00, 14.63it/s, loss=1.97, acc=23.9, grad_norm=6.32]\n",
            "Validation: 100%|██████████| 180/180 [00:06<00:00, 28.30it/s, loss=1.81, acc=25.5]\n"
          ]
        },
        {
          "output_type": "stream",
          "name": "stdout",
          "text": [
            "Train Loss: 1.8393, Train Acc: 23.91%\n",
            "Val Loss: 1.8033, Val Acc: 25.51%\n",
            "Overfitting Gap: -1.60%\n",
            "Average Gradient Norm: 5.5428\n",
            "Learning Rate: 0.000100\n",
            "\n",
            "Epoch 4/30\n",
            "--------------------------------------------------\n"
          ]
        },
        {
          "output_type": "stream",
          "name": "stderr",
          "text": [
            "Training: 100%|██████████| 718/718 [00:49<00:00, 14.59it/s, loss=2.28, acc=24.4, grad_norm=9.8]\n",
            "Validation: 100%|██████████| 180/180 [00:04<00:00, 36.48it/s, loss=1.86, acc=25.8]\n"
          ]
        },
        {
          "output_type": "stream",
          "name": "stdout",
          "text": [
            "Train Loss: 1.8366, Train Acc: 24.36%\n",
            "Val Loss: 1.8287, Val Acc: 25.79%\n",
            "Overfitting Gap: -1.43%\n",
            "Average Gradient Norm: 5.3426\n",
            "Learning Rate: 0.000100\n",
            "\n",
            "Epoch 5/30\n",
            "--------------------------------------------------\n"
          ]
        },
        {
          "output_type": "stream",
          "name": "stderr",
          "text": [
            "Training: 100%|██████████| 718/718 [00:48<00:00, 14.80it/s, loss=1.98, acc=24.6, grad_norm=6]\n",
            "Validation: 100%|██████████| 180/180 [00:06<00:00, 26.68it/s, loss=1.59, acc=25.4]\n"
          ]
        },
        {
          "output_type": "stream",
          "name": "stdout",
          "text": [
            "Train Loss: 1.8268, Train Acc: 24.64%\n",
            "Val Loss: 1.8919, Val Acc: 25.43%\n",
            "Overfitting Gap: -0.79%\n",
            "Average Gradient Norm: 5.1005\n",
            "Learning Rate: 0.000100\n",
            "\n",
            "Epoch 6/30\n",
            "--------------------------------------------------\n"
          ]
        },
        {
          "output_type": "stream",
          "name": "stderr",
          "text": [
            "Training: 100%|██████████| 718/718 [00:48<00:00, 14.72it/s, loss=1.98, acc=25.1, grad_norm=6.88]\n",
            "Validation: 100%|██████████| 180/180 [00:04<00:00, 37.10it/s, loss=1.95, acc=25.7]\n"
          ]
        },
        {
          "output_type": "stream",
          "name": "stdout",
          "text": [
            "Train Loss: 1.8135, Train Acc: 25.09%\n",
            "Val Loss: 1.7934, Val Acc: 25.74%\n",
            "Overfitting Gap: -0.65%\n",
            "Average Gradient Norm: 4.8773\n",
            "Learning Rate: 0.000100\n",
            "\n",
            "Epoch 7/30\n",
            "--------------------------------------------------\n"
          ]
        },
        {
          "output_type": "stream",
          "name": "stderr",
          "text": [
            "Training: 100%|██████████| 718/718 [00:49<00:00, 14.48it/s, loss=1.77, acc=24.5, grad_norm=5.87]\n",
            "Validation: 100%|██████████| 180/180 [00:06<00:00, 26.11it/s, loss=1.86, acc=25.7]\n"
          ]
        },
        {
          "output_type": "stream",
          "name": "stdout",
          "text": [
            "Train Loss: 1.8257, Train Acc: 24.47%\n",
            "Val Loss: 1.7879, Val Acc: 25.65%\n",
            "Overfitting Gap: -1.18%\n",
            "Average Gradient Norm: 5.2703\n",
            "Learning Rate: 0.000100\n",
            "\n",
            "Epoch 8/30\n",
            "--------------------------------------------------\n"
          ]
        },
        {
          "output_type": "stream",
          "name": "stderr",
          "text": [
            "Training: 100%|██████████| 718/718 [00:48<00:00, 14.73it/s, loss=1.91, acc=25, grad_norm=4.15]\n",
            "Validation: 100%|██████████| 180/180 [00:05<00:00, 35.81it/s, loss=2.06, acc=27.1]\n"
          ]
        },
        {
          "output_type": "stream",
          "name": "stdout",
          "text": [
            "Train Loss: 1.8111, Train Acc: 24.98%\n",
            "Val Loss: 1.8067, Val Acc: 27.08%\n",
            "Overfitting Gap: -2.10%\n",
            "Average Gradient Norm: 4.7468\n",
            "Learning Rate: 0.000100\n",
            "New best model saved with validation accuracy: 27.08%\n",
            "\n",
            "Epoch 9/30\n",
            "--------------------------------------------------\n"
          ]
        },
        {
          "output_type": "stream",
          "name": "stderr",
          "text": [
            "Training: 100%|██████████| 718/718 [00:48<00:00, 14.90it/s, loss=1.87, acc=26.2, grad_norm=5.39]\n",
            "Validation: 100%|██████████| 180/180 [00:07<00:00, 24.44it/s, loss=1.7, acc=27.1]\n"
          ]
        },
        {
          "output_type": "stream",
          "name": "stdout",
          "text": [
            "Train Loss: 1.7996, Train Acc: 26.17%\n",
            "Val Loss: 1.7849, Val Acc: 27.08%\n",
            "Overfitting Gap: -0.91%\n",
            "Average Gradient Norm: 4.5970\n",
            "Learning Rate: 0.000100\n",
            "\n",
            "Epoch 10/30\n",
            "--------------------------------------------------\n"
          ]
        },
        {
          "output_type": "stream",
          "name": "stderr",
          "text": [
            "Training: 100%|██████████| 718/718 [00:48<00:00, 14.80it/s, loss=1.85, acc=27.1, grad_norm=5.68]\n",
            "Validation: 100%|██████████| 180/180 [00:05<00:00, 34.13it/s, loss=2.23, acc=28.4]\n"
          ]
        },
        {
          "output_type": "stream",
          "name": "stdout",
          "text": [
            "Train Loss: 1.7760, Train Acc: 27.07%\n",
            "Val Loss: 1.9869, Val Acc: 28.35%\n",
            "Overfitting Gap: -1.28%\n",
            "Average Gradient Norm: 4.7640\n",
            "Learning Rate: 0.000100\n",
            "New best model saved with validation accuracy: 28.35%\n",
            "\n",
            "Epoch 11/30\n",
            "--------------------------------------------------\n"
          ]
        },
        {
          "output_type": "stream",
          "name": "stderr",
          "text": [
            "Training: 100%|██████████| 718/718 [00:49<00:00, 14.50it/s, loss=1.55, acc=28.9, grad_norm=5.78]\n",
            "Validation: 100%|██████████| 180/180 [00:04<00:00, 37.14it/s, loss=1.66, acc=30.5]\n"
          ]
        },
        {
          "output_type": "stream",
          "name": "stdout",
          "text": [
            "Train Loss: 1.7363, Train Acc: 28.92%\n",
            "Val Loss: 1.6836, Val Acc: 30.48%\n",
            "Overfitting Gap: -1.56%\n",
            "Average Gradient Norm: 4.6675\n",
            "Learning Rate: 0.000100\n",
            "New best model saved with validation accuracy: 30.48%\n",
            "\n",
            "Epoch 12/30\n",
            "--------------------------------------------------\n"
          ]
        },
        {
          "output_type": "stream",
          "name": "stderr",
          "text": [
            "Training: 100%|██████████| 718/718 [00:49<00:00, 14.64it/s, loss=1.7, acc=33.2, grad_norm=6.42]\n",
            "Validation: 100%|██████████| 180/180 [00:06<00:00, 25.87it/s, loss=1.51, acc=38.8]\n"
          ]
        },
        {
          "output_type": "stream",
          "name": "stdout",
          "text": [
            "Train Loss: 1.6470, Train Acc: 33.16%\n",
            "Val Loss: 1.5458, Val Acc: 38.80%\n",
            "Overfitting Gap: -5.64%\n",
            "Average Gradient Norm: 4.0393\n",
            "Learning Rate: 0.000100\n",
            "New best model saved with validation accuracy: 38.80%\n",
            "\n",
            "Epoch 13/30\n",
            "--------------------------------------------------\n"
          ]
        },
        {
          "output_type": "stream",
          "name": "stderr",
          "text": [
            "Training: 100%|██████████| 718/718 [00:49<00:00, 14.46it/s, loss=1.26, acc=39, grad_norm=6]\n",
            "Validation: 100%|██████████| 180/180 [00:04<00:00, 37.04it/s, loss=1.54, acc=40.3]\n"
          ]
        },
        {
          "output_type": "stream",
          "name": "stdout",
          "text": [
            "Train Loss: 1.5290, Train Acc: 38.98%\n",
            "Val Loss: 1.4547, Val Acc: 40.26%\n",
            "Overfitting Gap: -1.28%\n",
            "Average Gradient Norm: 3.7470\n",
            "Learning Rate: 0.000100\n",
            "New best model saved with validation accuracy: 40.26%\n",
            "\n",
            "Epoch 14/30\n",
            "--------------------------------------------------\n"
          ]
        },
        {
          "output_type": "stream",
          "name": "stderr",
          "text": [
            "Training: 100%|██████████| 718/718 [00:49<00:00, 14.63it/s, loss=1.36, acc=41.1, grad_norm=3.51]\n",
            "Validation: 100%|██████████| 180/180 [00:06<00:00, 26.76it/s, loss=1.65, acc=43.5]\n"
          ]
        },
        {
          "output_type": "stream",
          "name": "stdout",
          "text": [
            "Train Loss: 1.4669, Train Acc: 41.10%\n",
            "Val Loss: 1.4004, Val Acc: 43.50%\n",
            "Overfitting Gap: -2.41%\n",
            "Average Gradient Norm: 3.7267\n",
            "Learning Rate: 0.000100\n",
            "New best model saved with validation accuracy: 43.50%\n",
            "\n",
            "Epoch 15/30\n",
            "--------------------------------------------------\n"
          ]
        },
        {
          "output_type": "stream",
          "name": "stderr",
          "text": [
            "Training: 100%|██████████| 718/718 [00:48<00:00, 14.78it/s, loss=1.12, acc=42.7, grad_norm=2.66]\n",
            "Validation: 100%|██████████| 180/180 [00:05<00:00, 32.30it/s, loss=1.6, acc=44.3]\n"
          ]
        },
        {
          "output_type": "stream",
          "name": "stdout",
          "text": [
            "Train Loss: 1.4320, Train Acc: 42.66%\n",
            "Val Loss: 1.3711, Val Acc: 44.25%\n",
            "Overfitting Gap: -1.60%\n",
            "Average Gradient Norm: 3.8032\n",
            "Learning Rate: 0.000100\n",
            "New best model saved with validation accuracy: 44.25%\n",
            "\n",
            "Epoch 16/30\n",
            "--------------------------------------------------\n"
          ]
        },
        {
          "output_type": "stream",
          "name": "stderr",
          "text": [
            "Training: 100%|██████████| 718/718 [00:50<00:00, 14.14it/s, loss=1.31, acc=44.1, grad_norm=3.53]\n",
            "Validation: 100%|██████████| 180/180 [00:05<00:00, 30.10it/s, loss=1.38, acc=46.3]\n"
          ]
        },
        {
          "output_type": "stream",
          "name": "stdout",
          "text": [
            "Train Loss: 1.3947, Train Acc: 44.08%\n",
            "Val Loss: 1.3484, Val Acc: 46.33%\n",
            "Overfitting Gap: -2.25%\n",
            "Average Gradient Norm: 3.7731\n",
            "Learning Rate: 0.000100\n",
            "New best model saved with validation accuracy: 46.33%\n",
            "\n",
            "Epoch 17/30\n",
            "--------------------------------------------------\n"
          ]
        },
        {
          "output_type": "stream",
          "name": "stderr",
          "text": [
            "Training: 100%|██████████| 718/718 [00:49<00:00, 14.51it/s, loss=1.2, acc=45.8, grad_norm=4]\n",
            "Validation: 100%|██████████| 180/180 [00:05<00:00, 31.18it/s, loss=1.5, acc=47.9]\n"
          ]
        },
        {
          "output_type": "stream",
          "name": "stdout",
          "text": [
            "Train Loss: 1.3686, Train Acc: 45.81%\n",
            "Val Loss: 1.3366, Val Acc: 47.91%\n",
            "Overfitting Gap: -2.10%\n",
            "Average Gradient Norm: 3.7905\n",
            "Learning Rate: 0.000100\n",
            "New best model saved with validation accuracy: 47.91%\n",
            "\n",
            "Epoch 18/30\n",
            "--------------------------------------------------\n"
          ]
        },
        {
          "output_type": "stream",
          "name": "stderr",
          "text": [
            "Training: 100%|██████████| 718/718 [00:48<00:00, 14.82it/s, loss=1.14, acc=47.9, grad_norm=3.14]\n",
            "Validation: 100%|██████████| 180/180 [00:06<00:00, 26.22it/s, loss=1.48, acc=50.2]\n"
          ]
        },
        {
          "output_type": "stream",
          "name": "stdout",
          "text": [
            "Train Loss: 1.3424, Train Acc: 47.90%\n",
            "Val Loss: 1.2938, Val Acc: 50.16%\n",
            "Overfitting Gap: -2.26%\n",
            "Average Gradient Norm: 3.9982\n",
            "Learning Rate: 0.000100\n",
            "New best model saved with validation accuracy: 50.16%\n",
            "\n",
            "Epoch 19/30\n",
            "--------------------------------------------------\n"
          ]
        },
        {
          "output_type": "stream",
          "name": "stderr",
          "text": [
            "Training: 100%|██████████| 718/718 [00:49<00:00, 14.60it/s, loss=1.26, acc=48.7, grad_norm=4.51]\n",
            "Validation: 100%|██████████| 180/180 [00:05<00:00, 30.01it/s, loss=1.48, acc=50.9]\n"
          ]
        },
        {
          "output_type": "stream",
          "name": "stdout",
          "text": [
            "Train Loss: 1.3127, Train Acc: 48.74%\n",
            "Val Loss: 1.2570, Val Acc: 50.85%\n",
            "Overfitting Gap: -2.11%\n",
            "Average Gradient Norm: 4.1240\n",
            "Learning Rate: 0.000100\n",
            "New best model saved with validation accuracy: 50.85%\n",
            "\n",
            "Epoch 20/30\n",
            "--------------------------------------------------\n"
          ]
        },
        {
          "output_type": "stream",
          "name": "stderr",
          "text": [
            "Training: 100%|██████████| 718/718 [00:48<00:00, 14.86it/s, loss=1.92, acc=49.8, grad_norm=5.56]\n",
            "Validation: 100%|██████████| 180/180 [00:06<00:00, 25.77it/s, loss=1.59, acc=50.6]\n"
          ]
        },
        {
          "output_type": "stream",
          "name": "stdout",
          "text": [
            "Train Loss: 1.2892, Train Acc: 49.81%\n",
            "Val Loss: 1.3052, Val Acc: 50.59%\n",
            "Overfitting Gap: -0.78%\n",
            "Average Gradient Norm: 4.2827\n",
            "Learning Rate: 0.000100\n",
            "\n",
            "Epoch 21/30\n",
            "--------------------------------------------------\n"
          ]
        },
        {
          "output_type": "stream",
          "name": "stderr",
          "text": [
            "Training: 100%|██████████| 718/718 [00:53<00:00, 13.53it/s, loss=1.49, acc=51.3, grad_norm=8.18]\n",
            "Validation: 100%|██████████| 180/180 [00:05<00:00, 30.57it/s, loss=1.47, acc=51.5]\n"
          ]
        },
        {
          "output_type": "stream",
          "name": "stdout",
          "text": [
            "Train Loss: 1.2668, Train Acc: 51.29%\n",
            "Val Loss: 1.2602, Val Acc: 51.55%\n",
            "Overfitting Gap: -0.26%\n",
            "Average Gradient Norm: 4.4639\n",
            "Learning Rate: 0.000100\n",
            "New best model saved with validation accuracy: 51.55%\n",
            "\n",
            "Epoch 22/30\n",
            "--------------------------------------------------\n"
          ]
        },
        {
          "output_type": "stream",
          "name": "stderr",
          "text": [
            "Training: 100%|██████████| 718/718 [00:50<00:00, 14.20it/s, loss=1.48, acc=52.9, grad_norm=4.43]\n",
            "Validation: 100%|██████████| 180/180 [00:05<00:00, 32.33it/s, loss=1.36, acc=52.1]\n"
          ]
        },
        {
          "output_type": "stream",
          "name": "stdout",
          "text": [
            "Train Loss: 1.2411, Train Acc: 52.87%\n",
            "Val Loss: 1.2650, Val Acc: 52.09%\n",
            "Overfitting Gap: 0.78%\n",
            "Average Gradient Norm: 4.7550\n",
            "Learning Rate: 0.000100\n",
            "New best model saved with validation accuracy: 52.09%\n",
            "\n",
            "Epoch 23/30\n",
            "--------------------------------------------------\n"
          ]
        },
        {
          "output_type": "stream",
          "name": "stderr",
          "text": [
            "Training: 100%|██████████| 718/718 [00:49<00:00, 14.56it/s, loss=1.06, acc=53.6, grad_norm=2.84]\n",
            "Validation: 100%|██████████| 180/180 [00:06<00:00, 26.28it/s, loss=1.38, acc=54.1]\n"
          ]
        },
        {
          "output_type": "stream",
          "name": "stdout",
          "text": [
            "Train Loss: 1.2235, Train Acc: 53.59%\n",
            "Val Loss: 1.2200, Val Acc: 54.06%\n",
            "Overfitting Gap: -0.46%\n",
            "Average Gradient Norm: 4.7110\n",
            "Learning Rate: 0.000100\n",
            "New best model saved with validation accuracy: 54.06%\n",
            "\n",
            "Epoch 24/30\n",
            "--------------------------------------------------\n"
          ]
        },
        {
          "output_type": "stream",
          "name": "stderr",
          "text": [
            "Training: 100%|██████████| 718/718 [00:48<00:00, 14.75it/s, loss=1.35, acc=55.2, grad_norm=6.12]\n",
            "Validation: 100%|██████████| 180/180 [00:04<00:00, 36.95it/s, loss=1.24, acc=55.7]\n"
          ]
        },
        {
          "output_type": "stream",
          "name": "stdout",
          "text": [
            "Train Loss: 1.1843, Train Acc: 55.19%\n",
            "Val Loss: 1.1826, Val Acc: 55.68%\n",
            "Overfitting Gap: -0.49%\n",
            "Average Gradient Norm: 4.6288\n",
            "Learning Rate: 0.000100\n",
            "New best model saved with validation accuracy: 55.68%\n",
            "\n",
            "Epoch 25/30\n",
            "--------------------------------------------------\n"
          ]
        },
        {
          "output_type": "stream",
          "name": "stderr",
          "text": [
            "Training: 100%|██████████| 718/718 [00:49<00:00, 14.61it/s, loss=1.01, acc=56.1, grad_norm=6.05]\n",
            "Validation: 100%|██████████| 180/180 [00:06<00:00, 27.00it/s, loss=1.37, acc=58]\n"
          ]
        },
        {
          "output_type": "stream",
          "name": "stdout",
          "text": [
            "Train Loss: 1.1616, Train Acc: 56.15%\n",
            "Val Loss: 1.1496, Val Acc: 58.01%\n",
            "Overfitting Gap: -1.87%\n",
            "Average Gradient Norm: 4.6930\n",
            "Learning Rate: 0.000100\n",
            "New best model saved with validation accuracy: 58.01%\n",
            "\n",
            "Epoch 26/30\n",
            "--------------------------------------------------\n"
          ]
        },
        {
          "output_type": "stream",
          "name": "stderr",
          "text": [
            "Training: 100%|██████████| 718/718 [00:48<00:00, 14.73it/s, loss=1.5, acc=57.2, grad_norm=10]\n",
            "Validation: 100%|██████████| 180/180 [00:05<00:00, 35.56it/s, loss=1.42, acc=56.7]\n"
          ]
        },
        {
          "output_type": "stream",
          "name": "stdout",
          "text": [
            "Train Loss: 1.1374, Train Acc: 57.16%\n",
            "Val Loss: 1.1735, Val Acc: 56.65%\n",
            "Overfitting Gap: 0.51%\n",
            "Average Gradient Norm: 4.8832\n",
            "Learning Rate: 0.000100\n",
            "\n",
            "Epoch 27/30\n",
            "--------------------------------------------------\n"
          ]
        },
        {
          "output_type": "stream",
          "name": "stderr",
          "text": [
            "Training: 100%|██████████| 718/718 [00:49<00:00, 14.56it/s, loss=1.02, acc=58.4, grad_norm=4.16]\n",
            "Validation: 100%|██████████| 180/180 [00:05<00:00, 33.42it/s, loss=1.26, acc=57.9]\n"
          ]
        },
        {
          "output_type": "stream",
          "name": "stdout",
          "text": [
            "Train Loss: 1.1131, Train Acc: 58.40%\n",
            "Val Loss: 1.1295, Val Acc: 57.91%\n",
            "Overfitting Gap: 0.49%\n",
            "Average Gradient Norm: 4.9443\n",
            "Learning Rate: 0.000100\n",
            "\n",
            "Epoch 28/30\n",
            "--------------------------------------------------\n"
          ]
        },
        {
          "output_type": "stream",
          "name": "stderr",
          "text": [
            "Training: 100%|██████████| 718/718 [00:47<00:00, 15.04it/s, loss=1.31, acc=59.6, grad_norm=6.74]\n",
            "Validation: 100%|██████████| 180/180 [00:09<00:00, 18.84it/s, loss=1.36, acc=58.4]\n"
          ]
        },
        {
          "output_type": "stream",
          "name": "stdout",
          "text": [
            "Train Loss: 1.0903, Train Acc: 59.55%\n",
            "Val Loss: 1.1306, Val Acc: 58.39%\n",
            "Overfitting Gap: 1.16%\n",
            "Average Gradient Norm: 5.0579\n",
            "Learning Rate: 0.000100\n",
            "New best model saved with validation accuracy: 58.39%\n",
            "\n",
            "Epoch 29/30\n",
            "--------------------------------------------------\n"
          ]
        },
        {
          "output_type": "stream",
          "name": "stderr",
          "text": [
            "Training: 100%|██████████| 718/718 [00:47<00:00, 14.98it/s, loss=1.13, acc=60.5, grad_norm=8.05]\n",
            "Validation: 100%|██████████| 180/180 [00:05<00:00, 31.56it/s, loss=1.43, acc=58.4]\n"
          ]
        },
        {
          "output_type": "stream",
          "name": "stdout",
          "text": [
            "Train Loss: 1.0704, Train Acc: 60.51%\n",
            "Val Loss: 1.1360, Val Acc: 58.43%\n",
            "Overfitting Gap: 2.08%\n",
            "Average Gradient Norm: 5.3311\n",
            "Learning Rate: 0.000100\n",
            "New best model saved with validation accuracy: 58.43%\n",
            "\n",
            "Epoch 30/30\n",
            "--------------------------------------------------\n"
          ]
        },
        {
          "output_type": "stream",
          "name": "stderr",
          "text": [
            "Training: 100%|██████████| 718/718 [00:47<00:00, 15.03it/s, loss=0.75, acc=61.5, grad_norm=3.54]\n",
            "Validation: 100%|██████████| 180/180 [00:07<00:00, 25.53it/s, loss=1.42, acc=58.9]\n"
          ]
        },
        {
          "output_type": "stream",
          "name": "stdout",
          "text": [
            "Train Loss: 1.0533, Train Acc: 61.48%\n",
            "Val Loss: 1.1024, Val Acc: 58.88%\n",
            "Overfitting Gap: 2.60%\n",
            "Average Gradient Norm: 5.3378\n",
            "Learning Rate: 0.000100\n",
            "New best model saved with validation accuracy: 58.88%\n"
          ]
        }
      ],
      "source": [
        "# Training loop with additional monitoring for deep networks\n",
        "train_losses = []\n",
        "train_accs = []\n",
        "val_losses = []\n",
        "val_accs = []\n",
        "grad_norms = []\n",
        "best_val_acc = 0\n",
        "patience_counter = 0\n",
        "early_stopping_patience = 10\n",
        "\n",
        "for epoch in range(30):\n",
        "    print(f'\\nEpoch {epoch+1}/30')\n",
        "    print('-' * 50)\n",
        "\n",
        "    # Train\n",
        "    train_loss, train_acc, avg_grad_norm = train_epoch(model, train_loader, criterion, optimizer, device)\n",
        "    train_losses.append(train_loss)\n",
        "    train_accs.append(train_acc)\n",
        "    grad_norms.append(avg_grad_norm)\n",
        "\n",
        "    # Validate\n",
        "    val_loss, val_acc, predictions, labels = validate_epoch(model, val_loader, criterion, device)\n",
        "    val_losses.append(val_loss)\n",
        "    val_accs.append(val_acc)\n",
        "\n",
        "    # Step scheduler\n",
        "    scheduler.step(val_loss)\n",
        "\n",
        "    # Log to W&B\n",
        "    wandb.log({\n",
        "        'epoch': epoch + 1,\n",
        "        'train_loss': train_loss,\n",
        "        'train_acc': train_acc,\n",
        "        'val_loss': val_loss,\n",
        "        'val_acc': val_acc,\n",
        "        'learning_rate': optimizer.param_groups[0]['lr'],\n",
        "        'overfitting_gap': train_acc - val_acc,\n",
        "        'gradient_norm': avg_grad_norm\n",
        "    })\n",
        "\n",
        "    print(f'Train Loss: {train_loss:.4f}, Train Acc: {train_acc:.2f}%')\n",
        "    print(f'Val Loss: {val_loss:.4f}, Val Acc: {val_acc:.2f}%')\n",
        "    print(f'Overfitting Gap: {train_acc - val_acc:.2f}%')\n",
        "    print(f'Average Gradient Norm: {avg_grad_norm:.4f}')\n",
        "    print(f'Learning Rate: {optimizer.param_groups[0][\"lr\"]:.6f}')\n",
        "\n",
        "    # Save best model\n",
        "    if val_acc > best_val_acc:\n",
        "        best_val_acc = val_acc\n",
        "        patience_counter = 0\n",
        "        torch.save(model.state_dict(), 'best_very_deep_cnn_model.pth')\n",
        "        print(f'New best model saved with validation accuracy: {val_acc:.2f}%')\n",
        "    else:\n",
        "        patience_counter += 1\n",
        "\n",
        "    # Early stopping for very deep networks\n",
        "    if patience_counter >= early_stopping_patience:\n",
        "        print(f'Early stopping triggered after {epoch+1} epochs')\n",
        "        break"
      ]
    },
    {
      "cell_type": "code",
      "execution_count": 17,
      "metadata": {
        "id": "FfQfsN2aeCvg",
        "colab": {
          "base_uri": "https://localhost:8080/",
          "height": 1000
        },
        "outputId": "36abe56c-090f-4d16-df62-5e06ae9ffcbd"
      },
      "outputs": [
        {
          "output_type": "display_data",
          "data": {
            "text/plain": [
              "<Figure size 1400x1000 with 4 Axes>"
            ],
            "image/png": "[encoded data removed]"
          },
          "metadata": {}
        }
      ],
      "source": [
        "# Plot training history with gradient norms\n",
        "fig, ((ax1, ax2), (ax3, ax4)) = plt.subplots(2, 2, figsize=(14, 10))\n",
        "\n",
        "# Loss plot\n",
        "ax1.plot(train_losses, label='Train Loss', linewidth=2)\n",
        "ax1.plot(val_losses, label='Val Loss', linewidth=2)\n",
        "ax1.set_xlabel('Epoch')\n",
        "ax1.set_ylabel('Loss')\n",
        "ax1.set_title('Training and Validation Loss')\n",
        "ax1.legend()\n",
        "ax1.grid(True, alpha=0.3)\n",
        "\n",
        "# Accuracy plot\n",
        "ax2.plot(train_accs, label='Train Acc', linewidth=2)\n",
        "ax2.plot(val_accs, label='Val Acc', linewidth=2)\n",
        "ax2.set_xlabel('Epoch')\n",
        "ax2.set_ylabel('Accuracy (%)')\n",
        "ax2.set_title('Training and Validation Accuracy')\n",
        "ax2.legend()\n",
        "ax2.grid(True, alpha=0.3)\n",
        "\n",
        "# Gradient norm plot\n",
        "ax3.plot(grad_norms, 'g-', linewidth=2)\n",
        "ax3.set_xlabel('Epoch')\n",
        "ax3.set_ylabel('Gradient Norm')\n",
        "ax3.set_title('Average Gradient Norm During Training')\n",
        "ax3.grid(True, alpha=0.3)\n",
        "\n",
        "# Overfitting gap plot\n",
        "overfitting_gaps = [train_accs[i] - val_accs[i] for i in range(len(train_accs))]\n",
        "ax4.plot(overfitting_gaps, 'r-', linewidth=2)\n",
        "ax4.set_xlabel('Epoch')\n",
        "ax4.set_ylabel('Overfitting Gap (%)')\n",
        "ax4.set_title('Overfitting Gap Throughout Training')\n",
        "ax4.grid(True, alpha=0.3)\n",
        "\n",
        "plt.tight_layout()\n",
        "wandb.log({\"training_history\": wandb.Image(plt)})\n",
        "plt.show()"
      ]
    },
    {
      "cell_type": "code",
      "execution_count": 18,
      "metadata": {
        "id": "IZwcaaoHeCvh",
        "colab": {
          "base_uri": "https://localhost:8080/",
          "height": 735
        },
        "outputId": "0d3c47c2-a110-42e0-c95b-50329121f4ec"
      },
      "outputs": [
        {
          "output_type": "stream",
          "name": "stderr",
          "text": [
            "Validation: 100%|██████████| 180/180 [00:05<00:00, 32.06it/s, loss=1.42, acc=58.9]\n"
          ]
        },
        {
          "output_type": "display_data",
          "data": {
            "text/plain": [
              "<Figure size 1000x800 with 2 Axes>"
            ],
            "image/png": "[encoded data removed]"
          },
          "metadata": {}
        }
      ],
      "source": [
        "# Load best model for final evaluation\n",
        "model.load_state_dict(torch.load('best_very_deep_cnn_model.pth'))\n",
        "_, _, final_predictions, final_labels = validate_epoch(model, val_loader, criterion, device)\n",
        "\n",
        "# Confusion matrix\n",
        "cm = confusion_matrix(final_labels, final_predictions)\n",
        "plt.figure(figsize=(10, 8))\n",
        "sns.heatmap(cm, annot=True, fmt='d', cmap='Blues',\n",
        "            xticklabels=emotion_labels,\n",
        "            yticklabels=emotion_labels)\n",
        "plt.xlabel('Predicted')\n",
        "plt.ylabel('Actual')\n",
        "plt.title('Confusion Matrix - Very Deep CNN')\n",
        "wandb.log({\"confusion_matrix\": wandb.Image(plt)})\n",
        "plt.show()"
      ]
    },
    {
      "cell_type": "code",
      "execution_count": 19,
      "metadata": {
        "id": "vbmHpH5YeCvh",
        "colab": {
          "base_uri": "https://localhost:8080/"
        },
        "outputId": "149955ef-c7e4-454e-8c5b-f12ffcaec085"
      },
      "outputs": [
        {
          "output_type": "stream",
          "name": "stdout",
          "text": [
            "\n",
            "Classification Report:\n",
            "======================================================================\n",
            "              precision    recall  f1-score   support\n",
            "\n",
            "       Angry       0.50      0.47      0.48       835\n",
            "     Disgust       0.00      0.00      0.00        82\n",
            "        Fear       0.40      0.15      0.22       754\n",
            "       Happy       0.79      0.87      0.83      1478\n",
            "         Sad       0.41      0.61      0.49      1000\n",
            "    Surprise       0.72      0.74      0.73       643\n",
            "     Neutral       0.56      0.53      0.55       950\n",
            "\n",
            "    accuracy                           0.59      5742\n",
            "   macro avg       0.48      0.48      0.47      5742\n",
            "weighted avg       0.57      0.59      0.57      5742\n",
            "\n"
          ]
        }
      ],
      "source": [
        "# Classification report\n",
        "print(\"\\nClassification Report:\")\n",
        "print(\"=\" * 70)\n",
        "report = classification_report(final_labels, final_predictions,\n",
        "                             target_names=emotion_labels,\n",
        "                             output_dict=True)\n",
        "print(classification_report(final_labels, final_predictions, target_names=emotion_labels))\n",
        "\n",
        "# Log per-class metrics to W&B\n",
        "for emotion in emotion_labels:\n",
        "    wandb.log({\n",
        "        f\"{emotion}_precision\": report[emotion]['precision'],\n",
        "        f\"{emotion}_recall\": report[emotion]['recall'],\n",
        "        f\"{emotion}_f1\": report[emotion]['f1-score']\n",
        "    })"
      ]
    },
    {
      "cell_type": "code",
      "execution_count": 20,
      "metadata": {
        "id": "oMlv8C-XeCvh",
        "colab": {
          "base_uri": "https://localhost:8080/"
        },
        "outputId": "d1f3becf-4d9a-492f-fd5d-fb965b0a5bcd"
      },
      "outputs": [
        {
          "output_type": "stream",
          "name": "stdout",
          "text": [
            "\n",
            "Training Dynamics Analysis:\n",
            "  - Initial Gradient Norm: 16.1481\n",
            "  - Final Gradient Norm: 5.3378\n",
            "  - Max Gradient Norm: 16.1481\n",
            "  - Min Gradient Norm: 3.7267\n",
            "  - Average Gradient Norm: 5.0368\n",
            "\n",
            "Total misclassifications: 2361 out of 5742\n",
            "Misclassification rate: 41.12%\n"
          ]
        }
      ],
      "source": [
        "# Analyze training dynamics for deep networks\n",
        "print(f\"\\nTraining Dynamics Analysis:\")\n",
        "print(f\"  - Initial Gradient Norm: {grad_norms[0]:.4f}\")\n",
        "print(f\"  - Final Gradient Norm: {grad_norms[-1]:.4f}\")\n",
        "print(f\"  - Max Gradient Norm: {max(grad_norms):.4f}\")\n",
        "print(f\"  - Min Gradient Norm: {min(grad_norms):.4f}\")\n",
        "print(f\"  - Average Gradient Norm: {np.mean(grad_norms):.4f}\")\n",
        "\n",
        "misclassified_indices = np.where(np.array(final_predictions) != np.array(final_labels))[0]\n",
        "print(f\"\\nTotal misclassifications: {len(misclassified_indices)} out of {len(final_labels)}\")\n",
        "print(f\"Misclassification rate: {len(misclassified_indices)/len(final_labels)*100:.2f}%\")"
      ]
    },
    {
      "cell_type": "code",
      "execution_count": 21,
      "metadata": {
        "id": "8QEvKNzieCvh"
      },
      "outputs": [],
      "source": [
        "# Save final model and log to W&B\n",
        "torch.save(model.state_dict(), 'final_very_deep_cnn_model.pth')\n",
        "wandb.save('final_very_deep_cnn_model.pth')\n",
        "wandb.save('best_very_deep_cnn_model.pth')\n",
        "\n",
        "# Summary statistics\n",
        "summary_stats = {\n",
        "    \"final_train_accuracy\": train_accs[-1],\n",
        "    \"final_val_accuracy\": val_accs[-1],\n",
        "    \"best_val_accuracy\": best_val_acc,\n",
        "    \"overfitting_gap\": train_accs[-1] - val_accs[-1],\n",
        "    \"max_overfitting_gap\": max(overfitting_gaps),\n",
        "    \"total_parameters\": model.total_params,\n",
        "    \"macro_f1_score\": report['macro avg']['f1-score'],\n",
        "    \"weighted_f1_score\": report['weighted avg']['f1-score'],\n",
        "    \"avg_gradient_norm\": np.mean(grad_norms),\n",
        "    \"training_epochs\": len(train_losses)\n",
        "}\n",
        "\n",
        "wandb.log(summary_stats)"
      ]
    },
    {
      "cell_type": "code",
      "execution_count": 23,
      "metadata": {
        "id": "SR3_7g-QeCvi",
        "colab": {
          "base_uri": "https://localhost:8080/",
          "height": 1000
        },
        "outputId": "47442d5f-3891-4ee1-9384-f1855f93620d"
      },
      "outputs": [
        {
          "output_type": "stream",
          "name": "stdout",
          "text": [
            "\n",
            "======================================================================\n",
            "EXPERIMENT SUMMARY: VERY DEEP CNN\n",
            "======================================================================\n",
            "\n",
            "Model Architecture:\n",
            "  - 6 Convolutional Blocks (VGG-19 style)\n",
            "  - Total Conv Layers: 18\n",
            "  - Conv channels: [64, 128, 256, 512, 512, 512]\n",
            "  - FC layers: [4096, 2048, 1024, 7]\n",
            "  - Total Parameters: 37,367,495\n",
            "  - Gradient Clipping: max_norm=1.0\n",
            "  - Learning Rate Scheduling: ReduceLROnPlateau\n",
            "\n",
            "Performance Metrics:\n",
            "  - Final Training Accuracy: 61.48%\n",
            "  - Final Validation Accuracy: 58.88%\n",
            "  - Best Validation Accuracy: 58.88%\n",
            "  - Final Overfitting Gap: 2.60%\n",
            "  - Maximum Overfitting Gap: 2.60%\n",
            "  - Macro F1-Score: 0.471\n",
            "  - Training Epochs: 30\n",
            "  - Average Gradient Norm: 5.0368\n"
          ]
        },
        {
          "output_type": "display_data",
          "data": {
            "text/plain": [
              "<IPython.core.display.HTML object>"
            ],
            "text/html": []
          },
          "metadata": {}
        },
        {
          "output_type": "display_data",
          "data": {
            "text/plain": [
              "<IPython.core.display.HTML object>"
            ],
            "text/html": [
              "<br>    <style><br>        .wandb-row {<br>            display: flex;<br>            flex-direction: row;<br>            flex-wrap: wrap;<br>            justify-content: flex-start;<br>            width: 100%;<br>        }<br>        .wandb-col {<br>            display: flex;<br>            flex-direction: column;<br>            flex-basis: 100%;<br>            flex: 1;<br>            padding: 10px;<br>        }<br>    </style><br><div class=\"wandb-row\"><div class=\"wandb-col\"><h3>Run history:</h3><br/><table class=\"wandb\"><tr><td>Angry_f1</td><td>▁</td></tr><tr><td>Angry_precision</td><td>▁</td></tr><tr><td>Angry_recall</td><td>▁</td></tr><tr><td>Disgust_f1</td><td>▁</td></tr><tr><td>Disgust_precision</td><td>▁</td></tr><tr><td>Disgust_recall</td><td>▁</td></tr><tr><td>Fear_f1</td><td>▁</td></tr><tr><td>Fear_precision</td><td>▁</td></tr><tr><td>Fear_recall</td><td>▁</td></tr><tr><td>Happy_f1</td><td>▁</td></tr><tr><td>Happy_precision</td><td>▁</td></tr><tr><td>Happy_recall</td><td>▁</td></tr><tr><td>Neutral_f1</td><td>▁</td></tr><tr><td>Neutral_precision</td><td>▁</td></tr><tr><td>Neutral_recall</td><td>▁</td></tr><tr><td>Sad_f1</td><td>▁</td></tr><tr><td>Sad_precision</td><td>▁</td></tr><tr><td>Sad_recall</td><td>▁</td></tr><tr><td>Surprise_f1</td><td>▁</td></tr><tr><td>Surprise_precision</td><td>▁</td></tr><tr><td>Surprise_recall</td><td>▁</td></tr><tr><td>avg_gradient_norm</td><td>▁</td></tr><tr><td>best_val_accuracy</td><td>▁</td></tr><tr><td>epoch</td><td>▁▁▁▂▂▂▂▃▃▃▃▄▄▄▄▅▅▅▅▆▆▆▆▇▇▇▇███</td></tr><tr><td>final_train_accuracy</td><td>▁</td></tr><tr><td>final_val_accuracy</td><td>▁</td></tr><tr><td>gradient_norm</td><td>█▂▂▂▂▂▂▂▁▂▂▁▁▁▁▁▁▁▁▁▁▂▂▂▂▂▂▂▂▂</td></tr><tr><td>learning_rate</td><td>▁▁▁▁▁▁▁▁▁▁▁▁▁▁▁▁▁▁▁▁▁▁▁▁▁▁▁▁▁▁</td></tr><tr><td>macro_f1_score</td><td>▁</td></tr><tr><td>max_overfitting_gap</td><td>▁</td></tr><tr><td>overfitting_gap</td><td>▃▄▄▅▅▅▅▄▅▅▄▁▅▄▄▄▄▄▄▅▆▆▅▅▄▆▆▇███</td></tr><tr><td>total_parameters</td><td>▁</td></tr><tr><td>train_acc</td><td>▁▁▁▁▁▁▁▁▂▂▂▃▄▄▅▅▅▆▆▆▆▆▇▇▇▇▇███</td></tr><tr><td>train_loss</td><td>█████▇▇▇▇▇▇▆▅▄▄▄▄▃▃▃▃▃▂▂▂▂▂▁▁▁</td></tr><tr><td>training_epochs</td><td>▁</td></tr><tr><td>val_acc</td><td>▁▁▁▁▁▁▁▁▁▂▂▄▄▅▅▅▆▆▆▆▆▇▇▇██████</td></tr><tr><td>val_loss</td><td>▇▆▇▇▇▆▆▇▆█▆▅▄▃▃▃▃▃▂▃▂▂▂▂▁▂▁▁▁▁</td></tr><tr><td>weighted_f1_score</td><td>▁</td></tr></table><br/></div><div class=\"wandb-col\"><h3>Run summary:</h3><br/><table class=\"wandb\"><tr><td>Angry_f1</td><td>0.48335</td></tr><tr><td>Angry_precision</td><td>0.49809</td></tr><tr><td>Angry_recall</td><td>0.46946</td></tr><tr><td>Disgust_f1</td><td>0</td></tr><tr><td>Disgust_precision</td><td>0</td></tr><tr><td>Disgust_recall</td><td>0</td></tr><tr><td>Fear_f1</td><td>0.21622</td></tr><tr><td>Fear_precision</td><td>0.39716</td></tr><tr><td>Fear_recall</td><td>0.14854</td></tr><tr><td>Happy_f1</td><td>0.82683</td></tr><tr><td>Happy_precision</td><td>0.7899</td></tr><tr><td>Happy_recall</td><td>0.86739</td></tr><tr><td>Neutral_f1</td><td>0.54654</td></tr><tr><td>Neutral_precision</td><td>0.56236</td></tr><tr><td>Neutral_recall</td><td>0.53158</td></tr><tr><td>Sad_f1</td><td>0.49057</td></tr><tr><td>Sad_precision</td><td>0.40979</td></tr><tr><td>Sad_recall</td><td>0.611</td></tr><tr><td>Surprise_f1</td><td>0.73466</td></tr><tr><td>Surprise_precision</td><td>0.72466</td></tr><tr><td>Surprise_recall</td><td>0.74495</td></tr><tr><td>avg_gradient_norm</td><td>5.0368</td></tr><tr><td>best_val_accuracy</td><td>58.88192</td></tr><tr><td>epoch</td><td>30</td></tr><tr><td>final_train_accuracy</td><td>61.47951</td></tr><tr><td>final_val_accuracy</td><td>58.88192</td></tr><tr><td>gradient_norm</td><td>5.33784</td></tr><tr><td>learning_rate</td><td>0.0001</td></tr><tr><td>macro_f1_score</td><td>0.47117</td></tr><tr><td>max_overfitting_gap</td><td>2.59759</td></tr><tr><td>overfitting_gap</td><td>2.59759</td></tr><tr><td>total_parameters</td><td>37367495</td></tr><tr><td>train_acc</td><td>61.47951</td></tr><tr><td>train_loss</td><td>1.05334</td></tr><tr><td>training_epochs</td><td>30</td></tr><tr><td>val_acc</td><td>58.88192</td></tr><tr><td>val_loss</td><td>1.1024</td></tr><tr><td>weighted_f1_score</td><td>0.56964</td></tr></table><br/></div></div>"
            ]
          },
          "metadata": {}
        },
        {
          "output_type": "display_data",
          "data": {
            "text/plain": [
              "<IPython.core.display.HTML object>"
            ],
            "text/html": [
              " View run <strong style=\"color:#cdcd00\">exp06-very-deep-cnn</strong> at: <a href='https://wandb.ai/qitiashvili13-free-university-of-tbilisi-/fer-challenge/runs/z1gw0luu' target=\"_blank\">https://wandb.ai/qitiashvili13-free-university-of-tbilisi-/fer-challenge/runs/z1gw0luu</a><br> View project at: <a href='https://wandb.ai/qitiashvili13-free-university-of-tbilisi-/fer-challenge' target=\"_blank\">https://wandb.ai/qitiashvili13-free-university-of-tbilisi-/fer-challenge</a><br>Synced 5 W&B file(s), 3 media file(s), 0 artifact file(s) and 2 other file(s)"
            ]
          },
          "metadata": {}
        },
        {
          "output_type": "display_data",
          "data": {
            "text/plain": [
              "<IPython.core.display.HTML object>"
            ],
            "text/html": [
              "Find logs at: <code>./wandb/run-20250609_215712-z1gw0luu/logs</code>"
            ]
          },
          "metadata": {}
        }
      ],
      "source": [
        "# Final summary\n",
        "print(\"\\n\" + \"=\" * 70)\n",
        "print(\"EXPERIMENT SUMMARY: VERY DEEP CNN\")\n",
        "print(\"=\" * 70)\n",
        "print(f\"\\nModel Architecture:\")\n",
        "print(f\"  - 6 Convolutional Blocks (VGG-19 style)\")\n",
        "print(f\"  - Total Conv Layers: 18\")\n",
        "print(f\"  - Conv channels: [64, 128, 256, 512, 512, 512]\")\n",
        "print(f\"  - FC layers: [4096, 2048, 1024, 7]\")\n",
        "print(f\"  - Total Parameters: {model.total_params:,}\")\n",
        "print(f\"  - Gradient Clipping: max_norm=1.0\")\n",
        "print(f\"  - Learning Rate Scheduling: ReduceLROnPlateau\")\n",
        "\n",
        "print(f\"\\nPerformance Metrics:\")\n",
        "print(f\"  - Final Training Accuracy: {train_accs[-1]:.2f}%\")\n",
        "print(f\"  - Final Validation Accuracy: {val_accs[-1]:.2f}%\")\n",
        "print(f\"  - Best Validation Accuracy: {best_val_acc:.2f}%\")\n",
        "print(f\"  - Final Overfitting Gap: {train_accs[-1] - val_accs[-1]:.2f}%\")\n",
        "print(f\"  - Maximum Overfitting Gap: {max(overfitting_gaps):.2f}%\")\n",
        "print(f\"  - Macro F1-Score: {report['macro avg']['f1-score']:.3f}\")\n",
        "print(f\"  - Training Epochs: {len(train_losses)}\")\n",
        "print(f\"  - Average Gradient Norm: {np.mean(grad_norms):.4f}\")\n",
        "\n",
        "wandb.finish()"
      ]
    },
    {
      "cell_type": "code",
      "source": [],
      "metadata": {
        "id": "ZJ_bU8WLzIxN"
      },
      "execution_count": null,
      "outputs": []
    }
  ],
  "metadata": {
    "kernelspec": {
      "display_name": "Python 3",
      "name": "python3"
    },
    "language_info": {
      "codemirror_mode": {
        "name": "ipython",
        "version": 3
      },
      "file_extension": ".py",
      "mimetype": "text/x-python",
      "name": "python",
      "nbconvert_exporter": "python",
      "pygments_lexer": "ipython3",
      "version": "3.8.0"
    },
    "colab": {
      "provenance": [],
      "gpuType": "T4",
      "include_colab_link": true
    },
    "accelerator": "GPU"
  },
  "nbformat": 4,
  "nbformat_minor": 0
}