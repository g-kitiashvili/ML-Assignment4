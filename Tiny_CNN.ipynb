{
  "cells": [
    {
      "cell_type": "markdown",
      "metadata": {
        "id": "view-in-github",
        "colab_type": "text"
      },
      "source": [
        "<a href=\"https://colab.research.google.com/github/g-kitiashvili/ML-Assignment4/blob/main/Tiny_CNN.ipynb\" target=\"_parent\"><img src=\"https://colab.research.google.com/assets/colab-badge.svg\" alt=\"Open In Colab\"/></a>"
      ]
    },
    {
      "cell_type": "markdown",
      "metadata": {
        "id": "5u_g7VSgeCtz"
      },
      "source": [
        "# Experiment 07: Tiny CNN - Underfitting Analysis\n",
        "## Objective: Demonstrate underfitting with an intentionally small model and analyze capacity limitations"
      ]
    },
    {
      "cell_type": "code",
      "execution_count": 1,
      "metadata": {
        "id": "6D_YUJ_WeCvM"
      },
      "outputs": [],
      "source": [
        "# Install necessary packages\n",
        "!pip install wandb -q\n",
        "!pip install kaggle -q"
      ]
    },
    {
      "cell_type": "code",
      "execution_count": 2,
      "metadata": {
        "id": "8IKYDsm3eCvO"
      },
      "outputs": [],
      "source": [
        "# Import necessary libraries\n",
        "import torch\n",
        "import torch.nn as nn\n",
        "import torch.optim as optim\n",
        "from torch.utils.data import Dataset, DataLoader\n",
        "import pandas as pd\n",
        "import numpy as np\n",
        "import matplotlib.pyplot as plt\n",
        "import seaborn as sns\n",
        "from sklearn.metrics import confusion_matrix, classification_report\n",
        "import wandb\n",
        "from tqdm import tqdm\n",
        "import os\n",
        "import warnings\n",
        "warnings.filterwarnings('ignore')"
      ]
    },
    {
      "cell_type": "code",
      "execution_count": 3,
      "metadata": {
        "id": "dy2zIfSreCvS",
        "colab": {
          "base_uri": "https://localhost:8080/"
        },
        "outputId": "6130b386-244f-4d93-915b-a751bf79eecc"
      },
      "outputs": [
        {
          "output_type": "stream",
          "name": "stdout",
          "text": [
            "Mounted at /content/drive\n"
          ]
        }
      ],
      "source": [
        "# Mount Google Drive (optional - for saving results)\n",
        "from google.colab import drive\n",
        "drive.mount('/content/drive')"
      ]
    },
    {
      "cell_type": "code",
      "execution_count": 4,
      "metadata": {
        "id": "qnxxB68qeCvT"
      },
      "outputs": [],
      "source": [
        "# Setup kaggle directory\n",
        "!mkdir -p ~/.kaggle\n",
        "!cp /content/drive/MyDrive/kaggle.json ~/.kaggle/\n",
        "!chmod 600 ~/.kaggle/kaggle.json"
      ]
    },
    {
      "cell_type": "code",
      "execution_count": 5,
      "metadata": {
        "id": "3od-1b4CeCvU",
        "colab": {
          "base_uri": "https://localhost:8080/"
        },
        "outputId": "900ee64c-425d-48a9-f50c-6b479e9df381"
      },
      "outputs": [
        {
          "output_type": "stream",
          "name": "stdout",
          "text": [
            "Downloading challenges-in-representation-learning-facial-expression-recognition-challenge.zip to /content\n",
            " 76% 216M/285M [00:00<00:00, 770MB/s] \n",
            "100% 285M/285M [00:05<00:00, 58.8MB/s]\n",
            "challenges-in-representation-learning-facial-expression-recognition-challenge.zip\n",
            "drive\n",
            "example_submission.csv\n",
            "fer2013.tar.gz\n",
            "icml_face_data.csv\n",
            "sample_data\n",
            "test.csv\n",
            "train.csv\n"
          ]
        }
      ],
      "source": [
        "# Download FER2013 dataset from Kaggle\n",
        "!kaggle competitions download -c challenges-in-representation-learning-facial-expression-recognition-challenge\n",
        "\n",
        "# Extract the dataset\n",
        "!unzip -q challenges-in-representation-learning-facial-expression-recognition-challenge.zip\n",
        "!ls"
      ]
    },
    {
      "cell_type": "code",
      "execution_count": 6,
      "metadata": {
        "id": "J7BQOua1eCvX",
        "colab": {
          "base_uri": "https://localhost:8080/",
          "height": 260
        },
        "outputId": "f5a9211b-2034-431b-85b2-0e99da3e0d59"
      },
      "outputs": [
        {
          "output_type": "display_data",
          "data": {
            "text/plain": [
              "<IPython.core.display.Javascript object>"
            ],
            "application/javascript": [
              "\n",
              "        window._wandbApiKey = new Promise((resolve, reject) => {\n",
              "            function loadScript(url) {\n",
              "            return new Promise(function(resolve, reject) {\n",
              "                let newScript = document.createElement(\"script\");\n",
              "                newScript.onerror = reject;\n",
              "                newScript.onload = resolve;\n",
              "                document.body.appendChild(newScript);\n",
              "                newScript.src = url;\n",
              "            });\n",
              "            }\n",
              "            loadScript(\"https://cdn.jsdelivr.net/npm/postmate/build/postmate.min.js\").then(() => {\n",
              "            const iframe = document.createElement('iframe')\n",
              "            iframe.style.cssText = \"width:0;height:0;border:none\"\n",
              "            document.body.appendChild(iframe)\n",
              "            const handshake = new Postmate({\n",
              "                container: iframe,\n",
              "                url: 'https://wandb.ai/authorize'\n",
              "            });\n",
              "            const timeout = setTimeout(() => reject(\"Couldn't auto authenticate\"), 5000)\n",
              "            handshake.then(function(child) {\n",
              "                child.on('authorize', data => {\n",
              "                    clearTimeout(timeout)\n",
              "                    resolve(data)\n",
              "                });\n",
              "            });\n",
              "            })\n",
              "        });\n",
              "    "
            ]
          },
          "metadata": {}
        },
        {
          "output_type": "stream",
          "name": "stderr",
          "text": [
            "\u001b[34m\u001b[1mwandb\u001b[0m: Logging into wandb.ai. (Learn how to deploy a W&B server locally: https://wandb.me/wandb-server)\n",
            "\u001b[34m\u001b[1mwandb\u001b[0m: You can find your API key in your browser here: https://wandb.ai/authorize\n",
            "wandb: Paste an API key from your profile and hit enter:"
          ]
        },
        {
          "name": "stdout",
          "output_type": "stream",
          "text": [
            " ··········\n"
          ]
        },
        {
          "output_type": "stream",
          "name": "stderr",
          "text": [
            "\u001b[34m\u001b[1mwandb\u001b[0m: \u001b[33mWARNING\u001b[0m If you're specifying your api key in code, ensure this code is not shared publicly.\n",
            "\u001b[34m\u001b[1mwandb\u001b[0m: \u001b[33mWARNING\u001b[0m Consider setting the WANDB_API_KEY environment variable, or running `wandb login` from the command line.\n",
            "\u001b[34m\u001b[1mwandb\u001b[0m: No netrc file found, creating one.\n",
            "\u001b[34m\u001b[1mwandb\u001b[0m: Appending key for api.wandb.ai to your netrc file: /root/.netrc\n",
            "\u001b[34m\u001b[1mwandb\u001b[0m: Currently logged in as: \u001b[33mqitiashvili13\u001b[0m (\u001b[33mqitiashvili13-free-university-of-tbilisi-\u001b[0m) to \u001b[32mhttps://api.wandb.ai\u001b[0m. Use \u001b[1m`wandb login --relogin`\u001b[0m to force relogin\n"
          ]
        },
        {
          "output_type": "display_data",
          "data": {
            "text/plain": [
              "<IPython.core.display.HTML object>"
            ],
            "text/html": [
              "Tracking run with wandb version 0.19.11"
            ]
          },
          "metadata": {}
        },
        {
          "output_type": "display_data",
          "data": {
            "text/plain": [
              "<IPython.core.display.HTML object>"
            ],
            "text/html": [
              "Run data is saved locally in <code>/content/wandb/run-20250609_213256-v7e604gs</code>"
            ]
          },
          "metadata": {}
        },
        {
          "output_type": "display_data",
          "data": {
            "text/plain": [
              "<IPython.core.display.HTML object>"
            ],
            "text/html": [
              "Syncing run <strong><a href='https://wandb.ai/qitiashvili13-free-university-of-tbilisi-/fer-challenge/runs/v7e604gs' target=\"_blank\">exp07-tiny-cnn-underfitting</a></strong> to <a href='https://wandb.ai/qitiashvili13-free-university-of-tbilisi-/fer-challenge' target=\"_blank\">Weights & Biases</a> (<a href='https://wandb.me/developer-guide' target=\"_blank\">docs</a>)<br>"
            ]
          },
          "metadata": {}
        },
        {
          "output_type": "display_data",
          "data": {
            "text/plain": [
              "<IPython.core.display.HTML object>"
            ],
            "text/html": [
              " View project at <a href='https://wandb.ai/qitiashvili13-free-university-of-tbilisi-/fer-challenge' target=\"_blank\">https://wandb.ai/qitiashvili13-free-university-of-tbilisi-/fer-challenge</a>"
            ]
          },
          "metadata": {}
        },
        {
          "output_type": "display_data",
          "data": {
            "text/plain": [
              "<IPython.core.display.HTML object>"
            ],
            "text/html": [
              " View run at <a href='https://wandb.ai/qitiashvili13-free-university-of-tbilisi-/fer-challenge/runs/v7e604gs' target=\"_blank\">https://wandb.ai/qitiashvili13-free-university-of-tbilisi-/fer-challenge/runs/v7e604gs</a>"
            ]
          },
          "metadata": {}
        }
      ],
      "source": [
        "# Initialize W&B\n",
        "wandb.login()\n",
        "run = wandb.init(\n",
        "    project=\"fer-challenge\",\n",
        "    name=\"exp07-tiny-cnn-underfitting\",\n",
        "    config={\n",
        "        \"architecture\": \"Tiny CNN (Underfitting)\",\n",
        "        \"dataset\": \"FER2013\",\n",
        "        \"epochs\": 50,  # More epochs to see if tiny model can learn\n",
        "        \"batch_size\": 64,\n",
        "        \"learning_rate\": 0.001,\n",
        "        \"weight_decay\": 0.0,  # No regularization\n",
        "        \"dropout\": 0.0,  # No dropout\n",
        "        \"batch_norm\": False,  # No batch norm\n",
        "        \"conv_blocks\": 2,  # Very few blocks\n",
        "        \"conv_channels\": [16, 32],  # Very small channels\n",
        "        \"fc_sizes\": [64],  # Very small FC layer\n",
        "        \"num_classes\": 7,\n",
        "        \"model_purpose\": \"demonstrate_underfitting\"\n",
        "    }\n",
        ")\n",
        "# api key 380014f2a984b49876832184c6bd2dcddb337047"
      ]
    },
    {
      "cell_type": "code",
      "execution_count": 7,
      "metadata": {
        "id": "e5fte5SleCvZ",
        "colab": {
          "base_uri": "https://localhost:8080/"
        },
        "outputId": "2aa71d1e-2643-4bfe-887c-5773a3f7036f"
      },
      "outputs": [
        {
          "output_type": "stream",
          "name": "stdout",
          "text": [
            "Training data shape: (28709, 2)\n",
            "Test data shape: (7178, 1)\n",
            "\n",
            "Training data columns: ['emotion', 'pixels']\n",
            "\n",
            "Emotion distribution:\n",
            "emotion\n",
            "0    3995\n",
            "1     436\n",
            "2    4097\n",
            "3    7215\n",
            "4    4830\n",
            "5    3171\n",
            "6    4965\n",
            "Name: count, dtype: int64\n",
            "\n",
            "Checking 'pixels' column data types...\n",
            "Removed 28709 rows from training set due to non-string 'pixels'.\n",
            "Removed 3589 rows from test set due to non-string 'pixels'.\n",
            "\n",
            "Merged Train shape (after filtering): (28709, 3)\n",
            "Merged Test shape (after filtering): (7178, 3)\n",
            "\n",
            "Emotion distribution in merged train set:\n",
            "emotion\n",
            "0    3995\n",
            "1     436\n",
            "2    4097\n",
            "3    7215\n",
            "4    4830\n",
            "5    3171\n",
            "6    4965\n",
            "Name: count, dtype: int64\n",
            "\n",
            "Emotion distribution in merged test set:\n",
            "Series([], Name: count, dtype: int64)\n"
          ]
        }
      ],
      "source": [
        "# Load and explore the data\n",
        "train_df = pd.read_csv('train.csv')\n",
        "test_df = pd.read_csv('test.csv')\n",
        "\n",
        "print(f\"Training data shape: {train_df.shape}\")\n",
        "print(f\"Test data shape: {test_df.shape}\")\n",
        "print(\"\\nTraining data columns:\", train_df.columns.tolist())\n",
        "print(\"\\nEmotion distribution:\")\n",
        "print(train_df['emotion'].value_counts().sort_index())\n",
        "\n",
        "icml_df = pd.read_csv('icml_face_data.csv')\n",
        "\n",
        "# Split ICML data based on 'Usage'\n",
        "icml_train = icml_df[icml_df[' Usage'] == 'Training']\n",
        "icml_test = icml_df[icml_df[' Usage'].isin(['PublicTest', 'Other'])]\n",
        "\n",
        "# Drop the 'Usage' column (not needed after splitting)\n",
        "icml_train = icml_train.drop(columns=[' Usage'])\n",
        "icml_test = icml_test.drop(columns=[' Usage'])\n",
        "\n",
        "# Merge datasets\n",
        "train_df = pd.concat([train_df, icml_train], ignore_index=True)\n",
        "test_df = pd.concat([test_df, icml_test], ignore_index=True)\n",
        "\n",
        "# **Added data type check and filtering**\n",
        "print(\"\\nChecking 'pixels' column data types...\")\n",
        "initial_train_rows = len(train_df)\n",
        "initial_test_rows = len(test_df)\n",
        "\n",
        "train_df = train_df[train_df['pixels'].apply(lambda x: isinstance(x, str))]\n",
        "test_df = test_df[test_df['pixels'].apply(lambda x: isinstance(x, str))]\n",
        "\n",
        "print(f\"Removed {initial_train_rows - len(train_df)} rows from training set due to non-string 'pixels'.\")\n",
        "print(f\"Removed {initial_test_rows - len(test_df)} rows from test set due to non-string 'pixels'.\")\n",
        "\n",
        "# Shuffle the merged datasets (optional but recommended)\n",
        "train_df = train_df.sample(frac=1, random_state=42).reset_index(drop=True)\n",
        "test_df = test_df.sample(frac=1, random_state=42).reset_index(drop=True)\n",
        "\n",
        "# Output shapes and emotion distribution\n",
        "print(\"\\nMerged Train shape (after filtering):\", train_df.shape)\n",
        "print(\"Merged Test shape (after filtering):\", test_df.shape)\n",
        "\n",
        "print(\"\\nEmotion distribution in merged train set:\")\n",
        "print(train_df['emotion'].value_counts().sort_index())\n",
        "\n",
        "print(\"\\nEmotion distribution in merged test set:\")\n",
        "print(test_df['emotion'].value_counts().sort_index())"
      ]
    },
    {
      "cell_type": "code",
      "execution_count": 8,
      "metadata": {
        "id": "TinOcncIeCva",
        "colab": {
          "base_uri": "https://localhost:8080/",
          "height": 610
        },
        "outputId": "bf975667-250b-4dba-fcac-c3c181ee81b6"
      },
      "outputs": [
        {
          "output_type": "display_data",
          "data": {
            "text/plain": [
              "<Figure size 1200x600 with 8 Axes>"
            ],
            "image/png": "[encoded data removed]"
          },
          "metadata": {}
        }
      ],
      "source": [
        "# Visualize sample images\n",
        "emotion_labels = ['Angry', 'Disgust', 'Fear', 'Happy', 'Sad', 'Surprise', 'Neutral']\n",
        "\n",
        "fig, axes = plt.subplots(2, 4, figsize=(12, 6))\n",
        "axes = axes.ravel()\n",
        "\n",
        "for i in range(8):\n",
        "    idx = np.random.randint(0, len(train_df))\n",
        "    pixels = train_df.iloc[idx]['pixels']\n",
        "    emotion = train_df.iloc[idx]['emotion']\n",
        "\n",
        "    # Convert pixel string to array and reshape\n",
        "    pixels = np.array([int(pixel) for pixel in pixels.split(' ')], dtype=np.uint8)\n",
        "    pixels = pixels.reshape(48, 48)\n",
        "\n",
        "    axes[i].imshow(pixels, cmap='gray')\n",
        "    axes[i].set_title(f'{emotion_labels[emotion]}')\n",
        "    axes[i].axis('off')\n",
        "\n",
        "plt.suptitle('Sample Images from FER2013 Dataset')\n",
        "plt.tight_layout()\n",
        "wandb.log({\"sample_images\": wandb.Image(plt)})\n",
        "plt.show()"
      ]
    },
    {
      "cell_type": "code",
      "execution_count": 9,
      "metadata": {
        "id": "G2JAUa9ReCvb"
      },
      "outputs": [],
      "source": [
        "# Custom Dataset Class\n",
        "class FERDataset(Dataset):\n",
        "    def __init__(self, dataframe, transform=None):\n",
        "        self.data = dataframe\n",
        "        self.transform = transform\n",
        "\n",
        "    def __len__(self):\n",
        "        return len(self.data)\n",
        "\n",
        "    def __getitem__(self, idx):\n",
        "        pixels = self.data.iloc[idx]['pixels']\n",
        "        emotion = self.data.iloc[idx]['emotion']\n",
        "\n",
        "        # Convert pixel string to numpy array\n",
        "        pixels = np.array([int(pixel) for pixel in pixels.split(' ')], dtype=np.float32)\n",
        "        pixels = pixels / 255.0  # Normalize to [0, 1]\n",
        "\n",
        "        # For CNN, reshape to (1, 48, 48) - single channel\n",
        "        pixels = pixels.reshape(1, 48, 48)\n",
        "\n",
        "        return torch.tensor(pixels), torch.tensor(emotion, dtype=torch.long)"
      ]
    },
    {
      "cell_type": "code",
      "execution_count": 10,
      "metadata": {
        "id": "bflabsmOeCvc",
        "colab": {
          "base_uri": "https://localhost:8080/"
        },
        "outputId": "3c64cd97-139b-410f-eb13-4bf64b1f537c"
      },
      "outputs": [
        {
          "output_type": "stream",
          "name": "stdout",
          "text": [
            "Train size: 22967\n",
            "Validation size: 5742\n"
          ]
        }
      ],
      "source": [
        "# Create datasets\n",
        "full_dataset = FERDataset(train_df)\n",
        "\n",
        "# Split into train and validation\n",
        "train_size = int(0.8 * len(full_dataset))\n",
        "val_size = len(full_dataset) - train_size\n",
        "train_dataset, val_dataset = torch.utils.data.random_split(full_dataset, [train_size, val_size])\n",
        "\n",
        "print(f\"Train size: {len(train_dataset)}\")\n",
        "print(f\"Validation size: {len(val_dataset)}\")\n",
        "\n",
        "# Create data loaders\n",
        "train_loader = DataLoader(train_dataset, batch_size=64, shuffle=True, num_workers=2)\n",
        "val_loader = DataLoader(val_dataset, batch_size=64, shuffle=False, num_workers=2)"
      ]
    },
    {
      "cell_type": "code",
      "execution_count": 11,
      "metadata": {
        "id": "zqz9tzV0eCvc"
      },
      "outputs": [],
      "source": [
        "# Tiny CNN Model - Intentionally Too Small\n",
        "class TinyCNN(nn.Module):\n",
        "    def __init__(self, num_classes=7):\n",
        "        super(TinyCNN, self).__init__()\n",
        "\n",
        "        # Only 2 convolutional blocks with very few filters\n",
        "        # Block 1: Very small number of filters\n",
        "        self.conv1 = nn.Conv2d(1, 16, kernel_size=5, padding=2)  # Large kernel, few filters\n",
        "        self.pool1 = nn.MaxPool2d(4, 4)  # Aggressive pooling\n",
        "\n",
        "        # Block 2: Still very small\n",
        "        self.conv2 = nn.Conv2d(16, 32, kernel_size=5, padding=2)\n",
        "        self.pool2 = nn.MaxPool2d(4, 4)  # More aggressive pooling\n",
        "\n",
        "        # Very small fully connected layer\n",
        "        # After two 4x4 poolings: 48/4/4 = 3x3\n",
        "        self.fc1 = nn.Linear(32 * 3 * 3, 64)  # Very small hidden layer\n",
        "        self.fc2 = nn.Linear(64, num_classes)\n",
        "\n",
        "        # Simple activation\n",
        "        self.relu = nn.ReLU()\n",
        "\n",
        "        # Calculate total parameters\n",
        "        self.total_params = sum(p.numel() for p in self.parameters())\n",
        "\n",
        "    def forward(self, x):\n",
        "        # Conv Block 1\n",
        "        x = self.relu(self.conv1(x))\n",
        "        x = self.pool1(x)\n",
        "\n",
        "        # Conv Block 2\n",
        "        x = self.relu(self.conv2(x))\n",
        "        x = self.pool2(x)\n",
        "\n",
        "        # Flatten\n",
        "        x = x.view(x.size(0), -1)\n",
        "\n",
        "        # FC layers\n",
        "        x = self.relu(self.fc1(x))\n",
        "        x = self.fc2(x)\n",
        "\n",
        "        return x"
      ]
    },
    {
      "cell_type": "code",
      "execution_count": 12,
      "metadata": {
        "id": "-viGxgTeeCve",
        "colab": {
          "base_uri": "https://localhost:8080/"
        },
        "outputId": "4100f961-32e4-4baf-8f5b-5791305f4e35"
      },
      "outputs": [
        {
          "output_type": "stream",
          "name": "stdout",
          "text": [
            "Using device: cuda\n",
            "Total parameters: 32,199\n",
            "Model size comparison:\n",
            "  - Tiny CNN: 32,199 parameters\n",
            "  - Typical CNN: ~500K-2M parameters\n",
            "  - Large CNN: ~10M+ parameters\n"
          ]
        }
      ],
      "source": [
        "# Initialize model, loss, optimizer\n",
        "device = torch.device('cuda' if torch.cuda.is_available() else 'cpu')\n",
        "print(f\"Using device: {device}\")\n",
        "\n",
        "model = TinyCNN().to(device)\n",
        "print(f\"Total parameters: {model.total_params:,}\")\n",
        "print(f\"Model size comparison:\")\n",
        "print(f\"  - Tiny CNN: {model.total_params:,} parameters\")\n",
        "print(f\"  - Typical CNN: ~500K-2M parameters\")\n",
        "print(f\"  - Large CNN: ~10M+ parameters\")\n",
        "\n",
        "criterion = nn.CrossEntropyLoss()\n",
        "# No weight decay - we want to see pure underfitting\n",
        "optimizer = optim.Adam(model.parameters(), lr=0.001)\n",
        "\n",
        "# Log model architecture to W&B\n",
        "wandb.watch(model, log='all')"
      ]
    },
    {
      "cell_type": "code",
      "execution_count": 13,
      "metadata": {
        "id": "MYZ3bHDWeCve",
        "colab": {
          "base_uri": "https://localhost:8080/"
        },
        "outputId": "eb175874-6457-4910-ef1c-c4ae9694d9f9"
      },
      "outputs": [
        {
          "output_type": "stream",
          "name": "stdout",
          "text": [
            "Tiny Model Architecture:\n",
            "==================================================\n",
            "Convolutional Layers:\n",
            "  Conv1: 1 -> 16 filters (5x5 kernel)\n",
            "  Pool1: 4x4 pooling (aggressive)\n",
            "  Conv2: 16 -> 32 filters (5x5 kernel)\n",
            "  Pool2: 4x4 pooling (aggressive)\n",
            "\n",
            "Fully Connected Layers:\n",
            "  FC1: 288 -> 64 (very small hidden layer)\n",
            "  FC2: 64 -> 7\n",
            "\n",
            "Total Layers: 4 (2 conv + 2 fc)\n",
            "Total Parameters: 32,199\n",
            "==================================================\n",
            "conv1.weight    torch.Size([16, 1, 5, 5]) -> 400 params\n",
            "conv1.bias      torch.Size([16]) -> 16 params\n",
            "conv2.weight    torch.Size([32, 16, 5, 5]) -> 12,800 params\n",
            "conv2.bias      torch.Size([32]) -> 32 params\n",
            "fc1.weight      torch.Size([64, 288]) -> 18,432 params\n",
            "fc1.bias        torch.Size([64]) -> 64 params\n",
            "fc2.weight      torch.Size([7, 64]) -> 448 params\n",
            "fc2.bias        torch.Size([7]) -> 7 params\n"
          ]
        }
      ],
      "source": [
        "# Print model architecture\n",
        "print(\"Tiny Model Architecture:\")\n",
        "print(\"=\" * 50)\n",
        "print(\"Convolutional Layers:\")\n",
        "print(\"  Conv1: 1 -> 16 filters (5x5 kernel)\")\n",
        "print(\"  Pool1: 4x4 pooling (aggressive)\")\n",
        "print(\"  Conv2: 16 -> 32 filters (5x5 kernel)\")\n",
        "print(\"  Pool2: 4x4 pooling (aggressive)\")\n",
        "print(\"\\nFully Connected Layers:\")\n",
        "print(\"  FC1: 288 -> 64 (very small hidden layer)\")\n",
        "print(\"  FC2: 64 -> 7\")\n",
        "print(\"\\nTotal Layers: 4 (2 conv + 2 fc)\")\n",
        "print(f\"Total Parameters: {model.total_params:,}\")\n",
        "print(\"=\" * 50)\n",
        "\n",
        "# Compare with typical model sizes\n",
        "for name, param in model.named_parameters():\n",
        "    print(f\"{name:15} {param.shape} -> {param.numel():,} params\")"
      ]
    },
    {
      "cell_type": "code",
      "execution_count": 14,
      "metadata": {
        "id": "jji8FLFIeCve"
      },
      "outputs": [],
      "source": [
        "# Training function\n",
        "def train_epoch(model, loader, criterion, optimizer, device):\n",
        "    model.train()\n",
        "    running_loss = 0.0\n",
        "    correct = 0\n",
        "    total = 0\n",
        "\n",
        "    progress_bar = tqdm(loader, desc='Training')\n",
        "    for inputs, labels in progress_bar:\n",
        "        inputs, labels = inputs.to(device), labels.to(device)\n",
        "\n",
        "        optimizer.zero_grad()\n",
        "        outputs = model(inputs)\n",
        "        loss = criterion(outputs, labels)\n",
        "        loss.backward()\n",
        "        optimizer.step()\n",
        "\n",
        "        running_loss += loss.item()\n",
        "        _, predicted = torch.max(outputs.data, 1)\n",
        "        total += labels.size(0)\n",
        "        correct += (predicted == labels).sum().item()\n",
        "\n",
        "        # Update progress bar\n",
        "        progress_bar.set_postfix({\n",
        "            'loss': loss.item(),\n",
        "            'acc': 100 * correct / total\n",
        "        })\n",
        "\n",
        "    epoch_loss = running_loss / len(loader)\n",
        "    epoch_acc = 100 * correct / total\n",
        "\n",
        "    return epoch_loss, epoch_acc"
      ]
    },
    {
      "cell_type": "code",
      "execution_count": 15,
      "metadata": {
        "id": "InYKU51eeCvf"
      },
      "outputs": [],
      "source": [
        "# Validation function\n",
        "def validate_epoch(model, loader, criterion, device):\n",
        "    model.eval()\n",
        "    running_loss = 0.0\n",
        "    correct = 0\n",
        "    total = 0\n",
        "    all_predictions = []\n",
        "    all_labels = []\n",
        "\n",
        "    with torch.no_grad():\n",
        "        progress_bar = tqdm(loader, desc='Validation')\n",
        "        for inputs, labels in progress_bar:\n",
        "            inputs, labels = inputs.to(device), labels.to(device)\n",
        "\n",
        "            outputs = model(inputs)\n",
        "            loss = criterion(outputs, labels)\n",
        "\n",
        "            running_loss += loss.item()\n",
        "            _, predicted = torch.max(outputs.data, 1)\n",
        "            total += labels.size(0)\n",
        "            correct += (predicted == labels).sum().item()\n",
        "\n",
        "            all_predictions.extend(predicted.cpu().numpy())\n",
        "            all_labels.extend(labels.cpu().numpy())\n",
        "\n",
        "            # Update progress bar\n",
        "            progress_bar.set_postfix({\n",
        "                'loss': loss.item(),\n",
        "                'acc': 100 * correct / total\n",
        "            })\n",
        "\n",
        "    epoch_loss = running_loss / len(loader)\n",
        "    epoch_acc = 100 * correct / total\n",
        "\n",
        "    return epoch_loss, epoch_acc, all_predictions, all_labels"
      ]
    },
    {
      "cell_type": "code",
      "execution_count": 16,
      "metadata": {
        "id": "UN9Ok8bVeCvg",
        "colab": {
          "base_uri": "https://localhost:8080/"
        },
        "outputId": "29384663-413d-46db-ddd0-7837b2bc9185"
      },
      "outputs": [
        {
          "output_type": "stream",
          "name": "stdout",
          "text": [
            "Starting training of intentionally tiny model...\n",
            "Expected behavior: Both training and validation accuracy should plateau at low values\n",
            "This demonstrates underfitting due to insufficient model capacity.\n",
            "\n",
            "\n",
            "Epoch 1/50\n",
            "--------------------------------------------------\n"
          ]
        },
        {
          "output_type": "stream",
          "name": "stderr",
          "text": [
            "Training: 100%|██████████| 359/359 [00:18<00:00, 19.40it/s, loss=1.87, acc=26]\n",
            "Validation: 100%|██████████| 90/90 [00:05<00:00, 16.32it/s, loss=1.79, acc=29.8]\n"
          ]
        },
        {
          "output_type": "stream",
          "name": "stdout",
          "text": [
            "Train Loss: 1.7944, Train Acc: 25.98%\n",
            "Val Loss: 1.7268, Val Acc: 29.82%\n",
            "Gap: -3.84% (small gap indicates underfitting)\n",
            "New best model saved with validation accuracy: 29.82%\n",
            "\n",
            "Epoch 2/50\n",
            "--------------------------------------------------\n"
          ]
        },
        {
          "output_type": "stream",
          "name": "stderr",
          "text": [
            "Training: 100%|██████████| 359/359 [00:17<00:00, 20.51it/s, loss=1.86, acc=35.8]\n",
            "Validation: 100%|██████████| 90/90 [00:03<00:00, 23.48it/s, loss=1.64, acc=38.5]\n"
          ]
        },
        {
          "output_type": "stream",
          "name": "stdout",
          "text": [
            "Train Loss: 1.6322, Train Acc: 35.81%\n",
            "Val Loss: 1.5600, Val Acc: 38.54%\n",
            "Gap: -2.73% (small gap indicates underfitting)\n",
            "New best model saved with validation accuracy: 38.54%\n",
            "\n",
            "Epoch 3/50\n",
            "--------------------------------------------------\n"
          ]
        },
        {
          "output_type": "stream",
          "name": "stderr",
          "text": [
            "Training: 100%|██████████| 359/359 [00:17<00:00, 20.55it/s, loss=1.48, acc=41.4]\n",
            "Validation: 100%|██████████| 90/90 [00:04<00:00, 20.87it/s, loss=1.62, acc=41.6]\n"
          ]
        },
        {
          "output_type": "stream",
          "name": "stdout",
          "text": [
            "Train Loss: 1.5103, Train Acc: 41.42%\n",
            "Val Loss: 1.4928, Val Acc: 41.62%\n",
            "Gap: -0.21% (small gap indicates underfitting)\n",
            "New best model saved with validation accuracy: 41.62%\n",
            "\n",
            "Epoch 4/50\n",
            "--------------------------------------------------\n"
          ]
        },
        {
          "output_type": "stream",
          "name": "stderr",
          "text": [
            "Training: 100%|██████████| 359/359 [00:18<00:00, 19.37it/s, loss=1.49, acc=44.8]\n",
            "Validation: 100%|██████████| 90/90 [00:04<00:00, 22.05it/s, loss=1.58, acc=45.1]\n"
          ]
        },
        {
          "output_type": "stream",
          "name": "stdout",
          "text": [
            "Train Loss: 1.4441, Train Acc: 44.79%\n",
            "Val Loss: 1.4290, Val Acc: 45.09%\n",
            "Gap: -0.30% (small gap indicates underfitting)\n",
            "New best model saved with validation accuracy: 45.09%\n",
            "\n",
            "Epoch 5/50\n",
            "--------------------------------------------------\n"
          ]
        },
        {
          "output_type": "stream",
          "name": "stderr",
          "text": [
            "Training: 100%|██████████| 359/359 [00:17<00:00, 20.81it/s, loss=1.45, acc=46.6]\n",
            "Validation: 100%|██████████| 90/90 [00:03<00:00, 24.18it/s, loss=1.49, acc=46]\n"
          ]
        },
        {
          "output_type": "stream",
          "name": "stdout",
          "text": [
            "Train Loss: 1.3976, Train Acc: 46.57%\n",
            "Val Loss: 1.4129, Val Acc: 45.98%\n",
            "Gap: 0.59% (small gap indicates underfitting)\n",
            "New best model saved with validation accuracy: 45.98%\n",
            "\n",
            "Epoch 6/50\n",
            "--------------------------------------------------\n"
          ]
        },
        {
          "output_type": "stream",
          "name": "stderr",
          "text": [
            "Training: 100%|██████████| 359/359 [00:17<00:00, 20.30it/s, loss=1.25, acc=47.9]\n",
            "Validation: 100%|██████████| 90/90 [00:05<00:00, 16.75it/s, loss=1.52, acc=46.8]\n"
          ]
        },
        {
          "output_type": "stream",
          "name": "stdout",
          "text": [
            "Train Loss: 1.3634, Train Acc: 47.93%\n",
            "Val Loss: 1.3858, Val Acc: 46.83%\n",
            "Gap: 1.09% (small gap indicates underfitting)\n",
            "New best model saved with validation accuracy: 46.83%\n",
            "\n",
            "Epoch 7/50\n",
            "--------------------------------------------------\n"
          ]
        },
        {
          "output_type": "stream",
          "name": "stderr",
          "text": [
            "Training: 100%|██████████| 359/359 [00:17<00:00, 20.75it/s, loss=1.26, acc=49.5]\n",
            "Validation: 100%|██████████| 90/90 [00:03<00:00, 24.23it/s, loss=1.49, acc=47.4]\n"
          ]
        },
        {
          "output_type": "stream",
          "name": "stdout",
          "text": [
            "Train Loss: 1.3283, Train Acc: 49.46%\n",
            "Val Loss: 1.3667, Val Acc: 47.44%\n",
            "Gap: 2.02% (small gap indicates underfitting)\n",
            "New best model saved with validation accuracy: 47.44%\n",
            "\n",
            "Epoch 8/50\n",
            "--------------------------------------------------\n"
          ]
        },
        {
          "output_type": "stream",
          "name": "stderr",
          "text": [
            "Training: 100%|██████████| 359/359 [00:19<00:00, 18.01it/s, loss=1.35, acc=50.4]\n",
            "Validation: 100%|██████████| 90/90 [00:05<00:00, 16.85it/s, loss=1.48, acc=48.3]\n"
          ]
        },
        {
          "output_type": "stream",
          "name": "stdout",
          "text": [
            "Train Loss: 1.3027, Train Acc: 50.43%\n",
            "Val Loss: 1.3430, Val Acc: 48.29%\n",
            "Gap: 2.14% (small gap indicates underfitting)\n",
            "New best model saved with validation accuracy: 48.29%\n",
            "\n",
            "Epoch 9/50\n",
            "--------------------------------------------------\n"
          ]
        },
        {
          "output_type": "stream",
          "name": "stderr",
          "text": [
            "Training: 100%|██████████| 359/359 [00:17<00:00, 20.78it/s, loss=1.28, acc=51.3]\n",
            "Validation: 100%|██████████| 90/90 [00:03<00:00, 24.07it/s, loss=1.49, acc=48.3]\n"
          ]
        },
        {
          "output_type": "stream",
          "name": "stdout",
          "text": [
            "Train Loss: 1.2778, Train Acc: 51.34%\n",
            "Val Loss: 1.3549, Val Acc: 48.35%\n",
            "Gap: 3.00% (small gap indicates underfitting)\n",
            "New best model saved with validation accuracy: 48.35%\n",
            "\n",
            "Epoch 10/50\n",
            "--------------------------------------------------\n"
          ]
        },
        {
          "output_type": "stream",
          "name": "stderr",
          "text": [
            "Training: 100%|██████████| 359/359 [00:17<00:00, 20.59it/s, loss=1.12, acc=52]\n",
            "Validation: 100%|██████████| 90/90 [00:05<00:00, 16.65it/s, loss=1.44, acc=49]\n"
          ]
        },
        {
          "output_type": "stream",
          "name": "stdout",
          "text": [
            "Train Loss: 1.2566, Train Acc: 52.05%\n",
            "Val Loss: 1.3269, Val Acc: 49.02%\n",
            "Gap: 3.02% (small gap indicates underfitting)\n",
            "New best model saved with validation accuracy: 49.02%\n",
            "\n",
            "Epoch 11/50\n",
            "--------------------------------------------------\n"
          ]
        },
        {
          "output_type": "stream",
          "name": "stderr",
          "text": [
            "Training: 100%|██████████| 359/359 [00:17<00:00, 20.24it/s, loss=1.02, acc=53.2]\n",
            "Validation: 100%|██████████| 90/90 [00:03<00:00, 24.11it/s, loss=1.37, acc=50.1]\n"
          ]
        },
        {
          "output_type": "stream",
          "name": "stdout",
          "text": [
            "Train Loss: 1.2307, Train Acc: 53.23%\n",
            "Val Loss: 1.3103, Val Acc: 50.07%\n",
            "Gap: 3.16% (small gap indicates underfitting)\n",
            "New best model saved with validation accuracy: 50.07%\n",
            "\n",
            "Epoch 12/50\n",
            "--------------------------------------------------\n"
          ]
        },
        {
          "output_type": "stream",
          "name": "stderr",
          "text": [
            "Training: 100%|██████████| 359/359 [00:17<00:00, 20.84it/s, loss=1.03, acc=53.8]\n",
            "Validation: 100%|██████████| 90/90 [00:03<00:00, 23.45it/s, loss=1.39, acc=49.7]\n"
          ]
        },
        {
          "output_type": "stream",
          "name": "stdout",
          "text": [
            "Train Loss: 1.2162, Train Acc: 53.77%\n",
            "Val Loss: 1.3130, Val Acc: 49.65%\n",
            "Gap: 4.12% (small gap indicates underfitting)\n",
            "\n",
            "Epoch 13/50\n",
            "--------------------------------------------------\n"
          ]
        },
        {
          "output_type": "stream",
          "name": "stderr",
          "text": [
            "Training: 100%|██████████| 359/359 [00:17<00:00, 20.07it/s, loss=1.22, acc=54.7]\n",
            "Validation: 100%|██████████| 90/90 [00:04<00:00, 18.32it/s, loss=1.39, acc=50.4]\n"
          ]
        },
        {
          "output_type": "stream",
          "name": "stdout",
          "text": [
            "Train Loss: 1.1958, Train Acc: 54.73%\n",
            "Val Loss: 1.2954, Val Acc: 50.44%\n",
            "Gap: 4.29% (small gap indicates underfitting)\n",
            "New best model saved with validation accuracy: 50.44%\n",
            "\n",
            "Epoch 14/50\n",
            "--------------------------------------------------\n"
          ]
        },
        {
          "output_type": "stream",
          "name": "stderr",
          "text": [
            "Training: 100%|██████████| 359/359 [00:17<00:00, 20.99it/s, loss=1.16, acc=54.9]\n",
            "Validation: 100%|██████████| 90/90 [00:03<00:00, 24.14it/s, loss=1.32, acc=50.3]\n"
          ]
        },
        {
          "output_type": "stream",
          "name": "stdout",
          "text": [
            "Train Loss: 1.1786, Train Acc: 54.93%\n",
            "Val Loss: 1.2947, Val Acc: 50.31%\n",
            "Gap: 4.61% (small gap indicates underfitting)\n",
            "\n",
            "Epoch 15/50\n",
            "--------------------------------------------------\n"
          ]
        },
        {
          "output_type": "stream",
          "name": "stderr",
          "text": [
            "Training: 100%|██████████| 359/359 [00:17<00:00, 20.86it/s, loss=1.08, acc=56]\n",
            "Validation: 100%|██████████| 90/90 [00:05<00:00, 15.95it/s, loss=1.33, acc=50.2]\n"
          ]
        },
        {
          "output_type": "stream",
          "name": "stdout",
          "text": [
            "Train Loss: 1.1635, Train Acc: 55.97%\n",
            "Val Loss: 1.2910, Val Acc: 50.19%\n",
            "Gap: 5.78% (small gap indicates underfitting)\n",
            "\n",
            "Epoch 16/50\n",
            "--------------------------------------------------\n"
          ]
        },
        {
          "output_type": "stream",
          "name": "stderr",
          "text": [
            "Training: 100%|██████████| 359/359 [00:17<00:00, 20.64it/s, loss=1.21, acc=56.8]\n",
            "Validation: 100%|██████████| 90/90 [00:05<00:00, 15.77it/s, loss=1.35, acc=50]\n"
          ]
        },
        {
          "output_type": "stream",
          "name": "stdout",
          "text": [
            "Train Loss: 1.1470, Train Acc: 56.77%\n",
            "Val Loss: 1.2921, Val Acc: 49.98%\n",
            "Gap: 6.79% (small gap indicates underfitting)\n",
            "\n",
            "Epoch 17/50\n",
            "--------------------------------------------------\n"
          ]
        },
        {
          "output_type": "stream",
          "name": "stderr",
          "text": [
            "Training: 100%|██████████| 359/359 [00:17<00:00, 20.73it/s, loss=0.993, acc=56.9]\n",
            "Validation: 100%|██████████| 90/90 [00:05<00:00, 16.07it/s, loss=1.32, acc=50.6]\n"
          ]
        },
        {
          "output_type": "stream",
          "name": "stdout",
          "text": [
            "Train Loss: 1.1358, Train Acc: 56.87%\n",
            "Val Loss: 1.2925, Val Acc: 50.56%\n",
            "Gap: 6.32% (small gap indicates underfitting)\n",
            "New best model saved with validation accuracy: 50.56%\n",
            "\n",
            "Epoch 18/50\n",
            "--------------------------------------------------\n"
          ]
        },
        {
          "output_type": "stream",
          "name": "stderr",
          "text": [
            "Training: 100%|██████████| 359/359 [00:17<00:00, 20.50it/s, loss=1.2, acc=57.7]\n",
            "Validation: 100%|██████████| 90/90 [00:03<00:00, 24.11it/s, loss=1.3, acc=51.2]\n"
          ]
        },
        {
          "output_type": "stream",
          "name": "stdout",
          "text": [
            "Train Loss: 1.1212, Train Acc: 57.75%\n",
            "Val Loss: 1.2869, Val Acc: 51.17%\n",
            "Gap: 6.58% (small gap indicates underfitting)\n",
            "New best model saved with validation accuracy: 51.17%\n",
            "\n",
            "Epoch 19/50\n",
            "--------------------------------------------------\n"
          ]
        },
        {
          "output_type": "stream",
          "name": "stderr",
          "text": [
            "Training: 100%|██████████| 359/359 [00:17<00:00, 20.85it/s, loss=1.08, acc=58.2]\n",
            "Validation: 100%|██████████| 90/90 [00:03<00:00, 23.34it/s, loss=1.35, acc=51.1]\n"
          ]
        },
        {
          "output_type": "stream",
          "name": "stdout",
          "text": [
            "Train Loss: 1.1124, Train Acc: 58.17%\n",
            "Val Loss: 1.2807, Val Acc: 51.08%\n",
            "Gap: 7.10% (small gap indicates underfitting)\n",
            "\n",
            "Epoch 20/50\n",
            "--------------------------------------------------\n"
          ]
        },
        {
          "output_type": "stream",
          "name": "stderr",
          "text": [
            "Training: 100%|██████████| 359/359 [00:18<00:00, 19.76it/s, loss=0.834, acc=58.6]\n",
            "Validation: 100%|██████████| 90/90 [00:04<00:00, 19.19it/s, loss=1.41, acc=51.7]\n"
          ]
        },
        {
          "output_type": "stream",
          "name": "stdout",
          "text": [
            "Train Loss: 1.1007, Train Acc: 58.63%\n",
            "Val Loss: 1.2940, Val Acc: 51.65%\n",
            "Gap: 6.97% (small gap indicates underfitting)\n",
            "New best model saved with validation accuracy: 51.65%\n",
            "\n",
            "Epoch 21/50\n",
            "--------------------------------------------------\n"
          ]
        },
        {
          "output_type": "stream",
          "name": "stderr",
          "text": [
            "Training: 100%|██████████| 359/359 [00:17<00:00, 21.01it/s, loss=1.05, acc=59]\n",
            "Validation: 100%|██████████| 90/90 [00:03<00:00, 24.24it/s, loss=1.32, acc=51.5]\n"
          ]
        },
        {
          "output_type": "stream",
          "name": "stdout",
          "text": [
            "Train Loss: 1.0851, Train Acc: 59.04%\n",
            "Val Loss: 1.2853, Val Acc: 51.46%\n",
            "Gap: 7.57% (small gap indicates underfitting)\n",
            "\n",
            "Epoch 22/50\n",
            "--------------------------------------------------\n"
          ]
        },
        {
          "output_type": "stream",
          "name": "stderr",
          "text": [
            "Training: 100%|██████████| 359/359 [00:17<00:00, 20.88it/s, loss=0.993, acc=59.6]\n",
            "Validation: 100%|██████████| 90/90 [00:05<00:00, 16.38it/s, loss=1.27, acc=50.7]\n"
          ]
        },
        {
          "output_type": "stream",
          "name": "stdout",
          "text": [
            "Train Loss: 1.0741, Train Acc: 59.60%\n",
            "Val Loss: 1.3009, Val Acc: 50.68%\n",
            "Gap: 8.92% (small gap indicates underfitting)\n",
            "\n",
            "Epoch 23/50\n",
            "--------------------------------------------------\n"
          ]
        },
        {
          "output_type": "stream",
          "name": "stderr",
          "text": [
            "Training: 100%|██████████| 359/359 [00:17<00:00, 20.47it/s, loss=1.13, acc=60.1]\n",
            "Validation: 100%|██████████| 90/90 [00:03<00:00, 24.11it/s, loss=1.29, acc=50.8]\n"
          ]
        },
        {
          "output_type": "stream",
          "name": "stdout",
          "text": [
            "Train Loss: 1.0611, Train Acc: 60.08%\n",
            "Val Loss: 1.3002, Val Acc: 50.82%\n",
            "Gap: 9.26% (small gap indicates underfitting)\n",
            "\n",
            "Epoch 24/50\n",
            "--------------------------------------------------\n"
          ]
        },
        {
          "output_type": "stream",
          "name": "stderr",
          "text": [
            "Training: 100%|██████████| 359/359 [00:17<00:00, 20.80it/s, loss=1.17, acc=60.3]\n",
            "Validation: 100%|██████████| 90/90 [00:04<00:00, 20.82it/s, loss=1.33, acc=52.2]\n"
          ]
        },
        {
          "output_type": "stream",
          "name": "stdout",
          "text": [
            "Train Loss: 1.0534, Train Acc: 60.30%\n",
            "Val Loss: 1.2821, Val Acc: 52.19%\n",
            "Gap: 8.11% (small gap indicates underfitting)\n",
            "New best model saved with validation accuracy: 52.19%\n",
            "\n",
            "Epoch 25/50\n",
            "--------------------------------------------------\n"
          ]
        },
        {
          "output_type": "stream",
          "name": "stderr",
          "text": [
            "Training: 100%|██████████| 359/359 [00:20<00:00, 17.13it/s, loss=0.991, acc=60.5]\n",
            "Validation: 100%|██████████| 90/90 [00:03<00:00, 23.88it/s, loss=1.23, acc=50.9]\n"
          ]
        },
        {
          "output_type": "stream",
          "name": "stdout",
          "text": [
            "Train Loss: 1.0441, Train Acc: 60.46%\n",
            "Val Loss: 1.3278, Val Acc: 50.91%\n",
            "Gap: 9.55% (small gap indicates underfitting)\n",
            "\n",
            "Epoch 26/50\n",
            "--------------------------------------------------\n"
          ]
        },
        {
          "output_type": "stream",
          "name": "stderr",
          "text": [
            "Training: 100%|██████████| 359/359 [00:17<00:00, 20.91it/s, loss=1.05, acc=60.7]\n",
            "Validation: 100%|██████████| 90/90 [00:03<00:00, 24.03it/s, loss=1.3, acc=51.7]\n"
          ]
        },
        {
          "output_type": "stream",
          "name": "stdout",
          "text": [
            "Train Loss: 1.0365, Train Acc: 60.65%\n",
            "Val Loss: 1.2937, Val Acc: 51.69%\n",
            "Gap: 8.96% (small gap indicates underfitting)\n",
            "\n",
            "Epoch 27/50\n",
            "--------------------------------------------------\n"
          ]
        },
        {
          "output_type": "stream",
          "name": "stderr",
          "text": [
            "Training: 100%|██████████| 359/359 [00:17<00:00, 20.12it/s, loss=1.06, acc=61.5]\n",
            "Validation: 100%|██████████| 90/90 [00:05<00:00, 17.32it/s, loss=1.28, acc=52]\n"
          ]
        },
        {
          "output_type": "stream",
          "name": "stdout",
          "text": [
            "Train Loss: 1.0224, Train Acc: 61.55%\n",
            "Val Loss: 1.3011, Val Acc: 51.97%\n",
            "Gap: 9.58% (small gap indicates underfitting)\n",
            "\n",
            "Epoch 28/50\n",
            "--------------------------------------------------\n"
          ]
        },
        {
          "output_type": "stream",
          "name": "stderr",
          "text": [
            "Training: 100%|██████████| 359/359 [00:17<00:00, 20.92it/s, loss=1.24, acc=61.7]\n",
            "Validation: 100%|██████████| 90/90 [00:03<00:00, 23.76it/s, loss=1.33, acc=51.6]\n"
          ]
        },
        {
          "output_type": "stream",
          "name": "stdout",
          "text": [
            "Train Loss: 1.0158, Train Acc: 61.73%\n",
            "Val Loss: 1.2988, Val Acc: 51.64%\n",
            "Gap: 10.09% (small gap indicates underfitting)\n",
            "\n",
            "Epoch 29/50\n",
            "--------------------------------------------------\n"
          ]
        },
        {
          "output_type": "stream",
          "name": "stderr",
          "text": [
            "Training: 100%|██████████| 359/359 [00:17<00:00, 20.76it/s, loss=1.07, acc=62.1]\n",
            "Validation: 100%|██████████| 90/90 [00:05<00:00, 16.63it/s, loss=1.25, acc=52.4]\n"
          ]
        },
        {
          "output_type": "stream",
          "name": "stdout",
          "text": [
            "Train Loss: 1.0078, Train Acc: 62.12%\n",
            "Val Loss: 1.2992, Val Acc: 52.40%\n",
            "Gap: 9.72% (small gap indicates underfitting)\n",
            "New best model saved with validation accuracy: 52.40%\n",
            "\n",
            "Epoch 30/50\n",
            "--------------------------------------------------\n"
          ]
        },
        {
          "output_type": "stream",
          "name": "stderr",
          "text": [
            "Training: 100%|██████████| 359/359 [00:17<00:00, 20.21it/s, loss=0.847, acc=62.4]\n",
            "Validation: 100%|██████████| 90/90 [00:03<00:00, 24.00it/s, loss=1.33, acc=51.5]\n"
          ]
        },
        {
          "output_type": "stream",
          "name": "stdout",
          "text": [
            "Train Loss: 0.9984, Train Acc: 62.39%\n",
            "Val Loss: 1.3158, Val Acc: 51.50%\n",
            "Gap: 10.89% (small gap indicates underfitting)\n",
            "\n",
            "Epoch 31/50\n",
            "--------------------------------------------------\n"
          ]
        },
        {
          "output_type": "stream",
          "name": "stderr",
          "text": [
            "Training: 100%|██████████| 359/359 [00:17<00:00, 20.78it/s, loss=1.05, acc=62.7]\n",
            "Validation: 100%|██████████| 90/90 [00:03<00:00, 22.78it/s, loss=1.29, acc=52.1]\n"
          ]
        },
        {
          "output_type": "stream",
          "name": "stdout",
          "text": [
            "Train Loss: 0.9889, Train Acc: 62.67%\n",
            "Val Loss: 1.3141, Val Acc: 52.07%\n",
            "Gap: 10.60% (small gap indicates underfitting)\n",
            "\n",
            "Epoch 32/50\n",
            "--------------------------------------------------\n"
          ]
        },
        {
          "output_type": "stream",
          "name": "stderr",
          "text": [
            "Training: 100%|██████████| 359/359 [00:18<00:00, 19.44it/s, loss=0.935, acc=62.7]\n",
            "Validation: 100%|██████████| 90/90 [00:04<00:00, 20.80it/s, loss=1.33, acc=52.1]\n"
          ]
        },
        {
          "output_type": "stream",
          "name": "stdout",
          "text": [
            "Train Loss: 0.9798, Train Acc: 62.69%\n",
            "Val Loss: 1.3221, Val Acc: 52.14%\n",
            "Gap: 10.55% (small gap indicates underfitting)\n",
            "\n",
            "Epoch 33/50\n",
            "--------------------------------------------------\n"
          ]
        },
        {
          "output_type": "stream",
          "name": "stderr",
          "text": [
            "Training: 100%|██████████| 359/359 [00:19<00:00, 18.37it/s, loss=0.971, acc=63.3]\n",
            "Validation: 100%|██████████| 90/90 [00:03<00:00, 24.08it/s, loss=1.27, acc=51.7]\n"
          ]
        },
        {
          "output_type": "stream",
          "name": "stdout",
          "text": [
            "Train Loss: 0.9735, Train Acc: 63.26%\n",
            "Val Loss: 1.3219, Val Acc: 51.67%\n",
            "Gap: 11.59% (small gap indicates underfitting)\n",
            "\n",
            "Epoch 34/50\n",
            "--------------------------------------------------\n"
          ]
        },
        {
          "output_type": "stream",
          "name": "stderr",
          "text": [
            "Training: 100%|██████████| 359/359 [00:17<00:00, 20.74it/s, loss=0.941, acc=63.7]\n",
            "Validation: 100%|██████████| 90/90 [00:05<00:00, 16.29it/s, loss=1.38, acc=51.7]\n"
          ]
        },
        {
          "output_type": "stream",
          "name": "stdout",
          "text": [
            "Train Loss: 0.9614, Train Acc: 63.73%\n",
            "Val Loss: 1.3273, Val Acc: 51.67%\n",
            "Gap: 12.06% (small gap indicates underfitting)\n",
            "\n",
            "Epoch 35/50\n",
            "--------------------------------------------------\n"
          ]
        },
        {
          "output_type": "stream",
          "name": "stderr",
          "text": [
            "Training: 100%|██████████| 359/359 [00:17<00:00, 20.33it/s, loss=1.02, acc=63.7]\n",
            "Validation: 100%|██████████| 90/90 [00:03<00:00, 24.04it/s, loss=1.29, acc=51.8]\n"
          ]
        },
        {
          "output_type": "stream",
          "name": "stdout",
          "text": [
            "Train Loss: 0.9565, Train Acc: 63.73%\n",
            "Val Loss: 1.3266, Val Acc: 51.83%\n",
            "Gap: 11.91% (small gap indicates underfitting)\n",
            "\n",
            "Epoch 36/50\n",
            "--------------------------------------------------\n"
          ]
        },
        {
          "output_type": "stream",
          "name": "stderr",
          "text": [
            "Training: 100%|██████████| 359/359 [00:17<00:00, 20.75it/s, loss=1.2, acc=64.4]\n",
            "Validation: 100%|██████████| 90/90 [00:08<00:00, 10.04it/s, loss=1.34, acc=52]\n"
          ]
        },
        {
          "output_type": "stream",
          "name": "stdout",
          "text": [
            "Train Loss: 0.9484, Train Acc: 64.39%\n",
            "Val Loss: 1.3348, Val Acc: 52.04%\n",
            "Gap: 12.35% (small gap indicates underfitting)\n",
            "\n",
            "Epoch 37/50\n",
            "--------------------------------------------------\n"
          ]
        },
        {
          "output_type": "stream",
          "name": "stderr",
          "text": [
            "Training: 100%|██████████| 359/359 [00:20<00:00, 17.68it/s, loss=0.677, acc=64.7]\n",
            "Validation: 100%|██████████| 90/90 [00:03<00:00, 24.20it/s, loss=1.34, acc=51.6]\n"
          ]
        },
        {
          "output_type": "stream",
          "name": "stdout",
          "text": [
            "Train Loss: 0.9407, Train Acc: 64.72%\n",
            "Val Loss: 1.3539, Val Acc: 51.62%\n",
            "Gap: 13.10% (small gap indicates underfitting)\n",
            "\n",
            "Epoch 38/50\n",
            "--------------------------------------------------\n"
          ]
        },
        {
          "output_type": "stream",
          "name": "stderr",
          "text": [
            "Training: 100%|██████████| 359/359 [00:18<00:00, 19.77it/s, loss=0.887, acc=64.8]\n",
            "Validation: 100%|██████████| 90/90 [00:04<00:00, 18.70it/s, loss=1.3, acc=52.4]\n"
          ]
        },
        {
          "output_type": "stream",
          "name": "stdout",
          "text": [
            "Train Loss: 0.9370, Train Acc: 64.79%\n",
            "Val Loss: 1.3449, Val Acc: 52.35%\n",
            "Gap: 12.44% (small gap indicates underfitting)\n",
            "\n",
            "Epoch 39/50\n",
            "--------------------------------------------------\n"
          ]
        },
        {
          "output_type": "stream",
          "name": "stderr",
          "text": [
            "Training: 100%|██████████| 359/359 [00:17<00:00, 20.72it/s, loss=0.803, acc=65.2]\n",
            "Validation: 100%|██████████| 90/90 [00:03<00:00, 23.88it/s, loss=1.36, acc=51.9]\n"
          ]
        },
        {
          "output_type": "stream",
          "name": "stdout",
          "text": [
            "Train Loss: 0.9249, Train Acc: 65.18%\n",
            "Val Loss: 1.3492, Val Acc: 51.88%\n",
            "Gap: 13.30% (small gap indicates underfitting)\n",
            "\n",
            "Epoch 40/50\n",
            "--------------------------------------------------\n"
          ]
        },
        {
          "output_type": "stream",
          "name": "stderr",
          "text": [
            "Training: 100%|██████████| 359/359 [00:18<00:00, 19.70it/s, loss=1.1, acc=65.4]\n",
            "Validation: 100%|██████████| 90/90 [00:05<00:00, 15.30it/s, loss=1.35, acc=51.9]\n"
          ]
        },
        {
          "output_type": "stream",
          "name": "stdout",
          "text": [
            "Train Loss: 0.9198, Train Acc: 65.43%\n",
            "Val Loss: 1.3412, Val Acc: 51.90%\n",
            "Gap: 13.53% (small gap indicates underfitting)\n",
            "\n",
            "Epoch 41/50\n",
            "--------------------------------------------------\n"
          ]
        },
        {
          "output_type": "stream",
          "name": "stderr",
          "text": [
            "Training: 100%|██████████| 359/359 [00:19<00:00, 18.26it/s, loss=1.08, acc=65.5]\n",
            "Validation: 100%|██████████| 90/90 [00:03<00:00, 24.33it/s, loss=1.34, acc=52.5]\n"
          ]
        },
        {
          "output_type": "stream",
          "name": "stdout",
          "text": [
            "Train Loss: 0.9146, Train Acc: 65.52%\n",
            "Val Loss: 1.3572, Val Acc: 52.51%\n",
            "Gap: 13.01% (small gap indicates underfitting)\n",
            "New best model saved with validation accuracy: 52.51%\n",
            "\n",
            "Epoch 42/50\n",
            "--------------------------------------------------\n"
          ]
        },
        {
          "output_type": "stream",
          "name": "stderr",
          "text": [
            "Training: 100%|██████████| 359/359 [00:17<00:00, 20.92it/s, loss=1.03, acc=65.6]\n",
            "Validation: 100%|██████████| 90/90 [00:05<00:00, 15.34it/s, loss=1.35, acc=51.1]\n"
          ]
        },
        {
          "output_type": "stream",
          "name": "stdout",
          "text": [
            "Train Loss: 0.9106, Train Acc: 65.61%\n",
            "Val Loss: 1.3964, Val Acc: 51.15%\n",
            "Gap: 14.46% (small gap indicates underfitting)\n",
            "\n",
            "Epoch 43/50\n",
            "--------------------------------------------------\n"
          ]
        },
        {
          "output_type": "stream",
          "name": "stderr",
          "text": [
            "Training: 100%|██████████| 359/359 [00:17<00:00, 20.99it/s, loss=1.01, acc=66.2]\n",
            "Validation: 100%|██████████| 90/90 [00:03<00:00, 24.13it/s, loss=1.32, acc=51.8]\n"
          ]
        },
        {
          "output_type": "stream",
          "name": "stdout",
          "text": [
            "Train Loss: 0.8991, Train Acc: 66.23%\n",
            "Val Loss: 1.3486, Val Acc: 51.85%\n",
            "Gap: 14.38% (small gap indicates underfitting)\n",
            "\n",
            "Epoch 44/50\n",
            "--------------------------------------------------\n"
          ]
        },
        {
          "output_type": "stream",
          "name": "stderr",
          "text": [
            "Training: 100%|██████████| 359/359 [00:17<00:00, 21.02it/s, loss=0.933, acc=66.3]\n",
            "Validation: 100%|██████████| 90/90 [00:04<00:00, 21.04it/s, loss=1.33, acc=51.2]\n"
          ]
        },
        {
          "output_type": "stream",
          "name": "stdout",
          "text": [
            "Train Loss: 0.8958, Train Acc: 66.30%\n",
            "Val Loss: 1.3592, Val Acc: 51.20%\n",
            "Gap: 15.09% (small gap indicates underfitting)\n",
            "\n",
            "Epoch 45/50\n",
            "--------------------------------------------------\n"
          ]
        },
        {
          "output_type": "stream",
          "name": "stderr",
          "text": [
            "Training: 100%|██████████| 359/359 [00:18<00:00, 19.47it/s, loss=0.835, acc=66.7]\n",
            "Validation: 100%|██████████| 90/90 [00:04<00:00, 21.39it/s, loss=1.34, acc=51]\n"
          ]
        },
        {
          "output_type": "stream",
          "name": "stdout",
          "text": [
            "Train Loss: 0.8884, Train Acc: 66.68%\n",
            "Val Loss: 1.3971, Val Acc: 50.96%\n",
            "Gap: 15.72% (small gap indicates underfitting)\n",
            "\n",
            "Epoch 46/50\n",
            "--------------------------------------------------\n"
          ]
        },
        {
          "output_type": "stream",
          "name": "stderr",
          "text": [
            "Training: 100%|██████████| 359/359 [00:17<00:00, 20.69it/s, loss=0.817, acc=66.6]\n",
            "Validation: 100%|██████████| 90/90 [00:03<00:00, 24.03it/s, loss=1.31, acc=51.5]\n"
          ]
        },
        {
          "output_type": "stream",
          "name": "stdout",
          "text": [
            "Train Loss: 0.8837, Train Acc: 66.62%\n",
            "Val Loss: 1.3726, Val Acc: 51.52%\n",
            "Gap: 15.11% (small gap indicates underfitting)\n",
            "\n",
            "Epoch 47/50\n",
            "--------------------------------------------------\n"
          ]
        },
        {
          "output_type": "stream",
          "name": "stderr",
          "text": [
            "Training: 100%|██████████| 359/359 [00:17<00:00, 20.80it/s, loss=0.918, acc=67.6]\n",
            "Validation: 100%|██████████| 90/90 [00:05<00:00, 15.04it/s, loss=1.33, acc=51.8]\n"
          ]
        },
        {
          "output_type": "stream",
          "name": "stdout",
          "text": [
            "Train Loss: 0.8741, Train Acc: 67.59%\n",
            "Val Loss: 1.3696, Val Acc: 51.81%\n",
            "Gap: 15.78% (small gap indicates underfitting)\n",
            "\n",
            "Epoch 48/50\n",
            "--------------------------------------------------\n"
          ]
        },
        {
          "output_type": "stream",
          "name": "stderr",
          "text": [
            "Training: 100%|██████████| 359/359 [00:17<00:00, 20.82it/s, loss=0.908, acc=67.2]\n",
            "Validation: 100%|██████████| 90/90 [00:03<00:00, 23.88it/s, loss=1.36, acc=51.4]\n"
          ]
        },
        {
          "output_type": "stream",
          "name": "stdout",
          "text": [
            "Train Loss: 0.8746, Train Acc: 67.18%\n",
            "Val Loss: 1.4047, Val Acc: 51.41%\n",
            "Gap: 15.77% (small gap indicates underfitting)\n",
            "\n",
            "Epoch 49/50\n",
            "--------------------------------------------------\n"
          ]
        },
        {
          "output_type": "stream",
          "name": "stderr",
          "text": [
            "Training: 100%|██████████| 359/359 [00:19<00:00, 18.34it/s, loss=0.681, acc=67.8]\n",
            "Validation: 100%|██████████| 90/90 [00:03<00:00, 23.14it/s, loss=1.38, acc=51.5]\n"
          ]
        },
        {
          "output_type": "stream",
          "name": "stdout",
          "text": [
            "Train Loss: 0.8622, Train Acc: 67.81%\n",
            "Val Loss: 1.4249, Val Acc: 51.52%\n",
            "Gap: 16.30% (small gap indicates underfitting)\n",
            "\n",
            "Epoch 50/50\n",
            "--------------------------------------------------\n"
          ]
        },
        {
          "output_type": "stream",
          "name": "stderr",
          "text": [
            "Training: 100%|██████████| 359/359 [00:18<00:00, 19.13it/s, loss=0.677, acc=67.8]\n",
            "Validation: 100%|██████████| 90/90 [00:04<00:00, 20.66it/s, loss=1.48, acc=51.7]\n"
          ]
        },
        {
          "output_type": "stream",
          "name": "stdout",
          "text": [
            "Train Loss: 0.8569, Train Acc: 67.81%\n",
            "Val Loss: 1.4451, Val Acc: 51.69%\n",
            "Gap: 16.13% (small gap indicates underfitting)\n"
          ]
        }
      ],
      "source": [
        "# Training loop - Extended to see if tiny model can eventually learn\n",
        "train_losses = []\n",
        "train_accs = []\n",
        "val_losses = []\n",
        "val_accs = []\n",
        "best_val_acc = 0\n",
        "\n",
        "# Train for more epochs to see the underfitting behavior\n",
        "num_epochs = 50\n",
        "\n",
        "print(\"Starting training of intentionally tiny model...\")\n",
        "print(\"Expected behavior: Both training and validation accuracy should plateau at low values\")\n",
        "print(\"This demonstrates underfitting due to insufficient model capacity.\\n\")\n",
        "\n",
        "for epoch in range(num_epochs):\n",
        "    print(f'\\nEpoch {epoch+1}/{num_epochs}')\n",
        "    print('-' * 50)\n",
        "\n",
        "    # Train\n",
        "    train_loss, train_acc = train_epoch(model, train_loader, criterion, optimizer, device)\n",
        "    train_losses.append(train_loss)\n",
        "    train_accs.append(train_acc)\n",
        "\n",
        "    # Validate\n",
        "    val_loss, val_acc, predictions, labels = validate_epoch(model, val_loader, criterion, device)\n",
        "    val_losses.append(val_loss)\n",
        "    val_accs.append(val_acc)\n",
        "\n",
        "    # Log to W&B\n",
        "    wandb.log({\n",
        "        'epoch': epoch + 1,\n",
        "        'train_loss': train_loss,\n",
        "        'train_acc': train_acc,\n",
        "        'val_loss': val_loss,\n",
        "        'val_acc': val_acc,\n",
        "        'learning_rate': optimizer.param_groups[0]['lr'],\n",
        "        'overfitting_gap': train_acc - val_acc,\n",
        "        'underfitting_indicator': max(train_acc, val_acc) < 40  # Low accuracy indicates underfitting\n",
        "    })\n",
        "\n",
        "    print(f'Train Loss: {train_loss:.4f}, Train Acc: {train_acc:.2f}%')\n",
        "    print(f'Val Loss: {val_loss:.4f}, Val Acc: {val_acc:.2f}%')\n",
        "    print(f'Gap: {train_acc - val_acc:.2f}% (small gap indicates underfitting)')\n",
        "\n",
        "    # Save best model\n",
        "    if val_acc > best_val_acc:\n",
        "        best_val_acc = val_acc\n",
        "        torch.save(model.state_dict(), 'best_tiny_cnn_model.pth')\n",
        "        print(f'New best model saved with validation accuracy: {val_acc:.2f}%')\n",
        "\n",
        "    # Check for underfitting signs\n",
        "    if epoch > 10:\n",
        "        recent_train_acc = np.mean(train_accs[-5:])\n",
        "        recent_val_acc = np.mean(val_accs[-5:])\n",
        "        if recent_train_acc < 40 and recent_val_acc < 40:\n",
        "            print(\"UNDERFITTING DETECTED: Both training and validation accuracy are low\")"
      ]
    },
    {
      "cell_type": "code",
      "execution_count": 17,
      "metadata": {
        "id": "FfQfsN2aeCvg",
        "colab": {
          "base_uri": "https://localhost:8080/",
          "height": 506
        },
        "outputId": "43727ce1-6b22-4bbe-91bd-fd5526c128a8"
      },
      "outputs": [
        {
          "output_type": "display_data",
          "data": {
            "text/plain": [
              "<Figure size 1400x500 with 2 Axes>"
            ],
            "image/png": "[encoded data removed]"
          },
          "metadata": {}
        }
      ],
      "source": [
        "# Plot training history emphasizing underfitting patterns\n",
        "fig, (ax1, ax2) = plt.subplots(1, 2, figsize=(14, 5))\n",
        "\n",
        "# Loss plot\n",
        "ax1.plot(train_losses, label='Train Loss', linewidth=2, color='blue')\n",
        "ax1.plot(val_losses, label='Val Loss', linewidth=2, color='orange')\n",
        "ax1.set_xlabel('Epoch')\n",
        "ax1.set_ylabel('Loss')\n",
        "ax1.set_title('Training and Validation Loss\\n(Notice both remain high - underfitting)')\n",
        "ax1.legend()\n",
        "ax1.grid(True, alpha=0.3)\n",
        "\n",
        "# Accuracy plot with reference lines\n",
        "ax2.plot(train_accs, label='Train Acc', linewidth=2, color='blue')\n",
        "ax2.plot(val_accs, label='Val Acc', linewidth=2, color='orange')\n",
        "ax2.axhline(y=100/7, color='red', linestyle='--', alpha=0.7, label='Random Guess (14.3%)')\n",
        "ax2.axhline(y=50, color='green', linestyle='--', alpha=0.7, label='Reasonable Performance (50%)')\n",
        "ax2.set_xlabel('Epoch')\n",
        "ax2.set_ylabel('Accuracy (%)')\n",
        "ax2.set_title('Training and Validation Accuracy\\n(Both plateau at low values - underfitting)')\n",
        "ax2.legend()\n",
        "ax2.grid(True, alpha=0.3)\n",
        "ax2.set_ylim(0, 60)\n",
        "\n",
        "plt.tight_layout()\n",
        "wandb.log({\"underfitting_analysis\": wandb.Image(plt)})\n",
        "plt.show()"
      ]
    },
    {
      "cell_type": "code",
      "execution_count": 18,
      "metadata": {
        "id": "underfitting_analysis",
        "colab": {
          "base_uri": "https://localhost:8080/"
        },
        "outputId": "ee23ac18-a0f5-47a4-90fd-cfaf766593cb"
      },
      "outputs": [
        {
          "output_type": "stream",
          "name": "stdout",
          "text": [
            "\n",
            "============================================================\n",
            "UNDERFITTING ANALYSIS\n",
            "============================================================\n",
            "\n",
            "Performance Metrics:\n",
            "  - Final Training Accuracy: 67.81%\n",
            "  - Final Validation Accuracy: 51.69%\n",
            "  - Maximum Training Accuracy: 67.81%\n",
            "  - Maximum Validation Accuracy: 52.51%\n",
            "  - Average Train-Val Gap: 8.53%\n",
            "\n",
            "Underfitting Indicators:\n",
            "  - Low absolute performance: False\n",
            "  - Small train-val gap: False\n",
            "  - Training accuracy plateau: False\n",
            "\n",
            "Baseline Comparison:\n",
            "  - Random Guess Accuracy: 14.29%\n",
            "  - Model vs Random: +38.22 percentage points\n",
            "  - Improvement over random: 267.6%\n"
          ]
        }
      ],
      "source": [
        "# Detailed underfitting analysis\n",
        "print(\"\\n\" + \"=\" * 60)\n",
        "print(\"UNDERFITTING ANALYSIS\")\n",
        "print(\"=\" * 60)\n",
        "\n",
        "# Calculate key metrics\n",
        "final_train_acc = train_accs[-1]\n",
        "final_val_acc = val_accs[-1]\n",
        "max_train_acc = max(train_accs)\n",
        "max_val_acc = max(val_accs)\n",
        "overfitting_gaps = [train_accs[i] - val_accs[i] for i in range(len(train_accs))]\n",
        "avg_gap = np.mean(overfitting_gaps)\n",
        "\n",
        "print(f\"\\nPerformance Metrics:\")\n",
        "print(f\"  - Final Training Accuracy: {final_train_acc:.2f}%\")\n",
        "print(f\"  - Final Validation Accuracy: {final_val_acc:.2f}%\")\n",
        "print(f\"  - Maximum Training Accuracy: {max_train_acc:.2f}%\")\n",
        "print(f\"  - Maximum Validation Accuracy: {max_val_acc:.2f}%\")\n",
        "print(f\"  - Average Train-Val Gap: {avg_gap:.2f}%\")\n",
        "\n",
        "print(f\"\\nUnderfitting Indicators:\")\n",
        "print(f\"  - Low absolute performance: {max_val_acc < 40}\")\n",
        "print(f\"  - Small train-val gap: {abs(avg_gap) < 5}\")\n",
        "print(f\"  - Training accuracy plateau: {max_train_acc - train_accs[10] < 5 if len(train_accs) > 10 else 'N/A'}\")\n",
        "\n",
        "# Compare with random baseline\n",
        "random_accuracy = 100 / 7  # 7 classes\n",
        "print(f\"\\nBaseline Comparison:\")\n",
        "print(f\"  - Random Guess Accuracy: {random_accuracy:.2f}%\")\n",
        "print(f\"  - Model vs Random: +{max_val_acc - random_accuracy:.2f} percentage points\")\n",
        "print(f\"  - Improvement over random: {(max_val_acc / random_accuracy - 1) * 100:.1f}%\")"
      ]
    },
    {
      "cell_type": "code",
      "execution_count": 19,
      "metadata": {
        "id": "Hncz0I7aeCvg",
        "colab": {
          "base_uri": "https://localhost:8080/",
          "height": 807
        },
        "outputId": "7882093d-468b-4e35-9c8d-64455adb5081"
      },
      "outputs": [
        {
          "output_type": "display_data",
          "data": {
            "text/plain": [
              "<Figure size 1200x800 with 4 Axes>"
            ],
            "image/png": "[encoded data removed]"
          },
          "metadata": {}
        }
      ],
      "source": [
        "# Plot learning curves with underfitting indicators\n",
        "plt.figure(figsize=(12, 8))\n",
        "\n",
        "# Create subplot for detailed analysis\n",
        "plt.subplot(2, 2, 1)\n",
        "plt.plot(train_accs, 'b-', linewidth=2, label='Training')\n",
        "plt.plot(val_accs, 'r-', linewidth=2, label='Validation')\n",
        "plt.axhline(y=random_accuracy, color='gray', linestyle='--', alpha=0.7, label='Random')\n",
        "plt.xlabel('Epoch')\n",
        "plt.ylabel('Accuracy (%)')\n",
        "plt.title('Learning Curves - Underfitting Pattern')\n",
        "plt.legend()\n",
        "plt.grid(True, alpha=0.3)\n",
        "\n",
        "plt.subplot(2, 2, 2)\n",
        "plt.plot(overfitting_gaps, 'g-', linewidth=2)\n",
        "plt.axhline(y=0, color='black', linestyle='-', alpha=0.5)\n",
        "plt.xlabel('Epoch')\n",
        "plt.ylabel('Train - Val Accuracy (%)')\n",
        "plt.title('Overfitting Gap (Small = Underfitting)')\n",
        "plt.grid(True, alpha=0.3)\n",
        "\n",
        "plt.subplot(2, 2, 3)\n",
        "plt.plot(train_losses, 'b-', linewidth=2, label='Training')\n",
        "plt.plot(val_losses, 'r-', linewidth=2, label='Validation')\n",
        "plt.xlabel('Epoch')\n",
        "plt.ylabel('Loss')\n",
        "plt.title('Loss Curves - Both Remain High')\n",
        "plt.legend()\n",
        "plt.grid(True, alpha=0.3)\n",
        "\n",
        "plt.subplot(2, 2, 4)\n",
        "# Show model capacity vs problem complexity\n",
        "model_capacity = model.total_params\n",
        "problem_complexity = len(train_df)  # Dataset size as proxy\n",
        "capacity_ratio = model_capacity / problem_complexity * 1000  # Scale for visualization\n",
        "\n",
        "plt.bar(['Model\\nCapacity', 'Problem\\nComplexity\\n(scaled)'],\n",
        "        [model_capacity, problem_complexity/1000],\n",
        "        color=['red', 'blue'], alpha=0.7)\n",
        "plt.ylabel('Count')\n",
        "plt.title('Model Capacity vs Problem Complexity')\n",
        "plt.yscale('log')\n",
        "\n",
        "plt.tight_layout()\n",
        "wandb.log({\"underfitting_detailed_analysis\": wandb.Image(plt)})\n",
        "plt.show()"
      ]
    },
    {
      "cell_type": "code",
      "execution_count": 20,
      "metadata": {
        "id": "IZwcaaoHeCvh",
        "colab": {
          "base_uri": "https://localhost:8080/",
          "height": 999
        },
        "outputId": "e4018336-6efd-4074-ccc0-94fbc35af950"
      },
      "outputs": [
        {
          "output_type": "stream",
          "name": "stderr",
          "text": [
            "Validation: 100%|██████████| 90/90 [00:03<00:00, 24.44it/s, loss=1.34, acc=52.5]\n"
          ]
        },
        {
          "output_type": "display_data",
          "data": {
            "text/plain": [
              "<Figure size 1000x800 with 2 Axes>"
            ],
            "image/png": "[encoded data removed]"
          },
          "metadata": {}
        },
        {
          "output_type": "stream",
          "name": "stdout",
          "text": [
            "\n",
            "Confusion Matrix Analysis:\n",
            "  - Diagonal sum (correct predictions): 3015\n",
            "  - Total predictions: 5742\n",
            "  - Accuracy from CM: 52.51%\n",
            "\n",
            "Class Prediction Analysis:\n",
            "  Angry: Predicted 856, Actual 813\n",
            "  Disgust: Predicted 57, Actual 71\n",
            "  Fear: Predicted 551, Actual 832\n",
            "  Happy: Predicted 1645, Actual 1449\n",
            "  Sad: Predicted 865, Actual 967\n",
            "  Surprise: Predicted 738, Actual 657\n",
            "  Neutral: Predicted 1030, Actual 953\n"
          ]
        }
      ],
      "source": [
        "# Load best model for final evaluation\n",
        "model.load_state_dict(torch.load('best_tiny_cnn_model.pth'))\n",
        "_, _, final_predictions, final_labels = validate_epoch(model, val_loader, criterion, device)\n",
        "\n",
        "# Confusion matrix\n",
        "cm = confusion_matrix(final_labels, final_predictions)\n",
        "plt.figure(figsize=(10, 8))\n",
        "sns.heatmap(cm, annot=True, fmt='d', cmap='Blues',\n",
        "            xticklabels=emotion_labels,\n",
        "            yticklabels=emotion_labels)\n",
        "plt.xlabel('Predicted')\n",
        "plt.ylabel('Actual')\n",
        "plt.title('Confusion Matrix - Tiny CNN (Underfitting)\\nNote: Poor performance across all classes')\n",
        "wandb.log({\"confusion_matrix\": wandb.Image(plt)})\n",
        "plt.show()\n",
        "\n",
        "# Analyze confusion matrix for underfitting signs\n",
        "print(\"\\nConfusion Matrix Analysis:\")\n",
        "print(f\"  - Diagonal sum (correct predictions): {np.trace(cm)}\")\n",
        "print(f\"  - Total predictions: {np.sum(cm)}\")\n",
        "print(f\"  - Accuracy from CM: {np.trace(cm)/np.sum(cm)*100:.2f}%\")\n",
        "\n",
        "# Check if model is biased towards certain classes\n",
        "predicted_class_counts = np.sum(cm, axis=0)\n",
        "actual_class_counts = np.sum(cm, axis=1)\n",
        "print(f\"\\nClass Prediction Analysis:\")\n",
        "for i, emotion in enumerate(emotion_labels):\n",
        "    print(f\"  {emotion}: Predicted {predicted_class_counts[i]}, Actual {actual_class_counts[i]}\")"
      ]
    },
    {
      "cell_type": "code",
      "execution_count": 21,
      "metadata": {
        "id": "vbmHpH5YeCvh",
        "colab": {
          "base_uri": "https://localhost:8080/"
        },
        "outputId": "91daf569-c8b6-49de-9c8b-c0a85e55816c"
      },
      "outputs": [
        {
          "output_type": "stream",
          "name": "stdout",
          "text": [
            "\n",
            "Classification Report:\n",
            "======================================================================\n",
            "              precision    recall  f1-score   support\n",
            "\n",
            "       Angry       0.42      0.44      0.43       813\n",
            "     Disgust       0.37      0.30      0.33        71\n",
            "        Fear       0.40      0.27      0.32       832\n",
            "       Happy       0.69      0.78      0.73      1449\n",
            "         Sad       0.41      0.37      0.39       967\n",
            "    Surprise       0.60      0.67      0.63       657\n",
            "     Neutral       0.47      0.51      0.49       953\n",
            "\n",
            "    accuracy                           0.53      5742\n",
            "   macro avg       0.48      0.48      0.47      5742\n",
            "weighted avg       0.51      0.53      0.51      5742\n",
            "\n",
            "\n",
            "Per-class Performance Analysis:\n",
            "  - Angry: Poor performance (F1=0.429) - likely underfitting\n",
            "  - Disgust: Poor performance (F1=0.328) - likely underfitting\n",
            "  - Fear: Poor performance (F1=0.320) - likely underfitting\n",
            "  - Happy: Reasonable performance (F1=0.734)\n",
            "  - Sad: Poor performance (F1=0.391) - likely underfitting\n",
            "  - Surprise: Reasonable performance (F1=0.631)\n",
            "  - Neutral: Poor performance (F1=0.486) - likely underfitting\n"
          ]
        }
      ],
      "source": [
        "# Classification report\n",
        "print(\"\\nClassification Report:\")\n",
        "print(\"=\" * 70)\n",
        "report = classification_report(final_labels, final_predictions,\n",
        "                             target_names=emotion_labels,\n",
        "                             output_dict=True)\n",
        "print(classification_report(final_labels, final_predictions, target_names=emotion_labels))\n",
        "\n",
        "# Log per-class metrics to W&B\n",
        "for emotion in emotion_labels:\n",
        "    wandb.log({\n",
        "        f\"{emotion}_precision\": report[emotion]['precision'],\n",
        "        f\"{emotion}_recall\": report[emotion]['recall'],\n",
        "        f\"{emotion}_f1\": report[emotion]['f1-score']\n",
        "    })\n",
        "\n",
        "# Analyze per-class performance for underfitting\n",
        "print(\"\\nPer-class Performance Analysis:\")\n",
        "for emotion in emotion_labels:\n",
        "    f1 = report[emotion]['f1-score']\n",
        "    if f1 < 0.3:\n",
        "        print(f\"  - {emotion}: Very poor performance (F1={f1:.3f}) - indicates underfitting\")\n",
        "    elif f1 < 0.5:\n",
        "        print(f\"  - {emotion}: Poor performance (F1={f1:.3f}) - likely underfitting\")\n",
        "    else:\n",
        "        print(f\"  - {emotion}: Reasonable performance (F1={f1:.3f})\")"
      ]
    },
    {
      "cell_type": "code",
      "execution_count": 22,
      "metadata": {
        "id": "oMlv8C-XeCvh",
        "colab": {
          "base_uri": "https://localhost:8080/"
        },
        "outputId": "c905857b-417c-4b76-ae2e-90f6bd91c11c"
      },
      "outputs": [
        {
          "output_type": "stream",
          "name": "stdout",
          "text": [
            "\n",
            "============================================================\n",
            "MODEL CAPACITY ANALYSIS\n",
            "============================================================\n",
            "\n",
            "Problem Characteristics:\n",
            "  - Input Dimensions: 2,304 pixels\n",
            "  - Number of Classes: 7\n",
            "  - Training Samples: 28,709\n",
            "  - Complexity Estimate: High (facial expressions)\n",
            "\n",
            "Model Characteristics:\n",
            "  - Total Parameters: 32,199\n",
            "  - Parameters per Input Pixel: 13.975\n",
            "  - Parameters per Training Sample: 1.122\n",
            "  - Bottleneck Layer Size: 64 neurons\n",
            "\n",
            "Capacity Assessment:\n",
            "  - Adequate capacity: 1.122 params/sample\n",
            "\n",
            "Recommendations to Fix Underfitting:\n",
            "  1. Increase model size (more filters, layers)\n",
            "  2. Reduce aggressive pooling\n",
            "  3. Add more convolutional layers\n",
            "  4. Increase fully connected layer sizes\n",
            "  5. Remove regularization (if any)\n",
            "  6. Train for more epochs\n",
            "  7. Try different architectures (ResNet, etc.)\n"
          ]
        }
      ],
      "source": [
        "# Model capacity analysis\n",
        "print(\"\\n\" + \"=\" * 60)\n",
        "print(\"MODEL CAPACITY ANALYSIS\")\n",
        "print(\"=\" * 60)\n",
        "\n",
        "# Calculate theoretical model capacity\n",
        "input_size = 48 * 48  # Input image size\n",
        "num_classes = 7\n",
        "dataset_size = len(train_df)\n",
        "\n",
        "print(f\"\\nProblem Characteristics:\")\n",
        "print(f\"  - Input Dimensions: {input_size:,} pixels\")\n",
        "print(f\"  - Number of Classes: {num_classes}\")\n",
        "print(f\"  - Training Samples: {dataset_size:,}\")\n",
        "print(f\"  - Complexity Estimate: High (facial expressions)\")\n",
        "\n",
        "print(f\"\\nModel Characteristics:\")\n",
        "print(f\"  - Total Parameters: {model.total_params:,}\")\n",
        "print(f\"  - Parameters per Input Pixel: {model.total_params/input_size:.3f}\")\n",
        "print(f\"  - Parameters per Training Sample: {model.total_params/dataset_size:.3f}\")\n",
        "print(f\"  - Bottleneck Layer Size: 64 neurons\")\n",
        "\n",
        "# Rule of thumb comparisons\n",
        "print(f\"\\nCapacity Assessment:\")\n",
        "params_per_sample = model.total_params / dataset_size\n",
        "if params_per_sample < 0.1:\n",
        "    print(f\"  - SEVERELY UNDERCAPACITATED: {params_per_sample:.3f} params/sample\")\n",
        "elif params_per_sample < 1:\n",
        "    print(f\"  - UNDERCAPACITATED: {params_per_sample:.3f} params/sample\")\n",
        "else:\n",
        "    print(f\"  - Adequate capacity: {params_per_sample:.3f} params/sample\")"
      ]
    },
    {
      "cell_type": "code",
      "execution_count": 23,
      "metadata": {
        "id": "8QEvKNzieCvh"
      },
      "outputs": [],
      "source": [
        "# Save final model and log to W&B\n",
        "torch.save(model.state_dict(), 'final_tiny_cnn_model.pth')\n",
        "wandb.save('final_tiny_cnn_model.pth')\n",
        "wandb.save('best_tiny_cnn_model.pth')\n",
        "\n",
        "# Summary statistics emphasizing underfitting\n",
        "summary_stats = {\n",
        "    \"final_train_accuracy\": train_accs[-1],\n",
        "    \"final_val_accuracy\": val_accs[-1],\n",
        "    \"best_val_accuracy\": best_val_acc,\n",
        "    \"max_train_accuracy\": max(train_accs),\n",
        "    \"overfitting_gap\": train_accs[-1] - val_accs[-1],\n",
        "    \"avg_overfitting_gap\": np.mean(overfitting_gaps),\n",
        "    \"total_parameters\": model.total_params,\n",
        "    \"macro_f1_score\": report['macro avg']['f1-score'],\n",
        "    \"weighted_f1_score\": report['weighted avg']['f1-score'],\n",
        "    \"improvement_over_random\": best_val_acc - random_accuracy,\n",
        "    \"underfitting_confirmed\": best_val_acc < 40,\n",
        "    \"parameters_per_sample\": model.total_params / len(train_df),\n",
        "    \"training_epochs\": len(train_losses)\n",
        "}\n",
        "\n",
        "wandb.log(summary_stats)"
      ]
    },
    {
      "cell_type": "code",
      "execution_count": 24,
      "metadata": {
        "id": "SR3_7g-QeCvi",
        "colab": {
          "base_uri": "https://localhost:8080/",
          "height": 1000
        },
        "outputId": "26b94a7d-1ac3-4571-9f70-0ab093a471c9"
      },
      "outputs": [
        {
          "output_type": "stream",
          "name": "stdout",
          "text": [
            "\n",
            "======================================================================\n",
            "EXPERIMENT SUMMARY: TINY CNN - UNDERFITTING DEMONSTRATION\n",
            "======================================================================\n",
            "\n",
            "Model Architecture:\n",
            "  - Intentionally Small Design\n",
            "  - 2 Convolutional Layers (16, 32 filters)\n",
            "  - Aggressive Pooling (4x4)\n",
            "  - Small FC layer (64 neurons)\n",
            "  - Total Parameters: 32,199\n",
            "  - No Regularization Applied\n",
            "\n",
            "Underfitting Evidence:\n",
            "  - Final Training Accuracy: 67.81%\n",
            "  - Final Validation Accuracy: 51.69%\n",
            "  - Best Validation Accuracy: 52.51%\n",
            "  - Small Train-Val Gap: 8.53%\n",
            "  - Low Absolute Performance: False\n",
            "  - Improvement over Random: +38.22pp\n",
            "  - Macro F1-Score: 0.474\n",
            "\n",
            "Key Insights:\n",
            "  - Model lacks sufficient capacity for the task\n",
            "  - Both training and validation accuracy plateau at low values\n",
            "  - Minimal overfitting due to insufficient model complexity\n",
            "  - Poor performance across all emotion classes\n",
            "  - Training for more epochs doesn't help\n"
          ]
        },
        {
          "output_type": "display_data",
          "data": {
            "text/plain": [
              "<IPython.core.display.HTML object>"
            ],
            "text/html": []
          },
          "metadata": {}
        },
        {
          "output_type": "display_data",
          "data": {
            "text/plain": [
              "<IPython.core.display.HTML object>"
            ],
            "text/html": [
              "<br>    <style><br>        .wandb-row {<br>            display: flex;<br>            flex-direction: row;<br>            flex-wrap: wrap;<br>            justify-content: flex-start;<br>            width: 100%;<br>        }<br>        .wandb-col {<br>            display: flex;<br>            flex-direction: column;<br>            flex-basis: 100%;<br>            flex: 1;<br>            padding: 10px;<br>        }<br>    </style><br><div class=\"wandb-row\"><div class=\"wandb-col\"><h3>Run history:</h3><br/><table class=\"wandb\"><tr><td>Angry_f1</td><td>▁</td></tr><tr><td>Angry_precision</td><td>▁</td></tr><tr><td>Angry_recall</td><td>▁</td></tr><tr><td>Disgust_f1</td><td>▁</td></tr><tr><td>Disgust_precision</td><td>▁</td></tr><tr><td>Disgust_recall</td><td>▁</td></tr><tr><td>Fear_f1</td><td>▁</td></tr><tr><td>Fear_precision</td><td>▁</td></tr><tr><td>Fear_recall</td><td>▁</td></tr><tr><td>Happy_f1</td><td>▁</td></tr><tr><td>Happy_precision</td><td>▁</td></tr><tr><td>Happy_recall</td><td>▁</td></tr><tr><td>Neutral_f1</td><td>▁</td></tr><tr><td>Neutral_precision</td><td>▁</td></tr><tr><td>Neutral_recall</td><td>▁</td></tr><tr><td>Sad_f1</td><td>▁</td></tr><tr><td>Sad_precision</td><td>▁</td></tr><tr><td>Sad_recall</td><td>▁</td></tr><tr><td>Surprise_f1</td><td>▁</td></tr><tr><td>Surprise_precision</td><td>▁</td></tr><tr><td>Surprise_recall</td><td>▁</td></tr><tr><td>avg_overfitting_gap</td><td>▁</td></tr><tr><td>best_val_accuracy</td><td>▁</td></tr><tr><td>epoch</td><td>▁▁▁▁▂▂▂▂▃▃▃▃▃▃▄▄▄▄▄▄▅▅▅▅▅▆▆▆▆▆▆▇▇▇▇▇▇███</td></tr><tr><td>final_train_accuracy</td><td>▁</td></tr><tr><td>final_val_accuracy</td><td>▁</td></tr><tr><td>improvement_over_random</td><td>▁</td></tr><tr><td>learning_rate</td><td>▁▁▁▁▁▁▁▁▁▁▁▁▁▁▁▁▁▁▁▁▁▁▁▁▁▁▁▁▁▁▁▁▁▁▁▁▁▁▁▁</td></tr><tr><td>macro_f1_score</td><td>▁</td></tr><tr><td>max_train_accuracy</td><td>▁</td></tr><tr><td>overfitting_gap</td><td>▁▁▂▃▃▃▃▃▄▄▄▅▅▅▅▅▅▆▅▆▆▆▆▆▆▇▆▇▇▇▇▇▇▇██████</td></tr><tr><td>parameters_per_sample</td><td>▁</td></tr><tr><td>total_parameters</td><td>▁</td></tr><tr><td>train_acc</td><td>▁▃▄▄▄▅▅▅▅▆▆▆▆▆▆▆▇▇▇▇▇▇▇▇▇▇▇▇▇▇▇█████████</td></tr><tr><td>train_loss</td><td>█▇▆▅▅▅▄▄▄▄▃▃▃▃▃▃▃▃▂▂▂▂▂▂▂▂▂▂▂▂▂▁▁▁▁▁▁▁▁▁</td></tr><tr><td>training_epochs</td><td>▁</td></tr><tr><td>val_acc</td><td>▁▄▅▆▆▆▇▇▇▇▇▇▇▇▇██▇▇█████████████████████</td></tr><tr><td>val_loss</td><td>█▅▄▃▃▂▂▂▁▁▁▁▁▁▁▁▁▁▁▁▁▁▁▂▂▂▂▂▂▂▂▂▂▃▂▃▂▂▃▄</td></tr><tr><td>weighted_f1_score</td><td>▁</td></tr></table><br/></div><div class=\"wandb-col\"><h3>Run summary:</h3><br/><table class=\"wandb\"><tr><td>Angry_f1</td><td>0.429</td></tr><tr><td>Angry_precision</td><td>0.41822</td></tr><tr><td>Angry_recall</td><td>0.44034</td></tr><tr><td>Disgust_f1</td><td>0.32812</td></tr><tr><td>Disgust_precision</td><td>0.36842</td></tr><tr><td>Disgust_recall</td><td>0.29577</td></tr><tr><td>Fear_f1</td><td>0.3196</td></tr><tr><td>Fear_precision</td><td>0.40109</td></tr><tr><td>Fear_recall</td><td>0.26562</td></tr><tr><td>Happy_f1</td><td>0.73368</td></tr><tr><td>Happy_precision</td><td>0.68997</td></tr><tr><td>Happy_recall</td><td>0.7833</td></tr><tr><td>Neutral_f1</td><td>0.48613</td></tr><tr><td>Neutral_precision</td><td>0.46796</td></tr><tr><td>Neutral_recall</td><td>0.50577</td></tr><tr><td>Sad_f1</td><td>0.39083</td></tr><tr><td>Sad_precision</td><td>0.41387</td></tr><tr><td>Sad_recall</td><td>0.37022</td></tr><tr><td>Surprise_f1</td><td>0.63082</td></tr><tr><td>Surprise_precision</td><td>0.59621</td></tr><tr><td>Surprise_recall</td><td>0.66971</td></tr><tr><td>avg_overfitting_gap</td><td>8.52736</td></tr><tr><td>best_val_accuracy</td><td>52.50784</td></tr><tr><td>epoch</td><td>50</td></tr><tr><td>final_train_accuracy</td><td>67.81469</td></tr><tr><td>final_val_accuracy</td><td>51.68931</td></tr><tr><td>improvement_over_random</td><td>38.22212</td></tr><tr><td>learning_rate</td><td>0.001</td></tr><tr><td>macro_f1_score</td><td>0.47403</td></tr><tr><td>max_train_accuracy</td><td>67.81469</td></tr><tr><td>overfitting_gap</td><td>16.12538</td></tr><tr><td>parameters_per_sample</td><td>1.12156</td></tr><tr><td>total_parameters</td><td>32199</td></tr><tr><td>train_acc</td><td>67.81469</td></tr><tr><td>train_loss</td><td>0.85694</td></tr><tr><td>training_epochs</td><td>50</td></tr><tr><td>underfitting_confirmed</td><td>False</td></tr><tr><td>underfitting_indicator</td><td>False</td></tr><tr><td>val_acc</td><td>51.68931</td></tr><tr><td>val_loss</td><td>1.44506</td></tr><tr><td>weighted_f1_score</td><td>0.51493</td></tr></table><br/></div></div>"
            ]
          },
          "metadata": {}
        },
        {
          "output_type": "display_data",
          "data": {
            "text/plain": [
              "<IPython.core.display.HTML object>"
            ],
            "text/html": [
              " View run <strong style=\"color:#cdcd00\">exp07-tiny-cnn-underfitting</strong> at: <a href='https://wandb.ai/qitiashvili13-free-university-of-tbilisi-/fer-challenge/runs/v7e604gs' target=\"_blank\">https://wandb.ai/qitiashvili13-free-university-of-tbilisi-/fer-challenge/runs/v7e604gs</a><br> View project at: <a href='https://wandb.ai/qitiashvili13-free-university-of-tbilisi-/fer-challenge' target=\"_blank\">https://wandb.ai/qitiashvili13-free-university-of-tbilisi-/fer-challenge</a><br>Synced 5 W&B file(s), 4 media file(s), 0 artifact file(s) and 2 other file(s)"
            ]
          },
          "metadata": {}
        },
        {
          "output_type": "display_data",
          "data": {
            "text/plain": [
              "<IPython.core.display.HTML object>"
            ],
            "text/html": [
              "Find logs at: <code>./wandb/run-20250609_213256-v7e604gs/logs</code>"
            ]
          },
          "metadata": {}
        }
      ],
      "source": [
        "# Final summary\n",
        "print(\"\\n\" + \"=\" * 70)\n",
        "print(\"EXPERIMENT SUMMARY: TINY CNN - UNDERFITTING DEMONSTRATION\")\n",
        "print(\"=\" * 70)\n",
        "print(f\"\\nModel Architecture:\")\n",
        "print(f\"  - Intentionally Small Design\")\n",
        "print(f\"  - 2 Convolutional Layers (16, 32 filters)\")\n",
        "print(f\"  - Aggressive Pooling (4x4)\")\n",
        "print(f\"  - Small FC layer (64 neurons)\")\n",
        "print(f\"  - Total Parameters: {model.total_params:,}\")\n",
        "print(f\"  - No Regularization Applied\")\n",
        "\n",
        "print(f\"\\nUnderfitting Evidence:\")\n",
        "print(f\"  - Final Training Accuracy: {train_accs[-1]:.2f}%\")\n",
        "print(f\"  - Final Validation Accuracy: {val_accs[-1]:.2f}%\")\n",
        "print(f\"  - Best Validation Accuracy: {best_val_acc:.2f}%\")\n",
        "print(f\"  - Small Train-Val Gap: {np.mean(overfitting_gaps):.2f}%\")\n",
        "print(f\"  - Low Absolute Performance: {best_val_acc < 40}\")\n",
        "print(f\"  - Improvement over Random: +{best_val_acc - random_accuracy:.2f}pp\")\n",
        "print(f\"  - Macro F1-Score: {report['macro avg']['f1-score']:.3f}\")\n",
        "\n",
        "print(f\"\\nKey Insights:\")\n",
        "print(f\"  - Model lacks sufficient capacity for the task\")\n",
        "print(f\"  - Both training and validation accuracy plateau at low values\")\n",
        "print(f\"  - Minimal overfitting due to insufficient model complexity\")\n",
        "print(f\"  - Poor performance across all emotion classes\")\n",
        "print(f\"  - Training for more epochs doesn't help\")\n",
        "\n",
        "wandb.finish()"
      ]
    },
    {
      "cell_type": "code",
      "source": [],
      "metadata": {
        "id": "go1m-NQHmenH"
      },
      "execution_count": 24,
      "outputs": []
    }
  ],
  "metadata": {
    "kernelspec": {
      "display_name": "Python 3",
      "name": "python3"
    },
    "language_info": {
      "codemirror_mode": {
        "name": "ipython",
        "version": 3
      },
      "file_extension": ".py",
      "mimetype": "text/x-python",
      "name": "python",
      "nbconvert_exporter": "python",
      "pygments_lexer": "ipython3",
      "version": "3.8.0"
    },
    "colab": {
      "provenance": [],
      "gpuType": "T4",
      "include_colab_link": true
    },
    "accelerator": "GPU"
  },
  "nbformat": 4,
  "nbformat_minor": 0
}