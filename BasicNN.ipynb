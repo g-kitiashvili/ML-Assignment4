{
  "cells": [
    {
      "cell_type": "markdown",
      "metadata": {
        "id": "nmtkusOl4HW0"
      },
      "source": [
        "# Experiment 01: Basic Neural Network Baseline\n",
        "## Objective: Demonstrate why CNNs are better than fully connected networks for image data\n",
        "\n",
        "This experiment uses a simple fully connected neural network to establish a baseline for the FER2013 dataset."
      ]
    },
    {
      "cell_type": "code",
      "execution_count": 1,
      "metadata": {
        "id": "1dU0EYae4HW2"
      },
      "outputs": [],
      "source": [
        "# Install necessary packages\n",
        "!pip install wandb -q\n",
        "!pip install kaggle -q"
      ]
    },
    {
      "cell_type": "code",
      "execution_count": 2,
      "metadata": {
        "id": "tpTD3oWZ4HW2"
      },
      "outputs": [],
      "source": [
        "# Import necessary libraries\n",
        "import torch\n",
        "import torch.nn as nn\n",
        "import torch.optim as optim\n",
        "from torch.utils.data import Dataset, DataLoader\n",
        "import pandas as pd\n",
        "import numpy as np\n",
        "import matplotlib.pyplot as plt\n",
        "import seaborn as sns\n",
        "from sklearn.metrics import confusion_matrix, classification_report\n",
        "import wandb\n",
        "from tqdm import tqdm\n",
        "import os\n",
        "import warnings\n",
        "warnings.filterwarnings('ignore')"
      ]
    },
    {
      "cell_type": "code",
      "execution_count": 4,
      "metadata": {
        "colab": {
          "base_uri": "https://localhost:8080/"
        },
        "id": "M73UcDPI4HW2",
        "outputId": "0aff8461-6394-4763-8f88-548a8f294a4c"
      },
      "outputs": [
        {
          "output_type": "stream",
          "name": "stdout",
          "text": [
            "Drive already mounted at /content/drive; to attempt to forcibly remount, call drive.mount(\"/content/drive\", force_remount=True).\n"
          ]
        }
      ],
      "source": [
        "# Mount Google Drive (optional - for saving results)\n",
        "from google.colab import drive\n",
        "drive.mount('/content/drive')"
      ]
    },
    {
      "cell_type": "code",
      "execution_count": 5,
      "metadata": {
        "id": "6ycSrFpB4HW3"
      },
      "outputs": [],
      "source": [
        "\n",
        "\n",
        "# Setup kaggle directory\n",
        "!mkdir -p ~/.kaggle\n",
        "!cp /content/drive/MyDrive/kaggle.json ~/.kaggle/\n",
        "!chmod 600 ~/.kaggle/kaggle.json"
      ]
    },
    {
      "cell_type": "code",
      "execution_count": 6,
      "metadata": {
        "colab": {
          "base_uri": "https://localhost:8080/"
        },
        "id": "zAHQKAHl4HW3",
        "outputId": "bc402b8b-87b8-4001-b25f-8a97615e6d67"
      },
      "outputs": [
        {
          "output_type": "stream",
          "name": "stdout",
          "text": [
            "Downloading challenges-in-representation-learning-facial-expression-recognition-challenge.zip to /content\n",
            " 80% 227M/285M [00:00<00:00, 538MB/s] \n",
            "100% 285M/285M [00:06<00:00, 47.5MB/s]\n",
            "challenges-in-representation-learning-facial-expression-recognition-challenge.zip\n",
            "drive\n",
            "example_submission.csv\n",
            "fer2013.tar.gz\n",
            "icml_face_data.csv\n",
            "sample_data\n",
            "test.csv\n",
            "train.csv\n"
          ]
        }
      ],
      "source": [
        "# Download FER2013 dataset from Kaggle\n",
        "!kaggle competitions download -c challenges-in-representation-learning-facial-expression-recognition-challenge\n",
        "\n",
        "# Extract the dataset\n",
        "!unzip -q challenges-in-representation-learning-facial-expression-recognition-challenge.zip\n",
        "!ls"
      ]
    },
    {
      "cell_type": "code",
      "execution_count": 7,
      "metadata": {
        "colab": {
          "base_uri": "https://localhost:8080/",
          "height": 280
        },
        "id": "ZoQsiiwm4HW3",
        "outputId": "96e322b1-177b-4411-8764-a742e207dd45"
      },
      "outputs": [
        {
          "output_type": "display_data",
          "data": {
            "text/plain": [
              "<IPython.core.display.Javascript object>"
            ],
            "application/javascript": [
              "\n",
              "        window._wandbApiKey = new Promise((resolve, reject) => {\n",
              "            function loadScript(url) {\n",
              "            return new Promise(function(resolve, reject) {\n",
              "                let newScript = document.createElement(\"script\");\n",
              "                newScript.onerror = reject;\n",
              "                newScript.onload = resolve;\n",
              "                document.body.appendChild(newScript);\n",
              "                newScript.src = url;\n",
              "            });\n",
              "            }\n",
              "            loadScript(\"https://cdn.jsdelivr.net/npm/postmate/build/postmate.min.js\").then(() => {\n",
              "            const iframe = document.createElement('iframe')\n",
              "            iframe.style.cssText = \"width:0;height:0;border:none\"\n",
              "            document.body.appendChild(iframe)\n",
              "            const handshake = new Postmate({\n",
              "                container: iframe,\n",
              "                url: 'https://wandb.ai/authorize'\n",
              "            });\n",
              "            const timeout = setTimeout(() => reject(\"Couldn't auto authenticate\"), 5000)\n",
              "            handshake.then(function(child) {\n",
              "                child.on('authorize', data => {\n",
              "                    clearTimeout(timeout)\n",
              "                    resolve(data)\n",
              "                });\n",
              "            });\n",
              "            })\n",
              "        });\n",
              "    "
            ]
          },
          "metadata": {}
        },
        {
          "output_type": "stream",
          "name": "stderr",
          "text": [
            "\u001b[34m\u001b[1mwandb\u001b[0m: Logging into wandb.ai. (Learn how to deploy a W&B server locally: https://wandb.me/wandb-server)\n",
            "\u001b[34m\u001b[1mwandb\u001b[0m: You can find your API key in your browser here: https://wandb.ai/authorize\n",
            "wandb: Paste an API key from your profile and hit enter:"
          ]
        },
        {
          "name": "stdout",
          "output_type": "stream",
          "text": [
            " ··········\n"
          ]
        },
        {
          "output_type": "stream",
          "name": "stderr",
          "text": [
            "\u001b[34m\u001b[1mwandb\u001b[0m: \u001b[33mWARNING\u001b[0m If you're specifying your api key in code, ensure this code is not shared publicly.\n",
            "\u001b[34m\u001b[1mwandb\u001b[0m: \u001b[33mWARNING\u001b[0m Consider setting the WANDB_API_KEY environment variable, or running `wandb login` from the command line.\n",
            "\u001b[34m\u001b[1mwandb\u001b[0m: No netrc file found, creating one.\n",
            "\u001b[34m\u001b[1mwandb\u001b[0m: Appending key for api.wandb.ai to your netrc file: /root/.netrc\n",
            "\u001b[34m\u001b[1mwandb\u001b[0m: Currently logged in as: \u001b[33mqitiashvili13\u001b[0m (\u001b[33mqitiashvili13-free-university-of-tbilisi-\u001b[0m) to \u001b[32mhttps://api.wandb.ai\u001b[0m. Use \u001b[1m`wandb login --relogin`\u001b[0m to force relogin\n"
          ]
        },
        {
          "output_type": "display_data",
          "data": {
            "text/plain": [
              "<IPython.core.display.HTML object>"
            ],
            "text/html": [
              "Tracking run with wandb version 0.19.11"
            ]
          },
          "metadata": {}
        },
        {
          "output_type": "display_data",
          "data": {
            "text/plain": [
              "<IPython.core.display.HTML object>"
            ],
            "text/html": [
              "Run data is saved locally in <code>/content/wandb/run-20250608_142150-kwyu7wlq</code>"
            ]
          },
          "metadata": {}
        },
        {
          "output_type": "display_data",
          "data": {
            "text/plain": [
              "<IPython.core.display.HTML object>"
            ],
            "text/html": [
              "Syncing run <strong><a href='https://wandb.ai/qitiashvili13-free-university-of-tbilisi-/fer-challenge/runs/kwyu7wlq' target=\"_blank\">exp01-basic-nn</a></strong> to <a href='https://wandb.ai/qitiashvili13-free-university-of-tbilisi-/fer-challenge' target=\"_blank\">Weights & Biases</a> (<a href='https://wandb.me/developer-guide' target=\"_blank\">docs</a>)<br>"
            ]
          },
          "metadata": {}
        },
        {
          "output_type": "display_data",
          "data": {
            "text/plain": [
              "<IPython.core.display.HTML object>"
            ],
            "text/html": [
              " View project at <a href='https://wandb.ai/qitiashvili13-free-university-of-tbilisi-/fer-challenge' target=\"_blank\">https://wandb.ai/qitiashvili13-free-university-of-tbilisi-/fer-challenge</a>"
            ]
          },
          "metadata": {}
        },
        {
          "output_type": "display_data",
          "data": {
            "text/plain": [
              "<IPython.core.display.HTML object>"
            ],
            "text/html": [
              " View run at <a href='https://wandb.ai/qitiashvili13-free-university-of-tbilisi-/fer-challenge/runs/kwyu7wlq' target=\"_blank\">https://wandb.ai/qitiashvili13-free-university-of-tbilisi-/fer-challenge/runs/kwyu7wlq</a>"
            ]
          },
          "metadata": {}
        }
      ],
      "source": [
        "# Initialize W&B\n",
        "wandb.login()\n",
        "run = wandb.init(\n",
        "    project=\"fer-challenge\",\n",
        "    name=\"exp01-basic-nn\",\n",
        "    config={\n",
        "        \"architecture\": \"Basic NN\",\n",
        "        \"dataset\": \"FER2013\",\n",
        "        \"epochs\": 30,\n",
        "        \"batch_size\": 64,\n",
        "        \"learning_rate\": 0.001,\n",
        "        \"hidden_size1\": 512,\n",
        "        \"hidden_size2\": 256,\n",
        "        \"hidden_size3\": 128,\n",
        "        \"input_size\": 48*48,\n",
        "        \"num_classes\": 7\n",
        "    }\n",
        ")"
      ]
    },
    {
      "cell_type": "code",
      "execution_count": 8,
      "metadata": {
        "colab": {
          "base_uri": "https://localhost:8080/"
        },
        "id": "lSdHpfNn4HW3",
        "outputId": "d3ae4c7b-3073-4759-ce30-c2a2862427ed"
      },
      "outputs": [
        {
          "output_type": "stream",
          "name": "stdout",
          "text": [
            "Training data shape: (28709, 2)\n",
            "Test data shape: (7178, 1)\n",
            "\n",
            "Training data columns: ['emotion', 'pixels']\n",
            "\n",
            "Emotion distribution:\n",
            "emotion\n",
            "0    3995\n",
            "1     436\n",
            "2    4097\n",
            "3    7215\n",
            "4    4830\n",
            "5    3171\n",
            "6    4965\n",
            "Name: count, dtype: int64\n"
          ]
        }
      ],
      "source": [
        "# Load and explore the data\n",
        "train_df = pd.read_csv('train.csv')\n",
        "test_df = pd.read_csv('test.csv')\n",
        "\n",
        "print(f\"Training data shape: {train_df.shape}\")\n",
        "print(f\"Test data shape: {test_df.shape}\")\n",
        "print(\"\\nTraining data columns:\", train_df.columns.tolist())\n",
        "print(\"\\nEmotion distribution:\")\n",
        "print(train_df['emotion'].value_counts().sort_index())"
      ]
    },
    {
      "cell_type": "code",
      "execution_count": 9,
      "metadata": {
        "colab": {
          "base_uri": "https://localhost:8080/",
          "height": 589
        },
        "id": "nTBAKBy34HW4",
        "outputId": "75e94cd5-4abe-43b1-99d9-d8bb840b4a06"
      },
      "outputs": [
        {
          "output_type": "display_data",
          "data": {
            "text/plain": [
              "<Figure size 1200x600 with 8 Axes>"
            ],
            "image/png": "[encoded data removed]"
          },
          "metadata": {}
        }
      ],
      "source": [
        "# Visualize sample images\n",
        "emotion_labels = ['Angry', 'Disgust', 'Fear', 'Happy', 'Sad', 'Surprise', 'Neutral']\n",
        "\n",
        "fig, axes = plt.subplots(2, 4, figsize=(12, 6))\n",
        "axes = axes.ravel()\n",
        "\n",
        "for i in range(8):\n",
        "    idx = np.random.randint(0, len(train_df))\n",
        "    pixels = train_df.iloc[idx]['pixels']\n",
        "    emotion = train_df.iloc[idx]['emotion']\n",
        "\n",
        "    # Convert pixel string to array and reshape\n",
        "    pixels = np.array([int(pixel) for pixel in pixels.split(' ')], dtype=np.uint8)\n",
        "    pixels = pixels.reshape(48, 48)\n",
        "\n",
        "    axes[i].imshow(pixels, cmap='gray')\n",
        "    axes[i].set_title(f'{emotion_labels[emotion]}')\n",
        "    axes[i].axis('off')\n",
        "\n",
        "plt.suptitle('Sample Images from FER2013 Dataset')\n",
        "plt.tight_layout()\n",
        "wandb.log({\"sample_images\": wandb.Image(plt)})\n",
        "plt.show()"
      ]
    },
    {
      "cell_type": "code",
      "execution_count": 10,
      "metadata": {
        "id": "vWhlBlHU4HW4"
      },
      "outputs": [],
      "source": [
        "# Custom Dataset Class\n",
        "class FERDataset(Dataset):\n",
        "    def __init__(self, dataframe, transform=None):\n",
        "        self.data = dataframe\n",
        "        self.transform = transform\n",
        "\n",
        "    def __len__(self):\n",
        "        return len(self.data)\n",
        "\n",
        "    def __getitem__(self, idx):\n",
        "        pixels = self.data.iloc[idx]['pixels']\n",
        "        emotion = self.data.iloc[idx]['emotion']\n",
        "\n",
        "        # Convert pixel string to numpy array\n",
        "        pixels = np.array([int(pixel) for pixel in pixels.split(' ')], dtype=np.float32)\n",
        "        pixels = pixels / 255.0  # Normalize to [0, 1]\n",
        "\n",
        "        # For basic NN, we keep it as a flat vector\n",
        "        # For CNN experiments, we'll reshape to (1, 48, 48)\n",
        "\n",
        "        return torch.tensor(pixels), torch.tensor(emotion, dtype=torch.long)"
      ]
    },
    {
      "cell_type": "code",
      "execution_count": 11,
      "metadata": {
        "colab": {
          "base_uri": "https://localhost:8080/"
        },
        "id": "apRhJIJ94HW4",
        "outputId": "2da46922-74db-4b95-f4d8-731d960aec25"
      },
      "outputs": [
        {
          "output_type": "stream",
          "name": "stdout",
          "text": [
            "Train size: 22967\n",
            "Validation size: 5742\n"
          ]
        }
      ],
      "source": [
        "# Create datasets\n",
        "full_dataset = FERDataset(train_df)\n",
        "\n",
        "# Split into train and validation\n",
        "train_size = int(0.8 * len(full_dataset))\n",
        "val_size = len(full_dataset) - train_size\n",
        "train_dataset, val_dataset = torch.utils.data.random_split(full_dataset, [train_size, val_size])\n",
        "\n",
        "print(f\"Train size: {len(train_dataset)}\")\n",
        "print(f\"Validation size: {len(val_dataset)}\")\n",
        "\n",
        "# Create data loaders\n",
        "train_loader = DataLoader(train_dataset, batch_size=64, shuffle=True, num_workers=2)\n",
        "val_loader = DataLoader(val_dataset, batch_size=64, shuffle=False, num_workers=2)"
      ]
    },
    {
      "cell_type": "code",
      "execution_count": 12,
      "metadata": {
        "id": "Tz1n-8rT4HW4"
      },
      "outputs": [],
      "source": [
        "# Basic Neural Network Model\n",
        "class BasicNN(nn.Module):\n",
        "    def __init__(self, input_size=48*48, hidden_size1=512, hidden_size2=256, hidden_size3=128, num_classes=7):\n",
        "        super(BasicNN, self).__init__()\n",
        "\n",
        "        self.fc1 = nn.Linear(input_size, hidden_size1)\n",
        "        self.relu1 = nn.ReLU()\n",
        "\n",
        "        self.fc2 = nn.Linear(hidden_size1, hidden_size2)\n",
        "        self.relu2 = nn.ReLU()\n",
        "\n",
        "        self.fc3 = nn.Linear(hidden_size2, hidden_size3)\n",
        "        self.relu3 = nn.ReLU()\n",
        "\n",
        "        self.fc4 = nn.Linear(hidden_size3, num_classes)\n",
        "\n",
        "        # Calculate total parameters\n",
        "        self.total_params = sum(p.numel() for p in self.parameters())\n",
        "\n",
        "    def forward(self, x):\n",
        "        out = self.fc1(x)\n",
        "        out = self.relu1(out)\n",
        "\n",
        "        out = self.fc2(out)\n",
        "        out = self.relu2(out)\n",
        "\n",
        "        out = self.fc3(out)\n",
        "        out = self.relu3(out)\n",
        "\n",
        "        out = self.fc4(out)\n",
        "        return out"
      ]
    },
    {
      "cell_type": "code",
      "execution_count": 13,
      "metadata": {
        "colab": {
          "base_uri": "https://localhost:8080/"
        },
        "id": "rL0U9bQk4HW4",
        "outputId": "0f93dbc8-e191-4aee-c1b8-0b7012403f1c"
      },
      "outputs": [
        {
          "output_type": "stream",
          "name": "stdout",
          "text": [
            "Using device: cpu\n",
            "Total parameters: 1,345,287\n"
          ]
        }
      ],
      "source": [
        "# Initialize model, loss, optimizer\n",
        "device = torch.device('cuda' if torch.cuda.is_available() else 'cpu')\n",
        "print(f\"Using device: {device}\")\n",
        "\n",
        "model = BasicNN().to(device)\n",
        "print(f\"Total parameters: {model.total_params:,}\")\n",
        "\n",
        "criterion = nn.CrossEntropyLoss()\n",
        "optimizer = optim.Adam(model.parameters(), lr=0.001)\n",
        "\n",
        "# Log model architecture to W&B\n",
        "wandb.watch(model, log='all')"
      ]
    },
    {
      "cell_type": "code",
      "execution_count": 14,
      "metadata": {
        "colab": {
          "base_uri": "https://localhost:8080/"
        },
        "id": "KgsxL4_H4HW4",
        "outputId": "19b6ef58-0e40-43ae-d2c1-6ddf46f52611"
      },
      "outputs": [
        {
          "output_type": "stream",
          "name": "stdout",
          "text": [
            "Model Architecture:\n",
            "==================================================\n",
            "fc1.weight           torch.Size([512, 2304])\n",
            "fc1.bias             torch.Size([512])\n",
            "fc2.weight           torch.Size([256, 512])\n",
            "fc2.bias             torch.Size([256])\n",
            "fc3.weight           torch.Size([128, 256])\n",
            "fc3.bias             torch.Size([128])\n",
            "fc4.weight           torch.Size([7, 128])\n",
            "fc4.bias             torch.Size([7])\n",
            "==================================================\n"
          ]
        }
      ],
      "source": [
        "# Print model architecture\n",
        "print(\"Model Architecture:\")\n",
        "print(\"=\" * 50)\n",
        "for name, param in model.named_parameters():\n",
        "    print(f\"{name:20} {param.shape}\")\n",
        "print(\"=\" * 50)"
      ]
    },
    {
      "cell_type": "code",
      "execution_count": 15,
      "metadata": {
        "id": "wvOGQTqm4HW4"
      },
      "outputs": [],
      "source": [
        "# Training function\n",
        "def train_epoch(model, loader, criterion, optimizer, device):\n",
        "    model.train()\n",
        "    running_loss = 0.0\n",
        "    correct = 0\n",
        "    total = 0\n",
        "\n",
        "    progress_bar = tqdm(loader, desc='Training')\n",
        "    for inputs, labels in progress_bar:\n",
        "        inputs, labels = inputs.to(device), labels.to(device)\n",
        "\n",
        "        optimizer.zero_grad()\n",
        "        outputs = model(inputs)\n",
        "        loss = criterion(outputs, labels)\n",
        "        loss.backward()\n",
        "        optimizer.step()\n",
        "\n",
        "        running_loss += loss.item()\n",
        "        _, predicted = torch.max(outputs.data, 1)\n",
        "        total += labels.size(0)\n",
        "        correct += (predicted == labels).sum().item()\n",
        "\n",
        "        # Update progress bar\n",
        "        progress_bar.set_postfix({\n",
        "            'loss': loss.item(),\n",
        "            'acc': 100 * correct / total\n",
        "        })\n",
        "\n",
        "    epoch_loss = running_loss / len(loader)\n",
        "    epoch_acc = 100 * correct / total\n",
        "\n",
        "    return epoch_loss, epoch_acc"
      ]
    },
    {
      "cell_type": "code",
      "execution_count": 16,
      "metadata": {
        "id": "hdEYAuOQ4HW4"
      },
      "outputs": [],
      "source": [
        "# Validation function\n",
        "def validate_epoch(model, loader, criterion, device):\n",
        "    model.eval()\n",
        "    running_loss = 0.0\n",
        "    correct = 0\n",
        "    total = 0\n",
        "    all_predictions = []\n",
        "    all_labels = []\n",
        "\n",
        "    with torch.no_grad():\n",
        "        progress_bar = tqdm(loader, desc='Validation')\n",
        "        for inputs, labels in progress_bar:\n",
        "            inputs, labels = inputs.to(device), labels.to(device)\n",
        "\n",
        "            outputs = model(inputs)\n",
        "            loss = criterion(outputs, labels)\n",
        "\n",
        "            running_loss += loss.item()\n",
        "            _, predicted = torch.max(outputs.data, 1)\n",
        "            total += labels.size(0)\n",
        "            correct += (predicted == labels).sum().item()\n",
        "\n",
        "            all_predictions.extend(predicted.cpu().numpy())\n",
        "            all_labels.extend(labels.cpu().numpy())\n",
        "\n",
        "            # Update progress bar\n",
        "            progress_bar.set_postfix({\n",
        "                'loss': loss.item(),\n",
        "                'acc': 100 * correct / total\n",
        "            })\n",
        "\n",
        "    epoch_loss = running_loss / len(loader)\n",
        "    epoch_acc = 100 * correct / total\n",
        "\n",
        "    return epoch_loss, epoch_acc, all_predictions, all_labels"
      ]
    },
    {
      "cell_type": "code",
      "execution_count": 17,
      "metadata": {
        "colab": {
          "base_uri": "https://localhost:8080/"
        },
        "id": "Umsky0J74HW5",
        "outputId": "31d94f81-edf8-48b2-9309-4d85298b4872"
      },
      "outputs": [
        {
          "output_type": "stream",
          "name": "stdout",
          "text": [
            "\n",
            "Epoch 1/30\n",
            "--------------------------------------------------\n"
          ]
        },
        {
          "output_type": "stream",
          "name": "stderr",
          "text": [
            "Training: 100%|██████████| 359/359 [00:37<00:00,  9.51it/s, loss=1.81, acc=26.6]\n",
            "Validation: 100%|██████████| 90/90 [00:04<00:00, 18.88it/s, loss=1.58, acc=32.4]\n"
          ]
        },
        {
          "output_type": "stream",
          "name": "stdout",
          "text": [
            "Train Loss: 1.7868, Train Acc: 26.60%\n",
            "Val Loss: 1.7212, Val Acc: 32.45%\n",
            "New best model saved with validation accuracy: 32.45%\n",
            "\n",
            "Epoch 2/30\n",
            "--------------------------------------------------\n"
          ]
        },
        {
          "output_type": "stream",
          "name": "stderr",
          "text": [
            "Training: 100%|██████████| 359/359 [00:31<00:00, 11.31it/s, loss=1.72, acc=32.4]\n",
            "Validation: 100%|██████████| 90/90 [00:04<00:00, 18.57it/s, loss=1.57, acc=33.5]\n"
          ]
        },
        {
          "output_type": "stream",
          "name": "stdout",
          "text": [
            "Train Loss: 1.7002, Train Acc: 32.42%\n",
            "Val Loss: 1.6830, Val Acc: 33.52%\n",
            "New best model saved with validation accuracy: 33.52%\n",
            "\n",
            "Epoch 3/30\n",
            "--------------------------------------------------\n"
          ]
        },
        {
          "output_type": "stream",
          "name": "stderr",
          "text": [
            "Training: 100%|██████████| 359/359 [00:33<00:00, 10.68it/s, loss=1.54, acc=34.6]\n",
            "Validation: 100%|██████████| 90/90 [00:07<00:00, 11.68it/s, loss=1.48, acc=34.8]\n"
          ]
        },
        {
          "output_type": "stream",
          "name": "stdout",
          "text": [
            "Train Loss: 1.6676, Train Acc: 34.57%\n",
            "Val Loss: 1.6623, Val Acc: 34.85%\n",
            "New best model saved with validation accuracy: 34.85%\n",
            "\n",
            "Epoch 4/30\n",
            "--------------------------------------------------\n"
          ]
        },
        {
          "output_type": "stream",
          "name": "stderr",
          "text": [
            "Training: 100%|██████████| 359/359 [00:32<00:00, 10.88it/s, loss=1.72, acc=35.4]\n",
            "Validation: 100%|██████████| 90/90 [00:05<00:00, 17.52it/s, loss=1.47, acc=35.4]\n"
          ]
        },
        {
          "output_type": "stream",
          "name": "stdout",
          "text": [
            "Train Loss: 1.6501, Train Acc: 35.38%\n",
            "Val Loss: 1.6567, Val Acc: 35.42%\n",
            "New best model saved with validation accuracy: 35.42%\n",
            "\n",
            "Epoch 5/30\n",
            "--------------------------------------------------\n"
          ]
        },
        {
          "output_type": "stream",
          "name": "stderr",
          "text": [
            "Training: 100%|██████████| 359/359 [00:32<00:00, 11.17it/s, loss=1.72, acc=35.9]\n",
            "Validation: 100%|██████████| 90/90 [00:04<00:00, 18.85it/s, loss=1.51, acc=37.7]\n"
          ]
        },
        {
          "output_type": "stream",
          "name": "stdout",
          "text": [
            "Train Loss: 1.6346, Train Acc: 35.88%\n",
            "Val Loss: 1.6310, Val Acc: 37.72%\n",
            "New best model saved with validation accuracy: 37.72%\n",
            "\n",
            "Epoch 6/30\n",
            "--------------------------------------------------\n"
          ]
        },
        {
          "output_type": "stream",
          "name": "stderr",
          "text": [
            "Training: 100%|██████████| 359/359 [00:32<00:00, 11.05it/s, loss=1.55, acc=36.9]\n",
            "Validation: 100%|██████████| 90/90 [00:06<00:00, 13.20it/s, loss=1.43, acc=38]\n"
          ]
        },
        {
          "output_type": "stream",
          "name": "stdout",
          "text": [
            "Train Loss: 1.6138, Train Acc: 36.91%\n",
            "Val Loss: 1.6197, Val Acc: 37.97%\n",
            "New best model saved with validation accuracy: 37.97%\n",
            "\n",
            "Epoch 7/30\n",
            "--------------------------------------------------\n"
          ]
        },
        {
          "output_type": "stream",
          "name": "stderr",
          "text": [
            "Training: 100%|██████████| 359/359 [00:32<00:00, 11.00it/s, loss=1.65, acc=36.9]\n",
            "Validation: 100%|██████████| 90/90 [00:05<00:00, 15.55it/s, loss=1.42, acc=38.2]\n"
          ]
        },
        {
          "output_type": "stream",
          "name": "stdout",
          "text": [
            "Train Loss: 1.6062, Train Acc: 36.89%\n",
            "Val Loss: 1.6009, Val Acc: 38.17%\n",
            "New best model saved with validation accuracy: 38.17%\n",
            "\n",
            "Epoch 8/30\n",
            "--------------------------------------------------\n"
          ]
        },
        {
          "output_type": "stream",
          "name": "stderr",
          "text": [
            "Training: 100%|██████████| 359/359 [00:32<00:00, 11.11it/s, loss=1.5, acc=37.7]\n",
            "Validation: 100%|██████████| 90/90 [00:04<00:00, 18.20it/s, loss=1.4, acc=39.4]\n"
          ]
        },
        {
          "output_type": "stream",
          "name": "stdout",
          "text": [
            "Train Loss: 1.5932, Train Acc: 37.71%\n",
            "Val Loss: 1.5795, Val Acc: 39.38%\n",
            "New best model saved with validation accuracy: 39.38%\n",
            "\n",
            "Epoch 9/30\n",
            "--------------------------------------------------\n"
          ]
        },
        {
          "output_type": "stream",
          "name": "stderr",
          "text": [
            "Training: 100%|██████████| 359/359 [00:31<00:00, 11.24it/s, loss=1.61, acc=37.7]\n",
            "Validation: 100%|██████████| 90/90 [00:05<00:00, 16.05it/s, loss=1.44, acc=38.6]\n"
          ]
        },
        {
          "output_type": "stream",
          "name": "stdout",
          "text": [
            "Train Loss: 1.5847, Train Acc: 37.71%\n",
            "Val Loss: 1.5930, Val Acc: 38.61%\n",
            "\n",
            "Epoch 10/30\n",
            "--------------------------------------------------\n"
          ]
        },
        {
          "output_type": "stream",
          "name": "stderr",
          "text": [
            "Training: 100%|██████████| 359/359 [00:31<00:00, 11.31it/s, loss=1.74, acc=38.6]\n",
            "Validation: 100%|██████████| 90/90 [00:06<00:00, 13.25it/s, loss=1.45, acc=38.2]\n"
          ]
        },
        {
          "output_type": "stream",
          "name": "stdout",
          "text": [
            "Train Loss: 1.5696, Train Acc: 38.62%\n",
            "Val Loss: 1.6169, Val Acc: 38.19%\n",
            "\n",
            "Epoch 11/30\n",
            "--------------------------------------------------\n"
          ]
        },
        {
          "output_type": "stream",
          "name": "stderr",
          "text": [
            "Training: 100%|██████████| 359/359 [00:32<00:00, 11.13it/s, loss=1.71, acc=38.4]\n",
            "Validation: 100%|██████████| 90/90 [00:04<00:00, 18.74it/s, loss=1.44, acc=38.9]\n"
          ]
        },
        {
          "output_type": "stream",
          "name": "stdout",
          "text": [
            "Train Loss: 1.5752, Train Acc: 38.41%\n",
            "Val Loss: 1.5880, Val Acc: 38.85%\n",
            "\n",
            "Epoch 12/30\n",
            "--------------------------------------------------\n"
          ]
        },
        {
          "output_type": "stream",
          "name": "stderr",
          "text": [
            "Training: 100%|██████████| 359/359 [00:36<00:00,  9.96it/s, loss=1.65, acc=39.4]\n",
            "Validation: 100%|██████████| 90/90 [00:06<00:00, 13.14it/s, loss=1.42, acc=38.4]\n"
          ]
        },
        {
          "output_type": "stream",
          "name": "stdout",
          "text": [
            "Train Loss: 1.5538, Train Acc: 39.44%\n",
            "Val Loss: 1.5729, Val Acc: 38.37%\n",
            "\n",
            "Epoch 13/30\n",
            "--------------------------------------------------\n"
          ]
        },
        {
          "output_type": "stream",
          "name": "stderr",
          "text": [
            "Training: 100%|██████████| 359/359 [00:31<00:00, 11.50it/s, loss=1.54, acc=40]\n",
            "Validation: 100%|██████████| 90/90 [00:06<00:00, 14.09it/s, loss=1.37, acc=38.9]\n"
          ]
        },
        {
          "output_type": "stream",
          "name": "stdout",
          "text": [
            "Train Loss: 1.5384, Train Acc: 40.01%\n",
            "Val Loss: 1.5699, Val Acc: 38.92%\n",
            "\n",
            "Epoch 14/30\n",
            "--------------------------------------------------\n"
          ]
        },
        {
          "output_type": "stream",
          "name": "stderr",
          "text": [
            "Training: 100%|██████████| 359/359 [00:32<00:00, 10.96it/s, loss=1.58, acc=40.4]\n",
            "Validation: 100%|██████████| 90/90 [00:04<00:00, 18.35it/s, loss=1.41, acc=37.5]\n"
          ]
        },
        {
          "output_type": "stream",
          "name": "stdout",
          "text": [
            "Train Loss: 1.5288, Train Acc: 40.43%\n",
            "Val Loss: 1.5963, Val Acc: 37.50%\n",
            "\n",
            "Epoch 15/30\n",
            "--------------------------------------------------\n"
          ]
        },
        {
          "output_type": "stream",
          "name": "stderr",
          "text": [
            "Training: 100%|██████████| 359/359 [00:33<00:00, 10.82it/s, loss=1.54, acc=40.6]\n",
            "Validation: 100%|██████████| 90/90 [00:05<00:00, 15.55it/s, loss=1.42, acc=36.2]\n"
          ]
        },
        {
          "output_type": "stream",
          "name": "stdout",
          "text": [
            "Train Loss: 1.5248, Train Acc: 40.55%\n",
            "Val Loss: 1.6116, Val Acc: 36.15%\n",
            "\n",
            "Epoch 16/30\n",
            "--------------------------------------------------\n"
          ]
        },
        {
          "output_type": "stream",
          "name": "stderr",
          "text": [
            "Training: 100%|██████████| 359/359 [00:33<00:00, 10.77it/s, loss=1.52, acc=41.4]\n",
            "Validation: 100%|██████████| 90/90 [00:06<00:00, 13.22it/s, loss=1.32, acc=39.7]\n"
          ]
        },
        {
          "output_type": "stream",
          "name": "stdout",
          "text": [
            "Train Loss: 1.5093, Train Acc: 41.44%\n",
            "Val Loss: 1.5614, Val Acc: 39.74%\n",
            "New best model saved with validation accuracy: 39.74%\n",
            "\n",
            "Epoch 17/30\n",
            "--------------------------------------------------\n"
          ]
        },
        {
          "output_type": "stream",
          "name": "stderr",
          "text": [
            "Training: 100%|██████████| 359/359 [00:33<00:00, 10.64it/s, loss=1.46, acc=41.5]\n",
            "Validation: 100%|██████████| 90/90 [00:04<00:00, 18.82it/s, loss=1.4, acc=38.9]\n"
          ]
        },
        {
          "output_type": "stream",
          "name": "stdout",
          "text": [
            "Train Loss: 1.5036, Train Acc: 41.49%\n",
            "Val Loss: 1.5607, Val Acc: 38.92%\n",
            "\n",
            "Epoch 18/30\n",
            "--------------------------------------------------\n"
          ]
        },
        {
          "output_type": "stream",
          "name": "stderr",
          "text": [
            "Training: 100%|██████████| 359/359 [00:33<00:00, 10.68it/s, loss=1.47, acc=41.8]\n",
            "Validation: 100%|██████████| 90/90 [00:06<00:00, 14.66it/s, loss=1.42, acc=38.3]\n"
          ]
        },
        {
          "output_type": "stream",
          "name": "stdout",
          "text": [
            "Train Loss: 1.4934, Train Acc: 41.79%\n",
            "Val Loss: 1.5908, Val Acc: 38.30%\n",
            "\n",
            "Epoch 19/30\n",
            "--------------------------------------------------\n"
          ]
        },
        {
          "output_type": "stream",
          "name": "stderr",
          "text": [
            "Training: 100%|██████████| 359/359 [00:31<00:00, 11.22it/s, loss=1.63, acc=42.4]\n",
            "Validation: 100%|██████████| 90/90 [00:07<00:00, 12.00it/s, loss=1.33, acc=39.6]\n"
          ]
        },
        {
          "output_type": "stream",
          "name": "stdout",
          "text": [
            "Train Loss: 1.4813, Train Acc: 42.36%\n",
            "Val Loss: 1.5593, Val Acc: 39.64%\n",
            "\n",
            "Epoch 20/30\n",
            "--------------------------------------------------\n"
          ]
        },
        {
          "output_type": "stream",
          "name": "stderr",
          "text": [
            "Training: 100%|██████████| 359/359 [00:33<00:00, 10.59it/s, loss=1.79, acc=42.8]\n",
            "Validation: 100%|██████████| 90/90 [00:04<00:00, 18.13it/s, loss=1.3, acc=38.6]\n"
          ]
        },
        {
          "output_type": "stream",
          "name": "stdout",
          "text": [
            "Train Loss: 1.4700, Train Acc: 42.79%\n",
            "Val Loss: 1.5738, Val Acc: 38.58%\n",
            "\n",
            "Epoch 21/30\n",
            "--------------------------------------------------\n"
          ]
        },
        {
          "output_type": "stream",
          "name": "stderr",
          "text": [
            "Training: 100%|██████████| 359/359 [00:33<00:00, 10.58it/s, loss=1.52, acc=43.2]\n",
            "Validation: 100%|██████████| 90/90 [00:05<00:00, 17.77it/s, loss=1.41, acc=40.4]\n"
          ]
        },
        {
          "output_type": "stream",
          "name": "stdout",
          "text": [
            "Train Loss: 1.4610, Train Acc: 43.19%\n",
            "Val Loss: 1.5471, Val Acc: 40.35%\n",
            "New best model saved with validation accuracy: 40.35%\n",
            "\n",
            "Epoch 22/30\n",
            "--------------------------------------------------\n"
          ]
        },
        {
          "output_type": "stream",
          "name": "stderr",
          "text": [
            "Training: 100%|██████████| 359/359 [00:33<00:00, 10.65it/s, loss=1.33, acc=43.6]\n",
            "Validation: 100%|██████████| 90/90 [00:07<00:00, 11.60it/s, loss=1.4, acc=38.7]\n"
          ]
        },
        {
          "output_type": "stream",
          "name": "stdout",
          "text": [
            "Train Loss: 1.4525, Train Acc: 43.65%\n",
            "Val Loss: 1.5656, Val Acc: 38.68%\n",
            "\n",
            "Epoch 23/30\n",
            "--------------------------------------------------\n"
          ]
        },
        {
          "output_type": "stream",
          "name": "stderr",
          "text": [
            "Training: 100%|██████████| 359/359 [00:33<00:00, 10.58it/s, loss=1.38, acc=44.1]\n",
            "Validation: 100%|██████████| 90/90 [00:04<00:00, 18.53it/s, loss=1.39, acc=40]\n"
          ]
        },
        {
          "output_type": "stream",
          "name": "stdout",
          "text": [
            "Train Loss: 1.4438, Train Acc: 44.09%\n",
            "Val Loss: 1.5573, Val Acc: 40.04%\n",
            "\n",
            "Epoch 24/30\n",
            "--------------------------------------------------\n"
          ]
        },
        {
          "output_type": "stream",
          "name": "stderr",
          "text": [
            "Training: 100%|██████████| 359/359 [00:33<00:00, 10.81it/s, loss=1.53, acc=44.9]\n",
            "Validation: 100%|██████████| 90/90 [00:05<00:00, 17.94it/s, loss=1.41, acc=40.1]\n"
          ]
        },
        {
          "output_type": "stream",
          "name": "stdout",
          "text": [
            "Train Loss: 1.4299, Train Acc: 44.95%\n",
            "Val Loss: 1.5637, Val Acc: 40.11%\n",
            "\n",
            "Epoch 25/30\n",
            "--------------------------------------------------\n"
          ]
        },
        {
          "output_type": "stream",
          "name": "stderr",
          "text": [
            "Training: 100%|██████████| 359/359 [00:33<00:00, 10.78it/s, loss=1.38, acc=44.8]\n",
            "Validation: 100%|██████████| 90/90 [00:06<00:00, 12.89it/s, loss=1.43, acc=39.3]\n"
          ]
        },
        {
          "output_type": "stream",
          "name": "stdout",
          "text": [
            "Train Loss: 1.4246, Train Acc: 44.79%\n",
            "Val Loss: 1.5658, Val Acc: 39.32%\n",
            "\n",
            "Epoch 26/30\n",
            "--------------------------------------------------\n"
          ]
        },
        {
          "output_type": "stream",
          "name": "stderr",
          "text": [
            "Training: 100%|██████████| 359/359 [00:32<00:00, 10.90it/s, loss=1.27, acc=45.8]\n",
            "Validation: 100%|██████████| 90/90 [00:06<00:00, 14.35it/s, loss=1.37, acc=40.5]\n"
          ]
        },
        {
          "output_type": "stream",
          "name": "stdout",
          "text": [
            "Train Loss: 1.4089, Train Acc: 45.75%\n",
            "Val Loss: 1.5389, Val Acc: 40.49%\n",
            "New best model saved with validation accuracy: 40.49%\n",
            "\n",
            "Epoch 27/30\n",
            "--------------------------------------------------\n"
          ]
        },
        {
          "output_type": "stream",
          "name": "stderr",
          "text": [
            "Training: 100%|██████████| 359/359 [00:33<00:00, 10.68it/s, loss=1.2, acc=46]\n",
            "Validation: 100%|██████████| 90/90 [00:04<00:00, 18.37it/s, loss=1.39, acc=38.2]\n"
          ]
        },
        {
          "output_type": "stream",
          "name": "stdout",
          "text": [
            "Train Loss: 1.4004, Train Acc: 45.96%\n",
            "Val Loss: 1.5984, Val Acc: 38.16%\n",
            "\n",
            "Epoch 28/30\n",
            "--------------------------------------------------\n"
          ]
        },
        {
          "output_type": "stream",
          "name": "stderr",
          "text": [
            "Training: 100%|██████████| 359/359 [00:42<00:00,  8.38it/s, loss=1.43, acc=46.6]\n",
            "Validation: 100%|██████████| 90/90 [00:06<00:00, 14.59it/s, loss=1.31, acc=40.9]\n"
          ]
        },
        {
          "output_type": "stream",
          "name": "stdout",
          "text": [
            "Train Loss: 1.3843, Train Acc: 46.65%\n",
            "Val Loss: 1.5514, Val Acc: 40.86%\n",
            "New best model saved with validation accuracy: 40.86%\n",
            "\n",
            "Epoch 29/30\n",
            "--------------------------------------------------\n"
          ]
        },
        {
          "output_type": "stream",
          "name": "stderr",
          "text": [
            "Training: 100%|██████████| 359/359 [00:33<00:00, 10.59it/s, loss=1.33, acc=46.7]\n",
            "Validation: 100%|██████████| 90/90 [00:05<00:00, 17.96it/s, loss=1.36, acc=40.4]\n"
          ]
        },
        {
          "output_type": "stream",
          "name": "stdout",
          "text": [
            "Train Loss: 1.3737, Train Acc: 46.71%\n",
            "Val Loss: 1.5682, Val Acc: 40.44%\n",
            "\n",
            "Epoch 30/30\n",
            "--------------------------------------------------\n"
          ]
        },
        {
          "output_type": "stream",
          "name": "stderr",
          "text": [
            "Training: 100%|██████████| 359/359 [00:34<00:00, 10.42it/s, loss=1.51, acc=47.6]\n",
            "Validation: 100%|██████████| 90/90 [00:06<00:00, 14.57it/s, loss=1.37, acc=39.1]"
          ]
        },
        {
          "output_type": "stream",
          "name": "stdout",
          "text": [
            "Train Loss: 1.3605, Train Acc: 47.63%\n",
            "Val Loss: 1.5755, Val Acc: 39.08%\n"
          ]
        },
        {
          "output_type": "stream",
          "name": "stderr",
          "text": [
            "\n"
          ]
        }
      ],
      "source": [
        "# Training loop\n",
        "train_losses = []\n",
        "train_accs = []\n",
        "val_losses = []\n",
        "val_accs = []\n",
        "best_val_acc = 0\n",
        "\n",
        "for epoch in range(30):\n",
        "    print(f'\\nEpoch {epoch+1}/30')\n",
        "    print('-' * 50)\n",
        "\n",
        "    # Train\n",
        "    train_loss, train_acc = train_epoch(model, train_loader, criterion, optimizer, device)\n",
        "    train_losses.append(train_loss)\n",
        "    train_accs.append(train_acc)\n",
        "\n",
        "    # Validate\n",
        "    val_loss, val_acc, predictions, labels = validate_epoch(model, val_loader, criterion, device)\n",
        "    val_losses.append(val_loss)\n",
        "    val_accs.append(val_acc)\n",
        "\n",
        "    # Log to W&B\n",
        "    wandb.log({\n",
        "        'epoch': epoch + 1,\n",
        "        'train_loss': train_loss,\n",
        "        'train_acc': train_acc,\n",
        "        'val_loss': val_loss,\n",
        "        'val_acc': val_acc,\n",
        "        'learning_rate': optimizer.param_groups[0]['lr']\n",
        "    })\n",
        "\n",
        "    print(f'Train Loss: {train_loss:.4f}, Train Acc: {train_acc:.2f}%')\n",
        "    print(f'Val Loss: {val_loss:.4f}, Val Acc: {val_acc:.2f}%')\n",
        "\n",
        "    # Save best model\n",
        "    if val_acc > best_val_acc:\n",
        "        best_val_acc = val_acc\n",
        "        torch.save(model.state_dict(), 'best_basic_nn_model.pth')\n",
        "        print(f'New best model saved with validation accuracy: {val_acc:.2f}%')"
      ]
    },
    {
      "cell_type": "code",
      "execution_count": 18,
      "metadata": {
        "colab": {
          "base_uri": "https://localhost:8080/",
          "height": 410
        },
        "id": "JYdCgnfw4HW5",
        "outputId": "7a8f1914-5d8d-4cec-dc7b-7cb32ee8974e"
      },
      "outputs": [
        {
          "output_type": "display_data",
          "data": {
            "text/plain": [
              "<Figure size 1400x500 with 2 Axes>"
            ],
            "image/png": "[encoded data removed]"
          },
          "metadata": {}
        }
      ],
      "source": [
        "# Plot training history\n",
        "fig, (ax1, ax2) = plt.subplots(1, 2, figsize=(14, 5))\n",
        "\n",
        "# Loss plot\n",
        "ax1.plot(train_losses, label='Train Loss', linewidth=2)\n",
        "ax1.plot(val_losses, label='Val Loss', linewidth=2)\n",
        "ax1.set_xlabel('Epoch')\n",
        "ax1.set_ylabel('Loss')\n",
        "ax1.set_title('Training and Validation Loss')\n",
        "ax1.legend()\n",
        "ax1.grid(True, alpha=0.3)\n",
        "\n",
        "# Accuracy plot\n",
        "ax2.plot(train_accs, label='Train Acc', linewidth=2)\n",
        "ax2.plot(val_accs, label='Val Acc', linewidth=2)\n",
        "ax2.set_xlabel('Epoch')\n",
        "ax2.set_ylabel('Accuracy (%)')\n",
        "ax2.set_title('Training and Validation Accuracy')\n",
        "ax2.legend()\n",
        "ax2.grid(True, alpha=0.3)\n",
        "\n",
        "plt.tight_layout()\n",
        "wandb.log({\"training_history\": wandb.Image(plt)})\n",
        "plt.show()"
      ]
    },
    {
      "cell_type": "code",
      "execution_count": 19,
      "metadata": {
        "colab": {
          "base_uri": "https://localhost:8080/",
          "height": 735
        },
        "id": "IRT4xL_W4HW5",
        "outputId": "f6d3ccbe-0863-4ef4-952b-dcc61a8d4248"
      },
      "outputs": [
        {
          "output_type": "stream",
          "name": "stderr",
          "text": [
            "Validation: 100%|██████████| 90/90 [00:07<00:00, 12.39it/s, loss=1.31, acc=40.9]\n"
          ]
        },
        {
          "output_type": "display_data",
          "data": {
            "text/plain": [
              "<Figure size 1000x800 with 2 Axes>"
            ],
            "image/png": "[encoded data removed]"
          },
          "metadata": {}
        }
      ],
      "source": [
        "# Load best model for final evaluation\n",
        "model.load_state_dict(torch.load('best_basic_nn_model.pth'))\n",
        "_, _, final_predictions, final_labels = validate_epoch(model, val_loader, criterion, device)\n",
        "\n",
        "# Confusion matrix\n",
        "cm = confusion_matrix(final_labels, final_predictions)\n",
        "plt.figure(figsize=(10, 8))\n",
        "sns.heatmap(cm, annot=True, fmt='d', cmap='Blues',\n",
        "            xticklabels=emotion_labels,\n",
        "            yticklabels=emotion_labels)\n",
        "plt.xlabel('Predicted')\n",
        "plt.ylabel('Actual')\n",
        "plt.title('Confusion Matrix - Basic NN')\n",
        "wandb.log({\"confusion_matrix\": wandb.Image(plt)})\n",
        "plt.show()"
      ]
    },
    {
      "cell_type": "code",
      "execution_count": 20,
      "metadata": {
        "colab": {
          "base_uri": "https://localhost:8080/"
        },
        "id": "-PAZXsPE4HW5",
        "outputId": "7b9c4157-8f62-46d9-eb30-c72a83c6047d"
      },
      "outputs": [
        {
          "output_type": "stream",
          "name": "stdout",
          "text": [
            "\n",
            "Classification Report:\n",
            "======================================================================\n",
            "              precision    recall  f1-score   support\n",
            "\n",
            "       Angry       0.37      0.18      0.24       811\n",
            "     Disgust       0.33      0.04      0.06        85\n",
            "        Fear       0.29      0.11      0.15       802\n",
            "       Happy       0.48      0.73      0.58      1437\n",
            "         Sad       0.30      0.36      0.33       940\n",
            "    Surprise       0.53      0.50      0.52       664\n",
            "     Neutral       0.35      0.40      0.37      1003\n",
            "\n",
            "    accuracy                           0.41      5742\n",
            "   macro avg       0.38      0.33      0.32      5742\n",
            "weighted avg       0.39      0.41      0.38      5742\n",
            "\n"
          ]
        }
      ],
      "source": [
        "# Classification report\n",
        "print(\"\\nClassification Report:\")\n",
        "print(\"=\" * 70)\n",
        "report = classification_report(final_labels, final_predictions,\n",
        "                             target_names=emotion_labels,\n",
        "                             output_dict=True)\n",
        "print(classification_report(final_labels, final_predictions, target_names=emotion_labels))\n",
        "\n",
        "# Log per-class metrics to W&B\n",
        "for emotion in emotion_labels:\n",
        "    wandb.log({\n",
        "        f\"{emotion}_precision\": report[emotion]['precision'],\n",
        "        f\"{emotion}_recall\": report[emotion]['recall'],\n",
        "        f\"{emotion}_f1\": report[emotion]['f1-score']\n",
        "    })"
      ]
    },
    {
      "cell_type": "code",
      "execution_count": 21,
      "metadata": {
        "colab": {
          "base_uri": "https://localhost:8080/"
        },
        "id": "480mvNlc4HW5",
        "outputId": "b19d0d8e-41db-427c-b1fa-1d45f09fbeae"
      },
      "outputs": [
        {
          "output_type": "stream",
          "name": "stdout",
          "text": [
            "\n",
            "Total misclassifications: 3396 out of 5742\n",
            "Misclassification rate: 59.14%\n"
          ]
        }
      ],
      "source": [
        "# Analyze misclassifications\n",
        "misclassified_indices = np.where(np.array(final_predictions) != np.array(final_labels))[0]\n",
        "correct_indices = np.where(np.array(final_predictions) == np.array(final_labels))[0]\n",
        "\n",
        "print(f\"\\nTotal misclassifications: {len(misclassified_indices)} out of {len(final_labels)}\")\n",
        "print(f\"Misclassification rate: {len(misclassified_indices)/len(final_labels)*100:.2f}%\")"
      ]
    },
    {
      "cell_type": "code",
      "execution_count": 22,
      "metadata": {
        "id": "D2f_emuy4HW5"
      },
      "outputs": [],
      "source": [
        "# Save final model and log to W&B\n",
        "torch.save(model.state_dict(), 'final_basic_nn_model.pth')\n",
        "wandb.save('final_basic_nn_model.pth')\n",
        "wandb.save('best_basic_nn_model.pth')\n",
        "\n",
        "# Summary statistics\n",
        "summary_stats = {\n",
        "    \"final_train_accuracy\": train_accs[-1],\n",
        "    \"final_val_accuracy\": val_accs[-1],\n",
        "    \"best_val_accuracy\": best_val_acc,\n",
        "    \"overfitting_gap\": train_accs[-1] - val_accs[-1],\n",
        "    \"total_parameters\": model.total_params,\n",
        "    \"macro_f1_score\": report['macro avg']['f1-score'],\n",
        "    \"weighted_f1_score\": report['weighted avg']['f1-score']\n",
        "}\n",
        "\n",
        "wandb.log(summary_stats)"
      ]
    },
    {
      "cell_type": "code",
      "execution_count": 23,
      "metadata": {
        "colab": {
          "base_uri": "https://localhost:8080/",
          "height": 1000
        },
        "id": "107Ay3sP4HW5",
        "outputId": "ba31c571-cd26-4270-bad2-6368962fdbdb"
      },
      "outputs": [
        {
          "output_type": "stream",
          "name": "stdout",
          "text": [
            "\n",
            "======================================================================\n",
            "EXPERIMENT SUMMARY: BASIC NEURAL NETWORK\n",
            "======================================================================\n",
            "\n",
            "Model Architecture:\n",
            "  - Input Layer: 2,304 neurons (48x48 pixels)\n",
            "  - Hidden Layer 1: 512 neurons\n",
            "  - Hidden Layer 2: 256 neurons\n",
            "  - Hidden Layer 3: 128 neurons\n",
            "  - Output Layer: 7 neurons (emotions)\n",
            "  - Total Parameters: 1,345,287\n",
            "\n",
            "Performance Metrics:\n",
            "  - Final Training Accuracy: 47.63%\n",
            "  - Final Validation Accuracy: 39.08%\n",
            "  - Best Validation Accuracy: 40.86%\n",
            "  - Overfitting Gap: 8.55%\n",
            "  - Macro F1-Score: 0.322\n",
            "\n",
            "Key Findings:\n",
            "  1. Basic NN treats the image as a flat vector, losing spatial structure\n",
            "  2. Performance is significantly limited compared to expected CNN performance\n",
            "  3. The model shows signs of overfitting despite relatively low accuracy\n",
            "  4. High parameter count (1.28M) for the achieved performance\n",
            "  5. Certain emotions (Happy, Surprise) are easier to classify than others\n",
            "\n",
            "Conclusions:\n",
            "  - Spatial information is crucial for facial expression recognition\n",
            "  - Convolutional layers should significantly improve performance\n",
            "  - Need for better feature extraction mechanisms\n",
            "======================================================================\n"
          ]
        },
        {
          "output_type": "display_data",
          "data": {
            "text/plain": [
              "<IPython.core.display.HTML object>"
            ],
            "text/html": []
          },
          "metadata": {}
        },
        {
          "output_type": "display_data",
          "data": {
            "text/plain": [
              "<IPython.core.display.HTML object>"
            ],
            "text/html": [
              "<br>    <style><br>        .wandb-row {<br>            display: flex;<br>            flex-direction: row;<br>            flex-wrap: wrap;<br>            justify-content: flex-start;<br>            width: 100%;<br>        }<br>        .wandb-col {<br>            display: flex;<br>            flex-direction: column;<br>            flex-basis: 100%;<br>            flex: 1;<br>            padding: 10px;<br>        }<br>    </style><br><div class=\"wandb-row\"><div class=\"wandb-col\"><h3>Run history:</h3><br/><table class=\"wandb\"><tr><td>Angry_f1</td><td>▁</td></tr><tr><td>Angry_precision</td><td>▁</td></tr><tr><td>Angry_recall</td><td>▁</td></tr><tr><td>Disgust_f1</td><td>▁</td></tr><tr><td>Disgust_precision</td><td>▁</td></tr><tr><td>Disgust_recall</td><td>▁</td></tr><tr><td>Fear_f1</td><td>▁</td></tr><tr><td>Fear_precision</td><td>▁</td></tr><tr><td>Fear_recall</td><td>▁</td></tr><tr><td>Happy_f1</td><td>▁</td></tr><tr><td>Happy_precision</td><td>▁</td></tr><tr><td>Happy_recall</td><td>▁</td></tr><tr><td>Neutral_f1</td><td>▁</td></tr><tr><td>Neutral_precision</td><td>▁</td></tr><tr><td>Neutral_recall</td><td>▁</td></tr><tr><td>Sad_f1</td><td>▁</td></tr><tr><td>Sad_precision</td><td>▁</td></tr><tr><td>Sad_recall</td><td>▁</td></tr><tr><td>Surprise_f1</td><td>▁</td></tr><tr><td>Surprise_precision</td><td>▁</td></tr><tr><td>Surprise_recall</td><td>▁</td></tr><tr><td>best_val_accuracy</td><td>▁</td></tr><tr><td>epoch</td><td>▁▁▁▂▂▂▂▃▃▃▃▄▄▄▄▅▅▅▅▆▆▆▆▇▇▇▇███</td></tr><tr><td>final_train_accuracy</td><td>▁</td></tr><tr><td>final_val_accuracy</td><td>▁</td></tr><tr><td>learning_rate</td><td>▁▁▁▁▁▁▁▁▁▁▁▁▁▁▁▁▁▁▁▁▁▁▁▁▁▁▁▁▁▁</td></tr><tr><td>macro_f1_score</td><td>▁</td></tr><tr><td>overfitting_gap</td><td>▁</td></tr><tr><td>total_parameters</td><td>▁</td></tr><tr><td>train_acc</td><td>▁▃▄▄▄▄▄▅▅▅▅▅▅▆▆▆▆▆▆▆▇▇▇▇▇▇▇███</td></tr><tr><td>train_loss</td><td>█▇▆▆▆▅▅▅▅▄▅▄▄▄▄▃▃▃▃▃▃▃▂▂▂▂▂▁▁▁</td></tr><tr><td>val_acc</td><td>▁▂▃▃▅▆▆▇▆▆▆▆▆▅▄▇▆▆▇▆█▆▇▇▇█▆██▇</td></tr><tr><td>val_loss</td><td>█▇▆▆▅▄▃▃▃▄▃▂▂▃▄▂▂▃▂▂▁▂▂▂▂▁▃▁▂▂</td></tr><tr><td>weighted_f1_score</td><td>▁</td></tr></table><br/></div><div class=\"wandb-col\"><h3>Run summary:</h3><br/><table class=\"wandb\"><tr><td>Angry_f1</td><td>0.23893</td></tr><tr><td>Angry_precision</td><td>0.37047</td></tr><tr><td>Angry_recall</td><td>0.17633</td></tr><tr><td>Disgust_f1</td><td>0.06383</td></tr><tr><td>Disgust_precision</td><td>0.33333</td></tr><tr><td>Disgust_recall</td><td>0.03529</td></tr><tr><td>Fear_f1</td><td>0.15469</td></tr><tr><td>Fear_precision</td><td>0.2862</td></tr><tr><td>Fear_recall</td><td>0.10599</td></tr><tr><td>Happy_f1</td><td>0.58152</td></tr><tr><td>Happy_precision</td><td>0.48447</td></tr><tr><td>Happy_recall</td><td>0.72721</td></tr><tr><td>Neutral_f1</td><td>0.37309</td></tr><tr><td>Neutral_precision</td><td>0.34896</td></tr><tr><td>Neutral_recall</td><td>0.4008</td></tr><tr><td>Sad_f1</td><td>0.32522</td></tr><tr><td>Sad_precision</td><td>0.29982</td></tr><tr><td>Sad_recall</td><td>0.35532</td></tr><tr><td>Surprise_f1</td><td>0.51743</td></tr><tr><td>Surprise_precision</td><td>0.5327</td></tr><tr><td>Surprise_recall</td><td>0.50301</td></tr><tr><td>best_val_accuracy</td><td>40.85684</td></tr><tr><td>epoch</td><td>30</td></tr><tr><td>final_train_accuracy</td><td>47.62921</td></tr><tr><td>final_val_accuracy</td><td>39.08046</td></tr><tr><td>learning_rate</td><td>0.001</td></tr><tr><td>macro_f1_score</td><td>0.3221</td></tr><tr><td>overfitting_gap</td><td>8.54875</td></tr><tr><td>total_parameters</td><td>1345287</td></tr><tr><td>train_acc</td><td>47.62921</td></tr><tr><td>train_loss</td><td>1.36052</td></tr><tr><td>val_acc</td><td>39.08046</td></tr><tr><td>val_loss</td><td>1.57554</td></tr><tr><td>weighted_f1_score</td><td>0.38008</td></tr></table><br/></div></div>"
            ]
          },
          "metadata": {}
        },
        {
          "output_type": "display_data",
          "data": {
            "text/plain": [
              "<IPython.core.display.HTML object>"
            ],
            "text/html": [
              " View run <strong style=\"color:#cdcd00\">exp01-basic-nn</strong> at: <a href='https://wandb.ai/qitiashvili13-free-university-of-tbilisi-/fer-challenge/runs/kwyu7wlq' target=\"_blank\">https://wandb.ai/qitiashvili13-free-university-of-tbilisi-/fer-challenge/runs/kwyu7wlq</a><br> View project at: <a href='https://wandb.ai/qitiashvili13-free-university-of-tbilisi-/fer-challenge' target=\"_blank\">https://wandb.ai/qitiashvili13-free-university-of-tbilisi-/fer-challenge</a><br>Synced 5 W&B file(s), 3 media file(s), 0 artifact file(s) and 2 other file(s)"
            ]
          },
          "metadata": {}
        },
        {
          "output_type": "display_data",
          "data": {
            "text/plain": [
              "<IPython.core.display.HTML object>"
            ],
            "text/html": [
              "Find logs at: <code>./wandb/run-20250608_142150-kwyu7wlq/logs</code>"
            ]
          },
          "metadata": {}
        }
      ],
      "source": [
        "# Final summary\n",
        "print(\"\\n\" + \"=\" * 70)\n",
        "print(\"EXPERIMENT SUMMARY: BASIC NEURAL NETWORK\")\n",
        "print(\"=\" * 70)\n",
        "print(f\"\\nModel Architecture:\")\n",
        "print(f\"  - Input Layer: 2,304 neurons (48x48 pixels)\")\n",
        "print(f\"  - Hidden Layer 1: 512 neurons\")\n",
        "print(f\"  - Hidden Layer 2: 256 neurons\")\n",
        "print(f\"  - Hidden Layer 3: 128 neurons\")\n",
        "print(f\"  - Output Layer: 7 neurons (emotions)\")\n",
        "print(f\"  - Total Parameters: {model.total_params:,}\")\n",
        "\n",
        "print(f\"\\nPerformance Metrics:\")\n",
        "print(f\"  - Final Training Accuracy: {train_accs[-1]:.2f}%\")\n",
        "print(f\"  - Final Validation Accuracy: {val_accs[-1]:.2f}%\")\n",
        "print(f\"  - Best Validation Accuracy: {best_val_acc:.2f}%\")\n",
        "print(f\"  - Overfitting Gap: {train_accs[-1] - val_accs[-1]:.2f}%\")\n",
        "print(f\"  - Macro F1-Score: {report['macro avg']['f1-score']:.3f}\")\n",
        "\n",
        "print(\"\\nKey Findings:\")\n",
        "print(\"  1. Basic NN treats the image as a flat vector, losing spatial structure\")\n",
        "print(\"  2. Performance is significantly limited compared to expected CNN performance\")\n",
        "print(\"  3. The model shows signs of overfitting despite relatively low accuracy\")\n",
        "print(\"  4. High parameter count (1.28M) for the achieved performance\")\n",
        "print(\"  5. Certain emotions (Happy, Surprise) are easier to classify than others\")\n",
        "\n",
        "print(\"\\nConclusions:\")\n",
        "print(\"  - Spatial information is crucial for facial expression recognition\")\n",
        "print(\"  - Convolutional layers should significantly improve performance\")\n",
        "print(\"  - Need for better feature extraction mechanisms\")\n",
        "print(\"=\" * 70)\n",
        "\n",
        "# Close W&B run\n",
        "wandb.finish()"
      ]
    },
    {
      "cell_type": "code",
      "source": [],
      "metadata": {
        "id": "L_v6j9kW_5ZP"
      },
      "execution_count": null,
      "outputs": []
    }
  ],
  "metadata": {
    "kernelspec": {
      "display_name": "Python 3",
      "language": "python",
      "name": "python3"
    },
    "language_info": {
      "codemirror_mode": {
        "name": "ipython",
        "version": 3
      },
      "file_extension": ".py",
      "mimetype": "text/x-python",
      "name": "python",
      "nbconvert_exporter": "python",
      "pygments_lexer": "ipython3",
      "version": "3.8.0"
    },
    "colab": {
      "provenance": []
    }
  },
  "nbformat": 4,
  "nbformat_minor": 0
}