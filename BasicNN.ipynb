{
  "cells": [
    {
      "cell_type": "markdown",
      "metadata": {
        "id": "view-in-github",
        "colab_type": "text"
      },
      "source": [
        "<a href=\"https://colab.research.google.com/github/g-kitiashvili/ML-Assignment4/blob/main/BasicNN.ipynb\" target=\"_parent\"><img src=\"https://colab.research.google.com/assets/colab-badge.svg\" alt=\"Open In Colab\"/></a>"
      ]
    },
    {
      "cell_type": "markdown",
      "metadata": {
        "id": "nmtkusOl4HW0"
      },
      "source": [
        "# Experiment 01: Basic Neural Network Baseline\n",
        "## Objective: Demonstrate why CNNs are better than fully connected networks for image data\n",
        "\n",
        "This experiment uses a simple fully connected neural network to establish a baseline for the FER2013 dataset."
      ]
    },
    {
      "cell_type": "code",
      "execution_count": 1,
      "metadata": {
        "id": "1dU0EYae4HW2"
      },
      "outputs": [],
      "source": [
        "# Install necessary packages\n",
        "!pip install wandb -q\n",
        "!pip install kaggle -q"
      ]
    },
    {
      "cell_type": "code",
      "execution_count": 2,
      "metadata": {
        "id": "tpTD3oWZ4HW2"
      },
      "outputs": [],
      "source": [
        "# Import necessary libraries\n",
        "import torch\n",
        "import torch.nn as nn\n",
        "import torch.optim as optim\n",
        "from torch.utils.data import Dataset, DataLoader\n",
        "import pandas as pd\n",
        "import numpy as np\n",
        "import matplotlib.pyplot as plt\n",
        "import seaborn as sns\n",
        "from sklearn.metrics import confusion_matrix, classification_report\n",
        "import wandb\n",
        "from tqdm import tqdm\n",
        "import os\n",
        "import warnings\n",
        "warnings.filterwarnings('ignore')"
      ]
    },
    {
      "cell_type": "code",
      "execution_count": 3,
      "metadata": {
        "colab": {
          "base_uri": "https://localhost:8080/"
        },
        "id": "M73UcDPI4HW2",
        "outputId": "da43afbb-9606-495d-919c-201ba13e9986"
      },
      "outputs": [
        {
          "output_type": "stream",
          "name": "stdout",
          "text": [
            "Mounted at /content/drive\n"
          ]
        }
      ],
      "source": [
        "# Mount Google Drive (optional - for saving results)\n",
        "from google.colab import drive\n",
        "drive.mount('/content/drive')"
      ]
    },
    {
      "cell_type": "code",
      "execution_count": 4,
      "metadata": {
        "id": "6ycSrFpB4HW3"
      },
      "outputs": [],
      "source": [
        "\n",
        "\n",
        "# Setup kaggle directory\n",
        "!mkdir -p ~/.kaggle\n",
        "!cp /content/drive/MyDrive/kaggle.json ~/.kaggle/\n",
        "!chmod 600 ~/.kaggle/kaggle.json"
      ]
    },
    {
      "cell_type": "code",
      "execution_count": 5,
      "metadata": {
        "colab": {
          "base_uri": "https://localhost:8080/"
        },
        "id": "zAHQKAHl4HW3",
        "outputId": "845ceae9-5ba0-4825-f287-799974e15d63"
      },
      "outputs": [
        {
          "output_type": "stream",
          "name": "stdout",
          "text": [
            "Downloading challenges-in-representation-learning-facial-expression-recognition-challenge.zip to /content\n",
            " 81% 232M/285M [00:00<00:00, 669MB/s] \n",
            "100% 285M/285M [00:00<00:00, 660MB/s]\n",
            "challenges-in-representation-learning-facial-expression-recognition-challenge.zip\n",
            "drive\n",
            "example_submission.csv\n",
            "fer2013.tar.gz\n",
            "icml_face_data.csv\n",
            "sample_data\n",
            "test.csv\n",
            "train.csv\n"
          ]
        }
      ],
      "source": [
        "# Download FER2013 dataset from Kaggle\n",
        "!kaggle competitions download -c challenges-in-representation-learning-facial-expression-recognition-challenge\n",
        "\n",
        "# Extract the dataset\n",
        "!unzip -q challenges-in-representation-learning-facial-expression-recognition-challenge.zip\n",
        "!ls"
      ]
    },
    {
      "cell_type": "code",
      "execution_count": 6,
      "metadata": {
        "colab": {
          "base_uri": "https://localhost:8080/",
          "height": 260
        },
        "id": "ZoQsiiwm4HW3",
        "outputId": "ad30a1da-3c25-4931-e597-d0ac1aaf5c69"
      },
      "outputs": [
        {
          "output_type": "display_data",
          "data": {
            "text/plain": [
              "<IPython.core.display.Javascript object>"
            ],
            "application/javascript": [
              "\n",
              "        window._wandbApiKey = new Promise((resolve, reject) => {\n",
              "            function loadScript(url) {\n",
              "            return new Promise(function(resolve, reject) {\n",
              "                let newScript = document.createElement(\"script\");\n",
              "                newScript.onerror = reject;\n",
              "                newScript.onload = resolve;\n",
              "                document.body.appendChild(newScript);\n",
              "                newScript.src = url;\n",
              "            });\n",
              "            }\n",
              "            loadScript(\"https://cdn.jsdelivr.net/npm/postmate/build/postmate.min.js\").then(() => {\n",
              "            const iframe = document.createElement('iframe')\n",
              "            iframe.style.cssText = \"width:0;height:0;border:none\"\n",
              "            document.body.appendChild(iframe)\n",
              "            const handshake = new Postmate({\n",
              "                container: iframe,\n",
              "                url: 'https://wandb.ai/authorize'\n",
              "            });\n",
              "            const timeout = setTimeout(() => reject(\"Couldn't auto authenticate\"), 5000)\n",
              "            handshake.then(function(child) {\n",
              "                child.on('authorize', data => {\n",
              "                    clearTimeout(timeout)\n",
              "                    resolve(data)\n",
              "                });\n",
              "            });\n",
              "            })\n",
              "        });\n",
              "    "
            ]
          },
          "metadata": {}
        },
        {
          "output_type": "stream",
          "name": "stderr",
          "text": [
            "\u001b[34m\u001b[1mwandb\u001b[0m: Logging into wandb.ai. (Learn how to deploy a W&B server locally: https://wandb.me/wandb-server)\n",
            "\u001b[34m\u001b[1mwandb\u001b[0m: You can find your API key in your browser here: https://wandb.ai/authorize\n",
            "wandb: Paste an API key from your profile and hit enter:"
          ]
        },
        {
          "name": "stdout",
          "output_type": "stream",
          "text": [
            " ··········\n"
          ]
        },
        {
          "output_type": "stream",
          "name": "stderr",
          "text": [
            "\u001b[34m\u001b[1mwandb\u001b[0m: \u001b[33mWARNING\u001b[0m If you're specifying your api key in code, ensure this code is not shared publicly.\n",
            "\u001b[34m\u001b[1mwandb\u001b[0m: \u001b[33mWARNING\u001b[0m Consider setting the WANDB_API_KEY environment variable, or running `wandb login` from the command line.\n",
            "\u001b[34m\u001b[1mwandb\u001b[0m: No netrc file found, creating one.\n",
            "\u001b[34m\u001b[1mwandb\u001b[0m: Appending key for api.wandb.ai to your netrc file: /root/.netrc\n",
            "\u001b[34m\u001b[1mwandb\u001b[0m: Currently logged in as: \u001b[33mqitiashvili13\u001b[0m (\u001b[33mqitiashvili13-free-university-of-tbilisi-\u001b[0m) to \u001b[32mhttps://api.wandb.ai\u001b[0m. Use \u001b[1m`wandb login --relogin`\u001b[0m to force relogin\n"
          ]
        },
        {
          "output_type": "display_data",
          "data": {
            "text/plain": [
              "<IPython.core.display.HTML object>"
            ],
            "text/html": [
              "Tracking run with wandb version 0.19.11"
            ]
          },
          "metadata": {}
        },
        {
          "output_type": "display_data",
          "data": {
            "text/plain": [
              "<IPython.core.display.HTML object>"
            ],
            "text/html": [
              "Run data is saved locally in <code>/content/wandb/run-20250609_211254-v932eei5</code>"
            ]
          },
          "metadata": {}
        },
        {
          "output_type": "display_data",
          "data": {
            "text/plain": [
              "<IPython.core.display.HTML object>"
            ],
            "text/html": [
              "Syncing run <strong><a href='https://wandb.ai/qitiashvili13-free-university-of-tbilisi-/fer-challenge/runs/v932eei5' target=\"_blank\">exp01-basic-nn</a></strong> to <a href='https://wandb.ai/qitiashvili13-free-university-of-tbilisi-/fer-challenge' target=\"_blank\">Weights & Biases</a> (<a href='https://wandb.me/developer-guide' target=\"_blank\">docs</a>)<br>"
            ]
          },
          "metadata": {}
        },
        {
          "output_type": "display_data",
          "data": {
            "text/plain": [
              "<IPython.core.display.HTML object>"
            ],
            "text/html": [
              " View project at <a href='https://wandb.ai/qitiashvili13-free-university-of-tbilisi-/fer-challenge' target=\"_blank\">https://wandb.ai/qitiashvili13-free-university-of-tbilisi-/fer-challenge</a>"
            ]
          },
          "metadata": {}
        },
        {
          "output_type": "display_data",
          "data": {
            "text/plain": [
              "<IPython.core.display.HTML object>"
            ],
            "text/html": [
              " View run at <a href='https://wandb.ai/qitiashvili13-free-university-of-tbilisi-/fer-challenge/runs/v932eei5' target=\"_blank\">https://wandb.ai/qitiashvili13-free-university-of-tbilisi-/fer-challenge/runs/v932eei5</a>"
            ]
          },
          "metadata": {}
        }
      ],
      "source": [
        "# Initialize W&B\n",
        "wandb.login()\n",
        "run = wandb.init(\n",
        "    project=\"fer-challenge\",\n",
        "    name=\"exp01-basic-nn\",\n",
        "    config={\n",
        "        \"architecture\": \"Basic NN\",\n",
        "        \"dataset\": \"FER2013\",\n",
        "        \"epochs\": 30,\n",
        "        \"batch_size\": 64,\n",
        "        \"learning_rate\": 0.001,\n",
        "        \"hidden_size1\": 512,\n",
        "        \"hidden_size2\": 256,\n",
        "        \"hidden_size3\": 128,\n",
        "        \"input_size\": 48*48,\n",
        "        \"num_classes\": 7\n",
        "    }\n",
        ")\n",
        "# api key 380014f2a984b49876832184c6bd2dcddb337047"
      ]
    },
    {
      "cell_type": "code",
      "execution_count": 7,
      "metadata": {
        "colab": {
          "base_uri": "https://localhost:8080/"
        },
        "id": "lSdHpfNn4HW3",
        "outputId": "1e1df202-d66f-4713-842d-dbdfe420f80f"
      },
      "outputs": [
        {
          "output_type": "stream",
          "name": "stdout",
          "text": [
            "Training data shape: (28709, 2)\n",
            "Test data shape: (7178, 1)\n",
            "\n",
            "Training data columns: ['emotion', 'pixels']\n",
            "\n",
            "Emotion distribution:\n",
            "emotion\n",
            "0    3995\n",
            "1     436\n",
            "2    4097\n",
            "3    7215\n",
            "4    4830\n",
            "5    3171\n",
            "6    4965\n",
            "Name: count, dtype: int64\n",
            "\n",
            "Checking 'pixels' column data types...\n",
            "Removed 28709 rows from training set due to non-string 'pixels'.\n",
            "Removed 3589 rows from test set due to non-string 'pixels'.\n",
            "\n",
            "Merged Train shape (after filtering): (28709, 3)\n",
            "Merged Test shape (after filtering): (7178, 3)\n",
            "\n",
            "Emotion distribution in merged train set:\n",
            "emotion\n",
            "0    3995\n",
            "1     436\n",
            "2    4097\n",
            "3    7215\n",
            "4    4830\n",
            "5    3171\n",
            "6    4965\n",
            "Name: count, dtype: int64\n",
            "\n",
            "Emotion distribution in merged test set:\n",
            "Series([], Name: count, dtype: int64)\n"
          ]
        }
      ],
      "source": [
        "# Load and explore the data\n",
        "train_df = pd.read_csv('train.csv')\n",
        "test_df = pd.read_csv('test.csv')\n",
        "\n",
        "print(f\"Training data shape: {train_df.shape}\")\n",
        "print(f\"Test data shape: {test_df.shape}\")\n",
        "print(\"\\nTraining data columns:\", train_df.columns.tolist())\n",
        "print(\"\\nEmotion distribution:\")\n",
        "print(train_df['emotion'].value_counts().sort_index())\n",
        "\n",
        "icml_df = pd.read_csv('icml_face_data.csv')\n",
        "\n",
        "# Split ICML data based on 'Usage'\n",
        "icml_train = icml_df[icml_df[' Usage'] == 'Training']\n",
        "icml_test = icml_df[icml_df[' Usage'].isin(['PublicTest', 'Other'])]\n",
        "\n",
        "# Drop the 'Usage' column (not needed after splitting)\n",
        "icml_train = icml_train.drop(columns=[' Usage'])\n",
        "icml_test = icml_test.drop(columns=[' Usage'])\n",
        "\n",
        "# Merge datasets\n",
        "train_df = pd.concat([train_df, icml_train], ignore_index=True)\n",
        "test_df = pd.concat([test_df, icml_test], ignore_index=True)\n",
        "\n",
        "# **Added data type check and filtering**\n",
        "print(\"\\nChecking 'pixels' column data types...\")\n",
        "initial_train_rows = len(train_df)\n",
        "initial_test_rows = len(test_df)\n",
        "\n",
        "train_df = train_df[train_df['pixels'].apply(lambda x: isinstance(x, str))]\n",
        "test_df = test_df[test_df['pixels'].apply(lambda x: isinstance(x, str))]\n",
        "\n",
        "print(f\"Removed {initial_train_rows - len(train_df)} rows from training set due to non-string 'pixels'.\")\n",
        "print(f\"Removed {initial_test_rows - len(test_df)} rows from test set due to non-string 'pixels'.\")\n",
        "\n",
        "# Shuffle the merged datasets (optional but recommended)\n",
        "train_df = train_df.sample(frac=1, random_state=42).reset_index(drop=True)\n",
        "test_df = test_df.sample(frac=1, random_state=42).reset_index(drop=True)\n",
        "\n",
        "# Output shapes and emotion distribution\n",
        "print(\"\\nMerged Train shape (after filtering):\", train_df.shape)\n",
        "print(\"Merged Test shape (after filtering):\", test_df.shape)\n",
        "\n",
        "print(\"\\nEmotion distribution in merged train set:\")\n",
        "print(train_df['emotion'].value_counts().sort_index())\n",
        "\n",
        "print(\"\\nEmotion distribution in merged test set:\")\n",
        "print(test_df['emotion'].value_counts().sort_index())"
      ]
    },
    {
      "cell_type": "code",
      "execution_count": 8,
      "metadata": {
        "colab": {
          "base_uri": "https://localhost:8080/",
          "height": 610
        },
        "id": "nTBAKBy34HW4",
        "outputId": "9080fcc0-a844-4de3-dd48-56f86f4b4053"
      },
      "outputs": [
        {
          "output_type": "display_data",
          "data": {
            "text/plain": [
              "<Figure size 1200x600 with 8 Axes>"
            ],
            "image/png": "[encoded data removed]"
          },
          "metadata": {}
        }
      ],
      "source": [
        "# Visualize sample images\n",
        "emotion_labels = ['Angry', 'Disgust', 'Fear', 'Happy', 'Sad', 'Surprise', 'Neutral']\n",
        "\n",
        "fig, axes = plt.subplots(2, 4, figsize=(12, 6))\n",
        "axes = axes.ravel()\n",
        "\n",
        "for i in range(8):\n",
        "    idx = np.random.randint(0, len(train_df))\n",
        "    pixels = train_df.iloc[idx]['pixels']\n",
        "    emotion = train_df.iloc[idx]['emotion']\n",
        "\n",
        "    # Convert pixel string to array and reshape\n",
        "    pixels = np.array([int(pixel) for pixel in pixels.split(' ')], dtype=np.uint8)\n",
        "    pixels = pixels.reshape(48, 48)\n",
        "\n",
        "    axes[i].imshow(pixels, cmap='gray')\n",
        "    axes[i].set_title(f'{emotion_labels[emotion]}')\n",
        "    axes[i].axis('off')\n",
        "\n",
        "plt.suptitle('Sample Images from FER2013 Dataset')\n",
        "plt.tight_layout()\n",
        "wandb.log({\"sample_images\": wandb.Image(plt)})\n",
        "plt.show()"
      ]
    },
    {
      "cell_type": "code",
      "execution_count": 9,
      "metadata": {
        "id": "vWhlBlHU4HW4"
      },
      "outputs": [],
      "source": [
        "# Custom Dataset Class\n",
        "class FERDataset(Dataset):\n",
        "    def __init__(self, dataframe, transform=None):\n",
        "        self.data = dataframe\n",
        "        self.transform = transform\n",
        "\n",
        "    def __len__(self):\n",
        "        return len(self.data)\n",
        "\n",
        "    def __getitem__(self, idx):\n",
        "        pixels = self.data.iloc[idx]['pixels']\n",
        "        emotion = self.data.iloc[idx]['emotion']\n",
        "\n",
        "        # Convert pixel string to numpy array\n",
        "        pixels = np.array([int(pixel) for pixel in pixels.split(' ')], dtype=np.float32)\n",
        "        pixels = pixels / 255.0  # Normalize to [0, 1]\n",
        "\n",
        "        # For basic NN, we keep it as a flat vector\n",
        "        # For CNN experiments, we'll reshape to (1, 48, 48)\n",
        "\n",
        "        return torch.tensor(pixels), torch.tensor(emotion, dtype=torch.long)"
      ]
    },
    {
      "cell_type": "code",
      "execution_count": 10,
      "metadata": {
        "colab": {
          "base_uri": "https://localhost:8080/"
        },
        "id": "apRhJIJ94HW4",
        "outputId": "9e20f342-6193-43ec-84ba-ed12b6ac6763"
      },
      "outputs": [
        {
          "output_type": "stream",
          "name": "stdout",
          "text": [
            "Train size: 22967\n",
            "Validation size: 5742\n"
          ]
        }
      ],
      "source": [
        "# Create datasets\n",
        "full_dataset = FERDataset(train_df)\n",
        "\n",
        "# Split into train and validation\n",
        "train_size = int(0.8 * len(full_dataset))\n",
        "val_size = len(full_dataset) - train_size\n",
        "train_dataset, val_dataset = torch.utils.data.random_split(full_dataset, [train_size, val_size])\n",
        "\n",
        "print(f\"Train size: {len(train_dataset)}\")\n",
        "print(f\"Validation size: {len(val_dataset)}\")\n",
        "\n",
        "# Create data loaders\n",
        "train_loader = DataLoader(train_dataset, batch_size=64, shuffle=True, num_workers=2)\n",
        "val_loader = DataLoader(val_dataset, batch_size=64, shuffle=False, num_workers=2)"
      ]
    },
    {
      "cell_type": "code",
      "execution_count": 11,
      "metadata": {
        "id": "Tz1n-8rT4HW4"
      },
      "outputs": [],
      "source": [
        "# Basic Neural Network Model\n",
        "class BasicNN(nn.Module):\n",
        "    def __init__(self, input_size=48*48, hidden_size1=512, hidden_size2=256, hidden_size3=128, num_classes=7):\n",
        "        super(BasicNN, self).__init__()\n",
        "\n",
        "        self.fc1 = nn.Linear(input_size, hidden_size1)\n",
        "        self.relu1 = nn.ReLU()\n",
        "\n",
        "        self.fc2 = nn.Linear(hidden_size1, hidden_size2)\n",
        "        self.relu2 = nn.ReLU()\n",
        "\n",
        "        self.fc3 = nn.Linear(hidden_size2, hidden_size3)\n",
        "        self.relu3 = nn.ReLU()\n",
        "\n",
        "        self.fc4 = nn.Linear(hidden_size3, num_classes)\n",
        "\n",
        "        # Calculate total parameters\n",
        "        self.total_params = sum(p.numel() for p in self.parameters())\n",
        "\n",
        "    def forward(self, x):\n",
        "        out = self.fc1(x)\n",
        "        out = self.relu1(out)\n",
        "\n",
        "        out = self.fc2(out)\n",
        "        out = self.relu2(out)\n",
        "\n",
        "        out = self.fc3(out)\n",
        "        out = self.relu3(out)\n",
        "\n",
        "        out = self.fc4(out)\n",
        "        return out"
      ]
    },
    {
      "cell_type": "code",
      "execution_count": 12,
      "metadata": {
        "colab": {
          "base_uri": "https://localhost:8080/"
        },
        "id": "rL0U9bQk4HW4",
        "outputId": "6a3b8c4b-df0a-4471-8488-77f115891c88"
      },
      "outputs": [
        {
          "output_type": "stream",
          "name": "stdout",
          "text": [
            "Using device: cpu\n",
            "Total parameters: 1,345,287\n"
          ]
        }
      ],
      "source": [
        "# Initialize model, loss, optimizer\n",
        "device = torch.device('cuda' if torch.cuda.is_available() else 'cpu')\n",
        "print(f\"Using device: {device}\")\n",
        "\n",
        "model = BasicNN().to(device)\n",
        "print(f\"Total parameters: {model.total_params:,}\")\n",
        "\n",
        "criterion = nn.CrossEntropyLoss()\n",
        "optimizer = optim.Adam(model.parameters(), lr=0.001)\n",
        "\n",
        "# Log model architecture to W&B\n",
        "wandb.watch(model, log='all')"
      ]
    },
    {
      "cell_type": "code",
      "execution_count": 13,
      "metadata": {
        "colab": {
          "base_uri": "https://localhost:8080/"
        },
        "id": "KgsxL4_H4HW4",
        "outputId": "62ee7c7e-9a99-4e65-8bf0-e483ed5ebe66"
      },
      "outputs": [
        {
          "output_type": "stream",
          "name": "stdout",
          "text": [
            "Model Architecture:\n",
            "==================================================\n",
            "fc1.weight           torch.Size([512, 2304])\n",
            "fc1.bias             torch.Size([512])\n",
            "fc2.weight           torch.Size([256, 512])\n",
            "fc2.bias             torch.Size([256])\n",
            "fc3.weight           torch.Size([128, 256])\n",
            "fc3.bias             torch.Size([128])\n",
            "fc4.weight           torch.Size([7, 128])\n",
            "fc4.bias             torch.Size([7])\n",
            "==================================================\n"
          ]
        }
      ],
      "source": [
        "# Print model architecture\n",
        "print(\"Model Architecture:\")\n",
        "print(\"=\" * 50)\n",
        "for name, param in model.named_parameters():\n",
        "    print(f\"{name:20} {param.shape}\")\n",
        "print(\"=\" * 50)"
      ]
    },
    {
      "cell_type": "code",
      "execution_count": 14,
      "metadata": {
        "id": "wvOGQTqm4HW4"
      },
      "outputs": [],
      "source": [
        "# Training function\n",
        "def train_epoch(model, loader, criterion, optimizer, device):\n",
        "    model.train()\n",
        "    running_loss = 0.0\n",
        "    correct = 0\n",
        "    total = 0\n",
        "\n",
        "    progress_bar = tqdm(loader, desc='Training')\n",
        "    for inputs, labels in progress_bar:\n",
        "        inputs, labels = inputs.to(device), labels.to(device)\n",
        "\n",
        "        optimizer.zero_grad()\n",
        "        outputs = model(inputs)\n",
        "        loss = criterion(outputs, labels)\n",
        "        loss.backward()\n",
        "        optimizer.step()\n",
        "\n",
        "        running_loss += loss.item()\n",
        "        _, predicted = torch.max(outputs.data, 1)\n",
        "        total += labels.size(0)\n",
        "        correct += (predicted == labels).sum().item()\n",
        "\n",
        "        # Update progress bar\n",
        "        progress_bar.set_postfix({\n",
        "            'loss': loss.item(),\n",
        "            'acc': 100 * correct / total\n",
        "        })\n",
        "\n",
        "    epoch_loss = running_loss / len(loader)\n",
        "    epoch_acc = 100 * correct / total\n",
        "\n",
        "    return epoch_loss, epoch_acc"
      ]
    },
    {
      "cell_type": "code",
      "execution_count": 15,
      "metadata": {
        "id": "hdEYAuOQ4HW4"
      },
      "outputs": [],
      "source": [
        "# Validation function\n",
        "def validate_epoch(model, loader, criterion, device):\n",
        "    model.eval()\n",
        "    running_loss = 0.0\n",
        "    correct = 0\n",
        "    total = 0\n",
        "    all_predictions = []\n",
        "    all_labels = []\n",
        "\n",
        "    with torch.no_grad():\n",
        "        progress_bar = tqdm(loader, desc='Validation')\n",
        "        for inputs, labels in progress_bar:\n",
        "            inputs, labels = inputs.to(device), labels.to(device)\n",
        "\n",
        "            outputs = model(inputs)\n",
        "            loss = criterion(outputs, labels)\n",
        "\n",
        "            running_loss += loss.item()\n",
        "            _, predicted = torch.max(outputs.data, 1)\n",
        "            total += labels.size(0)\n",
        "            correct += (predicted == labels).sum().item()\n",
        "\n",
        "            all_predictions.extend(predicted.cpu().numpy())\n",
        "            all_labels.extend(labels.cpu().numpy())\n",
        "\n",
        "            # Update progress bar\n",
        "            progress_bar.set_postfix({\n",
        "                'loss': loss.item(),\n",
        "                'acc': 100 * correct / total\n",
        "            })\n",
        "\n",
        "    epoch_loss = running_loss / len(loader)\n",
        "    epoch_acc = 100 * correct / total\n",
        "\n",
        "    return epoch_loss, epoch_acc, all_predictions, all_labels"
      ]
    },
    {
      "cell_type": "code",
      "execution_count": 16,
      "metadata": {
        "colab": {
          "base_uri": "https://localhost:8080/"
        },
        "id": "Umsky0J74HW5",
        "outputId": "c8531cdf-6151-4bb3-fe82-620a59f49b96"
      },
      "outputs": [
        {
          "output_type": "stream",
          "name": "stdout",
          "text": [
            "\n",
            "Epoch 1/30\n",
            "--------------------------------------------------\n"
          ]
        },
        {
          "output_type": "stream",
          "name": "stderr",
          "text": [
            "Training: 100%|██████████| 359/359 [00:26<00:00, 13.58it/s, loss=1.8, acc=26.6]\n",
            "Validation: 100%|██████████| 90/90 [00:04<00:00, 19.20it/s, loss=1.7, acc=31.3]\n"
          ]
        },
        {
          "output_type": "stream",
          "name": "stdout",
          "text": [
            "Train Loss: 1.7884, Train Acc: 26.59%\n",
            "Val Loss: 1.7297, Val Acc: 31.28%\n",
            "New best model saved with validation accuracy: 31.28%\n",
            "\n",
            "Epoch 2/30\n",
            "--------------------------------------------------\n"
          ]
        },
        {
          "output_type": "stream",
          "name": "stderr",
          "text": [
            "Training: 100%|██████████| 359/359 [00:30<00:00, 11.69it/s, loss=1.53, acc=31.7]\n",
            "Validation: 100%|██████████| 90/90 [00:04<00:00, 19.29it/s, loss=1.66, acc=35.6]\n"
          ]
        },
        {
          "output_type": "stream",
          "name": "stdout",
          "text": [
            "Train Loss: 1.7104, Train Acc: 31.66%\n",
            "Val Loss: 1.6655, Val Acc: 35.58%\n",
            "New best model saved with validation accuracy: 35.58%\n",
            "\n",
            "Epoch 3/30\n",
            "--------------------------------------------------\n"
          ]
        },
        {
          "output_type": "stream",
          "name": "stderr",
          "text": [
            "Training: 100%|██████████| 359/359 [00:30<00:00, 11.70it/s, loss=1.68, acc=33.6]\n",
            "Validation: 100%|██████████| 90/90 [00:04<00:00, 18.96it/s, loss=1.64, acc=36.6]\n"
          ]
        },
        {
          "output_type": "stream",
          "name": "stdout",
          "text": [
            "Train Loss: 1.6845, Train Acc: 33.61%\n",
            "Val Loss: 1.6460, Val Acc: 36.64%\n",
            "New best model saved with validation accuracy: 36.64%\n",
            "\n",
            "Epoch 4/30\n",
            "--------------------------------------------------\n"
          ]
        },
        {
          "output_type": "stream",
          "name": "stderr",
          "text": [
            "Training: 100%|██████████| 359/359 [00:30<00:00, 11.81it/s, loss=1.63, acc=35.3]\n",
            "Validation: 100%|██████████| 90/90 [00:06<00:00, 14.62it/s, loss=1.63, acc=35.5]\n"
          ]
        },
        {
          "output_type": "stream",
          "name": "stdout",
          "text": [
            "Train Loss: 1.6547, Train Acc: 35.29%\n",
            "Val Loss: 1.6401, Val Acc: 35.53%\n",
            "\n",
            "Epoch 5/30\n",
            "--------------------------------------------------\n"
          ]
        },
        {
          "output_type": "stream",
          "name": "stderr",
          "text": [
            "Training: 100%|██████████| 359/359 [00:28<00:00, 12.50it/s, loss=1.7, acc=35.5]\n",
            "Validation: 100%|██████████| 90/90 [00:07<00:00, 12.51it/s, loss=1.58, acc=36.7]\n"
          ]
        },
        {
          "output_type": "stream",
          "name": "stdout",
          "text": [
            "Train Loss: 1.6403, Train Acc: 35.51%\n",
            "Val Loss: 1.6204, Val Acc: 36.73%\n",
            "New best model saved with validation accuracy: 36.73%\n",
            "\n",
            "Epoch 6/30\n",
            "--------------------------------------------------\n"
          ]
        },
        {
          "output_type": "stream",
          "name": "stderr",
          "text": [
            "Training: 100%|██████████| 359/359 [00:28<00:00, 12.50it/s, loss=1.65, acc=36.6]\n",
            "Validation: 100%|██████████| 90/90 [00:06<00:00, 14.26it/s, loss=1.59, acc=38.3]\n"
          ]
        },
        {
          "output_type": "stream",
          "name": "stdout",
          "text": [
            "Train Loss: 1.6196, Train Acc: 36.60%\n",
            "Val Loss: 1.5949, Val Acc: 38.31%\n",
            "New best model saved with validation accuracy: 38.31%\n",
            "\n",
            "Epoch 7/30\n",
            "--------------------------------------------------\n"
          ]
        },
        {
          "output_type": "stream",
          "name": "stderr",
          "text": [
            "Training: 100%|██████████| 359/359 [00:33<00:00, 10.74it/s, loss=1.65, acc=36.9]\n",
            "Validation: 100%|██████████| 90/90 [00:04<00:00, 19.18it/s, loss=1.59, acc=36.7]\n"
          ]
        },
        {
          "output_type": "stream",
          "name": "stdout",
          "text": [
            "Train Loss: 1.6115, Train Acc: 36.88%\n",
            "Val Loss: 1.6127, Val Acc: 36.69%\n",
            "\n",
            "Epoch 8/30\n",
            "--------------------------------------------------\n"
          ]
        },
        {
          "output_type": "stream",
          "name": "stderr",
          "text": [
            "Training: 100%|██████████| 359/359 [00:30<00:00, 11.82it/s, loss=1.52, acc=37.4]\n",
            "Validation: 100%|██████████| 90/90 [00:04<00:00, 18.36it/s, loss=1.56, acc=37.5]\n"
          ]
        },
        {
          "output_type": "stream",
          "name": "stdout",
          "text": [
            "Train Loss: 1.5898, Train Acc: 37.42%\n",
            "Val Loss: 1.5850, Val Acc: 37.53%\n",
            "\n",
            "Epoch 9/30\n",
            "--------------------------------------------------\n"
          ]
        },
        {
          "output_type": "stream",
          "name": "stderr",
          "text": [
            "Training: 100%|██████████| 359/359 [00:32<00:00, 10.96it/s, loss=1.46, acc=37.9]\n",
            "Validation: 100%|██████████| 90/90 [00:06<00:00, 13.59it/s, loss=1.62, acc=37.7]\n"
          ]
        },
        {
          "output_type": "stream",
          "name": "stdout",
          "text": [
            "Train Loss: 1.5841, Train Acc: 37.88%\n",
            "Val Loss: 1.5919, Val Acc: 37.67%\n",
            "\n",
            "Epoch 10/30\n",
            "--------------------------------------------------\n"
          ]
        },
        {
          "output_type": "stream",
          "name": "stderr",
          "text": [
            "Training: 100%|██████████| 359/359 [00:29<00:00, 11.99it/s, loss=1.62, acc=38.9]\n",
            "Validation: 100%|██████████| 90/90 [00:07<00:00, 12.59it/s, loss=1.56, acc=38.1]\n"
          ]
        },
        {
          "output_type": "stream",
          "name": "stdout",
          "text": [
            "Train Loss: 1.5661, Train Acc: 38.91%\n",
            "Val Loss: 1.5884, Val Acc: 38.05%\n",
            "\n",
            "Epoch 11/30\n",
            "--------------------------------------------------\n"
          ]
        },
        {
          "output_type": "stream",
          "name": "stderr",
          "text": [
            "Training: 100%|██████████| 359/359 [00:30<00:00, 11.71it/s, loss=1.64, acc=39.3]\n",
            "Validation: 100%|██████████| 90/90 [00:05<00:00, 17.16it/s, loss=1.61, acc=37.7]\n"
          ]
        },
        {
          "output_type": "stream",
          "name": "stdout",
          "text": [
            "Train Loss: 1.5567, Train Acc: 39.26%\n",
            "Val Loss: 1.5898, Val Acc: 37.74%\n",
            "\n",
            "Epoch 12/30\n",
            "--------------------------------------------------\n"
          ]
        },
        {
          "output_type": "stream",
          "name": "stderr",
          "text": [
            "Training: 100%|██████████| 359/359 [00:34<00:00, 10.50it/s, loss=1.39, acc=39.5]\n",
            "Validation: 100%|██████████| 90/90 [00:04<00:00, 18.95it/s, loss=1.55, acc=38.9]\n"
          ]
        },
        {
          "output_type": "stream",
          "name": "stdout",
          "text": [
            "Train Loss: 1.5445, Train Acc: 39.53%\n",
            "Val Loss: 1.5709, Val Acc: 38.89%\n",
            "New best model saved with validation accuracy: 38.89%\n",
            "\n",
            "Epoch 13/30\n",
            "--------------------------------------------------\n"
          ]
        },
        {
          "output_type": "stream",
          "name": "stderr",
          "text": [
            "Training: 100%|██████████| 359/359 [00:31<00:00, 11.48it/s, loss=1.72, acc=39.8]\n",
            "Validation: 100%|██████████| 90/90 [00:06<00:00, 14.55it/s, loss=1.57, acc=38]\n"
          ]
        },
        {
          "output_type": "stream",
          "name": "stdout",
          "text": [
            "Train Loss: 1.5355, Train Acc: 39.77%\n",
            "Val Loss: 1.5834, Val Acc: 38.04%\n",
            "\n",
            "Epoch 14/30\n",
            "--------------------------------------------------\n"
          ]
        },
        {
          "output_type": "stream",
          "name": "stderr",
          "text": [
            "Training: 100%|██████████| 359/359 [00:30<00:00, 11.95it/s, loss=1.41, acc=40.3]\n",
            "Validation: 100%|██████████| 90/90 [00:07<00:00, 12.41it/s, loss=1.5, acc=39.1]\n"
          ]
        },
        {
          "output_type": "stream",
          "name": "stdout",
          "text": [
            "Train Loss: 1.5259, Train Acc: 40.35%\n",
            "Val Loss: 1.5713, Val Acc: 39.10%\n",
            "New best model saved with validation accuracy: 39.10%\n",
            "\n",
            "Epoch 15/30\n",
            "--------------------------------------------------\n"
          ]
        },
        {
          "output_type": "stream",
          "name": "stderr",
          "text": [
            "Training: 100%|██████████| 359/359 [00:30<00:00, 11.90it/s, loss=1.73, acc=40.7]\n",
            "Validation: 100%|██████████| 90/90 [00:05<00:00, 16.08it/s, loss=1.58, acc=38.3]\n"
          ]
        },
        {
          "output_type": "stream",
          "name": "stdout",
          "text": [
            "Train Loss: 1.5169, Train Acc: 40.75%\n",
            "Val Loss: 1.5715, Val Acc: 38.35%\n",
            "\n",
            "Epoch 16/30\n",
            "--------------------------------------------------\n"
          ]
        },
        {
          "output_type": "stream",
          "name": "stderr",
          "text": [
            "Training: 100%|██████████| 359/359 [00:31<00:00, 11.53it/s, loss=1.26, acc=41.6]\n",
            "Validation: 100%|██████████| 90/90 [00:04<00:00, 19.19it/s, loss=1.6, acc=38.3]\n"
          ]
        },
        {
          "output_type": "stream",
          "name": "stdout",
          "text": [
            "Train Loss: 1.4980, Train Acc: 41.62%\n",
            "Val Loss: 1.6002, Val Acc: 38.35%\n",
            "\n",
            "Epoch 17/30\n",
            "--------------------------------------------------\n"
          ]
        },
        {
          "output_type": "stream",
          "name": "stderr",
          "text": [
            "Training: 100%|██████████| 359/359 [00:34<00:00, 10.46it/s, loss=1.42, acc=42.2]\n",
            "Validation: 100%|██████████| 90/90 [00:04<00:00, 19.12it/s, loss=1.54, acc=40.3]\n"
          ]
        },
        {
          "output_type": "stream",
          "name": "stdout",
          "text": [
            "Train Loss: 1.4876, Train Acc: 42.17%\n",
            "Val Loss: 1.5434, Val Acc: 40.32%\n",
            "New best model saved with validation accuracy: 40.32%\n",
            "\n",
            "Epoch 18/30\n",
            "--------------------------------------------------\n"
          ]
        },
        {
          "output_type": "stream",
          "name": "stderr",
          "text": [
            "Training: 100%|██████████| 359/359 [00:31<00:00, 11.49it/s, loss=1.51, acc=42.8]\n",
            "Validation: 100%|██████████| 90/90 [00:05<00:00, 17.80it/s, loss=1.52, acc=38.1]\n"
          ]
        },
        {
          "output_type": "stream",
          "name": "stdout",
          "text": [
            "Train Loss: 1.4712, Train Acc: 42.79%\n",
            "Val Loss: 1.5923, Val Acc: 38.09%\n",
            "\n",
            "Epoch 19/30\n",
            "--------------------------------------------------\n"
          ]
        },
        {
          "output_type": "stream",
          "name": "stderr",
          "text": [
            "Training: 100%|██████████| 359/359 [00:39<00:00,  9.20it/s, loss=1.38, acc=43]\n",
            "Validation: 100%|██████████| 90/90 [00:04<00:00, 18.86it/s, loss=1.63, acc=39.2]\n"
          ]
        },
        {
          "output_type": "stream",
          "name": "stdout",
          "text": [
            "Train Loss: 1.4656, Train Acc: 43.02%\n",
            "Val Loss: 1.5666, Val Acc: 39.15%\n",
            "\n",
            "Epoch 20/30\n",
            "--------------------------------------------------\n"
          ]
        },
        {
          "output_type": "stream",
          "name": "stderr",
          "text": [
            "Training: 100%|██████████| 359/359 [00:31<00:00, 11.46it/s, loss=1.45, acc=43.8]\n",
            "Validation: 100%|██████████| 90/90 [00:04<00:00, 18.70it/s, loss=1.53, acc=39.5]\n"
          ]
        },
        {
          "output_type": "stream",
          "name": "stdout",
          "text": [
            "Train Loss: 1.4486, Train Acc: 43.79%\n",
            "Val Loss: 1.5554, Val Acc: 39.50%\n",
            "\n",
            "Epoch 21/30\n",
            "--------------------------------------------------\n"
          ]
        },
        {
          "output_type": "stream",
          "name": "stderr",
          "text": [
            "Training: 100%|██████████| 359/359 [00:30<00:00, 11.62it/s, loss=1.35, acc=43.9]\n",
            "Validation: 100%|██████████| 90/90 [00:05<00:00, 17.68it/s, loss=1.56, acc=39.2]\n"
          ]
        },
        {
          "output_type": "stream",
          "name": "stdout",
          "text": [
            "Train Loss: 1.4427, Train Acc: 43.87%\n",
            "Val Loss: 1.5856, Val Acc: 39.20%\n",
            "\n",
            "Epoch 22/30\n",
            "--------------------------------------------------\n"
          ]
        },
        {
          "output_type": "stream",
          "name": "stderr",
          "text": [
            "Training: 100%|██████████| 359/359 [00:33<00:00, 10.63it/s, loss=1.5, acc=44.7]\n",
            "Validation: 100%|██████████| 90/90 [00:06<00:00, 13.08it/s, loss=1.61, acc=37.7]\n"
          ]
        },
        {
          "output_type": "stream",
          "name": "stdout",
          "text": [
            "Train Loss: 1.4277, Train Acc: 44.71%\n",
            "Val Loss: 1.6368, Val Acc: 37.69%\n",
            "\n",
            "Epoch 23/30\n",
            "--------------------------------------------------\n"
          ]
        },
        {
          "output_type": "stream",
          "name": "stderr",
          "text": [
            "Training: 100%|██████████| 359/359 [00:31<00:00, 11.23it/s, loss=1.41, acc=45.1]\n",
            "Validation: 100%|██████████| 90/90 [00:05<00:00, 15.84it/s, loss=1.59, acc=38.8]\n"
          ]
        },
        {
          "output_type": "stream",
          "name": "stdout",
          "text": [
            "Train Loss: 1.4168, Train Acc: 45.07%\n",
            "Val Loss: 1.5914, Val Acc: 38.77%\n",
            "\n",
            "Epoch 24/30\n",
            "--------------------------------------------------\n"
          ]
        },
        {
          "output_type": "stream",
          "name": "stderr",
          "text": [
            "Training: 100%|██████████| 359/359 [00:31<00:00, 11.46it/s, loss=1.42, acc=45.4]\n",
            "Validation: 100%|██████████| 90/90 [00:04<00:00, 18.96it/s, loss=1.52, acc=39.9]\n"
          ]
        },
        {
          "output_type": "stream",
          "name": "stdout",
          "text": [
            "Train Loss: 1.4085, Train Acc: 45.41%\n",
            "Val Loss: 1.5875, Val Acc: 39.93%\n",
            "\n",
            "Epoch 25/30\n",
            "--------------------------------------------------\n"
          ]
        },
        {
          "output_type": "stream",
          "name": "stderr",
          "text": [
            "Training: 100%|██████████| 359/359 [00:34<00:00, 10.48it/s, loss=1.32, acc=46.3]\n",
            "Validation: 100%|██████████| 90/90 [00:06<00:00, 13.82it/s, loss=1.59, acc=40.4]\n"
          ]
        },
        {
          "output_type": "stream",
          "name": "stdout",
          "text": [
            "Train Loss: 1.3847, Train Acc: 46.31%\n",
            "Val Loss: 1.5701, Val Acc: 40.42%\n",
            "New best model saved with validation accuracy: 40.42%\n",
            "\n",
            "Epoch 26/30\n",
            "--------------------------------------------------\n"
          ]
        },
        {
          "output_type": "stream",
          "name": "stderr",
          "text": [
            "Training: 100%|██████████| 359/359 [00:29<00:00, 12.06it/s, loss=1.65, acc=46.5]\n",
            "Validation: 100%|██████████| 90/90 [00:06<00:00, 13.13it/s, loss=1.61, acc=39.5]\n"
          ]
        },
        {
          "output_type": "stream",
          "name": "stdout",
          "text": [
            "Train Loss: 1.3809, Train Acc: 46.51%\n",
            "Val Loss: 1.5818, Val Acc: 39.52%\n",
            "\n",
            "Epoch 27/30\n",
            "--------------------------------------------------\n"
          ]
        },
        {
          "output_type": "stream",
          "name": "stderr",
          "text": [
            "Training: 100%|██████████| 359/359 [00:32<00:00, 10.93it/s, loss=1.41, acc=47.1]\n",
            "Validation: 100%|██████████| 90/90 [00:05<00:00, 15.15it/s, loss=1.57, acc=39.5]\n"
          ]
        },
        {
          "output_type": "stream",
          "name": "stdout",
          "text": [
            "Train Loss: 1.3612, Train Acc: 47.13%\n",
            "Val Loss: 1.5813, Val Acc: 39.52%\n",
            "\n",
            "Epoch 28/30\n",
            "--------------------------------------------------\n"
          ]
        },
        {
          "output_type": "stream",
          "name": "stderr",
          "text": [
            "Training: 100%|██████████| 359/359 [00:31<00:00, 11.45it/s, loss=1.28, acc=48.1]\n",
            "Validation: 100%|██████████| 90/90 [00:04<00:00, 18.98it/s, loss=1.61, acc=37.7]\n"
          ]
        },
        {
          "output_type": "stream",
          "name": "stdout",
          "text": [
            "Train Loss: 1.3490, Train Acc: 48.13%\n",
            "Val Loss: 1.6444, Val Acc: 37.69%\n",
            "\n",
            "Epoch 29/30\n",
            "--------------------------------------------------\n"
          ]
        },
        {
          "output_type": "stream",
          "name": "stderr",
          "text": [
            "Training: 100%|██████████| 359/359 [00:31<00:00, 11.46it/s, loss=1.37, acc=47.8]\n",
            "Validation: 100%|██████████| 90/90 [00:04<00:00, 18.42it/s, loss=1.61, acc=39.9]\n"
          ]
        },
        {
          "output_type": "stream",
          "name": "stdout",
          "text": [
            "Train Loss: 1.3427, Train Acc: 47.80%\n",
            "Val Loss: 1.5874, Val Acc: 39.92%\n",
            "\n",
            "Epoch 30/30\n",
            "--------------------------------------------------\n"
          ]
        },
        {
          "output_type": "stream",
          "name": "stderr",
          "text": [
            "Training: 100%|██████████| 359/359 [00:31<00:00, 11.57it/s, loss=1.32, acc=49]\n",
            "Validation: 100%|██████████| 90/90 [00:06<00:00, 13.18it/s, loss=1.71, acc=40.1]"
          ]
        },
        {
          "output_type": "stream",
          "name": "stdout",
          "text": [
            "Train Loss: 1.3211, Train Acc: 49.01%\n",
            "Val Loss: 1.6363, Val Acc: 40.14%\n"
          ]
        },
        {
          "output_type": "stream",
          "name": "stderr",
          "text": [
            "\n"
          ]
        }
      ],
      "source": [
        "# Training loop\n",
        "train_losses = []\n",
        "train_accs = []\n",
        "val_losses = []\n",
        "val_accs = []\n",
        "best_val_acc = 0\n",
        "\n",
        "for epoch in range(30):\n",
        "    print(f'\\nEpoch {epoch+1}/30')\n",
        "    print('-' * 50)\n",
        "\n",
        "    # Train\n",
        "    train_loss, train_acc = train_epoch(model, train_loader, criterion, optimizer, device)\n",
        "    train_losses.append(train_loss)\n",
        "    train_accs.append(train_acc)\n",
        "\n",
        "    # Validate\n",
        "    val_loss, val_acc, predictions, labels = validate_epoch(model, val_loader, criterion, device)\n",
        "    val_losses.append(val_loss)\n",
        "    val_accs.append(val_acc)\n",
        "\n",
        "    # Log to W&B\n",
        "    wandb.log({\n",
        "        'epoch': epoch + 1,\n",
        "        'train_loss': train_loss,\n",
        "        'train_acc': train_acc,\n",
        "        'val_loss': val_loss,\n",
        "        'val_acc': val_acc,\n",
        "        'learning_rate': optimizer.param_groups[0]['lr']\n",
        "    })\n",
        "\n",
        "    print(f'Train Loss: {train_loss:.4f}, Train Acc: {train_acc:.2f}%')\n",
        "    print(f'Val Loss: {val_loss:.4f}, Val Acc: {val_acc:.2f}%')\n",
        "\n",
        "    # Save best model\n",
        "    if val_acc > best_val_acc:\n",
        "        best_val_acc = val_acc\n",
        "        torch.save(model.state_dict(), 'best_basic_nn_model.pth')\n",
        "        print(f'New best model saved with validation accuracy: {val_acc:.2f}%')"
      ]
    },
    {
      "cell_type": "code",
      "execution_count": 17,
      "metadata": {
        "colab": {
          "base_uri": "https://localhost:8080/",
          "height": 507
        },
        "id": "JYdCgnfw4HW5",
        "outputId": "6a1a09fe-a7b5-4bc6-8da9-9d12ca4079c0"
      },
      "outputs": [
        {
          "output_type": "display_data",
          "data": {
            "text/plain": [
              "<Figure size 1400x500 with 2 Axes>"
            ],
            "image/png": "[encoded data removed]"
          },
          "metadata": {}
        }
      ],
      "source": [
        "# Plot training history\n",
        "fig, (ax1, ax2) = plt.subplots(1, 2, figsize=(14, 5))\n",
        "\n",
        "# Loss plot\n",
        "ax1.plot(train_losses, label='Train Loss', linewidth=2)\n",
        "ax1.plot(val_losses, label='Val Loss', linewidth=2)\n",
        "ax1.set_xlabel('Epoch')\n",
        "ax1.set_ylabel('Loss')\n",
        "ax1.set_title('Training and Validation Loss')\n",
        "ax1.legend()\n",
        "ax1.grid(True, alpha=0.3)\n",
        "\n",
        "# Accuracy plot\n",
        "ax2.plot(train_accs, label='Train Acc', linewidth=2)\n",
        "ax2.plot(val_accs, label='Val Acc', linewidth=2)\n",
        "ax2.set_xlabel('Epoch')\n",
        "ax2.set_ylabel('Accuracy (%)')\n",
        "ax2.set_title('Training and Validation Accuracy')\n",
        "ax2.legend()\n",
        "ax2.grid(True, alpha=0.3)\n",
        "\n",
        "plt.tight_layout()\n",
        "wandb.log({\"training_history\": wandb.Image(plt)})\n",
        "plt.show()"
      ]
    },
    {
      "cell_type": "code",
      "execution_count": 18,
      "metadata": {
        "colab": {
          "base_uri": "https://localhost:8080/",
          "height": 735
        },
        "id": "IRT4xL_W4HW5",
        "outputId": "9c0ffa42-f0fb-40b6-9ed8-3f6ed64e4624"
      },
      "outputs": [
        {
          "output_type": "stream",
          "name": "stderr",
          "text": [
            "Validation: 100%|██████████| 90/90 [00:04<00:00, 18.59it/s, loss=1.59, acc=40.4]\n"
          ]
        },
        {
          "output_type": "display_data",
          "data": {
            "text/plain": [
              "<Figure size 1000x800 with 2 Axes>"
            ],
            "image/png": "[encoded data removed]"
          },
          "metadata": {}
        }
      ],
      "source": [
        "# Load best model for final evaluation\n",
        "model.load_state_dict(torch.load('best_basic_nn_model.pth'))\n",
        "_, _, final_predictions, final_labels = validate_epoch(model, val_loader, criterion, device)\n",
        "\n",
        "# Confusion matrix\n",
        "cm = confusion_matrix(final_labels, final_predictions)\n",
        "plt.figure(figsize=(10, 8))\n",
        "sns.heatmap(cm, annot=True, fmt='d', cmap='Blues',\n",
        "            xticklabels=emotion_labels,\n",
        "            yticklabels=emotion_labels)\n",
        "plt.xlabel('Predicted')\n",
        "plt.ylabel('Actual')\n",
        "plt.title('Confusion Matrix - Basic NN')\n",
        "wandb.log({\"confusion_matrix\": wandb.Image(plt)})\n",
        "plt.show()"
      ]
    },
    {
      "cell_type": "code",
      "execution_count": 19,
      "metadata": {
        "colab": {
          "base_uri": "https://localhost:8080/"
        },
        "id": "-PAZXsPE4HW5",
        "outputId": "8f9ab9f5-3182-4f7a-b59e-38303740407d"
      },
      "outputs": [
        {
          "output_type": "stream",
          "name": "stdout",
          "text": [
            "\n",
            "Classification Report:\n",
            "======================================================================\n",
            "              precision    recall  f1-score   support\n",
            "\n",
            "       Angry       0.31      0.22      0.26       768\n",
            "     Disgust       0.46      0.08      0.13        78\n",
            "        Fear       0.28      0.16      0.20       841\n",
            "       Happy       0.48      0.74      0.58      1486\n",
            "         Sad       0.30      0.22      0.26       949\n",
            "    Surprise       0.56      0.48      0.52       624\n",
            "     Neutral       0.34      0.40      0.37       996\n",
            "\n",
            "    accuracy                           0.40      5742\n",
            "   macro avg       0.39      0.33      0.33      5742\n",
            "weighted avg       0.38      0.40      0.38      5742\n",
            "\n"
          ]
        }
      ],
      "source": [
        "# Classification report\n",
        "print(\"\\nClassification Report:\")\n",
        "print(\"=\" * 70)\n",
        "report = classification_report(final_labels, final_predictions,\n",
        "                             target_names=emotion_labels,\n",
        "                             output_dict=True)\n",
        "print(classification_report(final_labels, final_predictions, target_names=emotion_labels))\n",
        "\n",
        "# Log per-class metrics to W&B\n",
        "for emotion in emotion_labels:\n",
        "    wandb.log({\n",
        "        f\"{emotion}_precision\": report[emotion]['precision'],\n",
        "        f\"{emotion}_recall\": report[emotion]['recall'],\n",
        "        f\"{emotion}_f1\": report[emotion]['f1-score']\n",
        "    })"
      ]
    },
    {
      "cell_type": "code",
      "execution_count": 20,
      "metadata": {
        "colab": {
          "base_uri": "https://localhost:8080/"
        },
        "id": "480mvNlc4HW5",
        "outputId": "36c36542-1568-4082-a801-703270c0f447"
      },
      "outputs": [
        {
          "output_type": "stream",
          "name": "stdout",
          "text": [
            "\n",
            "Total misclassifications: 3421 out of 5742\n",
            "Misclassification rate: 59.58%\n"
          ]
        }
      ],
      "source": [
        "# Analyze misclassifications\n",
        "misclassified_indices = np.where(np.array(final_predictions) != np.array(final_labels))[0]\n",
        "correct_indices = np.where(np.array(final_predictions) == np.array(final_labels))[0]\n",
        "\n",
        "print(f\"\\nTotal misclassifications: {len(misclassified_indices)} out of {len(final_labels)}\")\n",
        "print(f\"Misclassification rate: {len(misclassified_indices)/len(final_labels)*100:.2f}%\")"
      ]
    },
    {
      "cell_type": "code",
      "execution_count": 21,
      "metadata": {
        "id": "D2f_emuy4HW5"
      },
      "outputs": [],
      "source": [
        "# Save final model and log to W&B\n",
        "torch.save(model.state_dict(), 'final_basic_nn_model.pth')\n",
        "wandb.save('final_basic_nn_model.pth')\n",
        "wandb.save('best_basic_nn_model.pth')\n",
        "\n",
        "# Summary statistics\n",
        "summary_stats = {\n",
        "    \"final_train_accuracy\": train_accs[-1],\n",
        "    \"final_val_accuracy\": val_accs[-1],\n",
        "    \"best_val_accuracy\": best_val_acc,\n",
        "    \"overfitting_gap\": train_accs[-1] - val_accs[-1],\n",
        "    \"total_parameters\": model.total_params,\n",
        "    \"macro_f1_score\": report['macro avg']['f1-score'],\n",
        "    \"weighted_f1_score\": report['weighted avg']['f1-score']\n",
        "}\n",
        "\n",
        "wandb.log(summary_stats)"
      ]
    },
    {
      "cell_type": "code",
      "execution_count": 22,
      "metadata": {
        "colab": {
          "base_uri": "https://localhost:8080/",
          "height": 1000
        },
        "id": "107Ay3sP4HW5",
        "outputId": "e562f188-8fda-40c5-c6ba-b296c1a1462e"
      },
      "outputs": [
        {
          "output_type": "stream",
          "name": "stdout",
          "text": [
            "\n",
            "======================================================================\n",
            "EXPERIMENT SUMMARY: BASIC NEURAL NETWORK\n",
            "======================================================================\n",
            "\n",
            "Model Architecture:\n",
            "  - Input Layer: 2,304 neurons (48x48 pixels)\n",
            "  - Hidden Layer 1: 512 neurons\n",
            "  - Hidden Layer 2: 256 neurons\n",
            "  - Hidden Layer 3: 128 neurons\n",
            "  - Output Layer: 7 neurons (emotions)\n",
            "  - Total Parameters: 1,345,287\n",
            "\n",
            "Performance Metrics:\n",
            "  - Final Training Accuracy: 49.01%\n",
            "  - Final Validation Accuracy: 40.14%\n",
            "  - Best Validation Accuracy: 40.42%\n",
            "  - Overfitting Gap: 8.87%\n",
            "  - Macro F1-Score: 0.331\n",
            "\n",
            "Key Findings:\n",
            "  1. Basic NN treats the image as a flat vector, losing spatial structure\n",
            "  2. Performance is significantly limited compared to expected CNN performance\n",
            "  3. The model shows signs of overfitting despite relatively low accuracy\n",
            "  4. High parameter count (1.28M) for the achieved performance\n",
            "  5. Certain emotions (Happy, Surprise) are easier to classify than others\n",
            "\n",
            "Conclusions:\n",
            "  - Spatial information is crucial for facial expression recognition\n",
            "  - Convolutional layers should significantly improve performance\n",
            "  - Need for better feature extraction mechanisms\n",
            "======================================================================\n"
          ]
        },
        {
          "output_type": "display_data",
          "data": {
            "text/plain": [
              "<IPython.core.display.HTML object>"
            ],
            "text/html": []
          },
          "metadata": {}
        },
        {
          "output_type": "display_data",
          "data": {
            "text/plain": [
              "<IPython.core.display.HTML object>"
            ],
            "text/html": [
              "<br>    <style><br>        .wandb-row {<br>            display: flex;<br>            flex-direction: row;<br>            flex-wrap: wrap;<br>            justify-content: flex-start;<br>            width: 100%;<br>        }<br>        .wandb-col {<br>            display: flex;<br>            flex-direction: column;<br>            flex-basis: 100%;<br>            flex: 1;<br>            padding: 10px;<br>        }<br>    </style><br><div class=\"wandb-row\"><div class=\"wandb-col\"><h3>Run history:</h3><br/><table class=\"wandb\"><tr><td>Angry_f1</td><td>▁</td></tr><tr><td>Angry_precision</td><td>▁</td></tr><tr><td>Angry_recall</td><td>▁</td></tr><tr><td>Disgust_f1</td><td>▁</td></tr><tr><td>Disgust_precision</td><td>▁</td></tr><tr><td>Disgust_recall</td><td>▁</td></tr><tr><td>Fear_f1</td><td>▁</td></tr><tr><td>Fear_precision</td><td>▁</td></tr><tr><td>Fear_recall</td><td>▁</td></tr><tr><td>Happy_f1</td><td>▁</td></tr><tr><td>Happy_precision</td><td>▁</td></tr><tr><td>Happy_recall</td><td>▁</td></tr><tr><td>Neutral_f1</td><td>▁</td></tr><tr><td>Neutral_precision</td><td>▁</td></tr><tr><td>Neutral_recall</td><td>▁</td></tr><tr><td>Sad_f1</td><td>▁</td></tr><tr><td>Sad_precision</td><td>▁</td></tr><tr><td>Sad_recall</td><td>▁</td></tr><tr><td>Surprise_f1</td><td>▁</td></tr><tr><td>Surprise_precision</td><td>▁</td></tr><tr><td>Surprise_recall</td><td>▁</td></tr><tr><td>best_val_accuracy</td><td>▁</td></tr><tr><td>epoch</td><td>▁▁▁▂▂▂▂▃▃▃▃▄▄▄▄▅▅▅▅▆▆▆▆▇▇▇▇███</td></tr><tr><td>final_train_accuracy</td><td>▁</td></tr><tr><td>final_val_accuracy</td><td>▁</td></tr><tr><td>learning_rate</td><td>▁▁▁▁▁▁▁▁▁▁▁▁▁▁▁▁▁▁▁▁▁▁▁▁▁▁▁▁▁▁</td></tr><tr><td>macro_f1_score</td><td>▁</td></tr><tr><td>overfitting_gap</td><td>▁</td></tr><tr><td>total_parameters</td><td>▁</td></tr><tr><td>train_acc</td><td>▁▃▃▄▄▄▄▄▅▅▅▅▅▅▅▆▆▆▆▆▆▇▇▇▇▇▇███</td></tr><tr><td>train_loss</td><td>█▇▆▆▆▅▅▅▅▅▅▄▄▄▄▄▃▃▃▃▃▃▂▂▂▂▂▁▁▁</td></tr><tr><td>val_acc</td><td>▁▄▅▄▅▆▅▆▆▆▆▇▆▇▆▆█▆▇▇▇▆▇██▇▇▆██</td></tr><tr><td>val_loss</td><td>█▆▅▅▄▃▄▃▃▃▃▂▃▂▂▃▁▃▂▁▃▅▃▃▂▂▂▅▃▄</td></tr><tr><td>weighted_f1_score</td><td>▁</td></tr></table><br/></div><div class=\"wandb-col\"><h3>Run summary:</h3><br/><table class=\"wandb\"><tr><td>Angry_f1</td><td>0.25578</td></tr><tr><td>Angry_precision</td><td>0.31321</td></tr><tr><td>Angry_recall</td><td>0.21615</td></tr><tr><td>Disgust_f1</td><td>0.13187</td></tr><tr><td>Disgust_precision</td><td>0.46154</td></tr><tr><td>Disgust_recall</td><td>0.07692</td></tr><tr><td>Fear_f1</td><td>0.20244</td></tr><tr><td>Fear_precision</td><td>0.28118</td></tr><tr><td>Fear_recall</td><td>0.15815</td></tr><tr><td>Happy_f1</td><td>0.58362</td></tr><tr><td>Happy_precision</td><td>0.48142</td></tr><tr><td>Happy_recall</td><td>0.74092</td></tr><tr><td>Neutral_f1</td><td>0.36645</td></tr><tr><td>Neutral_precision</td><td>0.33556</td></tr><tr><td>Neutral_recall</td><td>0.40361</td></tr><tr><td>Sad_f1</td><td>0.2574</td></tr><tr><td>Sad_precision</td><td>0.3017</td></tr><tr><td>Sad_recall</td><td>0.22445</td></tr><tr><td>Surprise_f1</td><td>0.51769</td></tr><tr><td>Surprise_precision</td><td>0.56075</td></tr><tr><td>Surprise_recall</td><td>0.48077</td></tr><tr><td>best_val_accuracy</td><td>40.42146</td></tr><tr><td>epoch</td><td>30</td></tr><tr><td>final_train_accuracy</td><td>49.0138</td></tr><tr><td>final_val_accuracy</td><td>40.14281</td></tr><tr><td>learning_rate</td><td>0.001</td></tr><tr><td>macro_f1_score</td><td>0.33075</td></tr><tr><td>overfitting_gap</td><td>8.871</td></tr><tr><td>total_parameters</td><td>1345287</td></tr><tr><td>train_acc</td><td>49.0138</td></tr><tr><td>train_loss</td><td>1.32112</td></tr><tr><td>val_acc</td><td>40.14281</td></tr><tr><td>val_loss</td><td>1.63632</td></tr><tr><td>weighted_f1_score</td><td>0.37905</td></tr></table><br/></div></div>"
            ]
          },
          "metadata": {}
        },
        {
          "output_type": "display_data",
          "data": {
            "text/plain": [
              "<IPython.core.display.HTML object>"
            ],
            "text/html": [
              " View run <strong style=\"color:#cdcd00\">exp01-basic-nn</strong> at: <a href='https://wandb.ai/qitiashvili13-free-university-of-tbilisi-/fer-challenge/runs/v932eei5' target=\"_blank\">https://wandb.ai/qitiashvili13-free-university-of-tbilisi-/fer-challenge/runs/v932eei5</a><br> View project at: <a href='https://wandb.ai/qitiashvili13-free-university-of-tbilisi-/fer-challenge' target=\"_blank\">https://wandb.ai/qitiashvili13-free-university-of-tbilisi-/fer-challenge</a><br>Synced 5 W&B file(s), 3 media file(s), 0 artifact file(s) and 2 other file(s)"
            ]
          },
          "metadata": {}
        },
        {
          "output_type": "display_data",
          "data": {
            "text/plain": [
              "<IPython.core.display.HTML object>"
            ],
            "text/html": [
              "Find logs at: <code>./wandb/run-20250609_211254-v932eei5/logs</code>"
            ]
          },
          "metadata": {}
        }
      ],
      "source": [
        "# Final summary\n",
        "print(\"\\n\" + \"=\" * 70)\n",
        "print(\"EXPERIMENT SUMMARY: BASIC NEURAL NETWORK\")\n",
        "print(\"=\" * 70)\n",
        "print(f\"\\nModel Architecture:\")\n",
        "print(f\"  - Input Layer: 2,304 neurons (48x48 pixels)\")\n",
        "print(f\"  - Hidden Layer 1: 512 neurons\")\n",
        "print(f\"  - Hidden Layer 2: 256 neurons\")\n",
        "print(f\"  - Hidden Layer 3: 128 neurons\")\n",
        "print(f\"  - Output Layer: 7 neurons (emotions)\")\n",
        "print(f\"  - Total Parameters: {model.total_params:,}\")\n",
        "\n",
        "print(f\"\\nPerformance Metrics:\")\n",
        "print(f\"  - Final Training Accuracy: {train_accs[-1]:.2f}%\")\n",
        "print(f\"  - Final Validation Accuracy: {val_accs[-1]:.2f}%\")\n",
        "print(f\"  - Best Validation Accuracy: {best_val_acc:.2f}%\")\n",
        "print(f\"  - Overfitting Gap: {train_accs[-1] - val_accs[-1]:.2f}%\")\n",
        "print(f\"  - Macro F1-Score: {report['macro avg']['f1-score']:.3f}\")\n",
        "\n",
        "wandb.finish()"
      ]
    },
    {
      "cell_type": "code",
      "source": [],
      "metadata": {
        "id": "L_v6j9kW_5ZP"
      },
      "execution_count": 22,
      "outputs": []
    }
  ],
  "metadata": {
    "kernelspec": {
      "display_name": "Python 3",
      "language": "python",
      "name": "python3"
    },
    "language_info": {
      "codemirror_mode": {
        "name": "ipython",
        "version": 3
      },
      "file_extension": ".py",
      "mimetype": "text/x-python",
      "name": "python",
      "nbconvert_exporter": "python",
      "pygments_lexer": "ipython3",
      "version": "3.8.0"
    },
    "colab": {
      "provenance": [],
      "include_colab_link": true
    }
  },
  "nbformat": 4,
  "nbformat_minor": 0
}