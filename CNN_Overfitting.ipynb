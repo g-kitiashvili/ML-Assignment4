{
  "cells": [
    {
      "cell_type": "markdown",
      "metadata": {
        "id": "view-in-github",
        "colab_type": "text"
      },
      "source": [
        "<a href=\"https://colab.research.google.com/github/g-kitiashvili/ML-Assignment4/blob/main/CNN_Overfitting.ipynb\" target=\"_parent\"><img src=\"https://colab.research.google.com/assets/colab-badge.svg\" alt=\"Open In Colab\"/></a>"
      ]
    },
    {
      "cell_type": "markdown",
      "metadata": {
        "id": "8HxkCc8qffun"
      },
      "source": [
        "# Experiment 03: CNN Overfitting Analysis\n",
        "## Objective: Build a large CNN without regularization to observe overfitting behavior"
      ]
    },
    {
      "cell_type": "code",
      "execution_count": 1,
      "metadata": {
        "id": "ACYSblPxffup"
      },
      "outputs": [],
      "source": [
        "# Install necessary packages\n",
        "!pip install wandb -q\n",
        "!pip install kaggle -q"
      ]
    },
    {
      "cell_type": "code",
      "execution_count": 2,
      "metadata": {
        "id": "CBut0XV5ffup"
      },
      "outputs": [],
      "source": [
        "# Import necessary libraries\n",
        "import torch\n",
        "import torch.nn as nn\n",
        "import torch.optim as optim\n",
        "from torch.utils.data import Dataset, DataLoader\n",
        "import pandas as pd\n",
        "import numpy as np\n",
        "import matplotlib.pyplot as plt\n",
        "import seaborn as sns\n",
        "from sklearn.metrics import confusion_matrix, classification_report\n",
        "import wandb\n",
        "from tqdm import tqdm\n",
        "import os\n",
        "import warnings\n",
        "warnings.filterwarnings('ignore')\n"
      ]
    },
    {
      "cell_type": "code",
      "execution_count": 3,
      "metadata": {
        "colab": {
          "base_uri": "https://localhost:8080/"
        },
        "id": "hx4v4gb3ffuq",
        "outputId": "c4fdb3d5-16b0-4d88-eb35-4a25104f9274"
      },
      "outputs": [
        {
          "output_type": "stream",
          "name": "stdout",
          "text": [
            "Mounted at /content/drive\n"
          ]
        }
      ],
      "source": [
        "# Mount Google Drive (optional - for saving results)\n",
        "from google.colab import drive\n",
        "drive.mount('/content/drive')"
      ]
    },
    {
      "cell_type": "code",
      "execution_count": 4,
      "metadata": {
        "id": "hT_aoJdZffuq"
      },
      "outputs": [],
      "source": [
        "# Setup kaggle directory\n",
        "!mkdir -p ~/.kaggle\n",
        "!cp /content/drive/MyDrive/kaggle.json ~/.kaggle/\n",
        "!chmod 600 ~/.kaggle/kaggle.json"
      ]
    },
    {
      "cell_type": "code",
      "execution_count": 5,
      "metadata": {
        "colab": {
          "base_uri": "https://localhost:8080/"
        },
        "id": "Pe4anKRtffuq",
        "outputId": "bec3fe92-0661-472f-eab1-390c6b1643e8"
      },
      "outputs": [
        {
          "output_type": "stream",
          "name": "stdout",
          "text": [
            "Downloading challenges-in-representation-learning-facial-expression-recognition-challenge.zip to /content\n",
            " 92% 263M/285M [00:01<00:00, 137MB/s]\n",
            "100% 285M/285M [00:01<00:00, 189MB/s]\n",
            "challenges-in-representation-learning-facial-expression-recognition-challenge.zip\n",
            "drive\n",
            "example_submission.csv\n",
            "fer2013.tar.gz\n",
            "icml_face_data.csv\n",
            "sample_data\n",
            "test.csv\n",
            "train.csv\n"
          ]
        }
      ],
      "source": [
        "# Download FER2013 dataset from Kaggle\n",
        "!kaggle competitions download -c challenges-in-representation-learning-facial-expression-recognition-challenge\n",
        "\n",
        "# Extract the dataset\n",
        "!unzip -q challenges-in-representation-learning-facial-expression-recognition-challenge.zip\n",
        "!ls"
      ]
    },
    {
      "cell_type": "code",
      "execution_count": 6,
      "metadata": {
        "colab": {
          "base_uri": "https://localhost:8080/",
          "height": 260
        },
        "id": "qALbisB2ffur",
        "outputId": "d2cd69f0-61f9-41e9-fe37-a7ea58deebfe"
      },
      "outputs": [
        {
          "output_type": "display_data",
          "data": {
            "text/plain": [
              "<IPython.core.display.Javascript object>"
            ],
            "application/javascript": [
              "\n",
              "        window._wandbApiKey = new Promise((resolve, reject) => {\n",
              "            function loadScript(url) {\n",
              "            return new Promise(function(resolve, reject) {\n",
              "                let newScript = document.createElement(\"script\");\n",
              "                newScript.onerror = reject;\n",
              "                newScript.onload = resolve;\n",
              "                document.body.appendChild(newScript);\n",
              "                newScript.src = url;\n",
              "            });\n",
              "            }\n",
              "            loadScript(\"https://cdn.jsdelivr.net/npm/postmate/build/postmate.min.js\").then(() => {\n",
              "            const iframe = document.createElement('iframe')\n",
              "            iframe.style.cssText = \"width:0;height:0;border:none\"\n",
              "            document.body.appendChild(iframe)\n",
              "            const handshake = new Postmate({\n",
              "                container: iframe,\n",
              "                url: 'https://wandb.ai/authorize'\n",
              "            });\n",
              "            const timeout = setTimeout(() => reject(\"Couldn't auto authenticate\"), 5000)\n",
              "            handshake.then(function(child) {\n",
              "                child.on('authorize', data => {\n",
              "                    clearTimeout(timeout)\n",
              "                    resolve(data)\n",
              "                });\n",
              "            });\n",
              "            })\n",
              "        });\n",
              "    "
            ]
          },
          "metadata": {}
        },
        {
          "output_type": "stream",
          "name": "stderr",
          "text": [
            "\u001b[34m\u001b[1mwandb\u001b[0m: Logging into wandb.ai. (Learn how to deploy a W&B server locally: https://wandb.me/wandb-server)\n",
            "\u001b[34m\u001b[1mwandb\u001b[0m: You can find your API key in your browser here: https://wandb.ai/authorize\n",
            "wandb: Paste an API key from your profile and hit enter:"
          ]
        },
        {
          "name": "stdout",
          "output_type": "stream",
          "text": [
            " ··········\n"
          ]
        },
        {
          "output_type": "stream",
          "name": "stderr",
          "text": [
            "\u001b[34m\u001b[1mwandb\u001b[0m: \u001b[33mWARNING\u001b[0m If you're specifying your api key in code, ensure this code is not shared publicly.\n",
            "\u001b[34m\u001b[1mwandb\u001b[0m: \u001b[33mWARNING\u001b[0m Consider setting the WANDB_API_KEY environment variable, or running `wandb login` from the command line.\n",
            "\u001b[34m\u001b[1mwandb\u001b[0m: No netrc file found, creating one.\n",
            "\u001b[34m\u001b[1mwandb\u001b[0m: Appending key for api.wandb.ai to your netrc file: /root/.netrc\n",
            "\u001b[34m\u001b[1mwandb\u001b[0m: Currently logged in as: \u001b[33mqitiashvili13\u001b[0m (\u001b[33mqitiashvili13-free-university-of-tbilisi-\u001b[0m) to \u001b[32mhttps://api.wandb.ai\u001b[0m. Use \u001b[1m`wandb login --relogin`\u001b[0m to force relogin\n"
          ]
        },
        {
          "output_type": "display_data",
          "data": {
            "text/plain": [
              "<IPython.core.display.HTML object>"
            ],
            "text/html": [
              "Tracking run with wandb version 0.19.11"
            ]
          },
          "metadata": {}
        },
        {
          "output_type": "display_data",
          "data": {
            "text/plain": [
              "<IPython.core.display.HTML object>"
            ],
            "text/html": [
              "Run data is saved locally in <code>/content/wandb/run-20250609_204857-dm0d1n8t</code>"
            ]
          },
          "metadata": {}
        },
        {
          "output_type": "display_data",
          "data": {
            "text/plain": [
              "<IPython.core.display.HTML object>"
            ],
            "text/html": [
              "Syncing run <strong><a href='https://wandb.ai/qitiashvili13-free-university-of-tbilisi-/fer-challenge/runs/dm0d1n8t' target=\"_blank\">exp03-cnn-overfitting</a></strong> to <a href='https://wandb.ai/qitiashvili13-free-university-of-tbilisi-/fer-challenge' target=\"_blank\">Weights & Biases</a> (<a href='https://wandb.me/developer-guide' target=\"_blank\">docs</a>)<br>"
            ]
          },
          "metadata": {}
        },
        {
          "output_type": "display_data",
          "data": {
            "text/plain": [
              "<IPython.core.display.HTML object>"
            ],
            "text/html": [
              " View project at <a href='https://wandb.ai/qitiashvili13-free-university-of-tbilisi-/fer-challenge' target=\"_blank\">https://wandb.ai/qitiashvili13-free-university-of-tbilisi-/fer-challenge</a>"
            ]
          },
          "metadata": {}
        },
        {
          "output_type": "display_data",
          "data": {
            "text/plain": [
              "<IPython.core.display.HTML object>"
            ],
            "text/html": [
              " View run at <a href='https://wandb.ai/qitiashvili13-free-university-of-tbilisi-/fer-challenge/runs/dm0d1n8t' target=\"_blank\">https://wandb.ai/qitiashvili13-free-university-of-tbilisi-/fer-challenge/runs/dm0d1n8t</a>"
            ]
          },
          "metadata": {}
        }
      ],
      "source": [
        "# Initialize W&B\n",
        "wandb.login()\n",
        "run = wandb.init(\n",
        "    project=\"fer-challenge\",\n",
        "    name=\"exp03-cnn-overfitting\",\n",
        "    config={\n",
        "        \"architecture\": \"Large CNN No Regularization\",\n",
        "        \"dataset\": \"FER2013\",\n",
        "        \"epochs\": 30,\n",
        "        \"batch_size\": 64,\n",
        "        \"learning_rate\": 0.001,\n",
        "        \"conv_channels\": [64, 128, 256, 512, 512],\n",
        "        \"fc_sizes\": [1024, 512],\n",
        "        \"num_classes\": 7,\n",
        "        \"regularization\": \"None\"\n",
        "    }\n",
        ")\n",
        "# api key 380014f2a984b49876832184c6bd2dcddb337047"
      ]
    },
    {
      "cell_type": "code",
      "execution_count": 7,
      "metadata": {
        "colab": {
          "base_uri": "https://localhost:8080/"
        },
        "id": "9qUgzP1Vffur",
        "outputId": "89cc3495-0ce0-4a0e-e180-282a31f95fc4"
      },
      "outputs": [
        {
          "output_type": "stream",
          "name": "stdout",
          "text": [
            "Training data shape: (28709, 2)\n",
            "Test data shape: (7178, 1)\n",
            "\n",
            "Training data columns: ['emotion', 'pixels']\n",
            "\n",
            "Emotion distribution:\n",
            "emotion\n",
            "0    3995\n",
            "1     436\n",
            "2    4097\n",
            "3    7215\n",
            "4    4830\n",
            "5    3171\n",
            "6    4965\n",
            "Name: count, dtype: int64\n",
            "\n",
            "Checking 'pixels' column data types...\n",
            "Removed 28709 rows from training set due to non-string 'pixels'.\n",
            "Removed 3589 rows from test set due to non-string 'pixels'.\n",
            "\n",
            "Merged Train shape (after filtering): (28709, 3)\n",
            "Merged Test shape (after filtering): (7178, 3)\n",
            "\n",
            "Emotion distribution in merged train set:\n",
            "emotion\n",
            "0    3995\n",
            "1     436\n",
            "2    4097\n",
            "3    7215\n",
            "4    4830\n",
            "5    3171\n",
            "6    4965\n",
            "Name: count, dtype: int64\n",
            "\n",
            "Emotion distribution in merged test set:\n",
            "Series([], Name: count, dtype: int64)\n"
          ]
        }
      ],
      "source": [
        "# Load and explore the data\n",
        "train_df = pd.read_csv('train.csv')\n",
        "test_df = pd.read_csv('test.csv')\n",
        "\n",
        "print(f\"Training data shape: {train_df.shape}\")\n",
        "print(f\"Test data shape: {test_df.shape}\")\n",
        "print(\"\\nTraining data columns:\", train_df.columns.tolist())\n",
        "print(\"\\nEmotion distribution:\")\n",
        "print(train_df['emotion'].value_counts().sort_index())\n",
        "\n",
        "icml_df = pd.read_csv('icml_face_data.csv')\n",
        "\n",
        "# Split ICML data based on 'Usage'\n",
        "icml_train = icml_df[icml_df[' Usage'] == 'Training']\n",
        "icml_test = icml_df[icml_df[' Usage'].isin(['PublicTest', 'Other'])]\n",
        "\n",
        "# Drop the 'Usage' column (not needed after splitting)\n",
        "icml_train = icml_train.drop(columns=[' Usage'])\n",
        "icml_test = icml_test.drop(columns=[' Usage'])\n",
        "\n",
        "# Merge datasets\n",
        "train_df = pd.concat([train_df, icml_train], ignore_index=True)\n",
        "test_df = pd.concat([test_df, icml_test], ignore_index=True)\n",
        "\n",
        "# **Added data type check and filtering**\n",
        "print(\"\\nChecking 'pixels' column data types...\")\n",
        "initial_train_rows = len(train_df)\n",
        "initial_test_rows = len(test_df)\n",
        "\n",
        "train_df = train_df[train_df['pixels'].apply(lambda x: isinstance(x, str))]\n",
        "test_df = test_df[test_df['pixels'].apply(lambda x: isinstance(x, str))]\n",
        "\n",
        "print(f\"Removed {initial_train_rows - len(train_df)} rows from training set due to non-string 'pixels'.\")\n",
        "print(f\"Removed {initial_test_rows - len(test_df)} rows from test set due to non-string 'pixels'.\")\n",
        "\n",
        "# Shuffle the merged datasets (optional but recommended)\n",
        "train_df = train_df.sample(frac=1, random_state=42).reset_index(drop=True)\n",
        "test_df = test_df.sample(frac=1, random_state=42).reset_index(drop=True)\n",
        "\n",
        "# Output shapes and emotion distribution\n",
        "print(\"\\nMerged Train shape (after filtering):\", train_df.shape)\n",
        "print(\"Merged Test shape (after filtering):\", test_df.shape)\n",
        "\n",
        "print(\"\\nEmotion distribution in merged train set:\")\n",
        "print(train_df['emotion'].value_counts().sort_index())\n",
        "\n",
        "print(\"\\nEmotion distribution in merged test set:\")\n",
        "print(test_df['emotion'].value_counts().sort_index())"
      ]
    },
    {
      "cell_type": "code",
      "execution_count": 8,
      "metadata": {
        "colab": {
          "base_uri": "https://localhost:8080/",
          "height": 610
        },
        "id": "N8TX5BZLffur",
        "outputId": "4f431e83-2a23-4be7-c080-03f9b8b533b4"
      },
      "outputs": [
        {
          "output_type": "display_data",
          "data": {
            "text/plain": [
              "<Figure size 1200x600 with 8 Axes>"
            ],
            "image/png": "[encoded data removed]"
          },
          "metadata": {}
        }
      ],
      "source": [
        "# Visualize sample images\n",
        "emotion_labels = ['Angry', 'Disgust', 'Fear', 'Happy', 'Sad', 'Surprise', 'Neutral']\n",
        "\n",
        "fig, axes = plt.subplots(2, 4, figsize=(12, 6))\n",
        "axes = axes.ravel()\n",
        "\n",
        "for i in range(8):\n",
        "    idx = np.random.randint(0, len(train_df))\n",
        "    pixels = train_df.iloc[idx]['pixels']\n",
        "    emotion = train_df.iloc[idx]['emotion']\n",
        "\n",
        "    # Convert pixel string to array and reshape\n",
        "    pixels = np.array([int(pixel) for pixel in pixels.split(' ')], dtype=np.uint8)\n",
        "    pixels = pixels.reshape(48, 48)\n",
        "\n",
        "    axes[i].imshow(pixels, cmap='gray')\n",
        "    axes[i].set_title(f'{emotion_labels[emotion]}')\n",
        "    axes[i].axis('off')\n",
        "\n",
        "plt.suptitle('Sample Images from FER2013 Dataset')\n",
        "plt.tight_layout()\n",
        "wandb.log({\"sample_images\": wandb.Image(plt)})\n",
        "plt.show()"
      ]
    },
    {
      "cell_type": "code",
      "execution_count": 9,
      "metadata": {
        "id": "oH7saU-4ffur"
      },
      "outputs": [],
      "source": [
        "# Custom Dataset Class\n",
        "class FERDataset(Dataset):\n",
        "    def __init__(self, dataframe, transform=None):\n",
        "        self.data = dataframe\n",
        "        self.transform = transform\n",
        "\n",
        "    def __len__(self):\n",
        "        return len(self.data)\n",
        "\n",
        "    def __getitem__(self, idx):\n",
        "        pixels = self.data.iloc[idx]['pixels']\n",
        "        emotion = self.data.iloc[idx]['emotion']\n",
        "\n",
        "        # Convert pixel string to numpy array\n",
        "        pixels = np.array([int(pixel) for pixel in pixels.split(' ')], dtype=np.float32)\n",
        "        pixels = pixels / 255.0  # Normalize to [0, 1]\n",
        "\n",
        "        # For CNN, reshape to (1, 48, 48) - single channel\n",
        "        pixels = pixels.reshape(1, 48, 48)\n",
        "\n",
        "        return torch.tensor(pixels), torch.tensor(emotion, dtype=torch.long)"
      ]
    },
    {
      "cell_type": "code",
      "execution_count": 10,
      "metadata": {
        "colab": {
          "base_uri": "https://localhost:8080/"
        },
        "id": "4ZBHkwPYffus",
        "outputId": "685e52a3-d84f-49c7-b102-cddf6c4b9ced"
      },
      "outputs": [
        {
          "output_type": "stream",
          "name": "stdout",
          "text": [
            "Train size: 22967\n",
            "Validation size: 5742\n"
          ]
        }
      ],
      "source": [
        "# Create datasets\n",
        "full_dataset = FERDataset(train_df)\n",
        "\n",
        "# Split into train and validation\n",
        "train_size = int(0.8 * len(full_dataset))\n",
        "val_size = len(full_dataset) - train_size\n",
        "train_dataset, val_dataset = torch.utils.data.random_split(full_dataset, [train_size, val_size])\n",
        "\n",
        "print(f\"Train size: {len(train_dataset)}\")\n",
        "print(f\"Validation size: {len(val_dataset)}\")\n",
        "\n",
        "# Create data loaders\n",
        "train_loader = DataLoader(train_dataset, batch_size=64, shuffle=True, num_workers=2)\n",
        "val_loader = DataLoader(val_dataset, batch_size=64, shuffle=False, num_workers=2)"
      ]
    },
    {
      "cell_type": "code",
      "execution_count": 11,
      "metadata": {
        "id": "xReKxB8fffus"
      },
      "outputs": [],
      "source": [
        "# Large CNN Model without regularization\n",
        "class LargeCNNNoReg(nn.Module):\n",
        "    def __init__(self, num_classes=7):\n",
        "        super(LargeCNNNoReg, self).__init__()\n",
        "\n",
        "        # Conv Block 1\n",
        "        self.conv1_1 = nn.Conv2d(1, 64, kernel_size=3, padding=1)\n",
        "        self.conv1_2 = nn.Conv2d(64, 64, kernel_size=3, padding=1)\n",
        "        self.pool1 = nn.MaxPool2d(2, 2)  # 48x48 -> 24x24\n",
        "\n",
        "        # Conv Block 2\n",
        "        self.conv2_1 = nn.Conv2d(64, 128, kernel_size=3, padding=1)\n",
        "        self.conv2_2 = nn.Conv2d(128, 128, kernel_size=3, padding=1)\n",
        "        self.pool2 = nn.MaxPool2d(2, 2)  # 24x24 -> 12x12\n",
        "\n",
        "        # Conv Block 3\n",
        "        self.conv3_1 = nn.Conv2d(128, 256, kernel_size=3, padding=1)\n",
        "        self.conv3_2 = nn.Conv2d(256, 256, kernel_size=3, padding=1)\n",
        "        self.conv3_3 = nn.Conv2d(256, 256, kernel_size=3, padding=1)\n",
        "        self.pool3 = nn.MaxPool2d(2, 2)  # 12x12 -> 6x6\n",
        "\n",
        "        # Conv Block 4\n",
        "        self.conv4_1 = nn.Conv2d(256, 512, kernel_size=3, padding=1)\n",
        "        self.conv4_2 = nn.Conv2d(512, 512, kernel_size=3, padding=1)\n",
        "        self.conv4_3 = nn.Conv2d(512, 512, kernel_size=3, padding=1)\n",
        "        self.pool4 = nn.MaxPool2d(2, 2)  # 6x6 -> 3x3\n",
        "\n",
        "        # Conv Block 5\n",
        "        self.conv5_1 = nn.Conv2d(512, 512, kernel_size=3, padding=1)\n",
        "        self.conv5_2 = nn.Conv2d(512, 512, kernel_size=3, padding=1)\n",
        "        self.conv5_3 = nn.Conv2d(512, 512, kernel_size=3, padding=1)\n",
        "\n",
        "        # Fully connected layers\n",
        "        self.fc1 = nn.Linear(512 * 3 * 3, 1024)\n",
        "        self.fc2 = nn.Linear(1024, 512)\n",
        "        self.fc3 = nn.Linear(512, num_classes)\n",
        "\n",
        "        # Activation\n",
        "        self.relu = nn.ReLU(inplace=True)\n",
        "\n",
        "        # Calculate total parameters\n",
        "        self.total_params = sum(p.numel() for p in self.parameters())\n",
        "\n",
        "    def forward(self, x):\n",
        "        # Conv Block 1\n",
        "        x = self.relu(self.conv1_1(x))\n",
        "        x = self.relu(self.conv1_2(x))\n",
        "        x = self.pool1(x)\n",
        "\n",
        "        # Conv Block 2\n",
        "        x = self.relu(self.conv2_1(x))\n",
        "        x = self.relu(self.conv2_2(x))\n",
        "        x = self.pool2(x)\n",
        "\n",
        "        # Conv Block 3\n",
        "        x = self.relu(self.conv3_1(x))\n",
        "        x = self.relu(self.conv3_2(x))\n",
        "        x = self.relu(self.conv3_3(x))\n",
        "        x = self.pool3(x)\n",
        "\n",
        "        # Conv Block 4\n",
        "        x = self.relu(self.conv4_1(x))\n",
        "        x = self.relu(self.conv4_2(x))\n",
        "        x = self.relu(self.conv4_3(x))\n",
        "        x = self.pool4(x)\n",
        "\n",
        "        # Conv Block 5\n",
        "        x = self.relu(self.conv5_1(x))\n",
        "        x = self.relu(self.conv5_2(x))\n",
        "        x = self.relu(self.conv5_3(x))\n",
        "\n",
        "        # Flatten\n",
        "        x = x.view(x.size(0), -1)\n",
        "\n",
        "        # FC layers\n",
        "        x = self.relu(self.fc1(x))\n",
        "        x = self.relu(self.fc2(x))\n",
        "        x = self.fc3(x)\n",
        "\n",
        "        return x"
      ]
    },
    {
      "cell_type": "code",
      "execution_count": 12,
      "metadata": {
        "colab": {
          "base_uri": "https://localhost:8080/"
        },
        "id": "kfXf_1byffus",
        "outputId": "19d3e6b5-da4e-4961-f968-1eca40eef9aa"
      },
      "outputs": [
        {
          "output_type": "stream",
          "name": "stdout",
          "text": [
            "Using device: cuda\n",
            "Total parameters: 19,961,543\n"
          ]
        }
      ],
      "source": [
        "# Initialize model, loss, optimizer\n",
        "device = torch.device('cuda' if torch.cuda.is_available() else 'cpu')\n",
        "print(f\"Using device: {device}\")\n",
        "\n",
        "model = LargeCNNNoReg().to(device)\n",
        "print(f\"Total parameters: {model.total_params:,}\")\n",
        "\n",
        "criterion = nn.CrossEntropyLoss()\n",
        "optimizer = optim.Adam(model.parameters(), lr=0.001)\n",
        "\n",
        "# Log model architecture to W&B\n",
        "wandb.watch(model, log='all')"
      ]
    },
    {
      "cell_type": "code",
      "execution_count": 13,
      "metadata": {
        "colab": {
          "base_uri": "https://localhost:8080/"
        },
        "id": "5PMtptpaffus",
        "outputId": "010443e7-4bcf-4cfc-d1bf-6381d54f081f"
      },
      "outputs": [
        {
          "output_type": "stream",
          "name": "stdout",
          "text": [
            "Model Architecture:\n",
            "==================================================\n",
            "conv1_1.weight       torch.Size([64, 1, 3, 3])\n",
            "conv1_1.bias         torch.Size([64])\n",
            "conv1_2.weight       torch.Size([64, 64, 3, 3])\n",
            "conv1_2.bias         torch.Size([64])\n",
            "conv2_1.weight       torch.Size([128, 64, 3, 3])\n",
            "conv2_1.bias         torch.Size([128])\n",
            "conv2_2.weight       torch.Size([128, 128, 3, 3])\n",
            "conv2_2.bias         torch.Size([128])\n",
            "conv3_1.weight       torch.Size([256, 128, 3, 3])\n",
            "conv3_1.bias         torch.Size([256])\n",
            "conv3_2.weight       torch.Size([256, 256, 3, 3])\n",
            "conv3_2.bias         torch.Size([256])\n",
            "conv3_3.weight       torch.Size([256, 256, 3, 3])\n",
            "conv3_3.bias         torch.Size([256])\n",
            "conv4_1.weight       torch.Size([512, 256, 3, 3])\n",
            "conv4_1.bias         torch.Size([512])\n",
            "conv4_2.weight       torch.Size([512, 512, 3, 3])\n",
            "conv4_2.bias         torch.Size([512])\n",
            "conv4_3.weight       torch.Size([512, 512, 3, 3])\n",
            "conv4_3.bias         torch.Size([512])\n",
            "conv5_1.weight       torch.Size([512, 512, 3, 3])\n",
            "conv5_1.bias         torch.Size([512])\n",
            "conv5_2.weight       torch.Size([512, 512, 3, 3])\n",
            "conv5_2.bias         torch.Size([512])\n",
            "conv5_3.weight       torch.Size([512, 512, 3, 3])\n",
            "conv5_3.bias         torch.Size([512])\n",
            "fc1.weight           torch.Size([1024, 4608])\n",
            "fc1.bias             torch.Size([1024])\n",
            "fc2.weight           torch.Size([512, 1024])\n",
            "fc2.bias             torch.Size([512])\n",
            "fc3.weight           torch.Size([7, 512])\n",
            "fc3.bias             torch.Size([7])\n",
            "==================================================\n"
          ]
        }
      ],
      "source": [
        "# Print model architecture\n",
        "print(\"Model Architecture:\")\n",
        "print(\"=\" * 50)\n",
        "for name, param in model.named_parameters():\n",
        "    print(f\"{name:20} {param.shape}\")\n",
        "print(\"=\" * 50)"
      ]
    },
    {
      "cell_type": "code",
      "execution_count": 14,
      "metadata": {
        "id": "7Ny2Xp4dffus"
      },
      "outputs": [],
      "source": [
        "# Training function\n",
        "def train_epoch(model, loader, criterion, optimizer, device):\n",
        "    model.train()\n",
        "    running_loss = 0.0\n",
        "    correct = 0\n",
        "    total = 0\n",
        "\n",
        "    progress_bar = tqdm(loader, desc='Training')\n",
        "    for inputs, labels in progress_bar:\n",
        "        inputs, labels = inputs.to(device), labels.to(device)\n",
        "\n",
        "        optimizer.zero_grad()\n",
        "        outputs = model(inputs)\n",
        "        loss = criterion(outputs, labels)\n",
        "        loss.backward()\n",
        "        optimizer.step()\n",
        "\n",
        "        running_loss += loss.item()\n",
        "        _, predicted = torch.max(outputs.data, 1)\n",
        "        total += labels.size(0)\n",
        "        correct += (predicted == labels).sum().item()\n",
        "\n",
        "        # Update progress bar\n",
        "        progress_bar.set_postfix({\n",
        "            'loss': loss.item(),\n",
        "            'acc': 100 * correct / total\n",
        "        })\n",
        "\n",
        "    epoch_loss = running_loss / len(loader)\n",
        "    epoch_acc = 100 * correct / total\n",
        "\n",
        "    return epoch_loss, epoch_acc"
      ]
    },
    {
      "cell_type": "code",
      "execution_count": 15,
      "metadata": {
        "id": "MqnF0VWqffus"
      },
      "outputs": [],
      "source": [
        "# Validation function\n",
        "def validate_epoch(model, loader, criterion, device):\n",
        "    model.eval()\n",
        "    running_loss = 0.0\n",
        "    correct = 0\n",
        "    total = 0\n",
        "    all_predictions = []\n",
        "    all_labels = []\n",
        "\n",
        "    with torch.no_grad():\n",
        "        progress_bar = tqdm(loader, desc='Validation')\n",
        "        for inputs, labels in progress_bar:\n",
        "            inputs, labels = inputs.to(device), labels.to(device)\n",
        "\n",
        "            outputs = model(inputs)\n",
        "            loss = criterion(outputs, labels)\n",
        "\n",
        "            running_loss += loss.item()\n",
        "            _, predicted = torch.max(outputs.data, 1)\n",
        "            total += labels.size(0)\n",
        "            correct += (predicted == labels).sum().item()\n",
        "\n",
        "            all_predictions.extend(predicted.cpu().numpy())\n",
        "            all_labels.extend(labels.cpu().numpy())\n",
        "\n",
        "            # Update progress bar\n",
        "            progress_bar.set_postfix({\n",
        "                'loss': loss.item(),\n",
        "                'acc': 100 * correct / total\n",
        "            })\n",
        "\n",
        "    epoch_loss = running_loss / len(loader)\n",
        "    epoch_acc = 100 * correct / total\n",
        "\n",
        "    return epoch_loss, epoch_acc, all_predictions, all_labels"
      ]
    },
    {
      "cell_type": "code",
      "execution_count": 16,
      "metadata": {
        "colab": {
          "base_uri": "https://localhost:8080/"
        },
        "id": "WHVLVu-Hffus",
        "outputId": "cf0cb744-4394-44f7-926f-6df5a51435fc"
      },
      "outputs": [
        {
          "output_type": "stream",
          "name": "stdout",
          "text": [
            "\n",
            "Epoch 1/30\n",
            "--------------------------------------------------\n"
          ]
        },
        {
          "output_type": "stream",
          "name": "stderr",
          "text": [
            "Training: 100%|██████████| 359/359 [00:28<00:00, 12.80it/s, loss=1.85, acc=24.8]\n",
            "Validation: 100%|██████████| 90/90 [00:05<00:00, 15.83it/s, loss=1.84, acc=26]\n"
          ]
        },
        {
          "output_type": "stream",
          "name": "stdout",
          "text": [
            "Train Loss: 1.8231, Train Acc: 24.82%\n",
            "Val Loss: 1.8045, Val Acc: 25.97%\n",
            "Overfitting Gap: -1.14%\n",
            "New best model saved with validation accuracy: 25.97%\n",
            "\n",
            "Epoch 2/30\n",
            "--------------------------------------------------\n"
          ]
        },
        {
          "output_type": "stream",
          "name": "stderr",
          "text": [
            "Training: 100%|██████████| 359/359 [00:23<00:00, 15.22it/s, loss=1.73, acc=24.9]\n",
            "Validation: 100%|██████████| 90/90 [00:06<00:00, 14.63it/s, loss=1.84, acc=26]\n"
          ]
        },
        {
          "output_type": "stream",
          "name": "stdout",
          "text": [
            "Train Loss: 1.8146, Train Acc: 24.92%\n",
            "Val Loss: 1.8067, Val Acc: 25.97%\n",
            "Overfitting Gap: -1.04%\n",
            "\n",
            "Epoch 3/30\n",
            "--------------------------------------------------\n"
          ]
        },
        {
          "output_type": "stream",
          "name": "stderr",
          "text": [
            "Training: 100%|██████████| 359/359 [00:26<00:00, 13.79it/s, loss=1.81, acc=24.9]\n",
            "Validation: 100%|██████████| 90/90 [00:06<00:00, 14.22it/s, loss=1.85, acc=26]\n"
          ]
        },
        {
          "output_type": "stream",
          "name": "stdout",
          "text": [
            "Train Loss: 1.8143, Train Acc: 24.92%\n",
            "Val Loss: 1.8043, Val Acc: 25.97%\n",
            "Overfitting Gap: -1.04%\n",
            "\n",
            "Epoch 4/30\n",
            "--------------------------------------------------\n"
          ]
        },
        {
          "output_type": "stream",
          "name": "stderr",
          "text": [
            "Training: 100%|██████████| 359/359 [00:24<00:00, 14.80it/s, loss=1.78, acc=24.9]\n",
            "Validation: 100%|██████████| 90/90 [00:06<00:00, 14.05it/s, loss=1.86, acc=26]\n"
          ]
        },
        {
          "output_type": "stream",
          "name": "stdout",
          "text": [
            "Train Loss: 1.8135, Train Acc: 24.92%\n",
            "Val Loss: 1.8056, Val Acc: 25.97%\n",
            "Overfitting Gap: -1.04%\n",
            "\n",
            "Epoch 5/30\n",
            "--------------------------------------------------\n"
          ]
        },
        {
          "output_type": "stream",
          "name": "stderr",
          "text": [
            "Training: 100%|██████████| 359/359 [00:24<00:00, 14.63it/s, loss=1.82, acc=24.9]\n",
            "Validation: 100%|██████████| 90/90 [00:06<00:00, 14.31it/s, loss=1.84, acc=26]\n"
          ]
        },
        {
          "output_type": "stream",
          "name": "stdout",
          "text": [
            "Train Loss: 1.8127, Train Acc: 24.92%\n",
            "Val Loss: 1.8038, Val Acc: 25.97%\n",
            "Overfitting Gap: -1.04%\n",
            "\n",
            "Epoch 6/30\n",
            "--------------------------------------------------\n"
          ]
        },
        {
          "output_type": "stream",
          "name": "stderr",
          "text": [
            "Training: 100%|██████████| 359/359 [00:24<00:00, 14.95it/s, loss=1.83, acc=24.9]\n",
            "Validation: 100%|██████████| 90/90 [00:05<00:00, 15.56it/s, loss=1.82, acc=26]\n"
          ]
        },
        {
          "output_type": "stream",
          "name": "stdout",
          "text": [
            "Train Loss: 1.8127, Train Acc: 24.92%\n",
            "Val Loss: 1.8042, Val Acc: 25.97%\n",
            "Overfitting Gap: -1.04%\n",
            "\n",
            "Epoch 7/30\n",
            "--------------------------------------------------\n"
          ]
        },
        {
          "output_type": "stream",
          "name": "stderr",
          "text": [
            "Training: 100%|██████████| 359/359 [00:25<00:00, 14.20it/s, loss=1.77, acc=24.9]\n",
            "Validation: 100%|██████████| 90/90 [00:06<00:00, 13.28it/s, loss=1.86, acc=26]\n"
          ]
        },
        {
          "output_type": "stream",
          "name": "stdout",
          "text": [
            "Train Loss: 1.8124, Train Acc: 24.92%\n",
            "Val Loss: 1.8050, Val Acc: 25.97%\n",
            "Overfitting Gap: -1.04%\n",
            "\n",
            "Epoch 8/30\n",
            "--------------------------------------------------\n"
          ]
        },
        {
          "output_type": "stream",
          "name": "stderr",
          "text": [
            "Training: 100%|██████████| 359/359 [00:24<00:00, 14.86it/s, loss=1.85, acc=24.9]\n",
            "Validation: 100%|██████████| 90/90 [00:06<00:00, 14.78it/s, loss=1.85, acc=26]\n"
          ]
        },
        {
          "output_type": "stream",
          "name": "stdout",
          "text": [
            "Train Loss: 1.8126, Train Acc: 24.92%\n",
            "Val Loss: 1.8043, Val Acc: 25.97%\n",
            "Overfitting Gap: -1.04%\n",
            "\n",
            "Epoch 9/30\n",
            "--------------------------------------------------\n"
          ]
        },
        {
          "output_type": "stream",
          "name": "stderr",
          "text": [
            "Training: 100%|██████████| 359/359 [00:24<00:00, 14.88it/s, loss=1.84, acc=24.9]\n",
            "Validation: 100%|██████████| 90/90 [00:06<00:00, 13.43it/s, loss=1.86, acc=26]\n"
          ]
        },
        {
          "output_type": "stream",
          "name": "stdout",
          "text": [
            "Train Loss: 1.8127, Train Acc: 24.92%\n",
            "Val Loss: 1.8047, Val Acc: 25.97%\n",
            "Overfitting Gap: -1.04%\n",
            "\n",
            "Epoch 10/30\n",
            "--------------------------------------------------\n"
          ]
        },
        {
          "output_type": "stream",
          "name": "stderr",
          "text": [
            "Training: 100%|██████████| 359/359 [00:25<00:00, 13.91it/s, loss=1.87, acc=24.9]\n",
            "Validation: 100%|██████████| 90/90 [00:05<00:00, 17.67it/s, loss=1.84, acc=26]\n"
          ]
        },
        {
          "output_type": "stream",
          "name": "stdout",
          "text": [
            "Train Loss: 1.8124, Train Acc: 24.92%\n",
            "Val Loss: 1.8036, Val Acc: 25.97%\n",
            "Overfitting Gap: -1.04%\n",
            "\n",
            "Epoch 11/30\n",
            "--------------------------------------------------\n"
          ]
        },
        {
          "output_type": "stream",
          "name": "stderr",
          "text": [
            "Training: 100%|██████████| 359/359 [00:24<00:00, 14.39it/s, loss=1.78, acc=24.9]\n",
            "Validation: 100%|██████████| 90/90 [00:04<00:00, 20.10it/s, loss=1.85, acc=26]\n"
          ]
        },
        {
          "output_type": "stream",
          "name": "stdout",
          "text": [
            "Train Loss: 1.8126, Train Acc: 24.92%\n",
            "Val Loss: 1.8054, Val Acc: 25.97%\n",
            "Overfitting Gap: -1.04%\n",
            "\n",
            "Epoch 12/30\n",
            "--------------------------------------------------\n"
          ]
        },
        {
          "output_type": "stream",
          "name": "stderr",
          "text": [
            "Training: 100%|██████████| 359/359 [00:26<00:00, 13.80it/s, loss=1.78, acc=24.9]\n",
            "Validation: 100%|██████████| 90/90 [00:04<00:00, 21.53it/s, loss=1.85, acc=26]\n"
          ]
        },
        {
          "output_type": "stream",
          "name": "stdout",
          "text": [
            "Train Loss: 1.8130, Train Acc: 24.92%\n",
            "Val Loss: 1.8043, Val Acc: 25.97%\n",
            "Overfitting Gap: -1.04%\n",
            "\n",
            "Epoch 13/30\n",
            "--------------------------------------------------\n"
          ]
        },
        {
          "output_type": "stream",
          "name": "stderr",
          "text": [
            "Training: 100%|██████████| 359/359 [00:25<00:00, 13.94it/s, loss=1.87, acc=24.9]\n",
            "Validation: 100%|██████████| 90/90 [00:04<00:00, 21.54it/s, loss=1.85, acc=26]\n"
          ]
        },
        {
          "output_type": "stream",
          "name": "stdout",
          "text": [
            "Train Loss: 1.8122, Train Acc: 24.92%\n",
            "Val Loss: 1.8044, Val Acc: 25.97%\n",
            "Overfitting Gap: -1.04%\n",
            "\n",
            "Epoch 14/30\n",
            "--------------------------------------------------\n"
          ]
        },
        {
          "output_type": "stream",
          "name": "stderr",
          "text": [
            "Training: 100%|██████████| 359/359 [00:26<00:00, 13.73it/s, loss=1.76, acc=24.9]\n",
            "Validation: 100%|██████████| 90/90 [00:04<00:00, 21.46it/s, loss=1.85, acc=26]\n"
          ]
        },
        {
          "output_type": "stream",
          "name": "stdout",
          "text": [
            "Train Loss: 1.8122, Train Acc: 24.92%\n",
            "Val Loss: 1.8039, Val Acc: 25.97%\n",
            "Overfitting Gap: -1.04%\n",
            "\n",
            "Epoch 15/30\n",
            "--------------------------------------------------\n"
          ]
        },
        {
          "output_type": "stream",
          "name": "stderr",
          "text": [
            "Training: 100%|██████████| 359/359 [00:25<00:00, 13.98it/s, loss=1.99, acc=24.9]\n",
            "Validation: 100%|██████████| 90/90 [00:04<00:00, 21.79it/s, loss=1.84, acc=26]\n"
          ]
        },
        {
          "output_type": "stream",
          "name": "stdout",
          "text": [
            "Train Loss: 1.8124, Train Acc: 24.92%\n",
            "Val Loss: 1.8035, Val Acc: 25.97%\n",
            "Overfitting Gap: -1.04%\n",
            "\n",
            "Epoch 16/30\n",
            "--------------------------------------------------\n"
          ]
        },
        {
          "output_type": "stream",
          "name": "stderr",
          "text": [
            "Training: 100%|██████████| 359/359 [00:27<00:00, 12.97it/s, loss=1.9, acc=24.9]\n",
            "Validation: 100%|██████████| 90/90 [00:04<00:00, 21.62it/s, loss=1.83, acc=26]\n"
          ]
        },
        {
          "output_type": "stream",
          "name": "stdout",
          "text": [
            "Train Loss: 1.8123, Train Acc: 24.92%\n",
            "Val Loss: 1.8030, Val Acc: 25.97%\n",
            "Overfitting Gap: -1.04%\n",
            "\n",
            "Epoch 17/30\n",
            "--------------------------------------------------\n"
          ]
        },
        {
          "output_type": "stream",
          "name": "stderr",
          "text": [
            "Training: 100%|██████████| 359/359 [00:25<00:00, 13.87it/s, loss=1.8, acc=24.9]\n",
            "Validation: 100%|██████████| 90/90 [00:04<00:00, 21.21it/s, loss=1.85, acc=26]\n"
          ]
        },
        {
          "output_type": "stream",
          "name": "stdout",
          "text": [
            "Train Loss: 1.8121, Train Acc: 24.92%\n",
            "Val Loss: 1.8052, Val Acc: 25.97%\n",
            "Overfitting Gap: -1.04%\n",
            "\n",
            "Epoch 18/30\n",
            "--------------------------------------------------\n"
          ]
        },
        {
          "output_type": "stream",
          "name": "stderr",
          "text": [
            "Training: 100%|██████████| 359/359 [00:25<00:00, 14.34it/s, loss=1.76, acc=24.9]\n",
            "Validation: 100%|██████████| 90/90 [00:05<00:00, 17.83it/s, loss=1.83, acc=26]\n"
          ]
        },
        {
          "output_type": "stream",
          "name": "stdout",
          "text": [
            "Train Loss: 1.8120, Train Acc: 24.92%\n",
            "Val Loss: 1.8034, Val Acc: 25.97%\n",
            "Overfitting Gap: -1.04%\n",
            "\n",
            "Epoch 19/30\n",
            "--------------------------------------------------\n"
          ]
        },
        {
          "output_type": "stream",
          "name": "stderr",
          "text": [
            "Training: 100%|██████████| 359/359 [00:24<00:00, 14.45it/s, loss=1.76, acc=24.9]\n",
            "Validation: 100%|██████████| 90/90 [00:05<00:00, 17.77it/s, loss=1.85, acc=26]\n"
          ]
        },
        {
          "output_type": "stream",
          "name": "stdout",
          "text": [
            "Train Loss: 1.8121, Train Acc: 24.92%\n",
            "Val Loss: 1.8054, Val Acc: 25.97%\n",
            "Overfitting Gap: -1.04%\n",
            "\n",
            "Epoch 20/30\n",
            "--------------------------------------------------\n"
          ]
        },
        {
          "output_type": "stream",
          "name": "stderr",
          "text": [
            "Training: 100%|██████████| 359/359 [00:24<00:00, 14.77it/s, loss=1.85, acc=24.9]\n",
            "Validation: 100%|██████████| 90/90 [00:05<00:00, 16.06it/s, loss=1.84, acc=26]\n"
          ]
        },
        {
          "output_type": "stream",
          "name": "stdout",
          "text": [
            "Train Loss: 1.8122, Train Acc: 24.92%\n",
            "Val Loss: 1.8036, Val Acc: 25.97%\n",
            "Overfitting Gap: -1.04%\n",
            "\n",
            "Epoch 21/30\n",
            "--------------------------------------------------\n"
          ]
        },
        {
          "output_type": "stream",
          "name": "stderr",
          "text": [
            "Training: 100%|██████████| 359/359 [00:24<00:00, 14.39it/s, loss=1.78, acc=24.9]\n",
            "Validation: 100%|██████████| 90/90 [00:05<00:00, 15.19it/s, loss=1.84, acc=26]\n"
          ]
        },
        {
          "output_type": "stream",
          "name": "stdout",
          "text": [
            "Train Loss: 1.8121, Train Acc: 24.92%\n",
            "Val Loss: 1.8033, Val Acc: 25.97%\n",
            "Overfitting Gap: -1.04%\n",
            "\n",
            "Epoch 22/30\n",
            "--------------------------------------------------\n"
          ]
        },
        {
          "output_type": "stream",
          "name": "stderr",
          "text": [
            "Training: 100%|██████████| 359/359 [00:24<00:00, 14.79it/s, loss=1.9, acc=24.9]\n",
            "Validation: 100%|██████████| 90/90 [00:06<00:00, 13.73it/s, loss=1.84, acc=26]\n"
          ]
        },
        {
          "output_type": "stream",
          "name": "stdout",
          "text": [
            "Train Loss: 1.8119, Train Acc: 24.92%\n",
            "Val Loss: 1.8042, Val Acc: 25.97%\n",
            "Overfitting Gap: -1.04%\n",
            "\n",
            "Epoch 23/30\n",
            "--------------------------------------------------\n"
          ]
        },
        {
          "output_type": "stream",
          "name": "stderr",
          "text": [
            "Training: 100%|██████████| 359/359 [00:27<00:00, 13.04it/s, loss=1.77, acc=24.9]\n",
            "Validation: 100%|██████████| 90/90 [00:04<00:00, 18.00it/s, loss=1.84, acc=26]\n"
          ]
        },
        {
          "output_type": "stream",
          "name": "stdout",
          "text": [
            "Train Loss: 1.8118, Train Acc: 24.92%\n",
            "Val Loss: 1.8057, Val Acc: 25.97%\n",
            "Overfitting Gap: -1.04%\n",
            "\n",
            "Epoch 24/30\n",
            "--------------------------------------------------\n"
          ]
        },
        {
          "output_type": "stream",
          "name": "stderr",
          "text": [
            "Training: 100%|██████████| 359/359 [00:25<00:00, 14.06it/s, loss=1.88, acc=24.9]\n",
            "Validation: 100%|██████████| 90/90 [00:05<00:00, 17.94it/s, loss=1.84, acc=26]\n"
          ]
        },
        {
          "output_type": "stream",
          "name": "stdout",
          "text": [
            "Train Loss: 1.8120, Train Acc: 24.92%\n",
            "Val Loss: 1.8034, Val Acc: 25.97%\n",
            "Overfitting Gap: -1.04%\n",
            "\n",
            "Epoch 25/30\n",
            "--------------------------------------------------\n"
          ]
        },
        {
          "output_type": "stream",
          "name": "stderr",
          "text": [
            "Training: 100%|██████████| 359/359 [00:25<00:00, 14.11it/s, loss=1.92, acc=24.9]\n",
            "Validation: 100%|██████████| 90/90 [00:05<00:00, 17.48it/s, loss=1.84, acc=26]\n"
          ]
        },
        {
          "output_type": "stream",
          "name": "stdout",
          "text": [
            "Train Loss: 1.8121, Train Acc: 24.92%\n",
            "Val Loss: 1.8043, Val Acc: 25.97%\n",
            "Overfitting Gap: -1.04%\n",
            "\n",
            "Epoch 26/30\n",
            "--------------------------------------------------\n"
          ]
        },
        {
          "output_type": "stream",
          "name": "stderr",
          "text": [
            "Training: 100%|██████████| 359/359 [00:24<00:00, 14.56it/s, loss=1.77, acc=24.9]\n",
            "Validation: 100%|██████████| 90/90 [00:05<00:00, 16.36it/s, loss=1.84, acc=26]\n"
          ]
        },
        {
          "output_type": "stream",
          "name": "stdout",
          "text": [
            "Train Loss: 1.8121, Train Acc: 24.92%\n",
            "Val Loss: 1.8042, Val Acc: 25.97%\n",
            "Overfitting Gap: -1.04%\n",
            "\n",
            "Epoch 27/30\n",
            "--------------------------------------------------\n"
          ]
        },
        {
          "output_type": "stream",
          "name": "stderr",
          "text": [
            "Training: 100%|██████████| 359/359 [00:24<00:00, 14.46it/s, loss=1.78, acc=24.9]\n",
            "Validation: 100%|██████████| 90/90 [00:05<00:00, 15.38it/s, loss=1.83, acc=26]\n"
          ]
        },
        {
          "output_type": "stream",
          "name": "stdout",
          "text": [
            "Train Loss: 1.8121, Train Acc: 24.92%\n",
            "Val Loss: 1.8031, Val Acc: 25.97%\n",
            "Overfitting Gap: -1.04%\n",
            "\n",
            "Epoch 28/30\n",
            "--------------------------------------------------\n"
          ]
        },
        {
          "output_type": "stream",
          "name": "stderr",
          "text": [
            "Training: 100%|██████████| 359/359 [00:24<00:00, 14.86it/s, loss=1.81, acc=24.9]\n",
            "Validation: 100%|██████████| 90/90 [00:06<00:00, 14.52it/s, loss=1.84, acc=26]\n"
          ]
        },
        {
          "output_type": "stream",
          "name": "stdout",
          "text": [
            "Train Loss: 1.8119, Train Acc: 24.92%\n",
            "Val Loss: 1.8053, Val Acc: 25.97%\n",
            "Overfitting Gap: -1.04%\n",
            "\n",
            "Epoch 29/30\n",
            "--------------------------------------------------\n"
          ]
        },
        {
          "output_type": "stream",
          "name": "stderr",
          "text": [
            "Training: 100%|██████████| 359/359 [00:25<00:00, 13.99it/s, loss=1.79, acc=24.9]\n",
            "Validation: 100%|██████████| 90/90 [00:06<00:00, 13.17it/s, loss=1.84, acc=26]\n"
          ]
        },
        {
          "output_type": "stream",
          "name": "stdout",
          "text": [
            "Train Loss: 1.8119, Train Acc: 24.92%\n",
            "Val Loss: 1.8040, Val Acc: 25.97%\n",
            "Overfitting Gap: -1.04%\n",
            "\n",
            "Epoch 30/30\n",
            "--------------------------------------------------\n"
          ]
        },
        {
          "output_type": "stream",
          "name": "stderr",
          "text": [
            "Training: 100%|██████████| 359/359 [00:24<00:00, 14.93it/s, loss=1.88, acc=24.9]\n",
            "Validation: 100%|██████████| 90/90 [00:06<00:00, 14.03it/s, loss=1.83, acc=26]"
          ]
        },
        {
          "output_type": "stream",
          "name": "stdout",
          "text": [
            "Train Loss: 1.8122, Train Acc: 24.92%\n",
            "Val Loss: 1.8035, Val Acc: 25.97%\n",
            "Overfitting Gap: -1.04%\n"
          ]
        },
        {
          "output_type": "stream",
          "name": "stderr",
          "text": [
            "\n"
          ]
        }
      ],
      "source": [
        "# Training loop\n",
        "train_losses = []\n",
        "train_accs = []\n",
        "val_losses = []\n",
        "val_accs = []\n",
        "best_val_acc = 0\n",
        "\n",
        "for epoch in range(30):\n",
        "    print(f'\\nEpoch {epoch+1}/30')\n",
        "    print('-' * 50)\n",
        "\n",
        "    # Train\n",
        "    train_loss, train_acc = train_epoch(model, train_loader, criterion, optimizer, device)\n",
        "    train_losses.append(train_loss)\n",
        "    train_accs.append(train_acc)\n",
        "\n",
        "    # Validate\n",
        "    val_loss, val_acc, predictions, labels = validate_epoch(model, val_loader, criterion, device)\n",
        "    val_losses.append(val_loss)\n",
        "    val_accs.append(val_acc)\n",
        "\n",
        "    # Log to W&B\n",
        "    wandb.log({\n",
        "        'epoch': epoch + 1,\n",
        "        'train_loss': train_loss,\n",
        "        'train_acc': train_acc,\n",
        "        'val_loss': val_loss,\n",
        "        'val_acc': val_acc,\n",
        "        'learning_rate': optimizer.param_groups[0]['lr'],\n",
        "        'overfitting_gap': train_acc - val_acc\n",
        "    })\n",
        "\n",
        "    print(f'Train Loss: {train_loss:.4f}, Train Acc: {train_acc:.2f}%')\n",
        "    print(f'Val Loss: {val_loss:.4f}, Val Acc: {val_acc:.2f}%')\n",
        "    print(f'Overfitting Gap: {train_acc - val_acc:.2f}%')\n",
        "\n",
        "    # Save best model\n",
        "    if val_acc > best_val_acc:\n",
        "        best_val_acc = val_acc\n",
        "        torch.save(model.state_dict(), 'best_large_cnn_noreg_model.pth')\n",
        "        print(f'New best model saved with validation accuracy: {val_acc:.2f}%')"
      ]
    },
    {
      "cell_type": "code",
      "execution_count": 17,
      "metadata": {
        "id": "Vou5W-RUffut",
        "colab": {
          "base_uri": "https://localhost:8080/",
          "height": 507
        },
        "outputId": "cea1f8c5-4d8c-402f-dffe-03254956dfd3"
      },
      "outputs": [
        {
          "output_type": "display_data",
          "data": {
            "text/plain": [
              "<Figure size 1400x500 with 2 Axes>"
            ],
            "image/png": "[encoded data removed]"
          },
          "metadata": {}
        }
      ],
      "source": [
        "# Plot training history\n",
        "fig, (ax1, ax2) = plt.subplots(1, 2, figsize=(14, 5))\n",
        "\n",
        "# Loss plot\n",
        "ax1.plot(train_losses, label='Train Loss', linewidth=2)\n",
        "ax1.plot(val_losses, label='Val Loss', linewidth=2)\n",
        "ax1.set_xlabel('Epoch')\n",
        "ax1.set_ylabel('Loss')\n",
        "ax1.set_title('Training and Validation Loss')\n",
        "ax1.legend()\n",
        "ax1.grid(True, alpha=0.3)\n",
        "\n",
        "# Accuracy plot\n",
        "ax2.plot(train_accs, label='Train Acc', linewidth=2)\n",
        "ax2.plot(val_accs, label='Val Acc', linewidth=2)\n",
        "ax2.set_xlabel('Epoch')\n",
        "ax2.set_ylabel('Accuracy (%)')\n",
        "ax2.set_title('Training and Validation Accuracy')\n",
        "ax2.legend()\n",
        "ax2.grid(True, alpha=0.3)\n",
        "\n",
        "plt.tight_layout()\n",
        "wandb.log({\"training_history\": wandb.Image(plt)})\n",
        "plt.show()"
      ]
    },
    {
      "cell_type": "code",
      "execution_count": 18,
      "metadata": {
        "id": "pOVBwoEUffut",
        "colab": {
          "base_uri": "https://localhost:8080/",
          "height": 564
        },
        "outputId": "56925baf-6ea3-4968-aa26-704b44c8fc05"
      },
      "outputs": [
        {
          "output_type": "display_data",
          "data": {
            "text/plain": [
              "<Figure size 1000x600 with 1 Axes>"
            ],
            "image/png": "[encoded data removed]"
          },
          "metadata": {}
        }
      ],
      "source": [
        "# Plot overfitting gap over time\n",
        "plt.figure(figsize=(10, 6))\n",
        "overfitting_gaps = [train_accs[i] - val_accs[i] for i in range(len(train_accs))]\n",
        "plt.plot(overfitting_gaps, 'r-', linewidth=2)\n",
        "plt.xlabel('Epoch')\n",
        "plt.ylabel('Overfitting Gap (%)')\n",
        "plt.title('Overfitting Gap Throughout Training')\n",
        "plt.grid(True, alpha=0.3)\n",
        "wandb.log({\"overfitting_gap_plot\": wandb.Image(plt)})\n",
        "plt.show()"
      ]
    },
    {
      "cell_type": "code",
      "execution_count": 19,
      "metadata": {
        "id": "PfglAw4Affut",
        "colab": {
          "base_uri": "https://localhost:8080/",
          "height": 735
        },
        "outputId": "8c661ed3-fb8d-4cc7-a7c2-bbc8b39eccc6"
      },
      "outputs": [
        {
          "output_type": "stream",
          "name": "stderr",
          "text": [
            "Validation: 100%|██████████| 90/90 [00:04<00:00, 21.45it/s, loss=1.84, acc=26]\n"
          ]
        },
        {
          "output_type": "display_data",
          "data": {
            "text/plain": [
              "<Figure size 1000x800 with 2 Axes>"
            ],
            "image/png": "[encoded data removed]"
          },
          "metadata": {}
        }
      ],
      "source": [
        "# Load best model for final evaluation\n",
        "model.load_state_dict(torch.load('best_large_cnn_noreg_model.pth'))\n",
        "_, _, final_predictions, final_labels = validate_epoch(model, val_loader, criterion, device)\n",
        "\n",
        "# Confusion matrix\n",
        "cm = confusion_matrix(final_labels, final_predictions)\n",
        "plt.figure(figsize=(10, 8))\n",
        "sns.heatmap(cm, annot=True, fmt='d', cmap='Blues',\n",
        "            xticklabels=emotion_labels,\n",
        "            yticklabels=emotion_labels)\n",
        "plt.xlabel('Predicted')\n",
        "plt.ylabel('Actual')\n",
        "plt.title('Confusion Matrix - Large CNN No Regularization')\n",
        "wandb.log({\"confusion_matrix\": wandb.Image(plt)})\n",
        "plt.show()"
      ]
    },
    {
      "cell_type": "code",
      "execution_count": 20,
      "metadata": {
        "id": "_qMmBBhWffut",
        "colab": {
          "base_uri": "https://localhost:8080/"
        },
        "outputId": "9f88457a-7a19-4b4d-dcfa-e4b5427fd7ab"
      },
      "outputs": [
        {
          "output_type": "stream",
          "name": "stdout",
          "text": [
            "\n",
            "Classification Report:\n",
            "======================================================================\n",
            "              precision    recall  f1-score   support\n",
            "\n",
            "       Angry       0.00      0.00      0.00       771\n",
            "     Disgust       0.00      0.00      0.00        85\n",
            "        Fear       0.00      0.00      0.00       793\n",
            "       Happy       0.26      1.00      0.41      1491\n",
            "         Sad       0.00      0.00      0.00       960\n",
            "    Surprise       0.00      0.00      0.00       628\n",
            "     Neutral       0.00      0.00      0.00      1014\n",
            "\n",
            "    accuracy                           0.26      5742\n",
            "   macro avg       0.04      0.14      0.06      5742\n",
            "weighted avg       0.07      0.26      0.11      5742\n",
            "\n"
          ]
        }
      ],
      "source": [
        "# Classification report\n",
        "print(\"\\nClassification Report:\")\n",
        "print(\"=\" * 70)\n",
        "report = classification_report(final_labels, final_predictions,\n",
        "                             target_names=emotion_labels,\n",
        "                             output_dict=True)\n",
        "print(classification_report(final_labels, final_predictions, target_names=emotion_labels))\n",
        "\n",
        "# Log per-class metrics to W&B\n",
        "for emotion in emotion_labels:\n",
        "    wandb.log({\n",
        "        f\"{emotion}_precision\": report[emotion]['precision'],\n",
        "        f\"{emotion}_recall\": report[emotion]['recall'],\n",
        "        f\"{emotion}_f1\": report[emotion]['f1-score']\n",
        "    })"
      ]
    },
    {
      "cell_type": "code",
      "execution_count": 21,
      "metadata": {
        "id": "KWUTYo2dffut",
        "colab": {
          "base_uri": "https://localhost:8080/"
        },
        "outputId": "96e0101a-c9d3-4fff-dd26-6fc8bd518e7d"
      },
      "outputs": [
        {
          "output_type": "stream",
          "name": "stdout",
          "text": [
            "\n",
            "Total misclassifications: 4251 out of 5742\n",
            "Misclassification rate: 74.03%\n"
          ]
        }
      ],
      "source": [
        "# Analyze misclassifications\n",
        "misclassified_indices = np.where(np.array(final_predictions) != np.array(final_labels))[0]\n",
        "correct_indices = np.where(np.array(final_predictions) == np.array(final_labels))[0]\n",
        "\n",
        "print(f\"\\nTotal misclassifications: {len(misclassified_indices)} out of {len(final_labels)}\")\n",
        "print(f\"Misclassification rate: {len(misclassified_indices)/len(final_labels)*100:.2f}%\")"
      ]
    },
    {
      "cell_type": "code",
      "execution_count": 22,
      "metadata": {
        "id": "NbaKkmnBffut"
      },
      "outputs": [],
      "source": [
        "# Save final model and log to W&B\n",
        "torch.save(model.state_dict(), 'final_large_cnn_noreg_model.pth')\n",
        "wandb.save('final_large_cnn_noreg_model.pth')\n",
        "wandb.save('best_large_cnn_noreg_model.pth')\n",
        "\n",
        "# Summary statistics\n",
        "summary_stats = {\n",
        "    \"final_train_accuracy\": train_accs[-1],\n",
        "    \"final_val_accuracy\": val_accs[-1],\n",
        "    \"best_val_accuracy\": best_val_acc,\n",
        "    \"overfitting_gap\": train_accs[-1] - val_accs[-1],\n",
        "    \"max_overfitting_gap\": max(overfitting_gaps),\n",
        "    \"total_parameters\": model.total_params,\n",
        "    \"macro_f1_score\": report['macro avg']['f1-score'],\n",
        "    \"weighted_f1_score\": report['weighted avg']['f1-score']\n",
        "}\n",
        "\n",
        "wandb.log(summary_stats)"
      ]
    },
    {
      "cell_type": "code",
      "execution_count": 23,
      "metadata": {
        "id": "hhBGpmGDffut",
        "colab": {
          "base_uri": "https://localhost:8080/",
          "height": 1000
        },
        "outputId": "bb5e6e35-8521-480b-f25d-8d21fbe06576"
      },
      "outputs": [
        {
          "output_type": "stream",
          "name": "stdout",
          "text": [
            "\n",
            "======================================================================\n",
            "EXPERIMENT SUMMARY: LARGE CNN WITHOUT REGULARIZATION\n",
            "======================================================================\n",
            "\n",
            "Model Architecture:\n",
            "  - 5 Convolutional Blocks (VGG-style)\n",
            "  - Conv channels: [64, 128, 256, 512, 512]\n",
            "  - FC layers: [1024, 512, 7]\n",
            "  - Total Parameters: 19,961,543\n",
            "  - No regularization techniques applied\n",
            "\n",
            "Performance Metrics:\n",
            "  - Final Training Accuracy: 24.92%\n",
            "  - Final Validation Accuracy: 25.97%\n",
            "  - Best Validation Accuracy: 25.97%\n",
            "  - Final Overfitting Gap: -1.04%\n",
            "  - Maximum Overfitting Gap: -1.04%\n",
            "  - Macro F1-Score: 0.059\n"
          ]
        },
        {
          "output_type": "display_data",
          "data": {
            "text/plain": [
              "<IPython.core.display.HTML object>"
            ],
            "text/html": []
          },
          "metadata": {}
        },
        {
          "output_type": "display_data",
          "data": {
            "text/plain": [
              "<IPython.core.display.HTML object>"
            ],
            "text/html": [
              "<br>    <style><br>        .wandb-row {<br>            display: flex;<br>            flex-direction: row;<br>            flex-wrap: wrap;<br>            justify-content: flex-start;<br>            width: 100%;<br>        }<br>        .wandb-col {<br>            display: flex;<br>            flex-direction: column;<br>            flex-basis: 100%;<br>            flex: 1;<br>            padding: 10px;<br>        }<br>    </style><br><div class=\"wandb-row\"><div class=\"wandb-col\"><h3>Run history:</h3><br/><table class=\"wandb\"><tr><td>Angry_f1</td><td>▁</td></tr><tr><td>Angry_precision</td><td>▁</td></tr><tr><td>Angry_recall</td><td>▁</td></tr><tr><td>Disgust_f1</td><td>▁</td></tr><tr><td>Disgust_precision</td><td>▁</td></tr><tr><td>Disgust_recall</td><td>▁</td></tr><tr><td>Fear_f1</td><td>▁</td></tr><tr><td>Fear_precision</td><td>▁</td></tr><tr><td>Fear_recall</td><td>▁</td></tr><tr><td>Happy_f1</td><td>▁</td></tr><tr><td>Happy_precision</td><td>▁</td></tr><tr><td>Happy_recall</td><td>▁</td></tr><tr><td>Neutral_f1</td><td>▁</td></tr><tr><td>Neutral_precision</td><td>▁</td></tr><tr><td>Neutral_recall</td><td>▁</td></tr><tr><td>Sad_f1</td><td>▁</td></tr><tr><td>Sad_precision</td><td>▁</td></tr><tr><td>Sad_recall</td><td>▁</td></tr><tr><td>Surprise_f1</td><td>▁</td></tr><tr><td>Surprise_precision</td><td>▁</td></tr><tr><td>Surprise_recall</td><td>▁</td></tr><tr><td>best_val_accuracy</td><td>▁</td></tr><tr><td>epoch</td><td>▁▁▁▂▂▂▂▃▃▃▃▄▄▄▄▅▅▅▅▆▆▆▆▇▇▇▇███</td></tr><tr><td>final_train_accuracy</td><td>▁</td></tr><tr><td>final_val_accuracy</td><td>▁</td></tr><tr><td>learning_rate</td><td>▁▁▁▁▁▁▁▁▁▁▁▁▁▁▁▁▁▁▁▁▁▁▁▁▁▁▁▁▁▁</td></tr><tr><td>macro_f1_score</td><td>▁</td></tr><tr><td>max_overfitting_gap</td><td>▁</td></tr><tr><td>overfitting_gap</td><td>▁██████████████████████████████</td></tr><tr><td>total_parameters</td><td>▁</td></tr><tr><td>train_acc</td><td>▁█████████████████████████████</td></tr><tr><td>train_loss</td><td>█▃▃▂▂▂▁▁▂▁▂▂▁▁▁▁▁▁▁▁▁▁▁▁▁▁▁▁▁▁</td></tr><tr><td>val_acc</td><td>▁▁▁▁▁▁▁▁▁▁▁▁▁▁▁▁▁▁▁▁▁▁▁▁▁▁▁▁▁▁</td></tr><tr><td>val_loss</td><td>▄█▃▆▂▃▅▃▄▂▆▃▄▃▂▁▅▂▆▂▁▃▆▂▃▃▁▅▃▂</td></tr><tr><td>weighted_f1_score</td><td>▁</td></tr></table><br/></div><div class=\"wandb-col\"><h3>Run summary:</h3><br/><table class=\"wandb\"><tr><td>Angry_f1</td><td>0</td></tr><tr><td>Angry_precision</td><td>0</td></tr><tr><td>Angry_recall</td><td>0</td></tr><tr><td>Disgust_f1</td><td>0</td></tr><tr><td>Disgust_precision</td><td>0</td></tr><tr><td>Disgust_recall</td><td>0</td></tr><tr><td>Fear_f1</td><td>0</td></tr><tr><td>Fear_precision</td><td>0</td></tr><tr><td>Fear_recall</td><td>0</td></tr><tr><td>Happy_f1</td><td>0.41228</td></tr><tr><td>Happy_precision</td><td>0.25967</td></tr><tr><td>Happy_recall</td><td>1</td></tr><tr><td>Neutral_f1</td><td>0</td></tr><tr><td>Neutral_precision</td><td>0</td></tr><tr><td>Neutral_recall</td><td>0</td></tr><tr><td>Sad_f1</td><td>0</td></tr><tr><td>Sad_precision</td><td>0</td></tr><tr><td>Sad_recall</td><td>0</td></tr><tr><td>Surprise_f1</td><td>0</td></tr><tr><td>Surprise_precision</td><td>0</td></tr><tr><td>Surprise_recall</td><td>0</td></tr><tr><td>best_val_accuracy</td><td>25.96656</td></tr><tr><td>epoch</td><td>30</td></tr><tr><td>final_train_accuracy</td><td>24.92272</td></tr><tr><td>final_val_accuracy</td><td>25.96656</td></tr><tr><td>learning_rate</td><td>0.001</td></tr><tr><td>macro_f1_score</td><td>0.0589</td></tr><tr><td>max_overfitting_gap</td><td>-1.04385</td></tr><tr><td>overfitting_gap</td><td>-1.04385</td></tr><tr><td>total_parameters</td><td>19961543</td></tr><tr><td>train_acc</td><td>24.92272</td></tr><tr><td>train_loss</td><td>1.81222</td></tr><tr><td>val_acc</td><td>25.96656</td></tr><tr><td>val_loss</td><td>1.80348</td></tr><tr><td>weighted_f1_score</td><td>0.10705</td></tr></table><br/></div></div>"
            ]
          },
          "metadata": {}
        },
        {
          "output_type": "display_data",
          "data": {
            "text/plain": [
              "<IPython.core.display.HTML object>"
            ],
            "text/html": [
              " View run <strong style=\"color:#cdcd00\">exp03-cnn-overfitting</strong> at: <a href='https://wandb.ai/qitiashvili13-free-university-of-tbilisi-/fer-challenge/runs/dm0d1n8t' target=\"_blank\">https://wandb.ai/qitiashvili13-free-university-of-tbilisi-/fer-challenge/runs/dm0d1n8t</a><br> View project at: <a href='https://wandb.ai/qitiashvili13-free-university-of-tbilisi-/fer-challenge' target=\"_blank\">https://wandb.ai/qitiashvili13-free-university-of-tbilisi-/fer-challenge</a><br>Synced 5 W&B file(s), 4 media file(s), 0 artifact file(s) and 2 other file(s)"
            ]
          },
          "metadata": {}
        },
        {
          "output_type": "display_data",
          "data": {
            "text/plain": [
              "<IPython.core.display.HTML object>"
            ],
            "text/html": [
              "Find logs at: <code>./wandb/run-20250609_204857-dm0d1n8t/logs</code>"
            ]
          },
          "metadata": {}
        }
      ],
      "source": [
        "# Final summary\n",
        "print(\"\\n\" + \"=\" * 70)\n",
        "print(\"EXPERIMENT SUMMARY: LARGE CNN WITHOUT REGULARIZATION\")\n",
        "print(\"=\" * 70)\n",
        "print(f\"\\nModel Architecture:\")\n",
        "print(f\"  - 5 Convolutional Blocks (VGG-style)\")\n",
        "print(f\"  - Conv channels: [64, 128, 256, 512, 512]\")\n",
        "print(f\"  - FC layers: [1024, 512, 7]\")\n",
        "print(f\"  - Total Parameters: {model.total_params:,}\")\n",
        "print(f\"  - No regularization techniques applied\")\n",
        "\n",
        "print(f\"\\nPerformance Metrics:\")\n",
        "print(f\"  - Final Training Accuracy: {train_accs[-1]:.2f}%\")\n",
        "print(f\"  - Final Validation Accuracy: {val_accs[-1]:.2f}%\")\n",
        "print(f\"  - Best Validation Accuracy: {best_val_acc:.2f}%\")\n",
        "print(f\"  - Final Overfitting Gap: {train_accs[-1] - val_accs[-1]:.2f}%\")\n",
        "print(f\"  - Maximum Overfitting Gap: {max(overfitting_gaps):.2f}%\")\n",
        "print(f\"  - Macro F1-Score: {report['macro avg']['f1-score']:.3f}\")\n",
        "\n",
        "wandb.finish()"
      ]
    },
    {
      "cell_type": "code",
      "source": [],
      "metadata": {
        "id": "_A7VKRXfdTzs"
      },
      "execution_count": null,
      "outputs": []
    }
  ],
  "metadata": {
    "kernelspec": {
      "display_name": "Python 3",
      "name": "python3"
    },
    "language_info": {
      "codemirror_mode": {
        "name": "ipython",
        "version": 3
      },
      "file_extension": ".py",
      "mimetype": "text/x-python",
      "name": "python",
      "nbconvert_exporter": "python",
      "pygments_lexer": "ipython3",
      "version": "3.8.0"
    },
    "colab": {
      "provenance": [],
      "gpuType": "T4",
      "include_colab_link": true
    },
    "accelerator": "GPU"
  },
  "nbformat": 4,
  "nbformat_minor": 0
}