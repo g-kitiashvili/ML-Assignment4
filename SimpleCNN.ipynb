{
  "cells": [
    {
      "cell_type": "markdown",
      "metadata": {
        "id": "RHokDtQqVDft"
      },
      "source": [
        "# Experiment 02: Simple CNN Architecture\n",
        "## Objective: Establish a basic CNN baseline to compare with the fully connected network"
      ]
    },
    {
      "cell_type": "code",
      "execution_count": 1,
      "metadata": {
        "id": "6umLgtU2VDfu"
      },
      "outputs": [],
      "source": [
        "# Install necessary packages\n",
        "!pip install wandb -q\n",
        "!pip install kaggle -q"
      ]
    },
    {
      "cell_type": "code",
      "execution_count": 2,
      "metadata": {
        "id": "zMXWJVY9VDfv"
      },
      "outputs": [],
      "source": [
        "# Import necessary libraries\n",
        "import torch\n",
        "import torch.nn as nn\n",
        "import torch.optim as optim\n",
        "from torch.utils.data import Dataset, DataLoader\n",
        "import pandas as pd\n",
        "import numpy as np\n",
        "import matplotlib.pyplot as plt\n",
        "import seaborn as sns\n",
        "from sklearn.metrics import confusion_matrix, classification_report\n",
        "import wandb\n",
        "from tqdm import tqdm\n",
        "import os\n",
        "import warnings\n",
        "warnings.filterwarnings('ignore')"
      ]
    },
    {
      "cell_type": "code",
      "execution_count": 3,
      "metadata": {
        "colab": {
          "base_uri": "https://localhost:8080/"
        },
        "id": "-nm19IpTVDfv",
        "outputId": "c5a73fef-8616-4904-afab-1c287fd53360"
      },
      "outputs": [
        {
          "output_type": "stream",
          "name": "stdout",
          "text": [
            "Drive already mounted at /content/drive; to attempt to forcibly remount, call drive.mount(\"/content/drive\", force_remount=True).\n"
          ]
        }
      ],
      "source": [
        "# Mount Google Drive (optional - for saving results)\n",
        "from google.colab import drive\n",
        "drive.mount('/content/drive')"
      ]
    },
    {
      "cell_type": "code",
      "execution_count": 4,
      "metadata": {
        "id": "HOMsvdYUVDfw"
      },
      "outputs": [],
      "source": [
        "# Setup kaggle directory\n",
        "!mkdir -p ~/.kaggle\n",
        "!cp /content/drive/MyDrive/kaggle.json ~/.kaggle/\n",
        "!chmod 600 ~/.kaggle/kaggle.json"
      ]
    },
    {
      "cell_type": "code",
      "execution_count": 5,
      "metadata": {
        "colab": {
          "base_uri": "https://localhost:8080/"
        },
        "id": "A5nwJZs-VDfw",
        "outputId": "4966ef4d-b75b-421a-8069-19ae30d914dd"
      },
      "outputs": [
        {
          "output_type": "stream",
          "name": "stdout",
          "text": [
            "challenges-in-representation-learning-facial-expression-recognition-challenge.zip: Skipping, found more recently modified local copy (use --force to force download)\n",
            "replace example_submission.csv? [y]es, [n]o, [A]ll, [N]one, [r]ename: y\n",
            "replace fer2013.tar.gz? [y]es, [n]o, [A]ll, [N]one, [r]ename: y\n",
            "replace icml_face_data.csv? [y]es, [n]o, [A]ll, [N]one, [r]ename: y\n",
            "y\n",
            "replace test.csv? [y]es, [n]o, [A]ll, [N]one, [r]ename: replace train.csv? [y]es, [n]o, [A]ll, [N]one, [r]ename: y\n",
            "y\n",
            "best_simple_cnn_model.pth\n",
            "challenges-in-representation-learning-facial-expression-recognition-challenge.zip\n",
            "drive\n",
            "example_submission.csv\n",
            "fer2013.tar.gz\n",
            "icml_face_data.csv\n",
            "sample_data\n",
            "test.csv\n",
            "train.csv\n",
            "wandb\n"
          ]
        }
      ],
      "source": [
        "# Download FER2013 dataset from Kaggle\n",
        "!kaggle competitions download -c challenges-in-representation-learning-facial-expression-recognition-challenge\n",
        "\n",
        "# Extract the dataset\n",
        "!unzip -q challenges-in-representation-learning-facial-expression-recognition-challenge.zip\n",
        "!ls"
      ]
    },
    {
      "cell_type": "code",
      "execution_count": 6,
      "metadata": {
        "colab": {
          "base_uri": "https://localhost:8080/",
          "height": 121
        },
        "id": "waCQFWmOVDfw",
        "outputId": "5aebb386-d779-43c7-e17e-5be61b8fffcb"
      },
      "outputs": [
        {
          "output_type": "stream",
          "name": "stderr",
          "text": [
            "\u001b[34m\u001b[1mwandb\u001b[0m: Currently logged in as: \u001b[33mqitiashvili13\u001b[0m (\u001b[33mqitiashvili13-free-university-of-tbilisi-\u001b[0m) to \u001b[32mhttps://api.wandb.ai\u001b[0m. Use \u001b[1m`wandb login --relogin`\u001b[0m to force relogin\n"
          ]
        },
        {
          "output_type": "display_data",
          "data": {
            "text/plain": [
              "<IPython.core.display.HTML object>"
            ],
            "text/html": [
              "Tracking run with wandb version 0.19.11"
            ]
          },
          "metadata": {}
        },
        {
          "output_type": "display_data",
          "data": {
            "text/plain": [
              "<IPython.core.display.HTML object>"
            ],
            "text/html": [
              "Run data is saved locally in <code>/content/wandb/run-20250609_161943-i8kzk3ur</code>"
            ]
          },
          "metadata": {}
        },
        {
          "output_type": "display_data",
          "data": {
            "text/plain": [
              "<IPython.core.display.HTML object>"
            ],
            "text/html": [
              "Syncing run <strong><a href='https://wandb.ai/qitiashvili13-free-university-of-tbilisi-/fer-challenge/runs/i8kzk3ur' target=\"_blank\">exp02-simple-cnn</a></strong> to <a href='https://wandb.ai/qitiashvili13-free-university-of-tbilisi-/fer-challenge' target=\"_blank\">Weights & Biases</a> (<a href='https://wandb.me/developer-guide' target=\"_blank\">docs</a>)<br>"
            ]
          },
          "metadata": {}
        },
        {
          "output_type": "display_data",
          "data": {
            "text/plain": [
              "<IPython.core.display.HTML object>"
            ],
            "text/html": [
              " View project at <a href='https://wandb.ai/qitiashvili13-free-university-of-tbilisi-/fer-challenge' target=\"_blank\">https://wandb.ai/qitiashvili13-free-university-of-tbilisi-/fer-challenge</a>"
            ]
          },
          "metadata": {}
        },
        {
          "output_type": "display_data",
          "data": {
            "text/plain": [
              "<IPython.core.display.HTML object>"
            ],
            "text/html": [
              " View run at <a href='https://wandb.ai/qitiashvili13-free-university-of-tbilisi-/fer-challenge/runs/i8kzk3ur' target=\"_blank\">https://wandb.ai/qitiashvili13-free-university-of-tbilisi-/fer-challenge/runs/i8kzk3ur</a>"
            ]
          },
          "metadata": {}
        }
      ],
      "source": [
        "# Initialize W&B\n",
        "wandb.login()\n",
        "run = wandb.init(\n",
        "    project=\"fer-challenge\",\n",
        "    name=\"exp02-simple-cnn\",\n",
        "    config={\n",
        "        \"architecture\": \"Simple CNN\",\n",
        "        \"dataset\": \"FER2013\",\n",
        "        \"epochs\": 30,\n",
        "        \"batch_size\": 64,\n",
        "        \"learning_rate\": 0.001,\n",
        "        \"conv1_channels\": 32,\n",
        "        \"conv2_channels\": 64,\n",
        "        \"fc1_size\": 128,\n",
        "        \"fc2_size\": 64,\n",
        "        \"num_classes\": 7\n",
        "    }\n",
        ")\n",
        "# api key 380014f2a984b49876832184c6bd2dcddb337047"
      ]
    },
    {
      "cell_type": "code",
      "source": [
        "# Load and explore the data\n",
        "train_df = pd.read_csv('train.csv')\n",
        "test_df = pd.read_csv('test.csv')\n",
        "\n",
        "print(f\"Training data shape: {train_df.shape}\")\n",
        "print(f\"Test data shape: {test_df.shape}\")\n",
        "print(\"\\nTraining data columns:\", train_df.columns.tolist())\n",
        "print(\"\\nEmotion distribution:\")\n",
        "print(train_df['emotion'].value_counts().sort_index())\n",
        "\n",
        "icml_df = pd.read_csv('icml_face_data.csv')\n",
        "\n",
        "# Split ICML data based on 'Usage'\n",
        "icml_train = icml_df[icml_df[' Usage'] == 'Training']\n",
        "icml_test = icml_df[icml_df[' Usage'].isin(['PublicTest', 'Other'])]\n",
        "\n",
        "# Drop the 'Usage' column (not needed after splitting)\n",
        "icml_train = icml_train.drop(columns=[' Usage'])\n",
        "icml_test = icml_test.drop(columns=[' Usage'])\n",
        "\n",
        "# Merge datasets\n",
        "train_df = pd.concat([train_df, icml_train], ignore_index=True)\n",
        "test_df = pd.concat([test_df, icml_test], ignore_index=True)\n",
        "\n",
        "# **Added data type check and filtering**\n",
        "print(\"\\nChecking 'pixels' column data types...\")\n",
        "initial_train_rows = len(train_df)\n",
        "initial_test_rows = len(test_df)\n",
        "\n",
        "train_df = train_df[train_df['pixels'].apply(lambda x: isinstance(x, str))]\n",
        "test_df = test_df[test_df['pixels'].apply(lambda x: isinstance(x, str))]\n",
        "\n",
        "print(f\"Removed {initial_train_rows - len(train_df)} rows from training set due to non-string 'pixels'.\")\n",
        "print(f\"Removed {initial_test_rows - len(test_df)} rows from test set due to non-string 'pixels'.\")\n",
        "\n",
        "# Shuffle the merged datasets (optional but recommended)\n",
        "train_df = train_df.sample(frac=1, random_state=42).reset_index(drop=True)\n",
        "test_df = test_df.sample(frac=1, random_state=42).reset_index(drop=True)\n",
        "\n",
        "# Output shapes and emotion distribution\n",
        "print(\"\\nMerged Train shape (after filtering):\", train_df.shape)\n",
        "print(\"Merged Test shape (after filtering):\", test_df.shape)\n",
        "\n",
        "print(\"\\nEmotion distribution in merged train set:\")\n",
        "print(train_df['emotion'].value_counts().sort_index())\n",
        "\n",
        "print(\"\\nEmotion distribution in merged test set:\")\n",
        "print(test_df['emotion'].value_counts().sort_index())"
      ],
      "metadata": {
        "colab": {
          "base_uri": "https://localhost:8080/"
        },
        "id": "xxh8N-WnYuBC",
        "outputId": "da0b604a-236d-44a3-b87c-ac5af50625fe"
      },
      "execution_count": 7,
      "outputs": [
        {
          "output_type": "stream",
          "name": "stdout",
          "text": [
            "Training data shape: (28709, 2)\n",
            "Test data shape: (7178, 1)\n",
            "\n",
            "Training data columns: ['emotion', 'pixels']\n",
            "\n",
            "Emotion distribution:\n",
            "emotion\n",
            "0    3995\n",
            "1     436\n",
            "2    4097\n",
            "3    7215\n",
            "4    4830\n",
            "5    3171\n",
            "6    4965\n",
            "Name: count, dtype: int64\n",
            "\n",
            "Checking 'pixels' column data types...\n",
            "Removed 28709 rows from training set due to non-string 'pixels'.\n",
            "Removed 3589 rows from test set due to non-string 'pixels'.\n",
            "\n",
            "Merged Train shape (after filtering): (28709, 3)\n",
            "Merged Test shape (after filtering): (7178, 3)\n",
            "\n",
            "Emotion distribution in merged train set:\n",
            "emotion\n",
            "0    3995\n",
            "1     436\n",
            "2    4097\n",
            "3    7215\n",
            "4    4830\n",
            "5    3171\n",
            "6    4965\n",
            "Name: count, dtype: int64\n",
            "\n",
            "Emotion distribution in merged test set:\n",
            "Series([], Name: count, dtype: int64)\n"
          ]
        }
      ]
    },
    {
      "cell_type": "code",
      "execution_count": 8,
      "metadata": {
        "colab": {
          "base_uri": "https://localhost:8080/",
          "height": 610
        },
        "id": "qOL6aWVJVDfx",
        "outputId": "c25f6b89-bfbe-40a7-d899-aff5f354075a"
      },
      "outputs": [
        {
          "output_type": "display_data",
          "data": {
            "text/plain": [
              "<Figure size 1200x600 with 8 Axes>"
            ],
            "image/png": "[encoded data removed]"
          },
          "metadata": {}
        }
      ],
      "source": [
        "# Visualize sample images\n",
        "emotion_labels = ['Angry', 'Disgust', 'Fear', 'Happy', 'Sad', 'Surprise', 'Neutral']\n",
        "\n",
        "fig, axes = plt.subplots(2, 4, figsize=(12, 6))\n",
        "axes = axes.ravel()\n",
        "\n",
        "for i in range(8):\n",
        "    idx = np.random.randint(0, len(train_df))\n",
        "    pixels = train_df.iloc[idx]['pixels']\n",
        "    emotion = train_df.iloc[idx]['emotion']\n",
        "\n",
        "    # Convert pixel string to array and reshape\n",
        "    pixels = np.array([int(pixel) for pixel in pixels.split(' ')], dtype=np.uint8)\n",
        "    pixels = pixels.reshape(48, 48)\n",
        "\n",
        "    axes[i].imshow(pixels, cmap='gray')\n",
        "    axes[i].set_title(f'{emotion_labels[emotion]}')\n",
        "    axes[i].axis('off')\n",
        "\n",
        "plt.suptitle('Sample Images from FER2013 Dataset')\n",
        "plt.tight_layout()\n",
        "wandb.log({\"sample_images\": wandb.Image(plt)})\n",
        "plt.show()"
      ]
    },
    {
      "cell_type": "code",
      "execution_count": 9,
      "metadata": {
        "id": "8pM_CC6rVDfx"
      },
      "outputs": [],
      "source": [
        "# Custom Dataset Class\n",
        "class FERDataset(Dataset):\n",
        "    def __init__(self, dataframe, transform=None):\n",
        "        self.data = dataframe\n",
        "        self.transform = transform\n",
        "\n",
        "    def __len__(self):\n",
        "        return len(self.data)\n",
        "\n",
        "    def __getitem__(self, idx):\n",
        "        pixels = self.data.iloc[idx]['pixels']\n",
        "        emotion = self.data.iloc[idx]['emotion']\n",
        "\n",
        "        # Convert pixel string to numpy array\n",
        "        pixels = np.array([int(pixel) for pixel in pixels.split(' ')], dtype=np.float32)\n",
        "        pixels = pixels / 255.0  # Normalize to [0, 1]\n",
        "\n",
        "        # For CNN, reshape to (1, 48, 48) - single channel\n",
        "        pixels = pixels.reshape(1, 48, 48)\n",
        "\n",
        "        return torch.tensor(pixels), torch.tensor(emotion, dtype=torch.long)"
      ]
    },
    {
      "cell_type": "code",
      "execution_count": 10,
      "metadata": {
        "colab": {
          "base_uri": "https://localhost:8080/"
        },
        "id": "0y7oXVELVDfx",
        "outputId": "a357ddd4-c6fc-4e81-94d9-2fc0aecc485d"
      },
      "outputs": [
        {
          "output_type": "stream",
          "name": "stdout",
          "text": [
            "Train size: 22967\n",
            "Validation size: 5742\n"
          ]
        }
      ],
      "source": [
        "# Create datasets\n",
        "full_dataset = FERDataset(train_df)\n",
        "\n",
        "# Split into train and validation\n",
        "train_size = int(0.8 * len(full_dataset))\n",
        "val_size = len(full_dataset) - train_size\n",
        "train_dataset, val_dataset = torch.utils.data.random_split(full_dataset, [train_size, val_size])\n",
        "\n",
        "print(f\"Train size: {len(train_dataset)}\")\n",
        "print(f\"Validation size: {len(val_dataset)}\")\n",
        "\n",
        "# Create data loaders\n",
        "train_loader = DataLoader(train_dataset, batch_size=64, shuffle=True, num_workers=2)\n",
        "val_loader = DataLoader(val_dataset, batch_size=64, shuffle=False, num_workers=2)"
      ]
    },
    {
      "cell_type": "code",
      "execution_count": 11,
      "metadata": {
        "id": "x9_0onS3VDfx"
      },
      "outputs": [],
      "source": [
        "# Simple CNN Model\n",
        "class SimpleCNN(nn.Module):\n",
        "    def __init__(self, num_classes=7):\n",
        "        super(SimpleCNN, self).__init__()\n",
        "\n",
        "        # First convolutional block\n",
        "        self.conv1 = nn.Conv2d(1, 32, kernel_size=3, padding=1)\n",
        "        self.relu1 = nn.ReLU()\n",
        "        self.pool1 = nn.MaxPool2d(2, 2)  # 48x48 -> 24x24\n",
        "\n",
        "        # Second convolutional block\n",
        "        self.conv2 = nn.Conv2d(32, 64, kernel_size=3, padding=1)\n",
        "        self.relu2 = nn.ReLU()\n",
        "        self.pool2 = nn.MaxPool2d(2, 2)  # 24x24 -> 12x12\n",
        "\n",
        "        # Fully connected layers\n",
        "        self.fc1 = nn.Linear(64 * 12 * 12, 128)\n",
        "        self.relu3 = nn.ReLU()\n",
        "        self.fc2 = nn.Linear(128, 64)\n",
        "        self.relu4 = nn.ReLU()\n",
        "        self.fc3 = nn.Linear(64, num_classes)\n",
        "\n",
        "        # Calculate total parameters\n",
        "        self.total_params = sum(p.numel() for p in self.parameters())\n",
        "\n",
        "    def forward(self, x):\n",
        "        # Conv block 1\n",
        "        x = self.conv1(x)\n",
        "        x = self.relu1(x)\n",
        "        x = self.pool1(x)\n",
        "\n",
        "        # Conv block 2\n",
        "        x = self.conv2(x)\n",
        "        x = self.relu2(x)\n",
        "        x = self.pool2(x)\n",
        "\n",
        "        # Flatten\n",
        "        x = x.view(x.size(0), -1)\n",
        "\n",
        "        # FC layers\n",
        "        x = self.fc1(x)\n",
        "        x = self.relu3(x)\n",
        "        x = self.fc2(x)\n",
        "        x = self.relu4(x)\n",
        "        x = self.fc3(x)\n",
        "\n",
        "        return x"
      ]
    },
    {
      "cell_type": "code",
      "execution_count": 12,
      "metadata": {
        "colab": {
          "base_uri": "https://localhost:8080/"
        },
        "id": "5vcCt4gzVDfx",
        "outputId": "28f746c5-0da7-40cd-b482-b972873588eb"
      },
      "outputs": [
        {
          "output_type": "stream",
          "name": "stdout",
          "text": [
            "Using device: cuda\n",
            "Total parameters: 1,207,303\n"
          ]
        }
      ],
      "source": [
        "# Initialize model, loss, optimizer\n",
        "device = torch.device('cuda' if torch.cuda.is_available() else 'cpu')\n",
        "print(f\"Using device: {device}\")\n",
        "\n",
        "model = SimpleCNN().to(device)\n",
        "print(f\"Total parameters: {model.total_params:,}\")\n",
        "\n",
        "criterion = nn.CrossEntropyLoss()\n",
        "optimizer = optim.Adam(model.parameters(), lr=0.001)\n",
        "\n",
        "# Log model architecture to W&B\n",
        "wandb.watch(model, log='all')"
      ]
    },
    {
      "cell_type": "code",
      "execution_count": 13,
      "metadata": {
        "colab": {
          "base_uri": "https://localhost:8080/"
        },
        "id": "bZtmwy67VDfx",
        "outputId": "8790834a-31ee-4f54-dded-73afb6e60780"
      },
      "outputs": [
        {
          "output_type": "stream",
          "name": "stdout",
          "text": [
            "Model Architecture:\n",
            "==================================================\n",
            "conv1.weight         torch.Size([32, 1, 3, 3])\n",
            "conv1.bias           torch.Size([32])\n",
            "conv2.weight         torch.Size([64, 32, 3, 3])\n",
            "conv2.bias           torch.Size([64])\n",
            "fc1.weight           torch.Size([128, 9216])\n",
            "fc1.bias             torch.Size([128])\n",
            "fc2.weight           torch.Size([64, 128])\n",
            "fc2.bias             torch.Size([64])\n",
            "fc3.weight           torch.Size([7, 64])\n",
            "fc3.bias             torch.Size([7])\n",
            "==================================================\n"
          ]
        }
      ],
      "source": [
        "# Print model architecture\n",
        "print(\"Model Architecture:\")\n",
        "print(\"=\" * 50)\n",
        "for name, param in model.named_parameters():\n",
        "    print(f\"{name:20} {param.shape}\")\n",
        "print(\"=\" * 50)"
      ]
    },
    {
      "cell_type": "code",
      "execution_count": 14,
      "metadata": {
        "id": "Wqz0bZqRVDfx"
      },
      "outputs": [],
      "source": [
        "# Training function\n",
        "def train_epoch(model, loader, criterion, optimizer, device):\n",
        "    model.train()\n",
        "    running_loss = 0.0\n",
        "    correct = 0\n",
        "    total = 0\n",
        "\n",
        "    progress_bar = tqdm(loader, desc='Training')\n",
        "    for inputs, labels in progress_bar:\n",
        "        inputs, labels = inputs.to(device), labels.to(device)\n",
        "\n",
        "        optimizer.zero_grad()\n",
        "        outputs = model(inputs)\n",
        "        loss = criterion(outputs, labels)\n",
        "        loss.backward()\n",
        "        optimizer.step()\n",
        "\n",
        "        running_loss += loss.item()\n",
        "        _, predicted = torch.max(outputs.data, 1)\n",
        "        total += labels.size(0)\n",
        "        correct += (predicted == labels).sum().item()\n",
        "\n",
        "        # Update progress bar\n",
        "        progress_bar.set_postfix({\n",
        "            'loss': loss.item(),\n",
        "            'acc': 100 * correct / total\n",
        "        })\n",
        "\n",
        "    epoch_loss = running_loss / len(loader)\n",
        "    epoch_acc = 100 * correct / total\n",
        "\n",
        "    return epoch_loss, epoch_acc"
      ]
    },
    {
      "cell_type": "code",
      "execution_count": 15,
      "metadata": {
        "id": "dh3j3OkDVDfx"
      },
      "outputs": [],
      "source": [
        "# Validation function\n",
        "def validate_epoch(model, loader, criterion, device):\n",
        "    model.eval()\n",
        "    running_loss = 0.0\n",
        "    correct = 0\n",
        "    total = 0\n",
        "    all_predictions = []\n",
        "    all_labels = []\n",
        "\n",
        "    with torch.no_grad():\n",
        "        progress_bar = tqdm(loader, desc='Validation')\n",
        "        for inputs, labels in progress_bar:\n",
        "            inputs, labels = inputs.to(device), labels.to(device)\n",
        "\n",
        "            outputs = model(inputs)\n",
        "            loss = criterion(outputs, labels)\n",
        "\n",
        "            running_loss += loss.item()\n",
        "            _, predicted = torch.max(outputs.data, 1)\n",
        "            total += labels.size(0)\n",
        "            correct += (predicted == labels).sum().item()\n",
        "\n",
        "            all_predictions.extend(predicted.cpu().numpy())\n",
        "            all_labels.extend(labels.cpu().numpy())\n",
        "\n",
        "            # Update progress bar\n",
        "            progress_bar.set_postfix({\n",
        "                'loss': loss.item(),\n",
        "                'acc': 100 * correct / total\n",
        "            })\n",
        "\n",
        "    epoch_loss = running_loss / len(loader)\n",
        "    epoch_acc = 100 * correct / total\n",
        "\n",
        "    return epoch_loss, epoch_acc, all_predictions, all_labels"
      ]
    },
    {
      "cell_type": "code",
      "execution_count": 16,
      "metadata": {
        "colab": {
          "base_uri": "https://localhost:8080/"
        },
        "id": "yGwpWsGUVDfy",
        "outputId": "812e9113-8b7b-4c84-cbd1-db1feddc676e"
      },
      "outputs": [
        {
          "output_type": "stream",
          "name": "stdout",
          "text": [
            "\n",
            "Epoch 1/30\n",
            "--------------------------------------------------\n"
          ]
        },
        {
          "output_type": "stream",
          "name": "stderr",
          "text": [
            "Training: 100%|██████████| 359/359 [00:21<00:00, 16.34it/s, loss=1.45, acc=31.4]\n",
            "Validation: 100%|██████████| 90/90 [00:08<00:00, 10.78it/s, loss=1.46, acc=40.1]\n"
          ]
        },
        {
          "output_type": "stream",
          "name": "stdout",
          "text": [
            "Train Loss: 1.7066, Train Acc: 31.38%\n",
            "Val Loss: 1.5656, Val Acc: 40.07%\n",
            "New best model saved with validation accuracy: 40.07%\n",
            "\n",
            "Epoch 2/30\n",
            "--------------------------------------------------\n"
          ]
        },
        {
          "output_type": "stream",
          "name": "stderr",
          "text": [
            "Training: 100%|██████████| 359/359 [00:20<00:00, 17.68it/s, loss=1.29, acc=41.1]\n",
            "Validation: 100%|██████████| 90/90 [00:04<00:00, 22.27it/s, loss=1.4, acc=45.1]\n"
          ]
        },
        {
          "output_type": "stream",
          "name": "stdout",
          "text": [
            "Train Loss: 1.5288, Train Acc: 41.06%\n",
            "Val Loss: 1.4376, Val Acc: 45.14%\n",
            "New best model saved with validation accuracy: 45.14%\n",
            "\n",
            "Epoch 3/30\n",
            "--------------------------------------------------\n"
          ]
        },
        {
          "output_type": "stream",
          "name": "stderr",
          "text": [
            "Training: 100%|██████████| 359/359 [00:20<00:00, 17.65it/s, loss=1.29, acc=45.6]\n",
            "Validation: 100%|██████████| 90/90 [00:05<00:00, 16.18it/s, loss=1.38, acc=46.6]\n"
          ]
        },
        {
          "output_type": "stream",
          "name": "stdout",
          "text": [
            "Train Loss: 1.4071, Train Acc: 45.64%\n",
            "Val Loss: 1.3900, Val Acc: 46.57%\n",
            "New best model saved with validation accuracy: 46.57%\n",
            "\n",
            "Epoch 4/30\n",
            "--------------------------------------------------\n"
          ]
        },
        {
          "output_type": "stream",
          "name": "stderr",
          "text": [
            "Training: 100%|██████████| 359/359 [00:19<00:00, 18.30it/s, loss=1.29, acc=49]\n",
            "Validation: 100%|██████████| 90/90 [00:04<00:00, 21.81it/s, loss=1.36, acc=49]\n"
          ]
        },
        {
          "output_type": "stream",
          "name": "stdout",
          "text": [
            "Train Loss: 1.3266, Train Acc: 49.04%\n",
            "Val Loss: 1.3228, Val Acc: 48.99%\n",
            "New best model saved with validation accuracy: 48.99%\n",
            "\n",
            "Epoch 5/30\n",
            "--------------------------------------------------\n"
          ]
        },
        {
          "output_type": "stream",
          "name": "stderr",
          "text": [
            "Training: 100%|██████████| 359/359 [00:19<00:00, 18.15it/s, loss=0.986, acc=52.1]\n",
            "Validation: 100%|██████████| 90/90 [00:06<00:00, 13.89it/s, loss=1.33, acc=49.3]\n"
          ]
        },
        {
          "output_type": "stream",
          "name": "stdout",
          "text": [
            "Train Loss: 1.2513, Train Acc: 52.12%\n",
            "Val Loss: 1.3502, Val Acc: 49.25%\n",
            "New best model saved with validation accuracy: 49.25%\n",
            "\n",
            "Epoch 6/30\n",
            "--------------------------------------------------\n"
          ]
        },
        {
          "output_type": "stream",
          "name": "stderr",
          "text": [
            "Training: 100%|██████████| 359/359 [00:19<00:00, 18.63it/s, loss=1.23, acc=55.4]\n",
            "Validation: 100%|██████████| 90/90 [00:04<00:00, 22.01it/s, loss=1.32, acc=51.1]\n"
          ]
        },
        {
          "output_type": "stream",
          "name": "stdout",
          "text": [
            "Train Loss: 1.1834, Train Acc: 55.40%\n",
            "Val Loss: 1.2948, Val Acc: 51.06%\n",
            "New best model saved with validation accuracy: 51.06%\n",
            "\n",
            "Epoch 7/30\n",
            "--------------------------------------------------\n"
          ]
        },
        {
          "output_type": "stream",
          "name": "stderr",
          "text": [
            "Training: 100%|██████████| 359/359 [00:20<00:00, 17.53it/s, loss=1.2, acc=58.3]\n",
            "Validation: 100%|██████████| 90/90 [00:05<00:00, 16.45it/s, loss=1.4, acc=51]\n"
          ]
        },
        {
          "output_type": "stream",
          "name": "stdout",
          "text": [
            "Train Loss: 1.1145, Train Acc: 58.30%\n",
            "Val Loss: 1.3358, Val Acc: 51.01%\n",
            "\n",
            "Epoch 8/30\n",
            "--------------------------------------------------\n"
          ]
        },
        {
          "output_type": "stream",
          "name": "stderr",
          "text": [
            "Training: 100%|██████████| 359/359 [00:19<00:00, 18.81it/s, loss=1.21, acc=61.2]\n",
            "Validation: 100%|██████████| 90/90 [00:04<00:00, 22.21it/s, loss=1.39, acc=51]\n"
          ]
        },
        {
          "output_type": "stream",
          "name": "stdout",
          "text": [
            "Train Loss: 1.0461, Train Acc: 61.24%\n",
            "Val Loss: 1.3335, Val Acc: 51.04%\n",
            "\n",
            "Epoch 9/30\n",
            "--------------------------------------------------\n"
          ]
        },
        {
          "output_type": "stream",
          "name": "stderr",
          "text": [
            "Training: 100%|██████████| 359/359 [00:20<00:00, 17.16it/s, loss=1.09, acc=64.3]\n",
            "Validation: 100%|██████████| 90/90 [00:04<00:00, 18.12it/s, loss=1.35, acc=52]\n"
          ]
        },
        {
          "output_type": "stream",
          "name": "stdout",
          "text": [
            "Train Loss: 0.9662, Train Acc: 64.29%\n",
            "Val Loss: 1.3349, Val Acc: 52.02%\n",
            "New best model saved with validation accuracy: 52.02%\n",
            "\n",
            "Epoch 10/30\n",
            "--------------------------------------------------\n"
          ]
        },
        {
          "output_type": "stream",
          "name": "stderr",
          "text": [
            "Training: 100%|██████████| 359/359 [00:19<00:00, 18.77it/s, loss=0.906, acc=67.2]\n",
            "Validation: 100%|██████████| 90/90 [00:04<00:00, 20.73it/s, loss=1.48, acc=52]\n"
          ]
        },
        {
          "output_type": "stream",
          "name": "stdout",
          "text": [
            "Train Loss: 0.9014, Train Acc: 67.19%\n",
            "Val Loss: 1.3995, Val Acc: 52.04%\n",
            "New best model saved with validation accuracy: 52.04%\n",
            "\n",
            "Epoch 11/30\n",
            "--------------------------------------------------\n"
          ]
        },
        {
          "output_type": "stream",
          "name": "stderr",
          "text": [
            "Training: 100%|██████████| 359/359 [00:20<00:00, 17.16it/s, loss=0.666, acc=70.4]\n",
            "Validation: 100%|██████████| 90/90 [00:04<00:00, 22.09it/s, loss=1.6, acc=51.4]\n"
          ]
        },
        {
          "output_type": "stream",
          "name": "stdout",
          "text": [
            "Train Loss: 0.8175, Train Acc: 70.36%\n",
            "Val Loss: 1.4671, Val Acc: 51.39%\n",
            "\n",
            "Epoch 12/30\n",
            "--------------------------------------------------\n"
          ]
        },
        {
          "output_type": "stream",
          "name": "stderr",
          "text": [
            "Training: 100%|██████████| 359/359 [00:19<00:00, 18.89it/s, loss=0.734, acc=73.1]\n",
            "Validation: 100%|██████████| 90/90 [00:05<00:00, 17.41it/s, loss=1.64, acc=51.6]\n"
          ]
        },
        {
          "output_type": "stream",
          "name": "stdout",
          "text": [
            "Train Loss: 0.7451, Train Acc: 73.09%\n",
            "Val Loss: 1.4897, Val Acc: 51.64%\n",
            "\n",
            "Epoch 13/30\n",
            "--------------------------------------------------\n"
          ]
        },
        {
          "output_type": "stream",
          "name": "stderr",
          "text": [
            "Training: 100%|██████████| 359/359 [00:20<00:00, 17.80it/s, loss=0.818, acc=76.1]\n",
            "Validation: 100%|██████████| 90/90 [00:04<00:00, 22.10it/s, loss=1.73, acc=51.7]\n"
          ]
        },
        {
          "output_type": "stream",
          "name": "stdout",
          "text": [
            "Train Loss: 0.6660, Train Acc: 76.14%\n",
            "Val Loss: 1.6612, Val Acc: 51.67%\n",
            "\n",
            "Epoch 14/30\n",
            "--------------------------------------------------\n"
          ]
        },
        {
          "output_type": "stream",
          "name": "stderr",
          "text": [
            "Training: 100%|██████████| 359/359 [00:19<00:00, 18.54it/s, loss=0.65, acc=78.9]\n",
            "Validation: 100%|██████████| 90/90 [00:05<00:00, 15.13it/s, loss=1.83, acc=51.2]\n"
          ]
        },
        {
          "output_type": "stream",
          "name": "stdout",
          "text": [
            "Train Loss: 0.5943, Train Acc: 78.91%\n",
            "Val Loss: 1.7473, Val Acc: 51.24%\n",
            "\n",
            "Epoch 15/30\n",
            "--------------------------------------------------\n"
          ]
        },
        {
          "output_type": "stream",
          "name": "stderr",
          "text": [
            "Training: 100%|██████████| 359/359 [00:19<00:00, 18.54it/s, loss=0.539, acc=81.2]\n",
            "Validation: 100%|██████████| 90/90 [00:04<00:00, 22.04it/s, loss=2.22, acc=50.4]\n"
          ]
        },
        {
          "output_type": "stream",
          "name": "stdout",
          "text": [
            "Train Loss: 0.5238, Train Acc: 81.23%\n",
            "Val Loss: 1.9430, Val Acc: 50.42%\n",
            "\n",
            "Epoch 16/30\n",
            "--------------------------------------------------\n"
          ]
        },
        {
          "output_type": "stream",
          "name": "stderr",
          "text": [
            "Training: 100%|██████████| 359/359 [00:19<00:00, 18.78it/s, loss=0.523, acc=84.1]\n",
            "Validation: 100%|██████████| 90/90 [00:06<00:00, 13.76it/s, loss=2.34, acc=50.3]\n"
          ]
        },
        {
          "output_type": "stream",
          "name": "stdout",
          "text": [
            "Train Loss: 0.4507, Train Acc: 84.14%\n",
            "Val Loss: 2.0056, Val Acc: 50.35%\n",
            "\n",
            "Epoch 17/30\n",
            "--------------------------------------------------\n"
          ]
        },
        {
          "output_type": "stream",
          "name": "stderr",
          "text": [
            "Training: 100%|██████████| 359/359 [00:19<00:00, 18.72it/s, loss=0.485, acc=86.1]\n",
            "Validation: 100%|██████████| 90/90 [00:04<00:00, 22.11it/s, loss=2.75, acc=49.7]\n"
          ]
        },
        {
          "output_type": "stream",
          "name": "stdout",
          "text": [
            "Train Loss: 0.3977, Train Acc: 86.05%\n",
            "Val Loss: 2.2241, Val Acc: 49.69%\n",
            "\n",
            "Epoch 18/30\n",
            "--------------------------------------------------\n"
          ]
        },
        {
          "output_type": "stream",
          "name": "stderr",
          "text": [
            "Training: 100%|██████████| 359/359 [00:19<00:00, 18.59it/s, loss=0.343, acc=87.7]\n",
            "Validation: 100%|██████████| 90/90 [00:06<00:00, 14.67it/s, loss=2.53, acc=49.8]\n"
          ]
        },
        {
          "output_type": "stream",
          "name": "stdout",
          "text": [
            "Train Loss: 0.3521, Train Acc: 87.70%\n",
            "Val Loss: 2.3635, Val Acc: 49.79%\n",
            "\n",
            "Epoch 19/30\n",
            "--------------------------------------------------\n"
          ]
        },
        {
          "output_type": "stream",
          "name": "stderr",
          "text": [
            "Training: 100%|██████████| 359/359 [00:18<00:00, 18.91it/s, loss=0.283, acc=89.4]\n",
            "Validation: 100%|██████████| 90/90 [00:04<00:00, 21.52it/s, loss=2.63, acc=49.7]\n"
          ]
        },
        {
          "output_type": "stream",
          "name": "stdout",
          "text": [
            "Train Loss: 0.3004, Train Acc: 89.42%\n",
            "Val Loss: 2.4160, Val Acc: 49.67%\n",
            "\n",
            "Epoch 20/30\n",
            "--------------------------------------------------\n"
          ]
        },
        {
          "output_type": "stream",
          "name": "stderr",
          "text": [
            "Training: 100%|██████████| 359/359 [00:24<00:00, 14.41it/s, loss=0.246, acc=91]\n",
            "Validation: 100%|██████████| 90/90 [00:04<00:00, 21.99it/s, loss=2.83, acc=49.6]\n"
          ]
        },
        {
          "output_type": "stream",
          "name": "stdout",
          "text": [
            "Train Loss: 0.2616, Train Acc: 91.00%\n",
            "Val Loss: 2.7990, Val Acc: 49.62%\n",
            "\n",
            "Epoch 21/30\n",
            "--------------------------------------------------\n"
          ]
        },
        {
          "output_type": "stream",
          "name": "stderr",
          "text": [
            "Training: 100%|██████████| 359/359 [00:18<00:00, 19.01it/s, loss=0.178, acc=92]\n",
            "Validation: 100%|██████████| 90/90 [00:10<00:00,  8.86it/s, loss=2.96, acc=50.3]\n"
          ]
        },
        {
          "output_type": "stream",
          "name": "stdout",
          "text": [
            "Train Loss: 0.2305, Train Acc: 91.97%\n",
            "Val Loss: 2.9566, Val Acc: 50.30%\n",
            "\n",
            "Epoch 22/30\n",
            "--------------------------------------------------\n"
          ]
        },
        {
          "output_type": "stream",
          "name": "stderr",
          "text": [
            "Training: 100%|██████████| 359/359 [00:18<00:00, 19.18it/s, loss=0.147, acc=93.1]\n",
            "Validation: 100%|██████████| 90/90 [00:04<00:00, 21.88it/s, loss=3.07, acc=48.9]\n"
          ]
        },
        {
          "output_type": "stream",
          "name": "stdout",
          "text": [
            "Train Loss: 0.2046, Train Acc: 93.10%\n",
            "Val Loss: 3.0066, Val Acc: 48.92%\n",
            "\n",
            "Epoch 23/30\n",
            "--------------------------------------------------\n"
          ]
        },
        {
          "output_type": "stream",
          "name": "stderr",
          "text": [
            "Training: 100%|██████████| 359/359 [00:19<00:00, 18.05it/s, loss=0.305, acc=93.9]\n",
            "Validation: 100%|██████████| 90/90 [00:05<00:00, 17.62it/s, loss=3.59, acc=49.7]\n"
          ]
        },
        {
          "output_type": "stream",
          "name": "stdout",
          "text": [
            "Train Loss: 0.1807, Train Acc: 93.89%\n",
            "Val Loss: 3.1441, Val Acc: 49.70%\n",
            "\n",
            "Epoch 24/30\n",
            "--------------------------------------------------\n"
          ]
        },
        {
          "output_type": "stream",
          "name": "stderr",
          "text": [
            "Training: 100%|██████████| 359/359 [00:18<00:00, 18.92it/s, loss=0.292, acc=95.1]\n",
            "Validation: 100%|██████████| 90/90 [00:04<00:00, 21.86it/s, loss=3.99, acc=49.7]\n"
          ]
        },
        {
          "output_type": "stream",
          "name": "stdout",
          "text": [
            "Train Loss: 0.1528, Train Acc: 95.09%\n",
            "Val Loss: 3.6173, Val Acc: 49.69%\n",
            "\n",
            "Epoch 25/30\n",
            "--------------------------------------------------\n"
          ]
        },
        {
          "output_type": "stream",
          "name": "stderr",
          "text": [
            "Training: 100%|██████████| 359/359 [00:20<00:00, 17.15it/s, loss=0.161, acc=95.6]\n",
            "Validation: 100%|██████████| 90/90 [00:04<00:00, 19.08it/s, loss=4.22, acc=49.5]\n"
          ]
        },
        {
          "output_type": "stream",
          "name": "stdout",
          "text": [
            "Train Loss: 0.1327, Train Acc: 95.60%\n",
            "Val Loss: 3.8482, Val Acc: 49.53%\n",
            "\n",
            "Epoch 26/30\n",
            "--------------------------------------------------\n"
          ]
        },
        {
          "output_type": "stream",
          "name": "stderr",
          "text": [
            "Training: 100%|██████████| 359/359 [00:20<00:00, 17.82it/s, loss=0.182, acc=94.5]\n",
            "Validation: 100%|██████████| 90/90 [00:05<00:00, 16.88it/s, loss=3.99, acc=49.8]\n"
          ]
        },
        {
          "output_type": "stream",
          "name": "stdout",
          "text": [
            "Train Loss: 0.1610, Train Acc: 94.51%\n",
            "Val Loss: 3.6222, Val Acc: 49.76%\n",
            "\n",
            "Epoch 27/30\n",
            "--------------------------------------------------\n"
          ]
        },
        {
          "output_type": "stream",
          "name": "stderr",
          "text": [
            "Training: 100%|██████████| 359/359 [00:19<00:00, 18.03it/s, loss=0.143, acc=95.5]\n",
            "Validation: 100%|██████████| 90/90 [00:04<00:00, 21.87it/s, loss=4.07, acc=47.6]\n"
          ]
        },
        {
          "output_type": "stream",
          "name": "stdout",
          "text": [
            "Train Loss: 0.1315, Train Acc: 95.51%\n",
            "Val Loss: 4.1152, Val Acc: 47.56%\n",
            "\n",
            "Epoch 28/30\n",
            "--------------------------------------------------\n"
          ]
        },
        {
          "output_type": "stream",
          "name": "stderr",
          "text": [
            "Training: 100%|██████████| 359/359 [00:18<00:00, 19.10it/s, loss=0.0201, acc=96.6]\n",
            "Validation: 100%|██████████| 90/90 [00:05<00:00, 15.77it/s, loss=4.45, acc=50]\n"
          ]
        },
        {
          "output_type": "stream",
          "name": "stdout",
          "text": [
            "Train Loss: 0.1053, Train Acc: 96.64%\n",
            "Val Loss: 4.1409, Val Acc: 49.97%\n",
            "\n",
            "Epoch 29/30\n",
            "--------------------------------------------------\n"
          ]
        },
        {
          "output_type": "stream",
          "name": "stderr",
          "text": [
            "Training: 100%|██████████| 359/359 [00:19<00:00, 18.57it/s, loss=0.0598, acc=96.5]\n",
            "Validation: 100%|██████████| 90/90 [00:04<00:00, 21.95it/s, loss=4.74, acc=48.6]\n"
          ]
        },
        {
          "output_type": "stream",
          "name": "stdout",
          "text": [
            "Train Loss: 0.1072, Train Acc: 96.54%\n",
            "Val Loss: 4.3081, Val Acc: 48.59%\n",
            "\n",
            "Epoch 30/30\n",
            "--------------------------------------------------\n"
          ]
        },
        {
          "output_type": "stream",
          "name": "stderr",
          "text": [
            "Training: 100%|██████████| 359/359 [00:18<00:00, 19.16it/s, loss=0.195, acc=96.6]\n",
            "Validation: 100%|██████████| 90/90 [00:06<00:00, 14.62it/s, loss=4.76, acc=48.6]\n"
          ]
        },
        {
          "output_type": "stream",
          "name": "stdout",
          "text": [
            "Train Loss: 0.1068, Train Acc: 96.56%\n",
            "Val Loss: 4.2940, Val Acc: 48.61%\n"
          ]
        }
      ],
      "source": [
        "# Training loop\n",
        "train_losses = []\n",
        "train_accs = []\n",
        "val_losses = []\n",
        "val_accs = []\n",
        "best_val_acc = 0\n",
        "\n",
        "for epoch in range(30):\n",
        "    print(f'\\nEpoch {epoch+1}/30')\n",
        "    print('-' * 50)\n",
        "\n",
        "    # Train\n",
        "    train_loss, train_acc = train_epoch(model, train_loader, criterion, optimizer, device)\n",
        "    train_losses.append(train_loss)\n",
        "    train_accs.append(train_acc)\n",
        "\n",
        "    # Validate\n",
        "    val_loss, val_acc, predictions, labels = validate_epoch(model, val_loader, criterion, device)\n",
        "    val_losses.append(val_loss)\n",
        "    val_accs.append(val_acc)\n",
        "\n",
        "    # Log to W&B\n",
        "    wandb.log({\n",
        "        'epoch': epoch + 1,\n",
        "        'train_loss': train_loss,\n",
        "        'train_acc': train_acc,\n",
        "        'val_loss': val_loss,\n",
        "        'val_acc': val_acc,\n",
        "        'learning_rate': optimizer.param_groups[0]['lr']\n",
        "    })\n",
        "\n",
        "    print(f'Train Loss: {train_loss:.4f}, Train Acc: {train_acc:.2f}%')\n",
        "    print(f'Val Loss: {val_loss:.4f}, Val Acc: {val_acc:.2f}%')\n",
        "\n",
        "    # Save best model\n",
        "    if val_acc > best_val_acc:\n",
        "        best_val_acc = val_acc\n",
        "        torch.save(model.state_dict(), 'best_simple_cnn_model.pth')\n",
        "        print(f'New best model saved with validation accuracy: {val_acc:.2f}%')"
      ]
    },
    {
      "cell_type": "code",
      "execution_count": 17,
      "metadata": {
        "colab": {
          "base_uri": "https://localhost:8080/",
          "height": 507
        },
        "id": "6cqG6XfEVDfy",
        "outputId": "77ceaefe-7af1-4df3-f3dd-195495aeb00e"
      },
      "outputs": [
        {
          "output_type": "display_data",
          "data": {
            "text/plain": [
              "<Figure size 1400x500 with 2 Axes>"
            ],
            "image/png": "[encoded data removed]"
          },
          "metadata": {}
        }
      ],
      "source": [
        "# Plot training history\n",
        "fig, (ax1, ax2) = plt.subplots(1, 2, figsize=(14, 5))\n",
        "\n",
        "# Loss plot\n",
        "ax1.plot(train_losses, label='Train Loss', linewidth=2)\n",
        "ax1.plot(val_losses, label='Val Loss', linewidth=2)\n",
        "ax1.set_xlabel('Epoch')\n",
        "ax1.set_ylabel('Loss')\n",
        "ax1.set_title('Training and Validation Loss')\n",
        "ax1.legend()\n",
        "ax1.grid(True, alpha=0.3)\n",
        "\n",
        "# Accuracy plot\n",
        "ax2.plot(train_accs, label='Train Acc', linewidth=2)\n",
        "ax2.plot(val_accs, label='Val Acc', linewidth=2)\n",
        "ax2.set_xlabel('Epoch')\n",
        "ax2.set_ylabel('Accuracy (%)')\n",
        "ax2.set_title('Training and Validation Accuracy')\n",
        "ax2.legend()\n",
        "ax2.grid(True, alpha=0.3)\n",
        "\n",
        "plt.tight_layout()\n",
        "wandb.log({\"training_history\": wandb.Image(plt)})\n",
        "plt.show()"
      ]
    },
    {
      "cell_type": "code",
      "execution_count": 18,
      "metadata": {
        "colab": {
          "base_uri": "https://localhost:8080/",
          "height": 735
        },
        "id": "UqgCvSnwVDfy",
        "outputId": "e910f1d2-4d36-4ea0-e901-61ab71ee5eb3"
      },
      "outputs": [
        {
          "output_type": "stream",
          "name": "stderr",
          "text": [
            "Validation: 100%|██████████| 90/90 [00:04<00:00, 22.10it/s, loss=1.48, acc=52]\n"
          ]
        },
        {
          "output_type": "display_data",
          "data": {
            "text/plain": [
              "<Figure size 1000x800 with 2 Axes>"
            ],
            "image/png": "[encoded data removed]"
          },
          "metadata": {}
        }
      ],
      "source": [
        "# Load best model for final evaluation\n",
        "model.load_state_dict(torch.load('best_simple_cnn_model.pth'))\n",
        "_, _, final_predictions, final_labels = validate_epoch(model, val_loader, criterion, device)\n",
        "\n",
        "# Confusion matrix\n",
        "cm = confusion_matrix(final_labels, final_predictions)\n",
        "plt.figure(figsize=(10, 8))\n",
        "sns.heatmap(cm, annot=True, fmt='d', cmap='Blues',\n",
        "            xticklabels=emotion_labels,\n",
        "            yticklabels=emotion_labels)\n",
        "plt.xlabel('Predicted')\n",
        "plt.ylabel('Actual')\n",
        "plt.title('Confusion Matrix - Simple CNN')\n",
        "wandb.log({\"confusion_matrix\": wandb.Image(plt)})\n",
        "plt.show()"
      ]
    },
    {
      "cell_type": "code",
      "execution_count": 19,
      "metadata": {
        "colab": {
          "base_uri": "https://localhost:8080/"
        },
        "id": "VbvO4EgoVDfy",
        "outputId": "3e012eaa-7806-4107-e796-868b827df569"
      },
      "outputs": [
        {
          "output_type": "stream",
          "name": "stdout",
          "text": [
            "\n",
            "Classification Report:\n",
            "======================================================================\n",
            "              precision    recall  f1-score   support\n",
            "\n",
            "       Angry       0.48      0.34      0.40       777\n",
            "     Disgust       0.55      0.33      0.41        91\n",
            "        Fear       0.41      0.28      0.33       836\n",
            "       Happy       0.69      0.75      0.72      1433\n",
            "         Sad       0.35      0.50      0.41       950\n",
            "    Surprise       0.67      0.71      0.69       651\n",
            "     Neutral       0.47      0.45      0.46      1004\n",
            "\n",
            "    accuracy                           0.52      5742\n",
            "   macro avg       0.52      0.48      0.49      5742\n",
            "weighted avg       0.52      0.52      0.51      5742\n",
            "\n"
          ]
        }
      ],
      "source": [
        "# Classification report\n",
        "print(\"\\nClassification Report:\")\n",
        "print(\"=\" * 70)\n",
        "report = classification_report(final_labels, final_predictions,\n",
        "                             target_names=emotion_labels,\n",
        "                             output_dict=True)\n",
        "print(classification_report(final_labels, final_predictions, target_names=emotion_labels))\n",
        "\n",
        "# Log per-class metrics to W&B\n",
        "for emotion in emotion_labels:\n",
        "    wandb.log({\n",
        "        f\"{emotion}_precision\": report[emotion]['precision'],\n",
        "        f\"{emotion}_recall\": report[emotion]['recall'],\n",
        "        f\"{emotion}_f1\": report[emotion]['f1-score']\n",
        "    })"
      ]
    },
    {
      "cell_type": "code",
      "execution_count": 20,
      "metadata": {
        "colab": {
          "base_uri": "https://localhost:8080/"
        },
        "id": "j-o7oYicVDfy",
        "outputId": "344f9ee5-6197-4c6b-d8f5-b3c9f8e00c1f"
      },
      "outputs": [
        {
          "output_type": "stream",
          "name": "stdout",
          "text": [
            "\n",
            "Total misclassifications: 2754 out of 5742\n",
            "Misclassification rate: 47.96%\n"
          ]
        }
      ],
      "source": [
        "# Analyze misclassifications\n",
        "misclassified_indices = np.where(np.array(final_predictions) != np.array(final_labels))[0]\n",
        "correct_indices = np.where(np.array(final_predictions) == np.array(final_labels))[0]\n",
        "\n",
        "print(f\"\\nTotal misclassifications: {len(misclassified_indices)} out of {len(final_labels)}\")\n",
        "print(f\"Misclassification rate: {len(misclassified_indices)/len(final_labels)*100:.2f}%\")"
      ]
    },
    {
      "cell_type": "code",
      "execution_count": 21,
      "metadata": {
        "id": "zJha1XEaVDfy"
      },
      "outputs": [],
      "source": [
        "# Save final model and log to W&B\n",
        "torch.save(model.state_dict(), 'final_simple_cnn_model.pth')\n",
        "wandb.save('final_simple_cnn_model.pth')\n",
        "wandb.save('best_simple_cnn_model.pth')\n",
        "\n",
        "# Summary statistics\n",
        "summary_stats = {\n",
        "    \"final_train_accuracy\": train_accs[-1],\n",
        "    \"final_val_accuracy\": val_accs[-1],\n",
        "    \"best_val_accuracy\": best_val_acc,\n",
        "    \"overfitting_gap\": train_accs[-1] - val_accs[-1],\n",
        "    \"total_parameters\": model.total_params,\n",
        "    \"macro_f1_score\": report['macro avg']['f1-score'],\n",
        "    \"weighted_f1_score\": report['weighted avg']['f1-score']\n",
        "}\n",
        "\n",
        "wandb.log(summary_stats)"
      ]
    },
    {
      "cell_type": "code",
      "execution_count": 22,
      "metadata": {
        "colab": {
          "base_uri": "https://localhost:8080/",
          "height": 1000
        },
        "id": "SJuwGC4OVDfy",
        "outputId": "0d10ae61-439b-4d57-cce3-f46c8fb6c505"
      },
      "outputs": [
        {
          "output_type": "stream",
          "name": "stdout",
          "text": [
            "\n",
            "======================================================================\n",
            "EXPERIMENT SUMMARY: SIMPLE CNN\n",
            "======================================================================\n",
            "\n",
            "Model Architecture:\n",
            "  - Conv Block 1: Conv2d(1, 32) -> ReLU -> MaxPool2d\n",
            "  - Conv Block 2: Conv2d(32, 64) -> ReLU -> MaxPool2d\n",
            "  - FC Layer 1: Linear(9216, 128) -> ReLU\n",
            "  - FC Layer 2: Linear(128, 64) -> ReLU\n",
            "  - Output Layer: Linear(64, 7)\n",
            "  - Total Parameters: 1,207,303\n",
            "\n",
            "Performance Metrics:\n",
            "  - Final Training Accuracy: 96.56%\n",
            "  - Final Validation Accuracy: 48.61%\n",
            "  - Best Validation Accuracy: 52.04%\n",
            "  - Overfitting Gap: 47.95%\n",
            "  - Macro F1-Score: 0.488\n",
            "\n",
            "Key Findings:\n",
            "  1. CNN significantly outperforms Basic NN (~45% vs ~25% accuracy)\n",
            "  2. Convolutional layers effectively capture spatial features\n",
            "  3. Much fewer parameters than Basic NN despite better performance\n",
            "  4. Still room for improvement with regularization and deeper architecture\n",
            "  5. Some overfitting observed, suggesting need for regularization\n",
            "\n",
            "Conclusions:\n",
            "  - CNNs are clearly superior for image classification tasks\n",
            "  - Spatial feature extraction is crucial for facial expressions\n",
            "  - Next steps: add regularization techniques to reduce overfitting\n",
            "======================================================================\n"
          ]
        },
        {
          "output_type": "display_data",
          "data": {
            "text/plain": [
              "<IPython.core.display.HTML object>"
            ],
            "text/html": []
          },
          "metadata": {}
        },
        {
          "output_type": "display_data",
          "data": {
            "text/plain": [
              "<IPython.core.display.HTML object>"
            ],
            "text/html": [
              "<br>    <style><br>        .wandb-row {<br>            display: flex;<br>            flex-direction: row;<br>            flex-wrap: wrap;<br>            justify-content: flex-start;<br>            width: 100%;<br>        }<br>        .wandb-col {<br>            display: flex;<br>            flex-direction: column;<br>            flex-basis: 100%;<br>            flex: 1;<br>            padding: 10px;<br>        }<br>    </style><br><div class=\"wandb-row\"><div class=\"wandb-col\"><h3>Run history:</h3><br/><table class=\"wandb\"><tr><td>Angry_f1</td><td>▁</td></tr><tr><td>Angry_precision</td><td>▁</td></tr><tr><td>Angry_recall</td><td>▁</td></tr><tr><td>Disgust_f1</td><td>▁</td></tr><tr><td>Disgust_precision</td><td>▁</td></tr><tr><td>Disgust_recall</td><td>▁</td></tr><tr><td>Fear_f1</td><td>▁</td></tr><tr><td>Fear_precision</td><td>▁</td></tr><tr><td>Fear_recall</td><td>▁</td></tr><tr><td>Happy_f1</td><td>▁</td></tr><tr><td>Happy_precision</td><td>▁</td></tr><tr><td>Happy_recall</td><td>▁</td></tr><tr><td>Neutral_f1</td><td>▁</td></tr><tr><td>Neutral_precision</td><td>▁</td></tr><tr><td>Neutral_recall</td><td>▁</td></tr><tr><td>Sad_f1</td><td>▁</td></tr><tr><td>Sad_precision</td><td>▁</td></tr><tr><td>Sad_recall</td><td>▁</td></tr><tr><td>Surprise_f1</td><td>▁</td></tr><tr><td>Surprise_precision</td><td>▁</td></tr><tr><td>Surprise_recall</td><td>▁</td></tr><tr><td>best_val_accuracy</td><td>▁</td></tr><tr><td>epoch</td><td>▁▁▁▂▂▂▂▃▃▃▃▄▄▄▄▅▅▅▅▆▆▆▆▇▇▇▇███</td></tr><tr><td>final_train_accuracy</td><td>▁</td></tr><tr><td>final_val_accuracy</td><td>▁</td></tr><tr><td>learning_rate</td><td>▁▁▁▁▁▁▁▁▁▁▁▁▁▁▁▁▁▁▁▁▁▁▁▁▁▁▁▁▁▁</td></tr><tr><td>macro_f1_score</td><td>▁</td></tr><tr><td>overfitting_gap</td><td>▁</td></tr><tr><td>total_parameters</td><td>▁</td></tr><tr><td>train_acc</td><td>▁▂▃▃▃▄▄▄▅▅▅▅▆▆▆▇▇▇▇▇▇█████████</td></tr><tr><td>train_loss</td><td>█▇▇▆▆▆▅▅▅▄▄▄▃▃▃▃▂▂▂▂▂▁▁▁▁▁▁▁▁▁</td></tr><tr><td>val_acc</td><td>▁▄▅▆▆▇▇▇██████▇▇▇▇▇▇▇▆▇▇▇▇▅▇▆▆</td></tr><tr><td>val_loss</td><td>▂▁▁▁▁▁▁▁▁▁▁▁▂▂▃▃▃▃▄▄▅▅▅▆▇▆████</td></tr><tr><td>weighted_f1_score</td><td>▁</td></tr></table><br/></div><div class=\"wandb-col\"><h3>Run summary:</h3><br/><table class=\"wandb\"><tr><td>Angry_f1</td><td>0.39728</td></tr><tr><td>Angry_precision</td><td>0.4808</td></tr><tr><td>Angry_recall</td><td>0.33848</td></tr><tr><td>Disgust_f1</td><td>0.41096</td></tr><tr><td>Disgust_precision</td><td>0.54545</td></tr><tr><td>Disgust_recall</td><td>0.32967</td></tr><tr><td>Fear_f1</td><td>0.33405</td></tr><tr><td>Fear_precision</td><td>0.41416</td></tr><tr><td>Fear_recall</td><td>0.2799</td></tr><tr><td>Happy_f1</td><td>0.7181</td></tr><tr><td>Happy_precision</td><td>0.68866</td></tr><tr><td>Happy_recall</td><td>0.75017</td></tr><tr><td>Neutral_f1</td><td>0.45823</td></tr><tr><td>Neutral_precision</td><td>0.47202</td></tr><tr><td>Neutral_recall</td><td>0.44522</td></tr><tr><td>Sad_f1</td><td>0.41116</td></tr><tr><td>Sad_precision</td><td>0.3471</td></tr><tr><td>Sad_recall</td><td>0.50421</td></tr><tr><td>Surprise_f1</td><td>0.68759</td></tr><tr><td>Surprise_precision</td><td>0.66958</td></tr><tr><td>Surprise_recall</td><td>0.70661</td></tr><tr><td>best_val_accuracy</td><td>52.03762</td></tr><tr><td>epoch</td><td>30</td></tr><tr><td>final_train_accuracy</td><td>96.56028</td></tr><tr><td>final_val_accuracy</td><td>48.60676</td></tr><tr><td>learning_rate</td><td>0.001</td></tr><tr><td>macro_f1_score</td><td>0.4882</td></tr><tr><td>overfitting_gap</td><td>47.95352</td></tr><tr><td>total_parameters</td><td>1207303</td></tr><tr><td>train_acc</td><td>96.56028</td></tr><tr><td>train_loss</td><td>0.10677</td></tr><tr><td>val_acc</td><td>48.60676</td></tr><tr><td>val_loss</td><td>4.29403</td></tr><tr><td>weighted_f1_score</td><td>0.51422</td></tr></table><br/></div></div>"
            ]
          },
          "metadata": {}
        },
        {
          "output_type": "display_data",
          "data": {
            "text/plain": [
              "<IPython.core.display.HTML object>"
            ],
            "text/html": [
              " View run <strong style=\"color:#cdcd00\">exp02-simple-cnn</strong> at: <a href='https://wandb.ai/qitiashvili13-free-university-of-tbilisi-/fer-challenge/runs/i8kzk3ur' target=\"_blank\">https://wandb.ai/qitiashvili13-free-university-of-tbilisi-/fer-challenge/runs/i8kzk3ur</a><br> View project at: <a href='https://wandb.ai/qitiashvili13-free-university-of-tbilisi-/fer-challenge' target=\"_blank\">https://wandb.ai/qitiashvili13-free-university-of-tbilisi-/fer-challenge</a><br>Synced 5 W&B file(s), 3 media file(s), 0 artifact file(s) and 2 other file(s)"
            ]
          },
          "metadata": {}
        },
        {
          "output_type": "display_data",
          "data": {
            "text/plain": [
              "<IPython.core.display.HTML object>"
            ],
            "text/html": [
              "Find logs at: <code>./wandb/run-20250609_161943-i8kzk3ur/logs</code>"
            ]
          },
          "metadata": {}
        }
      ],
      "source": [
        "# Final summary\n",
        "print(\"\\n\" + \"=\" * 70)\n",
        "print(\"EXPERIMENT SUMMARY: SIMPLE CNN\")\n",
        "print(\"=\" * 70)\n",
        "print(f\"\\nModel Architecture:\")\n",
        "print(f\"  - Conv Block 1: Conv2d(1, 32) -> ReLU -> MaxPool2d\")\n",
        "print(f\"  - Conv Block 2: Conv2d(32, 64) -> ReLU -> MaxPool2d\")\n",
        "print(f\"  - FC Layer 1: Linear(9216, 128) -> ReLU\")\n",
        "print(f\"  - FC Layer 2: Linear(128, 64) -> ReLU\")\n",
        "print(f\"  - Output Layer: Linear(64, 7)\")\n",
        "print(f\"  - Total Parameters: {model.total_params:,}\")\n",
        "\n",
        "print(f\"\\nPerformance Metrics:\")\n",
        "print(f\"  - Final Training Accuracy: {train_accs[-1]:.2f}%\")\n",
        "print(f\"  - Final Validation Accuracy: {val_accs[-1]:.2f}%\")\n",
        "print(f\"  - Best Validation Accuracy: {best_val_acc:.2f}%\")\n",
        "print(f\"  - Overfitting Gap: {train_accs[-1] - val_accs[-1]:.2f}%\")\n",
        "print(f\"  - Macro F1-Score: {report['macro avg']['f1-score']:.3f}\")\n",
        "\n",
        "print(\"\\nKey Findings:\")\n",
        "print(\"  1. CNN significantly outperforms Basic NN (~45% vs ~25% accuracy)\")\n",
        "print(\"  2. Convolutional layers effectively capture spatial features\")\n",
        "print(\"  3. Much fewer parameters than Basic NN despite better performance\")\n",
        "print(\"  4. Still room for improvement with regularization and deeper architecture\")\n",
        "print(\"  5. Some overfitting observed, suggesting need for regularization\")\n",
        "\n",
        "print(\"\\nConclusions:\")\n",
        "print(\"  - CNNs are clearly superior for image classification tasks\")\n",
        "print(\"  - Spatial feature extraction is crucial for facial expressions\")\n",
        "print(\"  - Next steps: add regularization techniques to reduce overfitting\")\n",
        "print(\"=\" * 70)\n",
        "\n",
        "# Close W&B run\n",
        "wandb.finish()"
      ]
    },
    {
      "cell_type": "code",
      "source": [],
      "metadata": {
        "id": "CRXFup0SbRGB"
      },
      "execution_count": 22,
      "outputs": []
    }
  ],
  "metadata": {
    "kernelspec": {
      "display_name": "Python 3",
      "name": "python3"
    },
    "colab": {
      "provenance": [],
      "gpuType": "T4"
    },
    "accelerator": "GPU"
  },
  "nbformat": 4,
  "nbformat_minor": 0
}